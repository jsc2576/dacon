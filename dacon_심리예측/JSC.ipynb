{
 "cells": [
  {
   "cell_type": "code",
   "execution_count": 363,
   "metadata": {},
   "outputs": [],
   "source": [
    "import numpy as np\n",
    "import pandas as pd\n",
    "import seaborn as sns\n",
    "# import lightgbm as lgb\n",
    "from lightgbm.sklearn import LGBMClassifier as lgb\n",
    "from sklearn.metrics import roc_auc_score"
   ]
  },
  {
   "cell_type": "code",
   "execution_count": 226,
   "metadata": {},
   "outputs": [],
   "source": [
    "train_df = pd.read_csv('data/train.csv')\n",
    "test_df = pd.read_csv('data/test_x.csv')"
   ]
  },
  {
   "cell_type": "code",
   "execution_count": 227,
   "metadata": {},
   "outputs": [
    {
     "data": {
      "text/html": [
       "<div>\n",
       "<style scoped>\n",
       "    .dataframe tbody tr th:only-of-type {\n",
       "        vertical-align: middle;\n",
       "    }\n",
       "\n",
       "    .dataframe tbody tr th {\n",
       "        vertical-align: top;\n",
       "    }\n",
       "\n",
       "    .dataframe thead th {\n",
       "        text-align: right;\n",
       "    }\n",
       "</style>\n",
       "<table border=\"1\" class=\"dataframe\">\n",
       "  <thead>\n",
       "    <tr style=\"text-align: right;\">\n",
       "      <th></th>\n",
       "      <th>index</th>\n",
       "      <th>QaA</th>\n",
       "      <th>QaE</th>\n",
       "      <th>QbA</th>\n",
       "      <th>QbE</th>\n",
       "      <th>QcA</th>\n",
       "      <th>QcE</th>\n",
       "      <th>QdA</th>\n",
       "      <th>QdE</th>\n",
       "      <th>QeA</th>\n",
       "      <th>...</th>\n",
       "      <th>wr_04</th>\n",
       "      <th>wr_05</th>\n",
       "      <th>wr_06</th>\n",
       "      <th>wr_07</th>\n",
       "      <th>wr_08</th>\n",
       "      <th>wr_09</th>\n",
       "      <th>wr_10</th>\n",
       "      <th>wr_11</th>\n",
       "      <th>wr_12</th>\n",
       "      <th>wr_13</th>\n",
       "    </tr>\n",
       "  </thead>\n",
       "  <tbody>\n",
       "    <tr>\n",
       "      <th>0</th>\n",
       "      <td>0</td>\n",
       "      <td>3.0</td>\n",
       "      <td>363</td>\n",
       "      <td>4.0</td>\n",
       "      <td>1370</td>\n",
       "      <td>5.0</td>\n",
       "      <td>997</td>\n",
       "      <td>1.0</td>\n",
       "      <td>1024</td>\n",
       "      <td>2.0</td>\n",
       "      <td>...</td>\n",
       "      <td>0</td>\n",
       "      <td>1</td>\n",
       "      <td>0</td>\n",
       "      <td>1</td>\n",
       "      <td>1</td>\n",
       "      <td>0</td>\n",
       "      <td>1</td>\n",
       "      <td>0</td>\n",
       "      <td>1</td>\n",
       "      <td>1</td>\n",
       "    </tr>\n",
       "    <tr>\n",
       "      <th>1</th>\n",
       "      <td>1</td>\n",
       "      <td>5.0</td>\n",
       "      <td>647</td>\n",
       "      <td>5.0</td>\n",
       "      <td>1313</td>\n",
       "      <td>3.0</td>\n",
       "      <td>3387</td>\n",
       "      <td>5.0</td>\n",
       "      <td>2969</td>\n",
       "      <td>1.0</td>\n",
       "      <td>...</td>\n",
       "      <td>1</td>\n",
       "      <td>1</td>\n",
       "      <td>0</td>\n",
       "      <td>1</td>\n",
       "      <td>1</td>\n",
       "      <td>0</td>\n",
       "      <td>1</td>\n",
       "      <td>0</td>\n",
       "      <td>1</td>\n",
       "      <td>1</td>\n",
       "    </tr>\n",
       "    <tr>\n",
       "      <th>2</th>\n",
       "      <td>2</td>\n",
       "      <td>4.0</td>\n",
       "      <td>1623</td>\n",
       "      <td>1.0</td>\n",
       "      <td>1480</td>\n",
       "      <td>1.0</td>\n",
       "      <td>1021</td>\n",
       "      <td>4.0</td>\n",
       "      <td>3374</td>\n",
       "      <td>5.0</td>\n",
       "      <td>...</td>\n",
       "      <td>1</td>\n",
       "      <td>1</td>\n",
       "      <td>0</td>\n",
       "      <td>1</td>\n",
       "      <td>1</td>\n",
       "      <td>1</td>\n",
       "      <td>1</td>\n",
       "      <td>0</td>\n",
       "      <td>1</td>\n",
       "      <td>1</td>\n",
       "    </tr>\n",
       "    <tr>\n",
       "      <th>3</th>\n",
       "      <td>3</td>\n",
       "      <td>3.0</td>\n",
       "      <td>504</td>\n",
       "      <td>3.0</td>\n",
       "      <td>2311</td>\n",
       "      <td>4.0</td>\n",
       "      <td>992</td>\n",
       "      <td>3.0</td>\n",
       "      <td>3245</td>\n",
       "      <td>1.0</td>\n",
       "      <td>...</td>\n",
       "      <td>0</td>\n",
       "      <td>0</td>\n",
       "      <td>0</td>\n",
       "      <td>0</td>\n",
       "      <td>1</td>\n",
       "      <td>0</td>\n",
       "      <td>1</td>\n",
       "      <td>0</td>\n",
       "      <td>1</td>\n",
       "      <td>1</td>\n",
       "    </tr>\n",
       "    <tr>\n",
       "      <th>4</th>\n",
       "      <td>4</td>\n",
       "      <td>1.0</td>\n",
       "      <td>927</td>\n",
       "      <td>1.0</td>\n",
       "      <td>707</td>\n",
       "      <td>5.0</td>\n",
       "      <td>556</td>\n",
       "      <td>2.0</td>\n",
       "      <td>1062</td>\n",
       "      <td>1.0</td>\n",
       "      <td>...</td>\n",
       "      <td>1</td>\n",
       "      <td>1</td>\n",
       "      <td>1</td>\n",
       "      <td>1</td>\n",
       "      <td>1</td>\n",
       "      <td>0</td>\n",
       "      <td>1</td>\n",
       "      <td>1</td>\n",
       "      <td>1</td>\n",
       "      <td>1</td>\n",
       "    </tr>\n",
       "  </tbody>\n",
       "</table>\n",
       "<p>5 rows × 78 columns</p>\n",
       "</div>"
      ],
      "text/plain": [
       "   index  QaA   QaE  QbA   QbE  QcA   QcE  QdA   QdE  QeA  ...  wr_04  wr_05  \\\n",
       "0      0  3.0   363  4.0  1370  5.0   997  1.0  1024  2.0  ...      0      1   \n",
       "1      1  5.0   647  5.0  1313  3.0  3387  5.0  2969  1.0  ...      1      1   \n",
       "2      2  4.0  1623  1.0  1480  1.0  1021  4.0  3374  5.0  ...      1      1   \n",
       "3      3  3.0   504  3.0  2311  4.0   992  3.0  3245  1.0  ...      0      0   \n",
       "4      4  1.0   927  1.0   707  5.0   556  2.0  1062  1.0  ...      1      1   \n",
       "\n",
       "   wr_06  wr_07  wr_08  wr_09  wr_10  wr_11  wr_12  wr_13  \n",
       "0      0      1      1      0      1      0      1      1  \n",
       "1      0      1      1      0      1      0      1      1  \n",
       "2      0      1      1      1      1      0      1      1  \n",
       "3      0      0      1      0      1      0      1      1  \n",
       "4      1      1      1      0      1      1      1      1  \n",
       "\n",
       "[5 rows x 78 columns]"
      ]
     },
     "execution_count": 227,
     "metadata": {},
     "output_type": "execute_result"
    }
   ],
   "source": [
    "train_df.head()"
   ]
  },
  {
   "cell_type": "code",
   "execution_count": 228,
   "metadata": {},
   "outputs": [
    {
     "data": {
      "text/plain": [
       "Index(['index', 'QaA', 'QaE', 'QbA', 'QbE', 'QcA', 'QcE', 'QdA', 'QdE', 'QeA',\n",
       "       'QeE', 'QfA', 'QfE', 'QgA', 'QgE', 'QhA', 'QhE', 'QiA', 'QiE', 'QjA',\n",
       "       'QjE', 'QkA', 'QkE', 'QlA', 'QlE', 'QmA', 'QmE', 'QnA', 'QnE', 'QoA',\n",
       "       'QoE', 'QpA', 'QpE', 'QqA', 'QqE', 'QrA', 'QrE', 'QsA', 'QsE', 'QtA',\n",
       "       'QtE', 'age_group', 'education', 'engnat', 'familysize', 'gender',\n",
       "       'hand', 'married', 'race', 'religion', 'tp01', 'tp02', 'tp03', 'tp04',\n",
       "       'tp05', 'tp06', 'tp07', 'tp08', 'tp09', 'tp10', 'urban', 'voted',\n",
       "       'wf_01', 'wf_02', 'wf_03', 'wr_01', 'wr_02', 'wr_03', 'wr_04', 'wr_05',\n",
       "       'wr_06', 'wr_07', 'wr_08', 'wr_09', 'wr_10', 'wr_11', 'wr_12', 'wr_13'],\n",
       "      dtype='object')"
      ]
     },
     "execution_count": 228,
     "metadata": {},
     "output_type": "execute_result"
    }
   ],
   "source": [
    "train_df.columns"
   ]
  },
  {
   "cell_type": "code",
   "execution_count": 229,
   "metadata": {},
   "outputs": [
    {
     "data": {
      "text/html": [
       "<div>\n",
       "<style scoped>\n",
       "    .dataframe tbody tr th:only-of-type {\n",
       "        vertical-align: middle;\n",
       "    }\n",
       "\n",
       "    .dataframe tbody tr th {\n",
       "        vertical-align: top;\n",
       "    }\n",
       "\n",
       "    .dataframe thead th {\n",
       "        text-align: right;\n",
       "    }\n",
       "</style>\n",
       "<table border=\"1\" class=\"dataframe\">\n",
       "  <thead>\n",
       "    <tr style=\"text-align: right;\">\n",
       "      <th></th>\n",
       "      <th>index</th>\n",
       "      <th>QaA</th>\n",
       "      <th>QaE</th>\n",
       "      <th>QbA</th>\n",
       "      <th>QbE</th>\n",
       "      <th>QcA</th>\n",
       "      <th>QcE</th>\n",
       "      <th>QdA</th>\n",
       "      <th>QdE</th>\n",
       "      <th>QeA</th>\n",
       "      <th>...</th>\n",
       "      <th>wr_04</th>\n",
       "      <th>wr_05</th>\n",
       "      <th>wr_06</th>\n",
       "      <th>wr_07</th>\n",
       "      <th>wr_08</th>\n",
       "      <th>wr_09</th>\n",
       "      <th>wr_10</th>\n",
       "      <th>wr_11</th>\n",
       "      <th>wr_12</th>\n",
       "      <th>wr_13</th>\n",
       "    </tr>\n",
       "  </thead>\n",
       "  <tbody>\n",
       "    <tr>\n",
       "      <th>0</th>\n",
       "      <td>0</td>\n",
       "      <td>3.0</td>\n",
       "      <td>736</td>\n",
       "      <td>2.0</td>\n",
       "      <td>2941</td>\n",
       "      <td>3.0</td>\n",
       "      <td>4621</td>\n",
       "      <td>1.0</td>\n",
       "      <td>4857</td>\n",
       "      <td>2.0</td>\n",
       "      <td>...</td>\n",
       "      <td>0</td>\n",
       "      <td>1</td>\n",
       "      <td>0</td>\n",
       "      <td>0</td>\n",
       "      <td>1</td>\n",
       "      <td>0</td>\n",
       "      <td>1</td>\n",
       "      <td>0</td>\n",
       "      <td>1</td>\n",
       "      <td>1</td>\n",
       "    </tr>\n",
       "    <tr>\n",
       "      <th>1</th>\n",
       "      <td>1</td>\n",
       "      <td>3.0</td>\n",
       "      <td>514</td>\n",
       "      <td>2.0</td>\n",
       "      <td>1952</td>\n",
       "      <td>3.0</td>\n",
       "      <td>1552</td>\n",
       "      <td>3.0</td>\n",
       "      <td>821</td>\n",
       "      <td>4.0</td>\n",
       "      <td>...</td>\n",
       "      <td>0</td>\n",
       "      <td>0</td>\n",
       "      <td>0</td>\n",
       "      <td>0</td>\n",
       "      <td>0</td>\n",
       "      <td>0</td>\n",
       "      <td>0</td>\n",
       "      <td>0</td>\n",
       "      <td>0</td>\n",
       "      <td>0</td>\n",
       "    </tr>\n",
       "    <tr>\n",
       "      <th>2</th>\n",
       "      <td>2</td>\n",
       "      <td>3.0</td>\n",
       "      <td>500</td>\n",
       "      <td>2.0</td>\n",
       "      <td>2507</td>\n",
       "      <td>4.0</td>\n",
       "      <td>480</td>\n",
       "      <td>2.0</td>\n",
       "      <td>614</td>\n",
       "      <td>2.0</td>\n",
       "      <td>...</td>\n",
       "      <td>0</td>\n",
       "      <td>1</td>\n",
       "      <td>0</td>\n",
       "      <td>1</td>\n",
       "      <td>1</td>\n",
       "      <td>0</td>\n",
       "      <td>1</td>\n",
       "      <td>0</td>\n",
       "      <td>1</td>\n",
       "      <td>1</td>\n",
       "    </tr>\n",
       "    <tr>\n",
       "      <th>3</th>\n",
       "      <td>3</td>\n",
       "      <td>1.0</td>\n",
       "      <td>669</td>\n",
       "      <td>1.0</td>\n",
       "      <td>1050</td>\n",
       "      <td>5.0</td>\n",
       "      <td>1435</td>\n",
       "      <td>2.0</td>\n",
       "      <td>2252</td>\n",
       "      <td>5.0</td>\n",
       "      <td>...</td>\n",
       "      <td>1</td>\n",
       "      <td>1</td>\n",
       "      <td>1</td>\n",
       "      <td>1</td>\n",
       "      <td>1</td>\n",
       "      <td>1</td>\n",
       "      <td>1</td>\n",
       "      <td>1</td>\n",
       "      <td>1</td>\n",
       "      <td>1</td>\n",
       "    </tr>\n",
       "    <tr>\n",
       "      <th>4</th>\n",
       "      <td>4</td>\n",
       "      <td>2.0</td>\n",
       "      <td>499</td>\n",
       "      <td>1.0</td>\n",
       "      <td>1243</td>\n",
       "      <td>5.0</td>\n",
       "      <td>845</td>\n",
       "      <td>2.0</td>\n",
       "      <td>1666</td>\n",
       "      <td>2.0</td>\n",
       "      <td>...</td>\n",
       "      <td>1</td>\n",
       "      <td>1</td>\n",
       "      <td>0</td>\n",
       "      <td>1</td>\n",
       "      <td>1</td>\n",
       "      <td>0</td>\n",
       "      <td>1</td>\n",
       "      <td>1</td>\n",
       "      <td>1</td>\n",
       "      <td>1</td>\n",
       "    </tr>\n",
       "  </tbody>\n",
       "</table>\n",
       "<p>5 rows × 77 columns</p>\n",
       "</div>"
      ],
      "text/plain": [
       "   index  QaA  QaE  QbA   QbE  QcA   QcE  QdA   QdE  QeA  ...  wr_04  wr_05  \\\n",
       "0      0  3.0  736  2.0  2941  3.0  4621  1.0  4857  2.0  ...      0      1   \n",
       "1      1  3.0  514  2.0  1952  3.0  1552  3.0   821  4.0  ...      0      0   \n",
       "2      2  3.0  500  2.0  2507  4.0   480  2.0   614  2.0  ...      0      1   \n",
       "3      3  1.0  669  1.0  1050  5.0  1435  2.0  2252  5.0  ...      1      1   \n",
       "4      4  2.0  499  1.0  1243  5.0   845  2.0  1666  2.0  ...      1      1   \n",
       "\n",
       "   wr_06  wr_07  wr_08  wr_09  wr_10  wr_11  wr_12  wr_13  \n",
       "0      0      0      1      0      1      0      1      1  \n",
       "1      0      0      0      0      0      0      0      0  \n",
       "2      0      1      1      0      1      0      1      1  \n",
       "3      1      1      1      1      1      1      1      1  \n",
       "4      0      1      1      0      1      1      1      1  \n",
       "\n",
       "[5 rows x 77 columns]"
      ]
     },
     "execution_count": 229,
     "metadata": {},
     "output_type": "execute_result"
    }
   ],
   "source": [
    "test_df.head()"
   ]
  },
  {
   "cell_type": "code",
   "execution_count": 230,
   "metadata": {},
   "outputs": [
    {
     "data": {
      "text/plain": [
       "2    24898\n",
       "1    20634\n",
       "Name: voted, dtype: int64"
      ]
     },
     "execution_count": 230,
     "metadata": {},
     "output_type": "execute_result"
    }
   ],
   "source": [
    "train_df['voted'].value_counts()"
   ]
  },
  {
   "cell_type": "code",
   "execution_count": null,
   "metadata": {},
   "outputs": [],
   "source": []
  },
  {
   "cell_type": "code",
   "execution_count": 231,
   "metadata": {},
   "outputs": [
    {
     "data": {
      "text/plain": [
       "index    0.0\n",
       "QaA      0.0\n",
       "QaE      0.0\n",
       "QbA      0.0\n",
       "QbE      0.0\n",
       "        ... \n",
       "wr_09    0.0\n",
       "wr_10    0.0\n",
       "wr_11    0.0\n",
       "wr_12    0.0\n",
       "wr_13    0.0\n",
       "Length: 78, dtype: float64"
      ]
     },
     "execution_count": 231,
     "metadata": {},
     "output_type": "execute_result"
    }
   ],
   "source": [
    "train_df.isnull().sum() / len(train_df)"
   ]
  },
  {
   "cell_type": "code",
   "execution_count": 232,
   "metadata": {},
   "outputs": [
    {
     "data": {
      "text/plain": [
       "count    4.553200e+04\n",
       "mean     9.453570e+02\n",
       "std      1.307565e+04\n",
       "min      2.500000e+01\n",
       "25%      4.040000e+02\n",
       "50%      5.570000e+02\n",
       "75%      8.270000e+02\n",
       "max      2.413960e+06\n",
       "Name: QaE, dtype: float64"
      ]
     },
     "execution_count": 232,
     "metadata": {},
     "output_type": "execute_result"
    }
   ],
   "source": [
    "train_df['QaE'].describe()"
   ]
  },
  {
   "cell_type": "code",
   "execution_count": 233,
   "metadata": {},
   "outputs": [
    {
     "data": {
      "text/plain": [
       "<matplotlib.axes._subplots.AxesSubplot at 0x1306fabe0>"
      ]
     },
     "execution_count": 233,
     "metadata": {},
     "output_type": "execute_result"
    },
    {
     "data": {
      "image/png": "[encoded data removed]",
      "text/plain": [
       "<Figure size 432x288 with 1 Axes>"
      ]
     },
     "metadata": {
      "needs_background": "light"
     },
     "output_type": "display_data"
    }
   ],
   "source": [
    "log(train_df['QaE']).plot.hist(bins=100)"
   ]
  },
  {
   "cell_type": "code",
   "execution_count": 234,
   "metadata": {},
   "outputs": [
    {
     "data": {
      "text/html": [
       "<div>\n",
       "<style scoped>\n",
       "    .dataframe tbody tr th:only-of-type {\n",
       "        vertical-align: middle;\n",
       "    }\n",
       "\n",
       "    .dataframe tbody tr th {\n",
       "        vertical-align: top;\n",
       "    }\n",
       "\n",
       "    .dataframe thead th {\n",
       "        text-align: right;\n",
       "    }\n",
       "</style>\n",
       "<table border=\"1\" class=\"dataframe\">\n",
       "  <thead>\n",
       "    <tr style=\"text-align: right;\">\n",
       "      <th></th>\n",
       "      <th>index</th>\n",
       "      <th>QaA</th>\n",
       "      <th>QaE</th>\n",
       "      <th>QbA</th>\n",
       "      <th>QbE</th>\n",
       "      <th>QcA</th>\n",
       "      <th>QcE</th>\n",
       "      <th>QdA</th>\n",
       "      <th>QdE</th>\n",
       "      <th>QeA</th>\n",
       "      <th>...</th>\n",
       "      <th>wr_04</th>\n",
       "      <th>wr_05</th>\n",
       "      <th>wr_06</th>\n",
       "      <th>wr_07</th>\n",
       "      <th>wr_08</th>\n",
       "      <th>wr_09</th>\n",
       "      <th>wr_10</th>\n",
       "      <th>wr_11</th>\n",
       "      <th>wr_12</th>\n",
       "      <th>wr_13</th>\n",
       "    </tr>\n",
       "  </thead>\n",
       "  <tbody>\n",
       "    <tr>\n",
       "      <th>0</th>\n",
       "      <td>0</td>\n",
       "      <td>3.0</td>\n",
       "      <td>363</td>\n",
       "      <td>4.0</td>\n",
       "      <td>1370</td>\n",
       "      <td>5.0</td>\n",
       "      <td>997</td>\n",
       "      <td>1.0</td>\n",
       "      <td>1024</td>\n",
       "      <td>2.0</td>\n",
       "      <td>...</td>\n",
       "      <td>0</td>\n",
       "      <td>1</td>\n",
       "      <td>0</td>\n",
       "      <td>1</td>\n",
       "      <td>1</td>\n",
       "      <td>0</td>\n",
       "      <td>1</td>\n",
       "      <td>0</td>\n",
       "      <td>1</td>\n",
       "      <td>1</td>\n",
       "    </tr>\n",
       "    <tr>\n",
       "      <th>1</th>\n",
       "      <td>1</td>\n",
       "      <td>5.0</td>\n",
       "      <td>647</td>\n",
       "      <td>5.0</td>\n",
       "      <td>1313</td>\n",
       "      <td>3.0</td>\n",
       "      <td>3387</td>\n",
       "      <td>5.0</td>\n",
       "      <td>2969</td>\n",
       "      <td>1.0</td>\n",
       "      <td>...</td>\n",
       "      <td>1</td>\n",
       "      <td>1</td>\n",
       "      <td>0</td>\n",
       "      <td>1</td>\n",
       "      <td>1</td>\n",
       "      <td>0</td>\n",
       "      <td>1</td>\n",
       "      <td>0</td>\n",
       "      <td>1</td>\n",
       "      <td>1</td>\n",
       "    </tr>\n",
       "    <tr>\n",
       "      <th>2</th>\n",
       "      <td>2</td>\n",
       "      <td>4.0</td>\n",
       "      <td>1623</td>\n",
       "      <td>1.0</td>\n",
       "      <td>1480</td>\n",
       "      <td>1.0</td>\n",
       "      <td>1021</td>\n",
       "      <td>4.0</td>\n",
       "      <td>3374</td>\n",
       "      <td>5.0</td>\n",
       "      <td>...</td>\n",
       "      <td>1</td>\n",
       "      <td>1</td>\n",
       "      <td>0</td>\n",
       "      <td>1</td>\n",
       "      <td>1</td>\n",
       "      <td>1</td>\n",
       "      <td>1</td>\n",
       "      <td>0</td>\n",
       "      <td>1</td>\n",
       "      <td>1</td>\n",
       "    </tr>\n",
       "    <tr>\n",
       "      <th>3</th>\n",
       "      <td>3</td>\n",
       "      <td>3.0</td>\n",
       "      <td>504</td>\n",
       "      <td>3.0</td>\n",
       "      <td>2311</td>\n",
       "      <td>4.0</td>\n",
       "      <td>992</td>\n",
       "      <td>3.0</td>\n",
       "      <td>3245</td>\n",
       "      <td>1.0</td>\n",
       "      <td>...</td>\n",
       "      <td>0</td>\n",
       "      <td>0</td>\n",
       "      <td>0</td>\n",
       "      <td>0</td>\n",
       "      <td>1</td>\n",
       "      <td>0</td>\n",
       "      <td>1</td>\n",
       "      <td>0</td>\n",
       "      <td>1</td>\n",
       "      <td>1</td>\n",
       "    </tr>\n",
       "    <tr>\n",
       "      <th>4</th>\n",
       "      <td>4</td>\n",
       "      <td>1.0</td>\n",
       "      <td>927</td>\n",
       "      <td>1.0</td>\n",
       "      <td>707</td>\n",
       "      <td>5.0</td>\n",
       "      <td>556</td>\n",
       "      <td>2.0</td>\n",
       "      <td>1062</td>\n",
       "      <td>1.0</td>\n",
       "      <td>...</td>\n",
       "      <td>1</td>\n",
       "      <td>1</td>\n",
       "      <td>1</td>\n",
       "      <td>1</td>\n",
       "      <td>1</td>\n",
       "      <td>0</td>\n",
       "      <td>1</td>\n",
       "      <td>1</td>\n",
       "      <td>1</td>\n",
       "      <td>1</td>\n",
       "    </tr>\n",
       "    <tr>\n",
       "      <th>...</th>\n",
       "      <td>...</td>\n",
       "      <td>...</td>\n",
       "      <td>...</td>\n",
       "      <td>...</td>\n",
       "      <td>...</td>\n",
       "      <td>...</td>\n",
       "      <td>...</td>\n",
       "      <td>...</td>\n",
       "      <td>...</td>\n",
       "      <td>...</td>\n",
       "      <td>...</td>\n",
       "      <td>...</td>\n",
       "      <td>...</td>\n",
       "      <td>...</td>\n",
       "      <td>...</td>\n",
       "      <td>...</td>\n",
       "      <td>...</td>\n",
       "      <td>...</td>\n",
       "      <td>...</td>\n",
       "      <td>...</td>\n",
       "      <td>...</td>\n",
       "    </tr>\n",
       "    <tr>\n",
       "      <th>45527</th>\n",
       "      <td>45527</td>\n",
       "      <td>2.0</td>\n",
       "      <td>1050</td>\n",
       "      <td>5.0</td>\n",
       "      <td>619</td>\n",
       "      <td>4.0</td>\n",
       "      <td>328</td>\n",
       "      <td>1.0</td>\n",
       "      <td>285</td>\n",
       "      <td>1.0</td>\n",
       "      <td>...</td>\n",
       "      <td>1</td>\n",
       "      <td>1</td>\n",
       "      <td>0</td>\n",
       "      <td>1</td>\n",
       "      <td>1</td>\n",
       "      <td>1</td>\n",
       "      <td>1</td>\n",
       "      <td>0</td>\n",
       "      <td>1</td>\n",
       "      <td>1</td>\n",
       "    </tr>\n",
       "    <tr>\n",
       "      <th>45528</th>\n",
       "      <td>45528</td>\n",
       "      <td>2.0</td>\n",
       "      <td>581</td>\n",
       "      <td>3.0</td>\n",
       "      <td>1353</td>\n",
       "      <td>4.0</td>\n",
       "      <td>1164</td>\n",
       "      <td>1.0</td>\n",
       "      <td>798</td>\n",
       "      <td>3.0</td>\n",
       "      <td>...</td>\n",
       "      <td>1</td>\n",
       "      <td>1</td>\n",
       "      <td>0</td>\n",
       "      <td>1</td>\n",
       "      <td>1</td>\n",
       "      <td>1</td>\n",
       "      <td>1</td>\n",
       "      <td>0</td>\n",
       "      <td>1</td>\n",
       "      <td>1</td>\n",
       "    </tr>\n",
       "    <tr>\n",
       "      <th>45529</th>\n",
       "      <td>45529</td>\n",
       "      <td>4.0</td>\n",
       "      <td>593</td>\n",
       "      <td>1.0</td>\n",
       "      <td>857</td>\n",
       "      <td>1.0</td>\n",
       "      <td>1047</td>\n",
       "      <td>4.0</td>\n",
       "      <td>1515</td>\n",
       "      <td>5.0</td>\n",
       "      <td>...</td>\n",
       "      <td>1</td>\n",
       "      <td>1</td>\n",
       "      <td>0</td>\n",
       "      <td>1</td>\n",
       "      <td>1</td>\n",
       "      <td>0</td>\n",
       "      <td>1</td>\n",
       "      <td>0</td>\n",
       "      <td>1</td>\n",
       "      <td>1</td>\n",
       "    </tr>\n",
       "    <tr>\n",
       "      <th>45530</th>\n",
       "      <td>45530</td>\n",
       "      <td>1.0</td>\n",
       "      <td>747</td>\n",
       "      <td>3.0</td>\n",
       "      <td>1331</td>\n",
       "      <td>4.0</td>\n",
       "      <td>892</td>\n",
       "      <td>2.0</td>\n",
       "      <td>1281</td>\n",
       "      <td>1.0</td>\n",
       "      <td>...</td>\n",
       "      <td>1</td>\n",
       "      <td>1</td>\n",
       "      <td>0</td>\n",
       "      <td>1</td>\n",
       "      <td>1</td>\n",
       "      <td>1</td>\n",
       "      <td>1</td>\n",
       "      <td>0</td>\n",
       "      <td>1</td>\n",
       "      <td>1</td>\n",
       "    </tr>\n",
       "    <tr>\n",
       "      <th>45531</th>\n",
       "      <td>45531</td>\n",
       "      <td>3.0</td>\n",
       "      <td>496</td>\n",
       "      <td>5.0</td>\n",
       "      <td>1827</td>\n",
       "      <td>5.0</td>\n",
       "      <td>754</td>\n",
       "      <td>3.0</td>\n",
       "      <td>1117</td>\n",
       "      <td>1.0</td>\n",
       "      <td>...</td>\n",
       "      <td>1</td>\n",
       "      <td>1</td>\n",
       "      <td>0</td>\n",
       "      <td>1</td>\n",
       "      <td>1</td>\n",
       "      <td>0</td>\n",
       "      <td>1</td>\n",
       "      <td>0</td>\n",
       "      <td>1</td>\n",
       "      <td>1</td>\n",
       "    </tr>\n",
       "  </tbody>\n",
       "</table>\n",
       "<p>45532 rows × 78 columns</p>\n",
       "</div>"
      ],
      "text/plain": [
       "       index  QaA   QaE  QbA   QbE  QcA   QcE  QdA   QdE  QeA  ...  wr_04  \\\n",
       "0          0  3.0   363  4.0  1370  5.0   997  1.0  1024  2.0  ...      0   \n",
       "1          1  5.0   647  5.0  1313  3.0  3387  5.0  2969  1.0  ...      1   \n",
       "2          2  4.0  1623  1.0  1480  1.0  1021  4.0  3374  5.0  ...      1   \n",
       "3          3  3.0   504  3.0  2311  4.0   992  3.0  3245  1.0  ...      0   \n",
       "4          4  1.0   927  1.0   707  5.0   556  2.0  1062  1.0  ...      1   \n",
       "...      ...  ...   ...  ...   ...  ...   ...  ...   ...  ...  ...    ...   \n",
       "45527  45527  2.0  1050  5.0   619  4.0   328  1.0   285  1.0  ...      1   \n",
       "45528  45528  2.0   581  3.0  1353  4.0  1164  1.0   798  3.0  ...      1   \n",
       "45529  45529  4.0   593  1.0   857  1.0  1047  4.0  1515  5.0  ...      1   \n",
       "45530  45530  1.0   747  3.0  1331  4.0   892  2.0  1281  1.0  ...      1   \n",
       "45531  45531  3.0   496  5.0  1827  5.0   754  3.0  1117  1.0  ...      1   \n",
       "\n",
       "       wr_05  wr_06  wr_07  wr_08  wr_09  wr_10  wr_11  wr_12  wr_13  \n",
       "0          1      0      1      1      0      1      0      1      1  \n",
       "1          1      0      1      1      0      1      0      1      1  \n",
       "2          1      0      1      1      1      1      0      1      1  \n",
       "3          0      0      0      1      0      1      0      1      1  \n",
       "4          1      1      1      1      0      1      1      1      1  \n",
       "...      ...    ...    ...    ...    ...    ...    ...    ...    ...  \n",
       "45527      1      0      1      1      1      1      0      1      1  \n",
       "45528      1      0      1      1      1      1      0      1      1  \n",
       "45529      1      0      1      1      0      1      0      1      1  \n",
       "45530      1      0      1      1      1      1      0      1      1  \n",
       "45531      1      0      1      1      0      1      0      1      1  \n",
       "\n",
       "[45532 rows x 78 columns]"
      ]
     },
     "execution_count": 234,
     "metadata": {},
     "output_type": "execute_result"
    }
   ],
   "source": [
    "train_df"
   ]
  },
  {
   "cell_type": "code",
   "execution_count": 235,
   "metadata": {},
   "outputs": [
    {
     "data": {
      "text/plain": [
       "2    24898\n",
       "1    20634\n",
       "Name: voted, dtype: int64"
      ]
     },
     "execution_count": 235,
     "metadata": {},
     "output_type": "execute_result"
    }
   ],
   "source": [
    "train_df['voted'].value_counts()"
   ]
  },
  {
   "cell_type": "markdown",
   "metadata": {},
   "source": [
    "# Q_E"
   ]
  },
  {
   "cell_type": "code",
   "execution_count": 236,
   "metadata": {},
   "outputs": [],
   "source": [
    "qe_list = ['Q{}E'.format(chr(ch)) for ch in range(ord('a'), ord('u'))]"
   ]
  },
  {
   "cell_type": "code",
   "execution_count": 237,
   "metadata": {},
   "outputs": [
    {
     "data": {
      "text/plain": [
       "['QaE',\n",
       " 'QbE',\n",
       " 'QcE',\n",
       " 'QdE',\n",
       " 'QeE',\n",
       " 'QfE',\n",
       " 'QgE',\n",
       " 'QhE',\n",
       " 'QiE',\n",
       " 'QjE',\n",
       " 'QkE',\n",
       " 'QlE',\n",
       " 'QmE',\n",
       " 'QnE',\n",
       " 'QoE',\n",
       " 'QpE',\n",
       " 'QqE',\n",
       " 'QrE',\n",
       " 'QsE',\n",
       " 'QtE']"
      ]
     },
     "execution_count": 237,
     "metadata": {},
     "output_type": "execute_result"
    }
   ],
   "source": [
    "qe_list"
   ]
  },
  {
   "cell_type": "code",
   "execution_count": 238,
   "metadata": {},
   "outputs": [
    {
     "name": "stdout",
     "output_type": "stream",
     "text": [
      "QaE\n"
     ]
    },
    {
     "data": {
      "image/png": "[encoded data removed]",
      "text/plain": [
       "<Figure size 432x288 with 1 Axes>"
      ]
     },
     "metadata": {
      "needs_background": "light"
     },
     "output_type": "display_data"
    },
    {
     "name": "stdout",
     "output_type": "stream",
     "text": [
      "QbE\n"
     ]
    },
    {
     "data": {
      "image/png": "[encoded data removed]",
      "text/plain": [
       "<Figure size 432x288 with 1 Axes>"
      ]
     },
     "metadata": {
      "needs_background": "light"
     },
     "output_type": "display_data"
    },
    {
     "name": "stdout",
     "output_type": "stream",
     "text": [
      "QcE\n"
     ]
    },
    {
     "data": {
      "image/png": "[encoded data removed]",
      "text/plain": [
       "<Figure size 432x288 with 1 Axes>"
      ]
     },
     "metadata": {
      "needs_background": "light"
     },
     "output_type": "display_data"
    },
    {
     "name": "stdout",
     "output_type": "stream",
     "text": [
      "QdE\n"
     ]
    },
    {
     "data": {
      "image/png": "[encoded data removed]",
      "text/plain": [
       "<Figure size 432x288 with 1 Axes>"
      ]
     },
     "metadata": {
      "needs_background": "light"
     },
     "output_type": "display_data"
    },
    {
     "name": "stdout",
     "output_type": "stream",
     "text": [
      "QeE\n"
     ]
    },
    {
     "data": {
      "image/png": "[encoded data removed]",
      "text/plain": [
       "<Figure size 432x288 with 1 Axes>"
      ]
     },
     "metadata": {
      "needs_background": "light"
     },
     "output_type": "display_data"
    },
    {
     "name": "stdout",
     "output_type": "stream",
     "text": [
      "QfE\n"
     ]
    },
    {
     "data": {
      "image/png": "[encoded data removed]",
      "text/plain": [
       "<Figure size 432x288 with 1 Axes>"
      ]
     },
     "metadata": {
      "needs_background": "light"
     },
     "output_type": "display_data"
    },
    {
     "name": "stdout",
     "output_type": "stream",
     "text": [
      "QgE\n"
     ]
    },
    {
     "data": {
      "image/png": "[encoded data removed]",
      "text/plain": [
       "<Figure size 432x288 with 1 Axes>"
      ]
     },
     "metadata": {
      "needs_background": "light"
     },
     "output_type": "display_data"
    },
    {
     "name": "stdout",
     "output_type": "stream",
     "text": [
      "QhE\n"
     ]
    },
    {
     "data": {
      "image/png": "[encoded data removed]",
      "text/plain": [
       "<Figure size 432x288 with 1 Axes>"
      ]
     },
     "metadata": {
      "needs_background": "light"
     },
     "output_type": "display_data"
    },
    {
     "name": "stdout",
     "output_type": "stream",
     "text": [
      "QiE\n"
     ]
    },
    {
     "data": {
      "image/png": "[encoded data removed]",
      "text/plain": [
       "<Figure size 432x288 with 1 Axes>"
      ]
     },
     "metadata": {
      "needs_background": "light"
     },
     "output_type": "display_data"
    },
    {
     "name": "stdout",
     "output_type": "stream",
     "text": [
      "QjE\n"
     ]
    },
    {
     "data": {
      "image/png": "[encoded data removed]",
      "text/plain": [
       "<Figure size 432x288 with 1 Axes>"
      ]
     },
     "metadata": {
      "needs_background": "light"
     },
     "output_type": "display_data"
    },
    {
     "name": "stdout",
     "output_type": "stream",
     "text": [
      "QkE\n"
     ]
    },
    {
     "data": {
      "image/png": "[encoded data removed]",
      "text/plain": [
       "<Figure size 432x288 with 1 Axes>"
      ]
     },
     "metadata": {
      "needs_background": "light"
     },
     "output_type": "display_data"
    },
    {
     "name": "stdout",
     "output_type": "stream",
     "text": [
      "QlE\n"
     ]
    },
    {
     "data": {
      "image/png": "[encoded data removed]",
      "text/plain": [
       "<Figure size 432x288 with 1 Axes>"
      ]
     },
     "metadata": {
      "needs_background": "light"
     },
     "output_type": "display_data"
    },
    {
     "name": "stdout",
     "output_type": "stream",
     "text": [
      "QmE\n"
     ]
    },
    {
     "data": {
      "image/png": "[encoded data removed]",
      "text/plain": [
       "<Figure size 432x288 with 1 Axes>"
      ]
     },
     "metadata": {
      "needs_background": "light"
     },
     "output_type": "display_data"
    },
    {
     "name": "stdout",
     "output_type": "stream",
     "text": [
      "QnE\n"
     ]
    },
    {
     "data": {
      "image/png": "[encoded data removed]",
      "text/plain": [
       "<Figure size 432x288 with 1 Axes>"
      ]
     },
     "metadata": {
      "needs_background": "light"
     },
     "output_type": "display_data"
    },
    {
     "name": "stdout",
     "output_type": "stream",
     "text": [
      "QoE\n"
     ]
    },
    {
     "data": {
      "image/png": "[encoded data removed]",
      "text/plain": [
       "<Figure size 432x288 with 1 Axes>"
      ]
     },
     "metadata": {
      "needs_background": "light"
     },
     "output_type": "display_data"
    },
    {
     "name": "stdout",
     "output_type": "stream",
     "text": [
      "QpE\n"
     ]
    },
    {
     "data": {
      "image/png": "[encoded data removed]",
      "text/plain": [
       "<Figure size 432x288 with 1 Axes>"
      ]
     },
     "metadata": {
      "needs_background": "light"
     },
     "output_type": "display_data"
    },
    {
     "name": "stdout",
     "output_type": "stream",
     "text": [
      "QqE\n"
     ]
    },
    {
     "data": {
      "image/png": "[encoded data removed]",
      "text/plain": [
       "<Figure size 432x288 with 1 Axes>"
      ]
     },
     "metadata": {
      "needs_background": "light"
     },
     "output_type": "display_data"
    },
    {
     "name": "stdout",
     "output_type": "stream",
     "text": [
      "QrE\n"
     ]
    },
    {
     "data": {
      "image/png": "[encoded data removed]",
      "text/plain": [
       "<Figure size 432x288 with 1 Axes>"
      ]
     },
     "metadata": {
      "needs_background": "light"
     },
     "output_type": "display_data"
    },
    {
     "name": "stdout",
     "output_type": "stream",
     "text": [
      "QsE\n"
     ]
    },
    {
     "data": {
      "image/png": "[encoded data removed]",
      "text/plain": [
       "<Figure size 432x288 with 1 Axes>"
      ]
     },
     "metadata": {
      "needs_background": "light"
     },
     "output_type": "display_data"
    },
    {
     "name": "stdout",
     "output_type": "stream",
     "text": [
      "QtE\n"
     ]
    },
    {
     "data": {
      "image/png": "[encoded data removed]",
      "text/plain": [
       "<Figure size 432x288 with 1 Axes>"
      ]
     },
     "metadata": {
      "needs_background": "light"
     },
     "output_type": "display_data"
    }
   ],
   "source": [
    "for _qe in qe_list:\n",
    "    print(_qe)\n",
    "    sns.boxplot(x='voted', y=_qe, data=train_df)\n",
    "    plt.show()"
   ]
  },
  {
   "cell_type": "code",
   "execution_count": 239,
   "metadata": {},
   "outputs": [
    {
     "name": "stdout",
     "output_type": "stream",
     "text": [
      "QaE\n"
     ]
    },
    {
     "name": "stderr",
     "output_type": "stream",
     "text": [
      "/Users/jeongsuchan/opt/anaconda3/envs/my_env/lib/python3.6/site-packages/seaborn/distributions.py:2551: FutureWarning: `distplot` is a deprecated function and will be removed in a future version. Please adapt your code to use either `displot` (a figure-level function with similar flexibility) or `histplot` (an axes-level function for histograms).\n",
      "  warnings.warn(msg, FutureWarning)\n",
      "/Users/jeongsuchan/opt/anaconda3/envs/my_env/lib/python3.6/site-packages/seaborn/distributions.py:2551: FutureWarning: `distplot` is a deprecated function and will be removed in a future version. Please adapt your code to use either `displot` (a figure-level function with similar flexibility) or `histplot` (an axes-level function for histograms).\n",
      "  warnings.warn(msg, FutureWarning)\n"
     ]
    },
    {
     "data": {
      "image/png": "[encoded data removed]",
      "text/plain": [
       "<Figure size 432x288 with 1 Axes>"
      ]
     },
     "metadata": {
      "needs_background": "light"
     },
     "output_type": "display_data"
    },
    {
     "name": "stdout",
     "output_type": "stream",
     "text": [
      "QbE\n"
     ]
    },
    {
     "name": "stderr",
     "output_type": "stream",
     "text": [
      "/Users/jeongsuchan/opt/anaconda3/envs/my_env/lib/python3.6/site-packages/seaborn/distributions.py:2551: FutureWarning: `distplot` is a deprecated function and will be removed in a future version. Please adapt your code to use either `displot` (a figure-level function with similar flexibility) or `histplot` (an axes-level function for histograms).\n",
      "  warnings.warn(msg, FutureWarning)\n",
      "/Users/jeongsuchan/opt/anaconda3/envs/my_env/lib/python3.6/site-packages/seaborn/distributions.py:2551: FutureWarning: `distplot` is a deprecated function and will be removed in a future version. Please adapt your code to use either `displot` (a figure-level function with similar flexibility) or `histplot` (an axes-level function for histograms).\n",
      "  warnings.warn(msg, FutureWarning)\n"
     ]
    },
    {
     "data": {
      "image/png": "[encoded data removed]",
      "text/plain": [
       "<Figure size 432x288 with 1 Axes>"
      ]
     },
     "metadata": {
      "needs_background": "light"
     },
     "output_type": "display_data"
    },
    {
     "name": "stdout",
     "output_type": "stream",
     "text": [
      "QcE\n"
     ]
    },
    {
     "name": "stderr",
     "output_type": "stream",
     "text": [
      "/Users/jeongsuchan/opt/anaconda3/envs/my_env/lib/python3.6/site-packages/seaborn/distributions.py:2551: FutureWarning: `distplot` is a deprecated function and will be removed in a future version. Please adapt your code to use either `displot` (a figure-level function with similar flexibility) or `histplot` (an axes-level function for histograms).\n",
      "  warnings.warn(msg, FutureWarning)\n",
      "/Users/jeongsuchan/opt/anaconda3/envs/my_env/lib/python3.6/site-packages/seaborn/distributions.py:2551: FutureWarning: `distplot` is a deprecated function and will be removed in a future version. Please adapt your code to use either `displot` (a figure-level function with similar flexibility) or `histplot` (an axes-level function for histograms).\n",
      "  warnings.warn(msg, FutureWarning)\n"
     ]
    },
    {
     "data": {
      "image/png": "[encoded data removed]",
      "text/plain": [
       "<Figure size 432x288 with 1 Axes>"
      ]
     },
     "metadata": {
      "needs_background": "light"
     },
     "output_type": "display_data"
    },
    {
     "name": "stdout",
     "output_type": "stream",
     "text": [
      "QdE\n"
     ]
    },
    {
     "name": "stderr",
     "output_type": "stream",
     "text": [
      "/Users/jeongsuchan/opt/anaconda3/envs/my_env/lib/python3.6/site-packages/seaborn/distributions.py:2551: FutureWarning: `distplot` is a deprecated function and will be removed in a future version. Please adapt your code to use either `displot` (a figure-level function with similar flexibility) or `histplot` (an axes-level function for histograms).\n",
      "  warnings.warn(msg, FutureWarning)\n",
      "/Users/jeongsuchan/opt/anaconda3/envs/my_env/lib/python3.6/site-packages/seaborn/distributions.py:2551: FutureWarning: `distplot` is a deprecated function and will be removed in a future version. Please adapt your code to use either `displot` (a figure-level function with similar flexibility) or `histplot` (an axes-level function for histograms).\n",
      "  warnings.warn(msg, FutureWarning)\n"
     ]
    },
    {
     "data": {
      "image/png": "[encoded data removed]",
      "text/plain": [
       "<Figure size 432x288 with 1 Axes>"
      ]
     },
     "metadata": {
      "needs_background": "light"
     },
     "output_type": "display_data"
    },
    {
     "name": "stdout",
     "output_type": "stream",
     "text": [
      "QeE\n"
     ]
    },
    {
     "name": "stderr",
     "output_type": "stream",
     "text": [
      "/Users/jeongsuchan/opt/anaconda3/envs/my_env/lib/python3.6/site-packages/seaborn/distributions.py:2551: FutureWarning: `distplot` is a deprecated function and will be removed in a future version. Please adapt your code to use either `displot` (a figure-level function with similar flexibility) or `histplot` (an axes-level function for histograms).\n",
      "  warnings.warn(msg, FutureWarning)\n",
      "/Users/jeongsuchan/opt/anaconda3/envs/my_env/lib/python3.6/site-packages/seaborn/distributions.py:2551: FutureWarning: `distplot` is a deprecated function and will be removed in a future version. Please adapt your code to use either `displot` (a figure-level function with similar flexibility) or `histplot` (an axes-level function for histograms).\n",
      "  warnings.warn(msg, FutureWarning)\n"
     ]
    },
    {
     "data": {
      "image/png": "[encoded data removed]",
      "text/plain": [
       "<Figure size 432x288 with 1 Axes>"
      ]
     },
     "metadata": {
      "needs_background": "light"
     },
     "output_type": "display_data"
    },
    {
     "name": "stdout",
     "output_type": "stream",
     "text": [
      "QfE\n"
     ]
    },
    {
     "name": "stderr",
     "output_type": "stream",
     "text": [
      "/Users/jeongsuchan/opt/anaconda3/envs/my_env/lib/python3.6/site-packages/seaborn/distributions.py:2551: FutureWarning: `distplot` is a deprecated function and will be removed in a future version. Please adapt your code to use either `displot` (a figure-level function with similar flexibility) or `histplot` (an axes-level function for histograms).\n",
      "  warnings.warn(msg, FutureWarning)\n",
      "/Users/jeongsuchan/opt/anaconda3/envs/my_env/lib/python3.6/site-packages/seaborn/distributions.py:2551: FutureWarning: `distplot` is a deprecated function and will be removed in a future version. Please adapt your code to use either `displot` (a figure-level function with similar flexibility) or `histplot` (an axes-level function for histograms).\n",
      "  warnings.warn(msg, FutureWarning)\n"
     ]
    },
    {
     "data": {
      "image/png": "[encoded data removed]",
      "text/plain": [
       "<Figure size 432x288 with 1 Axes>"
      ]
     },
     "metadata": {
      "needs_background": "light"
     },
     "output_type": "display_data"
    },
    {
     "name": "stdout",
     "output_type": "stream",
     "text": [
      "QgE\n"
     ]
    },
    {
     "name": "stderr",
     "output_type": "stream",
     "text": [
      "/Users/jeongsuchan/opt/anaconda3/envs/my_env/lib/python3.6/site-packages/seaborn/distributions.py:2551: FutureWarning: `distplot` is a deprecated function and will be removed in a future version. Please adapt your code to use either `displot` (a figure-level function with similar flexibility) or `histplot` (an axes-level function for histograms).\n",
      "  warnings.warn(msg, FutureWarning)\n",
      "/Users/jeongsuchan/opt/anaconda3/envs/my_env/lib/python3.6/site-packages/seaborn/distributions.py:2551: FutureWarning: `distplot` is a deprecated function and will be removed in a future version. Please adapt your code to use either `displot` (a figure-level function with similar flexibility) or `histplot` (an axes-level function for histograms).\n",
      "  warnings.warn(msg, FutureWarning)\n"
     ]
    },
    {
     "data": {
      "image/png": "[encoded data removed]",
      "text/plain": [
       "<Figure size 432x288 with 1 Axes>"
      ]
     },
     "metadata": {
      "needs_background": "light"
     },
     "output_type": "display_data"
    },
    {
     "name": "stdout",
     "output_type": "stream",
     "text": [
      "QhE\n"
     ]
    },
    {
     "name": "stderr",
     "output_type": "stream",
     "text": [
      "/Users/jeongsuchan/opt/anaconda3/envs/my_env/lib/python3.6/site-packages/seaborn/distributions.py:2551: FutureWarning: `distplot` is a deprecated function and will be removed in a future version. Please adapt your code to use either `displot` (a figure-level function with similar flexibility) or `histplot` (an axes-level function for histograms).\n",
      "  warnings.warn(msg, FutureWarning)\n",
      "/Users/jeongsuchan/opt/anaconda3/envs/my_env/lib/python3.6/site-packages/seaborn/distributions.py:2551: FutureWarning: `distplot` is a deprecated function and will be removed in a future version. Please adapt your code to use either `displot` (a figure-level function with similar flexibility) or `histplot` (an axes-level function for histograms).\n",
      "  warnings.warn(msg, FutureWarning)\n"
     ]
    },
    {
     "data": {
      "image/png": "[encoded data removed]",
      "text/plain": [
       "<Figure size 432x288 with 1 Axes>"
      ]
     },
     "metadata": {
      "needs_background": "light"
     },
     "output_type": "display_data"
    },
    {
     "name": "stdout",
     "output_type": "stream",
     "text": [
      "QiE\n"
     ]
    },
    {
     "name": "stderr",
     "output_type": "stream",
     "text": [
      "/Users/jeongsuchan/opt/anaconda3/envs/my_env/lib/python3.6/site-packages/seaborn/distributions.py:2551: FutureWarning: `distplot` is a deprecated function and will be removed in a future version. Please adapt your code to use either `displot` (a figure-level function with similar flexibility) or `histplot` (an axes-level function for histograms).\n",
      "  warnings.warn(msg, FutureWarning)\n",
      "/Users/jeongsuchan/opt/anaconda3/envs/my_env/lib/python3.6/site-packages/seaborn/distributions.py:2551: FutureWarning: `distplot` is a deprecated function and will be removed in a future version. Please adapt your code to use either `displot` (a figure-level function with similar flexibility) or `histplot` (an axes-level function for histograms).\n",
      "  warnings.warn(msg, FutureWarning)\n"
     ]
    },
    {
     "data": {
      "image/png": "[encoded data removed]",
      "text/plain": [
       "<Figure size 432x288 with 1 Axes>"
      ]
     },
     "metadata": {
      "needs_background": "light"
     },
     "output_type": "display_data"
    },
    {
     "name": "stdout",
     "output_type": "stream",
     "text": [
      "QjE\n"
     ]
    },
    {
     "name": "stderr",
     "output_type": "stream",
     "text": [
      "/Users/jeongsuchan/opt/anaconda3/envs/my_env/lib/python3.6/site-packages/seaborn/distributions.py:2551: FutureWarning: `distplot` is a deprecated function and will be removed in a future version. Please adapt your code to use either `displot` (a figure-level function with similar flexibility) or `histplot` (an axes-level function for histograms).\n",
      "  warnings.warn(msg, FutureWarning)\n",
      "/Users/jeongsuchan/opt/anaconda3/envs/my_env/lib/python3.6/site-packages/seaborn/distributions.py:2551: FutureWarning: `distplot` is a deprecated function and will be removed in a future version. Please adapt your code to use either `displot` (a figure-level function with similar flexibility) or `histplot` (an axes-level function for histograms).\n",
      "  warnings.warn(msg, FutureWarning)\n"
     ]
    },
    {
     "data": {
      "image/png": "[encoded data removed]",
      "text/plain": [
       "<Figure size 432x288 with 1 Axes>"
      ]
     },
     "metadata": {
      "needs_background": "light"
     },
     "output_type": "display_data"
    },
    {
     "name": "stdout",
     "output_type": "stream",
     "text": [
      "QkE\n"
     ]
    },
    {
     "name": "stderr",
     "output_type": "stream",
     "text": [
      "/Users/jeongsuchan/opt/anaconda3/envs/my_env/lib/python3.6/site-packages/seaborn/distributions.py:2551: FutureWarning: `distplot` is a deprecated function and will be removed in a future version. Please adapt your code to use either `displot` (a figure-level function with similar flexibility) or `histplot` (an axes-level function for histograms).\n",
      "  warnings.warn(msg, FutureWarning)\n",
      "/Users/jeongsuchan/opt/anaconda3/envs/my_env/lib/python3.6/site-packages/seaborn/distributions.py:2551: FutureWarning: `distplot` is a deprecated function and will be removed in a future version. Please adapt your code to use either `displot` (a figure-level function with similar flexibility) or `histplot` (an axes-level function for histograms).\n",
      "  warnings.warn(msg, FutureWarning)\n"
     ]
    },
    {
     "data": {
      "image/png": "[encoded data removed]",
      "text/plain": [
       "<Figure size 432x288 with 1 Axes>"
      ]
     },
     "metadata": {
      "needs_background": "light"
     },
     "output_type": "display_data"
    },
    {
     "name": "stdout",
     "output_type": "stream",
     "text": [
      "QlE\n"
     ]
    },
    {
     "name": "stderr",
     "output_type": "stream",
     "text": [
      "/Users/jeongsuchan/opt/anaconda3/envs/my_env/lib/python3.6/site-packages/seaborn/distributions.py:2551: FutureWarning: `distplot` is a deprecated function and will be removed in a future version. Please adapt your code to use either `displot` (a figure-level function with similar flexibility) or `histplot` (an axes-level function for histograms).\n",
      "  warnings.warn(msg, FutureWarning)\n",
      "/Users/jeongsuchan/opt/anaconda3/envs/my_env/lib/python3.6/site-packages/seaborn/distributions.py:2551: FutureWarning: `distplot` is a deprecated function and will be removed in a future version. Please adapt your code to use either `displot` (a figure-level function with similar flexibility) or `histplot` (an axes-level function for histograms).\n",
      "  warnings.warn(msg, FutureWarning)\n"
     ]
    },
    {
     "data": {
      "image/png": "[encoded data removed]",
      "text/plain": [
       "<Figure size 432x288 with 1 Axes>"
      ]
     },
     "metadata": {
      "needs_background": "light"
     },
     "output_type": "display_data"
    },
    {
     "name": "stdout",
     "output_type": "stream",
     "text": [
      "QmE\n"
     ]
    },
    {
     "name": "stderr",
     "output_type": "stream",
     "text": [
      "/Users/jeongsuchan/opt/anaconda3/envs/my_env/lib/python3.6/site-packages/seaborn/distributions.py:2551: FutureWarning: `distplot` is a deprecated function and will be removed in a future version. Please adapt your code to use either `displot` (a figure-level function with similar flexibility) or `histplot` (an axes-level function for histograms).\n",
      "  warnings.warn(msg, FutureWarning)\n",
      "/Users/jeongsuchan/opt/anaconda3/envs/my_env/lib/python3.6/site-packages/seaborn/distributions.py:2551: FutureWarning: `distplot` is a deprecated function and will be removed in a future version. Please adapt your code to use either `displot` (a figure-level function with similar flexibility) or `histplot` (an axes-level function for histograms).\n",
      "  warnings.warn(msg, FutureWarning)\n"
     ]
    },
    {
     "data": {
      "image/png": "[encoded data removed]",
      "text/plain": [
       "<Figure size 432x288 with 1 Axes>"
      ]
     },
     "metadata": {
      "needs_background": "light"
     },
     "output_type": "display_data"
    },
    {
     "name": "stdout",
     "output_type": "stream",
     "text": [
      "QnE\n"
     ]
    },
    {
     "name": "stderr",
     "output_type": "stream",
     "text": [
      "/Users/jeongsuchan/opt/anaconda3/envs/my_env/lib/python3.6/site-packages/seaborn/distributions.py:2551: FutureWarning: `distplot` is a deprecated function and will be removed in a future version. Please adapt your code to use either `displot` (a figure-level function with similar flexibility) or `histplot` (an axes-level function for histograms).\n",
      "  warnings.warn(msg, FutureWarning)\n",
      "/Users/jeongsuchan/opt/anaconda3/envs/my_env/lib/python3.6/site-packages/seaborn/distributions.py:2551: FutureWarning: `distplot` is a deprecated function and will be removed in a future version. Please adapt your code to use either `displot` (a figure-level function with similar flexibility) or `histplot` (an axes-level function for histograms).\n",
      "  warnings.warn(msg, FutureWarning)\n"
     ]
    },
    {
     "data": {
      "image/png": "[encoded data removed]",
      "text/plain": [
       "<Figure size 432x288 with 1 Axes>"
      ]
     },
     "metadata": {
      "needs_background": "light"
     },
     "output_type": "display_data"
    },
    {
     "name": "stdout",
     "output_type": "stream",
     "text": [
      "QoE\n"
     ]
    },
    {
     "name": "stderr",
     "output_type": "stream",
     "text": [
      "/Users/jeongsuchan/opt/anaconda3/envs/my_env/lib/python3.6/site-packages/seaborn/distributions.py:2551: FutureWarning: `distplot` is a deprecated function and will be removed in a future version. Please adapt your code to use either `displot` (a figure-level function with similar flexibility) or `histplot` (an axes-level function for histograms).\n",
      "  warnings.warn(msg, FutureWarning)\n",
      "/Users/jeongsuchan/opt/anaconda3/envs/my_env/lib/python3.6/site-packages/seaborn/distributions.py:2551: FutureWarning: `distplot` is a deprecated function and will be removed in a future version. Please adapt your code to use either `displot` (a figure-level function with similar flexibility) or `histplot` (an axes-level function for histograms).\n",
      "  warnings.warn(msg, FutureWarning)\n"
     ]
    },
    {
     "data": {
      "image/png": "[encoded data removed]",
      "text/plain": [
       "<Figure size 432x288 with 1 Axes>"
      ]
     },
     "metadata": {
      "needs_background": "light"
     },
     "output_type": "display_data"
    },
    {
     "name": "stdout",
     "output_type": "stream",
     "text": [
      "QpE\n"
     ]
    },
    {
     "name": "stderr",
     "output_type": "stream",
     "text": [
      "/Users/jeongsuchan/opt/anaconda3/envs/my_env/lib/python3.6/site-packages/seaborn/distributions.py:2551: FutureWarning: `distplot` is a deprecated function and will be removed in a future version. Please adapt your code to use either `displot` (a figure-level function with similar flexibility) or `histplot` (an axes-level function for histograms).\n",
      "  warnings.warn(msg, FutureWarning)\n",
      "/Users/jeongsuchan/opt/anaconda3/envs/my_env/lib/python3.6/site-packages/seaborn/distributions.py:2551: FutureWarning: `distplot` is a deprecated function and will be removed in a future version. Please adapt your code to use either `displot` (a figure-level function with similar flexibility) or `histplot` (an axes-level function for histograms).\n",
      "  warnings.warn(msg, FutureWarning)\n"
     ]
    },
    {
     "data": {
      "image/png": "[encoded data removed]",
      "text/plain": [
       "<Figure size 432x288 with 1 Axes>"
      ]
     },
     "metadata": {
      "needs_background": "light"
     },
     "output_type": "display_data"
    },
    {
     "name": "stdout",
     "output_type": "stream",
     "text": [
      "QqE\n"
     ]
    },
    {
     "name": "stderr",
     "output_type": "stream",
     "text": [
      "/Users/jeongsuchan/opt/anaconda3/envs/my_env/lib/python3.6/site-packages/seaborn/distributions.py:2551: FutureWarning: `distplot` is a deprecated function and will be removed in a future version. Please adapt your code to use either `displot` (a figure-level function with similar flexibility) or `histplot` (an axes-level function for histograms).\n",
      "  warnings.warn(msg, FutureWarning)\n",
      "/Users/jeongsuchan/opt/anaconda3/envs/my_env/lib/python3.6/site-packages/seaborn/distributions.py:2551: FutureWarning: `distplot` is a deprecated function and will be removed in a future version. Please adapt your code to use either `displot` (a figure-level function with similar flexibility) or `histplot` (an axes-level function for histograms).\n",
      "  warnings.warn(msg, FutureWarning)\n"
     ]
    },
    {
     "data": {
      "image/png": "[encoded data removed]",
      "text/plain": [
       "<Figure size 432x288 with 1 Axes>"
      ]
     },
     "metadata": {
      "needs_background": "light"
     },
     "output_type": "display_data"
    },
    {
     "name": "stdout",
     "output_type": "stream",
     "text": [
      "QrE\n"
     ]
    },
    {
     "name": "stderr",
     "output_type": "stream",
     "text": [
      "/Users/jeongsuchan/opt/anaconda3/envs/my_env/lib/python3.6/site-packages/seaborn/distributions.py:2551: FutureWarning: `distplot` is a deprecated function and will be removed in a future version. Please adapt your code to use either `displot` (a figure-level function with similar flexibility) or `histplot` (an axes-level function for histograms).\n",
      "  warnings.warn(msg, FutureWarning)\n",
      "/Users/jeongsuchan/opt/anaconda3/envs/my_env/lib/python3.6/site-packages/seaborn/distributions.py:2551: FutureWarning: `distplot` is a deprecated function and will be removed in a future version. Please adapt your code to use either `displot` (a figure-level function with similar flexibility) or `histplot` (an axes-level function for histograms).\n",
      "  warnings.warn(msg, FutureWarning)\n"
     ]
    },
    {
     "data": {
      "image/png": "[encoded data removed]",
      "text/plain": [
       "<Figure size 432x288 with 1 Axes>"
      ]
     },
     "metadata": {
      "needs_background": "light"
     },
     "output_type": "display_data"
    },
    {
     "name": "stdout",
     "output_type": "stream",
     "text": [
      "QsE\n"
     ]
    },
    {
     "name": "stderr",
     "output_type": "stream",
     "text": [
      "/Users/jeongsuchan/opt/anaconda3/envs/my_env/lib/python3.6/site-packages/seaborn/distributions.py:2551: FutureWarning: `distplot` is a deprecated function and will be removed in a future version. Please adapt your code to use either `displot` (a figure-level function with similar flexibility) or `histplot` (an axes-level function for histograms).\n",
      "  warnings.warn(msg, FutureWarning)\n",
      "/Users/jeongsuchan/opt/anaconda3/envs/my_env/lib/python3.6/site-packages/seaborn/distributions.py:2551: FutureWarning: `distplot` is a deprecated function and will be removed in a future version. Please adapt your code to use either `displot` (a figure-level function with similar flexibility) or `histplot` (an axes-level function for histograms).\n",
      "  warnings.warn(msg, FutureWarning)\n"
     ]
    },
    {
     "data": {
      "image/png": "[encoded data removed]",
      "text/plain": [
       "<Figure size 432x288 with 1 Axes>"
      ]
     },
     "metadata": {
      "needs_background": "light"
     },
     "output_type": "display_data"
    },
    {
     "name": "stdout",
     "output_type": "stream",
     "text": [
      "QtE\n"
     ]
    },
    {
     "name": "stderr",
     "output_type": "stream",
     "text": [
      "/Users/jeongsuchan/opt/anaconda3/envs/my_env/lib/python3.6/site-packages/seaborn/distributions.py:2551: FutureWarning: `distplot` is a deprecated function and will be removed in a future version. Please adapt your code to use either `displot` (a figure-level function with similar flexibility) or `histplot` (an axes-level function for histograms).\n",
      "  warnings.warn(msg, FutureWarning)\n",
      "/Users/jeongsuchan/opt/anaconda3/envs/my_env/lib/python3.6/site-packages/seaborn/distributions.py:2551: FutureWarning: `distplot` is a deprecated function and will be removed in a future version. Please adapt your code to use either `displot` (a figure-level function with similar flexibility) or `histplot` (an axes-level function for histograms).\n",
      "  warnings.warn(msg, FutureWarning)\n"
     ]
    },
    {
     "data": {
      "image/png": "[encoded data removed]",
      "text/plain": [
       "<Figure size 432x288 with 1 Axes>"
      ]
     },
     "metadata": {
      "needs_background": "light"
     },
     "output_type": "display_data"
    }
   ],
   "source": [
    "for _qe in qe_list:\n",
    "    print(_qe)\n",
    "    sns.distplot(train_df[train_df['voted'] == 1][_qe], label='voted_0', color='green', hist_kws={'alpha': 0.2})\n",
    "    sns.distplot(train_df[train_df['voted'] == 2][_qe], label='voted_1', color='red', hist_kws={'alpha': 0.2})\n",
    "    \n",
    "    plt.legend(title=\"Species\")\n",
    "    plt.show()"
   ]
  },
  {
   "cell_type": "code",
   "execution_count": null,
   "metadata": {},
   "outputs": [],
   "source": []
  },
  {
   "cell_type": "code",
   "execution_count": 240,
   "metadata": {},
   "outputs": [
    {
     "data": {
      "text/html": [
       "<div>\n",
       "<style scoped>\n",
       "    .dataframe tbody tr th:only-of-type {\n",
       "        vertical-align: middle;\n",
       "    }\n",
       "\n",
       "    .dataframe tbody tr th {\n",
       "        vertical-align: top;\n",
       "    }\n",
       "\n",
       "    .dataframe thead th {\n",
       "        text-align: right;\n",
       "    }\n",
       "</style>\n",
       "<table border=\"1\" class=\"dataframe\">\n",
       "  <thead>\n",
       "    <tr style=\"text-align: right;\">\n",
       "      <th></th>\n",
       "      <th>QaE</th>\n",
       "      <th>QbE</th>\n",
       "      <th>QcE</th>\n",
       "      <th>QdE</th>\n",
       "      <th>QeE</th>\n",
       "      <th>QfE</th>\n",
       "      <th>QgE</th>\n",
       "      <th>QhE</th>\n",
       "      <th>QiE</th>\n",
       "      <th>QjE</th>\n",
       "      <th>QkE</th>\n",
       "      <th>QlE</th>\n",
       "      <th>QmE</th>\n",
       "      <th>QnE</th>\n",
       "      <th>QoE</th>\n",
       "      <th>QpE</th>\n",
       "      <th>QqE</th>\n",
       "      <th>QrE</th>\n",
       "      <th>QsE</th>\n",
       "      <th>QtE</th>\n",
       "    </tr>\n",
       "  </thead>\n",
       "  <tbody>\n",
       "    <tr>\n",
       "      <th>count</th>\n",
       "      <td>4.553200e+04</td>\n",
       "      <td>4.553200e+04</td>\n",
       "      <td>45532.000000</td>\n",
       "      <td>4.553200e+04</td>\n",
       "      <td>4.553200e+04</td>\n",
       "      <td>4.553200e+04</td>\n",
       "      <td>4.553200e+04</td>\n",
       "      <td>4.553200e+04</td>\n",
       "      <td>4.553200e+04</td>\n",
       "      <td>4.553200e+04</td>\n",
       "      <td>4.553200e+04</td>\n",
       "      <td>4.553200e+04</td>\n",
       "      <td>4.553200e+04</td>\n",
       "      <td>45532.000000</td>\n",
       "      <td>4.553200e+04</td>\n",
       "      <td>4.553200e+04</td>\n",
       "      <td>4.553200e+04</td>\n",
       "      <td>4.553200e+04</td>\n",
       "      <td>4.553200e+04</td>\n",
       "      <td>4.553200e+04</td>\n",
       "    </tr>\n",
       "    <tr>\n",
       "      <th>mean</th>\n",
       "      <td>9.453570e+02</td>\n",
       "      <td>2.189589e+03</td>\n",
       "      <td>1484.294518</td>\n",
       "      <td>1.490672e+03</td>\n",
       "      <td>1.899292e+03</td>\n",
       "      <td>1.850650e+03</td>\n",
       "      <td>1.284608e+03</td>\n",
       "      <td>4.584272e+03</td>\n",
       "      <td>4.068434e+03</td>\n",
       "      <td>2.576363e+03</td>\n",
       "      <td>2.038986e+03</td>\n",
       "      <td>3.741018e+03</td>\n",
       "      <td>2.050287e+03</td>\n",
       "      <td>959.880502</td>\n",
       "      <td>1.435762e+03</td>\n",
       "      <td>1.633479e+03</td>\n",
       "      <td>1.154352e+03</td>\n",
       "      <td>2.470808e+03</td>\n",
       "      <td>1.164117e+03</td>\n",
       "      <td>2.240057e+03</td>\n",
       "    </tr>\n",
       "    <tr>\n",
       "      <th>std</th>\n",
       "      <td>1.307565e+04</td>\n",
       "      <td>3.351027e+04</td>\n",
       "      <td>8977.664318</td>\n",
       "      <td>1.092260e+04</td>\n",
       "      <td>1.670765e+04</td>\n",
       "      <td>7.608236e+04</td>\n",
       "      <td>9.756584e+03</td>\n",
       "      <td>5.020265e+05</td>\n",
       "      <td>1.141738e+05</td>\n",
       "      <td>5.411432e+04</td>\n",
       "      <td>3.069164e+04</td>\n",
       "      <td>3.663672e+05</td>\n",
       "      <td>7.530787e+04</td>\n",
       "      <td>5869.964127</td>\n",
       "      <td>1.084997e+04</td>\n",
       "      <td>2.600221e+04</td>\n",
       "      <td>2.250689e+04</td>\n",
       "      <td>1.482890e+05</td>\n",
       "      <td>7.433515e+03</td>\n",
       "      <td>6.730924e+04</td>\n",
       "    </tr>\n",
       "    <tr>\n",
       "      <th>min</th>\n",
       "      <td>2.500000e+01</td>\n",
       "      <td>2.500000e+01</td>\n",
       "      <td>25.000000</td>\n",
       "      <td>2.600000e+01</td>\n",
       "      <td>2.500000e+01</td>\n",
       "      <td>2.500000e+01</td>\n",
       "      <td>2.500000e+01</td>\n",
       "      <td>0.000000e+00</td>\n",
       "      <td>0.000000e+00</td>\n",
       "      <td>0.000000e+00</td>\n",
       "      <td>0.000000e+00</td>\n",
       "      <td>2.500000e+01</td>\n",
       "      <td>2.500000e+01</td>\n",
       "      <td>25.000000</td>\n",
       "      <td>0.000000e+00</td>\n",
       "      <td>0.000000e+00</td>\n",
       "      <td>0.000000e+00</td>\n",
       "      <td>2.500000e+01</td>\n",
       "      <td>2.500000e+01</td>\n",
       "      <td>2.500000e+01</td>\n",
       "    </tr>\n",
       "    <tr>\n",
       "      <th>25%</th>\n",
       "      <td>4.040000e+02</td>\n",
       "      <td>8.750000e+02</td>\n",
       "      <td>651.000000</td>\n",
       "      <td>6.790000e+02</td>\n",
       "      <td>8.340000e+02</td>\n",
       "      <td>5.040000e+02</td>\n",
       "      <td>5.490000e+02</td>\n",
       "      <td>1.077000e+03</td>\n",
       "      <td>1.259000e+03</td>\n",
       "      <td>9.020000e+02</td>\n",
       "      <td>8.590000e+02</td>\n",
       "      <td>8.060000e+02</td>\n",
       "      <td>6.500000e+02</td>\n",
       "      <td>428.000000</td>\n",
       "      <td>6.380000e+02</td>\n",
       "      <td>7.060000e+02</td>\n",
       "      <td>4.610000e+02</td>\n",
       "      <td>7.940000e+02</td>\n",
       "      <td>5.270000e+02</td>\n",
       "      <td>7.330000e+02</td>\n",
       "    </tr>\n",
       "    <tr>\n",
       "      <th>50%</th>\n",
       "      <td>5.570000e+02</td>\n",
       "      <td>1.218000e+03</td>\n",
       "      <td>899.000000</td>\n",
       "      <td>9.310000e+02</td>\n",
       "      <td>1.154000e+03</td>\n",
       "      <td>7.120000e+02</td>\n",
       "      <td>7.720000e+02</td>\n",
       "      <td>1.464000e+03</td>\n",
       "      <td>1.800000e+03</td>\n",
       "      <td>1.260000e+03</td>\n",
       "      <td>1.178000e+03</td>\n",
       "      <td>1.125000e+03</td>\n",
       "      <td>9.060000e+02</td>\n",
       "      <td>596.000000</td>\n",
       "      <td>8.830000e+02</td>\n",
       "      <td>9.700000e+02</td>\n",
       "      <td>6.520000e+02</td>\n",
       "      <td>1.117000e+03</td>\n",
       "      <td>7.470000e+02</td>\n",
       "      <td>1.020000e+03</td>\n",
       "    </tr>\n",
       "    <tr>\n",
       "      <th>75%</th>\n",
       "      <td>8.270000e+02</td>\n",
       "      <td>1.838000e+03</td>\n",
       "      <td>1335.000000</td>\n",
       "      <td>1.355000e+03</td>\n",
       "      <td>1.656000e+03</td>\n",
       "      <td>1.078000e+03</td>\n",
       "      <td>1.150000e+03</td>\n",
       "      <td>2.090000e+03</td>\n",
       "      <td>2.761000e+03</td>\n",
       "      <td>1.899000e+03</td>\n",
       "      <td>1.721000e+03</td>\n",
       "      <td>1.649000e+03</td>\n",
       "      <td>1.342000e+03</td>\n",
       "      <td>891.000000</td>\n",
       "      <td>1.300000e+03</td>\n",
       "      <td>1.409000e+03</td>\n",
       "      <td>9.820000e+02</td>\n",
       "      <td>1.664000e+03</td>\n",
       "      <td>1.124000e+03</td>\n",
       "      <td>1.526000e+03</td>\n",
       "    </tr>\n",
       "    <tr>\n",
       "      <th>max</th>\n",
       "      <td>2.413960e+06</td>\n",
       "      <td>5.580395e+06</td>\n",
       "      <td>871557.000000</td>\n",
       "      <td>1.552821e+06</td>\n",
       "      <td>1.919926e+06</td>\n",
       "      <td>1.176370e+07</td>\n",
       "      <td>1.068252e+06</td>\n",
       "      <td>1.070860e+08</td>\n",
       "      <td>1.703586e+07</td>\n",
       "      <td>9.910006e+06</td>\n",
       "      <td>4.824953e+06</td>\n",
       "      <td>7.754351e+07</td>\n",
       "      <td>1.410832e+07</td>\n",
       "      <td>606694.000000</td>\n",
       "      <td>1.309739e+06</td>\n",
       "      <td>4.650742e+06</td>\n",
       "      <td>4.277510e+06</td>\n",
       "      <td>3.159328e+07</td>\n",
       "      <td>1.286581e+06</td>\n",
       "      <td>1.155650e+07</td>\n",
       "    </tr>\n",
       "  </tbody>\n",
       "</table>\n",
       "</div>"
      ],
      "text/plain": [
       "                QaE           QbE            QcE           QdE           QeE  \\\n",
       "count  4.553200e+04  4.553200e+04   45532.000000  4.553200e+04  4.553200e+04   \n",
       "mean   9.453570e+02  2.189589e+03    1484.294518  1.490672e+03  1.899292e+03   \n",
       "std    1.307565e+04  3.351027e+04    8977.664318  1.092260e+04  1.670765e+04   \n",
       "min    2.500000e+01  2.500000e+01      25.000000  2.600000e+01  2.500000e+01   \n",
       "25%    4.040000e+02  8.750000e+02     651.000000  6.790000e+02  8.340000e+02   \n",
       "50%    5.570000e+02  1.218000e+03     899.000000  9.310000e+02  1.154000e+03   \n",
       "75%    8.270000e+02  1.838000e+03    1335.000000  1.355000e+03  1.656000e+03   \n",
       "max    2.413960e+06  5.580395e+06  871557.000000  1.552821e+06  1.919926e+06   \n",
       "\n",
       "                QfE           QgE           QhE           QiE           QjE  \\\n",
       "count  4.553200e+04  4.553200e+04  4.553200e+04  4.553200e+04  4.553200e+04   \n",
       "mean   1.850650e+03  1.284608e+03  4.584272e+03  4.068434e+03  2.576363e+03   \n",
       "std    7.608236e+04  9.756584e+03  5.020265e+05  1.141738e+05  5.411432e+04   \n",
       "min    2.500000e+01  2.500000e+01  0.000000e+00  0.000000e+00  0.000000e+00   \n",
       "25%    5.040000e+02  5.490000e+02  1.077000e+03  1.259000e+03  9.020000e+02   \n",
       "50%    7.120000e+02  7.720000e+02  1.464000e+03  1.800000e+03  1.260000e+03   \n",
       "75%    1.078000e+03  1.150000e+03  2.090000e+03  2.761000e+03  1.899000e+03   \n",
       "max    1.176370e+07  1.068252e+06  1.070860e+08  1.703586e+07  9.910006e+06   \n",
       "\n",
       "                QkE           QlE           QmE            QnE           QoE  \\\n",
       "count  4.553200e+04  4.553200e+04  4.553200e+04   45532.000000  4.553200e+04   \n",
       "mean   2.038986e+03  3.741018e+03  2.050287e+03     959.880502  1.435762e+03   \n",
       "std    3.069164e+04  3.663672e+05  7.530787e+04    5869.964127  1.084997e+04   \n",
       "min    0.000000e+00  2.500000e+01  2.500000e+01      25.000000  0.000000e+00   \n",
       "25%    8.590000e+02  8.060000e+02  6.500000e+02     428.000000  6.380000e+02   \n",
       "50%    1.178000e+03  1.125000e+03  9.060000e+02     596.000000  8.830000e+02   \n",
       "75%    1.721000e+03  1.649000e+03  1.342000e+03     891.000000  1.300000e+03   \n",
       "max    4.824953e+06  7.754351e+07  1.410832e+07  606694.000000  1.309739e+06   \n",
       "\n",
       "                QpE           QqE           QrE           QsE           QtE  \n",
       "count  4.553200e+04  4.553200e+04  4.553200e+04  4.553200e+04  4.553200e+04  \n",
       "mean   1.633479e+03  1.154352e+03  2.470808e+03  1.164117e+03  2.240057e+03  \n",
       "std    2.600221e+04  2.250689e+04  1.482890e+05  7.433515e+03  6.730924e+04  \n",
       "min    0.000000e+00  0.000000e+00  2.500000e+01  2.500000e+01  2.500000e+01  \n",
       "25%    7.060000e+02  4.610000e+02  7.940000e+02  5.270000e+02  7.330000e+02  \n",
       "50%    9.700000e+02  6.520000e+02  1.117000e+03  7.470000e+02  1.020000e+03  \n",
       "75%    1.409000e+03  9.820000e+02  1.664000e+03  1.124000e+03  1.526000e+03  \n",
       "max    4.650742e+06  4.277510e+06  3.159328e+07  1.286581e+06  1.155650e+07  "
      ]
     },
     "execution_count": 240,
     "metadata": {},
     "output_type": "execute_result"
    }
   ],
   "source": [
    "train_df[qe_list].describe()"
   ]
  },
  {
   "cell_type": "code",
   "execution_count": 241,
   "metadata": {},
   "outputs": [
    {
     "name": "stderr",
     "output_type": "stream",
     "text": [
      "/Users/jeongsuchan/.local/lib/python3.6/site-packages/ipykernel_launcher.py:1: RuntimeWarning: divide by zero encountered in log\n",
      "  \"\"\"Entry point for launching an IPython kernel.\n",
      "/Users/jeongsuchan/.local/lib/python3.6/site-packages/ipykernel_launcher.py:2: RuntimeWarning: divide by zero encountered in log\n",
      "  \n"
     ]
    }
   ],
   "source": [
    "train_df[qe_list] = log(train_df[qe_list]) / 7\n",
    "test_df[qe_list] = log(test_df[qe_list]) / 7"
   ]
  },
  {
   "cell_type": "code",
   "execution_count": 242,
   "metadata": {},
   "outputs": [
    {
     "data": {
      "text/html": [
       "<div>\n",
       "<style scoped>\n",
       "    .dataframe tbody tr th:only-of-type {\n",
       "        vertical-align: middle;\n",
       "    }\n",
       "\n",
       "    .dataframe tbody tr th {\n",
       "        vertical-align: top;\n",
       "    }\n",
       "\n",
       "    .dataframe thead th {\n",
       "        text-align: right;\n",
       "    }\n",
       "</style>\n",
       "<table border=\"1\" class=\"dataframe\">\n",
       "  <thead>\n",
       "    <tr style=\"text-align: right;\">\n",
       "      <th></th>\n",
       "      <th>QaE</th>\n",
       "      <th>QbE</th>\n",
       "      <th>QcE</th>\n",
       "      <th>QdE</th>\n",
       "      <th>QeE</th>\n",
       "      <th>QfE</th>\n",
       "      <th>QgE</th>\n",
       "      <th>QhE</th>\n",
       "      <th>QiE</th>\n",
       "      <th>QjE</th>\n",
       "      <th>QkE</th>\n",
       "      <th>QlE</th>\n",
       "      <th>QmE</th>\n",
       "      <th>QnE</th>\n",
       "      <th>QoE</th>\n",
       "      <th>QpE</th>\n",
       "      <th>QqE</th>\n",
       "      <th>QrE</th>\n",
       "      <th>QsE</th>\n",
       "      <th>QtE</th>\n",
       "    </tr>\n",
       "  </thead>\n",
       "  <tbody>\n",
       "    <tr>\n",
       "      <th>0</th>\n",
       "      <td>0.842058</td>\n",
       "      <td>1.031795</td>\n",
       "      <td>0.986393</td>\n",
       "      <td>0.990210</td>\n",
       "      <td>1.051897</td>\n",
       "      <td>0.898531</td>\n",
       "      <td>0.910474</td>\n",
       "      <td>0.999787</td>\n",
       "      <td>1.005791</td>\n",
       "      <td>1.022867</td>\n",
       "      <td>0.969046</td>\n",
       "      <td>0.963773</td>\n",
       "      <td>0.963773</td>\n",
       "      <td>0.957773</td>\n",
       "      <td>0.908757</td>\n",
       "      <td>0.975530</td>\n",
       "      <td>0.843233</td>\n",
       "      <td>0.967909</td>\n",
       "      <td>0.921496</td>\n",
       "      <td>1.002373</td>\n",
       "    </tr>\n",
       "    <tr>\n",
       "      <th>1</th>\n",
       "      <td>0.924621</td>\n",
       "      <td>1.025724</td>\n",
       "      <td>1.161100</td>\n",
       "      <td>1.142283</td>\n",
       "      <td>1.195859</td>\n",
       "      <td>1.098808</td>\n",
       "      <td>0.959514</td>\n",
       "      <td>1.187763</td>\n",
       "      <td>1.076013</td>\n",
       "      <td>1.020291</td>\n",
       "      <td>1.141026</td>\n",
       "      <td>1.182233</td>\n",
       "      <td>1.196156</td>\n",
       "      <td>1.072997</td>\n",
       "      <td>1.014525</td>\n",
       "      <td>1.112720</td>\n",
       "      <td>1.030328</td>\n",
       "      <td>1.145612</td>\n",
       "      <td>1.195329</td>\n",
       "      <td>1.029270</td>\n",
       "    </tr>\n",
       "    <tr>\n",
       "      <th>2</th>\n",
       "      <td>1.056005</td>\n",
       "      <td>1.042828</td>\n",
       "      <td>0.989791</td>\n",
       "      <td>1.160551</td>\n",
       "      <td>1.027884</td>\n",
       "      <td>0.896395</td>\n",
       "      <td>1.008885</td>\n",
       "      <td>0.989090</td>\n",
       "      <td>1.126207</td>\n",
       "      <td>1.051171</td>\n",
       "      <td>0.986536</td>\n",
       "      <td>1.120382</td>\n",
       "      <td>0.974600</td>\n",
       "      <td>1.096374</td>\n",
       "      <td>1.024742</td>\n",
       "      <td>1.004408</td>\n",
       "      <td>0.977526</td>\n",
       "      <td>1.027239</td>\n",
       "      <td>1.009251</td>\n",
       "      <td>1.035805</td>\n",
       "    </tr>\n",
       "    <tr>\n",
       "      <th>3</th>\n",
       "      <td>0.888939</td>\n",
       "      <td>1.106491</td>\n",
       "      <td>0.985675</td>\n",
       "      <td>1.154982</td>\n",
       "      <td>0.839677</td>\n",
       "      <td>1.046544</td>\n",
       "      <td>0.724129</td>\n",
       "      <td>1.104248</td>\n",
       "      <td>1.134369</td>\n",
       "      <td>1.233288</td>\n",
       "      <td>1.153832</td>\n",
       "      <td>1.023863</td>\n",
       "      <td>1.301440</td>\n",
       "      <td>1.014760</td>\n",
       "      <td>1.009129</td>\n",
       "      <td>1.440042</td>\n",
       "      <td>0.909250</td>\n",
       "      <td>1.297987</td>\n",
       "      <td>1.111412</td>\n",
       "      <td>1.025615</td>\n",
       "    </tr>\n",
       "    <tr>\n",
       "      <th>4</th>\n",
       "      <td>0.975993</td>\n",
       "      <td>0.937290</td>\n",
       "      <td>0.902967</td>\n",
       "      <td>0.995416</td>\n",
       "      <td>0.988808</td>\n",
       "      <td>0.920363</td>\n",
       "      <td>0.985531</td>\n",
       "      <td>1.019725</td>\n",
       "      <td>1.007160</td>\n",
       "      <td>1.033660</td>\n",
       "      <td>0.943807</td>\n",
       "      <td>1.010588</td>\n",
       "      <td>0.900636</td>\n",
       "      <td>0.907767</td>\n",
       "      <td>0.946485</td>\n",
       "      <td>1.005541</td>\n",
       "      <td>0.825379</td>\n",
       "      <td>0.996488</td>\n",
       "      <td>0.909741</td>\n",
       "      <td>1.077686</td>\n",
       "    </tr>\n",
       "    <tr>\n",
       "      <th>...</th>\n",
       "      <td>...</td>\n",
       "      <td>...</td>\n",
       "      <td>...</td>\n",
       "      <td>...</td>\n",
       "      <td>...</td>\n",
       "      <td>...</td>\n",
       "      <td>...</td>\n",
       "      <td>...</td>\n",
       "      <td>...</td>\n",
       "      <td>...</td>\n",
       "      <td>...</td>\n",
       "      <td>...</td>\n",
       "      <td>...</td>\n",
       "      <td>...</td>\n",
       "      <td>...</td>\n",
       "      <td>...</td>\n",
       "      <td>...</td>\n",
       "      <td>...</td>\n",
       "      <td>...</td>\n",
       "      <td>...</td>\n",
       "    </tr>\n",
       "    <tr>\n",
       "      <th>45527</th>\n",
       "      <td>0.993792</td>\n",
       "      <td>0.918301</td>\n",
       "      <td>0.827573</td>\n",
       "      <td>0.807498</td>\n",
       "      <td>0.914322</td>\n",
       "      <td>0.798178</td>\n",
       "      <td>0.821796</td>\n",
       "      <td>0.882860</td>\n",
       "      <td>0.989090</td>\n",
       "      <td>0.803946</td>\n",
       "      <td>0.916442</td>\n",
       "      <td>0.767234</td>\n",
       "      <td>0.851572</td>\n",
       "      <td>0.814349</td>\n",
       "      <td>1.079639</td>\n",
       "      <td>0.869214</td>\n",
       "      <td>0.958994</td>\n",
       "      <td>0.819049</td>\n",
       "      <td>0.910474</td>\n",
       "      <td>1.102796</td>\n",
       "    </tr>\n",
       "    <tr>\n",
       "      <th>45528</th>\n",
       "      <td>0.909250</td>\n",
       "      <td>1.030011</td>\n",
       "      <td>1.008517</td>\n",
       "      <td>0.954587</td>\n",
       "      <td>1.060936</td>\n",
       "      <td>0.903991</td>\n",
       "      <td>0.923067</td>\n",
       "      <td>1.036412</td>\n",
       "      <td>1.201500</td>\n",
       "      <td>1.034071</td>\n",
       "      <td>1.116458</td>\n",
       "      <td>1.020742</td>\n",
       "      <td>0.962424</td>\n",
       "      <td>1.034992</td>\n",
       "      <td>1.047013</td>\n",
       "      <td>0.939694</td>\n",
       "      <td>0.946485</td>\n",
       "      <td>1.002757</td>\n",
       "      <td>0.926158</td>\n",
       "      <td>1.012511</td>\n",
       "    </tr>\n",
       "    <tr>\n",
       "      <th>45529</th>\n",
       "      <td>0.912171</td>\n",
       "      <td>0.964777</td>\n",
       "      <td>0.993383</td>\n",
       "      <td>1.046167</td>\n",
       "      <td>1.061783</td>\n",
       "      <td>1.019042</td>\n",
       "      <td>0.999657</td>\n",
       "      <td>1.022422</td>\n",
       "      <td>1.100042</td>\n",
       "      <td>1.067906</td>\n",
       "      <td>0.995416</td>\n",
       "      <td>1.043694</td>\n",
       "      <td>1.079116</td>\n",
       "      <td>0.970335</td>\n",
       "      <td>1.024083</td>\n",
       "      <td>1.012868</td>\n",
       "      <td>0.879871</td>\n",
       "      <td>1.069115</td>\n",
       "      <td>1.030222</td>\n",
       "      <td>0.928970</td>\n",
       "    </tr>\n",
       "    <tr>\n",
       "      <th>45530</th>\n",
       "      <td>0.945152</td>\n",
       "      <td>1.027669</td>\n",
       "      <td>0.970495</td>\n",
       "      <td>1.022199</td>\n",
       "      <td>1.027347</td>\n",
       "      <td>0.913609</td>\n",
       "      <td>0.925282</td>\n",
       "      <td>1.037819</td>\n",
       "      <td>1.066604</td>\n",
       "      <td>0.949484</td>\n",
       "      <td>0.990350</td>\n",
       "      <td>0.944193</td>\n",
       "      <td>1.191152</td>\n",
       "      <td>0.937290</td>\n",
       "      <td>0.884623</td>\n",
       "      <td>0.973819</td>\n",
       "      <td>1.024413</td>\n",
       "      <td>1.060936</td>\n",
       "      <td>0.943227</td>\n",
       "      <td>1.003521</td>\n",
       "    </tr>\n",
       "    <tr>\n",
       "      <th>45531</th>\n",
       "      <td>0.886654</td>\n",
       "      <td>1.072919</td>\n",
       "      <td>0.946485</td>\n",
       "      <td>1.002629</td>\n",
       "      <td>0.866918</td>\n",
       "      <td>1.037117</td>\n",
       "      <td>0.900112</td>\n",
       "      <td>1.062290</td>\n",
       "      <td>1.097629</td>\n",
       "      <td>1.266352</td>\n",
       "      <td>0.998740</td>\n",
       "      <td>0.999133</td>\n",
       "      <td>1.099134</td>\n",
       "      <td>0.866587</td>\n",
       "      <td>0.973976</td>\n",
       "      <td>0.918531</td>\n",
       "      <td>0.859451</td>\n",
       "      <td>0.943033</td>\n",
       "      <td>0.928970</td>\n",
       "      <td>1.059654</td>\n",
       "    </tr>\n",
       "  </tbody>\n",
       "</table>\n",
       "<p>45532 rows × 20 columns</p>\n",
       "</div>"
      ],
      "text/plain": [
       "            QaE       QbE       QcE       QdE       QeE       QfE       QgE  \\\n",
       "0      0.842058  1.031795  0.986393  0.990210  1.051897  0.898531  0.910474   \n",
       "1      0.924621  1.025724  1.161100  1.142283  1.195859  1.098808  0.959514   \n",
       "2      1.056005  1.042828  0.989791  1.160551  1.027884  0.896395  1.008885   \n",
       "3      0.888939  1.106491  0.985675  1.154982  0.839677  1.046544  0.724129   \n",
       "4      0.975993  0.937290  0.902967  0.995416  0.988808  0.920363  0.985531   \n",
       "...         ...       ...       ...       ...       ...       ...       ...   \n",
       "45527  0.993792  0.918301  0.827573  0.807498  0.914322  0.798178  0.821796   \n",
       "45528  0.909250  1.030011  1.008517  0.954587  1.060936  0.903991  0.923067   \n",
       "45529  0.912171  0.964777  0.993383  1.046167  1.061783  1.019042  0.999657   \n",
       "45530  0.945152  1.027669  0.970495  1.022199  1.027347  0.913609  0.925282   \n",
       "45531  0.886654  1.072919  0.946485  1.002629  0.866918  1.037117  0.900112   \n",
       "\n",
       "            QhE       QiE       QjE       QkE       QlE       QmE       QnE  \\\n",
       "0      0.999787  1.005791  1.022867  0.969046  0.963773  0.963773  0.957773   \n",
       "1      1.187763  1.076013  1.020291  1.141026  1.182233  1.196156  1.072997   \n",
       "2      0.989090  1.126207  1.051171  0.986536  1.120382  0.974600  1.096374   \n",
       "3      1.104248  1.134369  1.233288  1.153832  1.023863  1.301440  1.014760   \n",
       "4      1.019725  1.007160  1.033660  0.943807  1.010588  0.900636  0.907767   \n",
       "...         ...       ...       ...       ...       ...       ...       ...   \n",
       "45527  0.882860  0.989090  0.803946  0.916442  0.767234  0.851572  0.814349   \n",
       "45528  1.036412  1.201500  1.034071  1.116458  1.020742  0.962424  1.034992   \n",
       "45529  1.022422  1.100042  1.067906  0.995416  1.043694  1.079116  0.970335   \n",
       "45530  1.037819  1.066604  0.949484  0.990350  0.944193  1.191152  0.937290   \n",
       "45531  1.062290  1.097629  1.266352  0.998740  0.999133  1.099134  0.866587   \n",
       "\n",
       "            QoE       QpE       QqE       QrE       QsE       QtE  \n",
       "0      0.908757  0.975530  0.843233  0.967909  0.921496  1.002373  \n",
       "1      1.014525  1.112720  1.030328  1.145612  1.195329  1.029270  \n",
       "2      1.024742  1.004408  0.977526  1.027239  1.009251  1.035805  \n",
       "3      1.009129  1.440042  0.909250  1.297987  1.111412  1.025615  \n",
       "4      0.946485  1.005541  0.825379  0.996488  0.909741  1.077686  \n",
       "...         ...       ...       ...       ...       ...       ...  \n",
       "45527  1.079639  0.869214  0.958994  0.819049  0.910474  1.102796  \n",
       "45528  1.047013  0.939694  0.946485  1.002757  0.926158  1.012511  \n",
       "45529  1.024083  1.012868  0.879871  1.069115  1.030222  0.928970  \n",
       "45530  0.884623  0.973819  1.024413  1.060936  0.943227  1.003521  \n",
       "45531  0.973976  0.918531  0.859451  0.943033  0.928970  1.059654  \n",
       "\n",
       "[45532 rows x 20 columns]"
      ]
     },
     "execution_count": 242,
     "metadata": {},
     "output_type": "execute_result"
    }
   ],
   "source": [
    "train_df[qe_list]"
   ]
  },
  {
   "cell_type": "code",
   "execution_count": 243,
   "metadata": {},
   "outputs": [],
   "source": [
    "train_df = train_df.replace(-np.inf, 0)\n",
    "test_df = test_df.replace(-np.inf, 0)"
   ]
  },
  {
   "cell_type": "code",
   "execution_count": null,
   "metadata": {},
   "outputs": [],
   "source": []
  },
  {
   "cell_type": "markdown",
   "metadata": {},
   "source": [
    "# Q_A"
   ]
  },
  {
   "cell_type": "code",
   "execution_count": 244,
   "metadata": {},
   "outputs": [],
   "source": [
    "qa_list = ['Q{}A'.format(chr(ch)) for ch in range(ord('a'), ord('u'))]"
   ]
  },
  {
   "cell_type": "code",
   "execution_count": 245,
   "metadata": {},
   "outputs": [],
   "source": [
    "train_df[qa_list] = train_df[qa_list]/5\n",
    "test_df[qa_list] = test_df[qa_list]/5"
   ]
  },
  {
   "cell_type": "code",
   "execution_count": 246,
   "metadata": {},
   "outputs": [
    {
     "data": {
      "text/html": [
       "<div>\n",
       "<style scoped>\n",
       "    .dataframe tbody tr th:only-of-type {\n",
       "        vertical-align: middle;\n",
       "    }\n",
       "\n",
       "    .dataframe tbody tr th {\n",
       "        vertical-align: top;\n",
       "    }\n",
       "\n",
       "    .dataframe thead th {\n",
       "        text-align: right;\n",
       "    }\n",
       "</style>\n",
       "<table border=\"1\" class=\"dataframe\">\n",
       "  <thead>\n",
       "    <tr style=\"text-align: right;\">\n",
       "      <th></th>\n",
       "      <th>QaA</th>\n",
       "      <th>QbA</th>\n",
       "      <th>QcA</th>\n",
       "      <th>QdA</th>\n",
       "      <th>QeA</th>\n",
       "      <th>QfA</th>\n",
       "      <th>QgA</th>\n",
       "      <th>QhA</th>\n",
       "      <th>QiA</th>\n",
       "      <th>QjA</th>\n",
       "      <th>QkA</th>\n",
       "      <th>QlA</th>\n",
       "      <th>QmA</th>\n",
       "      <th>QnA</th>\n",
       "      <th>QoA</th>\n",
       "      <th>QpA</th>\n",
       "      <th>QqA</th>\n",
       "      <th>QrA</th>\n",
       "      <th>QsA</th>\n",
       "      <th>QtA</th>\n",
       "    </tr>\n",
       "  </thead>\n",
       "  <tbody>\n",
       "    <tr>\n",
       "      <th>0</th>\n",
       "      <td>0.6</td>\n",
       "      <td>0.8</td>\n",
       "      <td>1.0</td>\n",
       "      <td>0.2</td>\n",
       "      <td>0.4</td>\n",
       "      <td>1.0</td>\n",
       "      <td>0.4</td>\n",
       "      <td>0.8</td>\n",
       "      <td>1.0</td>\n",
       "      <td>0.8</td>\n",
       "      <td>0.8</td>\n",
       "      <td>0.8</td>\n",
       "      <td>0.4</td>\n",
       "      <td>1.0</td>\n",
       "      <td>0.4</td>\n",
       "      <td>0.4</td>\n",
       "      <td>0.4</td>\n",
       "      <td>0.4</td>\n",
       "      <td>0.4</td>\n",
       "      <td>0.2</td>\n",
       "    </tr>\n",
       "    <tr>\n",
       "      <th>1</th>\n",
       "      <td>1.0</td>\n",
       "      <td>1.0</td>\n",
       "      <td>0.6</td>\n",
       "      <td>1.0</td>\n",
       "      <td>0.2</td>\n",
       "      <td>0.6</td>\n",
       "      <td>0.2</td>\n",
       "      <td>0.2</td>\n",
       "      <td>1.0</td>\n",
       "      <td>0.6</td>\n",
       "      <td>1.0</td>\n",
       "      <td>0.8</td>\n",
       "      <td>0.2</td>\n",
       "      <td>1.0</td>\n",
       "      <td>0.2</td>\n",
       "      <td>1.0</td>\n",
       "      <td>1.0</td>\n",
       "      <td>0.2</td>\n",
       "      <td>0.8</td>\n",
       "      <td>0.2</td>\n",
       "    </tr>\n",
       "    <tr>\n",
       "      <th>2</th>\n",
       "      <td>0.8</td>\n",
       "      <td>0.2</td>\n",
       "      <td>0.2</td>\n",
       "      <td>0.8</td>\n",
       "      <td>1.0</td>\n",
       "      <td>0.2</td>\n",
       "      <td>0.8</td>\n",
       "      <td>0.2</td>\n",
       "      <td>0.6</td>\n",
       "      <td>0.4</td>\n",
       "      <td>1.0</td>\n",
       "      <td>1.0</td>\n",
       "      <td>0.4</td>\n",
       "      <td>0.8</td>\n",
       "      <td>0.4</td>\n",
       "      <td>0.2</td>\n",
       "      <td>1.0</td>\n",
       "      <td>0.8</td>\n",
       "      <td>0.2</td>\n",
       "      <td>0.2</td>\n",
       "    </tr>\n",
       "    <tr>\n",
       "      <th>3</th>\n",
       "      <td>0.6</td>\n",
       "      <td>0.6</td>\n",
       "      <td>0.8</td>\n",
       "      <td>0.6</td>\n",
       "      <td>0.2</td>\n",
       "      <td>0.4</td>\n",
       "      <td>0.8</td>\n",
       "      <td>0.6</td>\n",
       "      <td>1.0</td>\n",
       "      <td>0.8</td>\n",
       "      <td>0.6</td>\n",
       "      <td>0.8</td>\n",
       "      <td>0.8</td>\n",
       "      <td>0.8</td>\n",
       "      <td>0.8</td>\n",
       "      <td>0.8</td>\n",
       "      <td>0.6</td>\n",
       "      <td>0.8</td>\n",
       "      <td>0.8</td>\n",
       "      <td>1.0</td>\n",
       "    </tr>\n",
       "    <tr>\n",
       "      <th>4</th>\n",
       "      <td>0.2</td>\n",
       "      <td>0.2</td>\n",
       "      <td>1.0</td>\n",
       "      <td>0.4</td>\n",
       "      <td>0.2</td>\n",
       "      <td>0.4</td>\n",
       "      <td>0.2</td>\n",
       "      <td>0.2</td>\n",
       "      <td>1.0</td>\n",
       "      <td>1.0</td>\n",
       "      <td>1.0</td>\n",
       "      <td>1.0</td>\n",
       "      <td>0.8</td>\n",
       "      <td>0.4</td>\n",
       "      <td>0.2</td>\n",
       "      <td>0.8</td>\n",
       "      <td>1.0</td>\n",
       "      <td>1.0</td>\n",
       "      <td>0.2</td>\n",
       "      <td>0.4</td>\n",
       "    </tr>\n",
       "    <tr>\n",
       "      <th>...</th>\n",
       "      <td>...</td>\n",
       "      <td>...</td>\n",
       "      <td>...</td>\n",
       "      <td>...</td>\n",
       "      <td>...</td>\n",
       "      <td>...</td>\n",
       "      <td>...</td>\n",
       "      <td>...</td>\n",
       "      <td>...</td>\n",
       "      <td>...</td>\n",
       "      <td>...</td>\n",
       "      <td>...</td>\n",
       "      <td>...</td>\n",
       "      <td>...</td>\n",
       "      <td>...</td>\n",
       "      <td>...</td>\n",
       "      <td>...</td>\n",
       "      <td>...</td>\n",
       "      <td>...</td>\n",
       "      <td>...</td>\n",
       "    </tr>\n",
       "    <tr>\n",
       "      <th>45527</th>\n",
       "      <td>0.4</td>\n",
       "      <td>1.0</td>\n",
       "      <td>0.8</td>\n",
       "      <td>0.2</td>\n",
       "      <td>0.2</td>\n",
       "      <td>0.2</td>\n",
       "      <td>0.2</td>\n",
       "      <td>0.2</td>\n",
       "      <td>0.2</td>\n",
       "      <td>0.8</td>\n",
       "      <td>0.8</td>\n",
       "      <td>1.0</td>\n",
       "      <td>0.8</td>\n",
       "      <td>0.2</td>\n",
       "      <td>0.4</td>\n",
       "      <td>0.8</td>\n",
       "      <td>0.4</td>\n",
       "      <td>0.2</td>\n",
       "      <td>1.0</td>\n",
       "      <td>0.8</td>\n",
       "    </tr>\n",
       "    <tr>\n",
       "      <th>45528</th>\n",
       "      <td>0.4</td>\n",
       "      <td>0.6</td>\n",
       "      <td>0.8</td>\n",
       "      <td>0.2</td>\n",
       "      <td>0.6</td>\n",
       "      <td>0.4</td>\n",
       "      <td>0.4</td>\n",
       "      <td>0.2</td>\n",
       "      <td>0.4</td>\n",
       "      <td>1.0</td>\n",
       "      <td>0.4</td>\n",
       "      <td>1.0</td>\n",
       "      <td>0.6</td>\n",
       "      <td>0.4</td>\n",
       "      <td>0.8</td>\n",
       "      <td>0.8</td>\n",
       "      <td>0.4</td>\n",
       "      <td>0.6</td>\n",
       "      <td>0.8</td>\n",
       "      <td>0.8</td>\n",
       "    </tr>\n",
       "    <tr>\n",
       "      <th>45529</th>\n",
       "      <td>0.8</td>\n",
       "      <td>0.2</td>\n",
       "      <td>0.2</td>\n",
       "      <td>0.8</td>\n",
       "      <td>1.0</td>\n",
       "      <td>0.8</td>\n",
       "      <td>1.0</td>\n",
       "      <td>0.2</td>\n",
       "      <td>1.0</td>\n",
       "      <td>0.2</td>\n",
       "      <td>1.0</td>\n",
       "      <td>1.0</td>\n",
       "      <td>0.2</td>\n",
       "      <td>0.8</td>\n",
       "      <td>0.2</td>\n",
       "      <td>0.2</td>\n",
       "      <td>1.0</td>\n",
       "      <td>1.0</td>\n",
       "      <td>0.6</td>\n",
       "      <td>0.2</td>\n",
       "    </tr>\n",
       "    <tr>\n",
       "      <th>45530</th>\n",
       "      <td>0.2</td>\n",
       "      <td>0.6</td>\n",
       "      <td>0.8</td>\n",
       "      <td>0.4</td>\n",
       "      <td>0.2</td>\n",
       "      <td>0.2</td>\n",
       "      <td>0.2</td>\n",
       "      <td>0.2</td>\n",
       "      <td>1.0</td>\n",
       "      <td>0.2</td>\n",
       "      <td>1.0</td>\n",
       "      <td>1.0</td>\n",
       "      <td>0.8</td>\n",
       "      <td>0.6</td>\n",
       "      <td>0.2</td>\n",
       "      <td>0.2</td>\n",
       "      <td>0.8</td>\n",
       "      <td>0.8</td>\n",
       "      <td>0.8</td>\n",
       "      <td>0.2</td>\n",
       "    </tr>\n",
       "    <tr>\n",
       "      <th>45531</th>\n",
       "      <td>0.6</td>\n",
       "      <td>1.0</td>\n",
       "      <td>1.0</td>\n",
       "      <td>0.6</td>\n",
       "      <td>0.2</td>\n",
       "      <td>0.8</td>\n",
       "      <td>0.6</td>\n",
       "      <td>0.6</td>\n",
       "      <td>0.8</td>\n",
       "      <td>0.8</td>\n",
       "      <td>1.0</td>\n",
       "      <td>1.0</td>\n",
       "      <td>0.8</td>\n",
       "      <td>0.8</td>\n",
       "      <td>0.8</td>\n",
       "      <td>0.8</td>\n",
       "      <td>0.8</td>\n",
       "      <td>0.8</td>\n",
       "      <td>0.8</td>\n",
       "      <td>1.0</td>\n",
       "    </tr>\n",
       "  </tbody>\n",
       "</table>\n",
       "<p>45532 rows × 20 columns</p>\n",
       "</div>"
      ],
      "text/plain": [
       "       QaA  QbA  QcA  QdA  QeA  QfA  QgA  QhA  QiA  QjA  QkA  QlA  QmA  QnA  \\\n",
       "0      0.6  0.8  1.0  0.2  0.4  1.0  0.4  0.8  1.0  0.8  0.8  0.8  0.4  1.0   \n",
       "1      1.0  1.0  0.6  1.0  0.2  0.6  0.2  0.2  1.0  0.6  1.0  0.8  0.2  1.0   \n",
       "2      0.8  0.2  0.2  0.8  1.0  0.2  0.8  0.2  0.6  0.4  1.0  1.0  0.4  0.8   \n",
       "3      0.6  0.6  0.8  0.6  0.2  0.4  0.8  0.6  1.0  0.8  0.6  0.8  0.8  0.8   \n",
       "4      0.2  0.2  1.0  0.4  0.2  0.4  0.2  0.2  1.0  1.0  1.0  1.0  0.8  0.4   \n",
       "...    ...  ...  ...  ...  ...  ...  ...  ...  ...  ...  ...  ...  ...  ...   \n",
       "45527  0.4  1.0  0.8  0.2  0.2  0.2  0.2  0.2  0.2  0.8  0.8  1.0  0.8  0.2   \n",
       "45528  0.4  0.6  0.8  0.2  0.6  0.4  0.4  0.2  0.4  1.0  0.4  1.0  0.6  0.4   \n",
       "45529  0.8  0.2  0.2  0.8  1.0  0.8  1.0  0.2  1.0  0.2  1.0  1.0  0.2  0.8   \n",
       "45530  0.2  0.6  0.8  0.4  0.2  0.2  0.2  0.2  1.0  0.2  1.0  1.0  0.8  0.6   \n",
       "45531  0.6  1.0  1.0  0.6  0.2  0.8  0.6  0.6  0.8  0.8  1.0  1.0  0.8  0.8   \n",
       "\n",
       "       QoA  QpA  QqA  QrA  QsA  QtA  \n",
       "0      0.4  0.4  0.4  0.4  0.4  0.2  \n",
       "1      0.2  1.0  1.0  0.2  0.8  0.2  \n",
       "2      0.4  0.2  1.0  0.8  0.2  0.2  \n",
       "3      0.8  0.8  0.6  0.8  0.8  1.0  \n",
       "4      0.2  0.8  1.0  1.0  0.2  0.4  \n",
       "...    ...  ...  ...  ...  ...  ...  \n",
       "45527  0.4  0.8  0.4  0.2  1.0  0.8  \n",
       "45528  0.8  0.8  0.4  0.6  0.8  0.8  \n",
       "45529  0.2  0.2  1.0  1.0  0.6  0.2  \n",
       "45530  0.2  0.2  0.8  0.8  0.8  0.2  \n",
       "45531  0.8  0.8  0.8  0.8  0.8  1.0  \n",
       "\n",
       "[45532 rows x 20 columns]"
      ]
     },
     "execution_count": 246,
     "metadata": {},
     "output_type": "execute_result"
    }
   ],
   "source": [
    "train_df[qa_list]"
   ]
  },
  {
   "cell_type": "code",
   "execution_count": 247,
   "metadata": {},
   "outputs": [],
   "source": [
    "flipping_columns = [\"QeA\", \"QfA\", \"QkA\", \"QqA\", \"QrA\"]\n",
    "for flip in flipping_columns: \n",
    "    train_df[flip] = 6 - train_df[flip]\n",
    "    test_df[flip] = 6 - test_df[flip]"
   ]
  },
  {
   "cell_type": "code",
   "execution_count": 248,
   "metadata": {},
   "outputs": [],
   "source": [
    "flipping_secret_columns = [\"QaA\", \"QdA\", \"QgA\", \"QiA\", \"QnA\"]\n",
    "for flip in flipping_secret_columns: \n",
    "    train_df[flip] = 6 - train_df[flip]\n",
    "    test_df[flip] = 6 - test_df[flip]"
   ]
  },
  {
   "cell_type": "code",
   "execution_count": 249,
   "metadata": {},
   "outputs": [],
   "source": [
    "Answers = ['QaA', 'QbA', 'QcA', 'QdA', 'QeA',\n",
    "             'QfA', 'QgA', 'QhA', 'QiA', 'QjA', \n",
    "             'QkA', 'QlA', 'QmA', 'QnA', 'QoA', \n",
    "             'QpA', 'QqA', 'QrA', 'QsA', 'QtA']"
   ]
  },
  {
   "cell_type": "code",
   "execution_count": 250,
   "metadata": {},
   "outputs": [
    {
     "data": {
      "text/html": [
       "<div>\n",
       "<style scoped>\n",
       "    .dataframe tbody tr th:only-of-type {\n",
       "        vertical-align: middle;\n",
       "    }\n",
       "\n",
       "    .dataframe tbody tr th {\n",
       "        vertical-align: top;\n",
       "    }\n",
       "\n",
       "    .dataframe thead th {\n",
       "        text-align: right;\n",
       "    }\n",
       "</style>\n",
       "<table border=\"1\" class=\"dataframe\">\n",
       "  <thead>\n",
       "    <tr style=\"text-align: right;\">\n",
       "      <th></th>\n",
       "      <th>index</th>\n",
       "      <th>QaA</th>\n",
       "      <th>QaE</th>\n",
       "      <th>QbA</th>\n",
       "      <th>QbE</th>\n",
       "      <th>QcA</th>\n",
       "      <th>QcE</th>\n",
       "      <th>QdA</th>\n",
       "      <th>QdE</th>\n",
       "      <th>QeA</th>\n",
       "      <th>...</th>\n",
       "      <th>wr_05</th>\n",
       "      <th>wr_06</th>\n",
       "      <th>wr_07</th>\n",
       "      <th>wr_08</th>\n",
       "      <th>wr_09</th>\n",
       "      <th>wr_10</th>\n",
       "      <th>wr_11</th>\n",
       "      <th>wr_12</th>\n",
       "      <th>wr_13</th>\n",
       "      <th>Mach_score</th>\n",
       "    </tr>\n",
       "  </thead>\n",
       "  <tbody>\n",
       "    <tr>\n",
       "      <th>0</th>\n",
       "      <td>0</td>\n",
       "      <td>5.4</td>\n",
       "      <td>0.842058</td>\n",
       "      <td>0.8</td>\n",
       "      <td>1.031795</td>\n",
       "      <td>1.0</td>\n",
       "      <td>0.986393</td>\n",
       "      <td>5.8</td>\n",
       "      <td>0.990210</td>\n",
       "      <td>5.6</td>\n",
       "      <td>...</td>\n",
       "      <td>1</td>\n",
       "      <td>0</td>\n",
       "      <td>1</td>\n",
       "      <td>1</td>\n",
       "      <td>0</td>\n",
       "      <td>1</td>\n",
       "      <td>0</td>\n",
       "      <td>1</td>\n",
       "      <td>1</td>\n",
       "      <td>2.99</td>\n",
       "    </tr>\n",
       "    <tr>\n",
       "      <th>1</th>\n",
       "      <td>1</td>\n",
       "      <td>5.0</td>\n",
       "      <td>0.924621</td>\n",
       "      <td>1.0</td>\n",
       "      <td>1.025724</td>\n",
       "      <td>0.6</td>\n",
       "      <td>1.161100</td>\n",
       "      <td>5.0</td>\n",
       "      <td>1.142283</td>\n",
       "      <td>5.8</td>\n",
       "      <td>...</td>\n",
       "      <td>1</td>\n",
       "      <td>0</td>\n",
       "      <td>1</td>\n",
       "      <td>1</td>\n",
       "      <td>0</td>\n",
       "      <td>1</td>\n",
       "      <td>0</td>\n",
       "      <td>1</td>\n",
       "      <td>1</td>\n",
       "      <td>2.92</td>\n",
       "    </tr>\n",
       "    <tr>\n",
       "      <th>2</th>\n",
       "      <td>2</td>\n",
       "      <td>5.2</td>\n",
       "      <td>1.056005</td>\n",
       "      <td>0.2</td>\n",
       "      <td>1.042828</td>\n",
       "      <td>0.2</td>\n",
       "      <td>0.989791</td>\n",
       "      <td>5.2</td>\n",
       "      <td>1.160551</td>\n",
       "      <td>5.0</td>\n",
       "      <td>...</td>\n",
       "      <td>1</td>\n",
       "      <td>0</td>\n",
       "      <td>1</td>\n",
       "      <td>1</td>\n",
       "      <td>1</td>\n",
       "      <td>1</td>\n",
       "      <td>0</td>\n",
       "      <td>1</td>\n",
       "      <td>1</td>\n",
       "      <td>2.78</td>\n",
       "    </tr>\n",
       "    <tr>\n",
       "      <th>3</th>\n",
       "      <td>3</td>\n",
       "      <td>5.4</td>\n",
       "      <td>0.888939</td>\n",
       "      <td>0.6</td>\n",
       "      <td>1.106491</td>\n",
       "      <td>0.8</td>\n",
       "      <td>0.985675</td>\n",
       "      <td>5.4</td>\n",
       "      <td>1.154982</td>\n",
       "      <td>5.8</td>\n",
       "      <td>...</td>\n",
       "      <td>0</td>\n",
       "      <td>0</td>\n",
       "      <td>0</td>\n",
       "      <td>1</td>\n",
       "      <td>0</td>\n",
       "      <td>1</td>\n",
       "      <td>0</td>\n",
       "      <td>1</td>\n",
       "      <td>1</td>\n",
       "      <td>3.07</td>\n",
       "    </tr>\n",
       "    <tr>\n",
       "      <th>4</th>\n",
       "      <td>4</td>\n",
       "      <td>5.8</td>\n",
       "      <td>0.975993</td>\n",
       "      <td>0.2</td>\n",
       "      <td>0.937290</td>\n",
       "      <td>1.0</td>\n",
       "      <td>0.902967</td>\n",
       "      <td>5.6</td>\n",
       "      <td>0.995416</td>\n",
       "      <td>5.8</td>\n",
       "      <td>...</td>\n",
       "      <td>1</td>\n",
       "      <td>1</td>\n",
       "      <td>1</td>\n",
       "      <td>1</td>\n",
       "      <td>0</td>\n",
       "      <td>1</td>\n",
       "      <td>1</td>\n",
       "      <td>1</td>\n",
       "      <td>1</td>\n",
       "      <td>3.00</td>\n",
       "    </tr>\n",
       "  </tbody>\n",
       "</table>\n",
       "<p>5 rows × 79 columns</p>\n",
       "</div>"
      ],
      "text/plain": [
       "   index  QaA       QaE  QbA       QbE  QcA       QcE  QdA       QdE  QeA  \\\n",
       "0      0  5.4  0.842058  0.8  1.031795  1.0  0.986393  5.8  0.990210  5.6   \n",
       "1      1  5.0  0.924621  1.0  1.025724  0.6  1.161100  5.0  1.142283  5.8   \n",
       "2      2  5.2  1.056005  0.2  1.042828  0.2  0.989791  5.2  1.160551  5.0   \n",
       "3      3  5.4  0.888939  0.6  1.106491  0.8  0.985675  5.4  1.154982  5.8   \n",
       "4      4  5.8  0.975993  0.2  0.937290  1.0  0.902967  5.6  0.995416  5.8   \n",
       "\n",
       "   ...  wr_05  wr_06  wr_07  wr_08  wr_09  wr_10  wr_11  wr_12  wr_13  \\\n",
       "0  ...      1      0      1      1      0      1      0      1      1   \n",
       "1  ...      1      0      1      1      0      1      0      1      1   \n",
       "2  ...      1      0      1      1      1      1      0      1      1   \n",
       "3  ...      0      0      0      1      0      1      0      1      1   \n",
       "4  ...      1      1      1      1      0      1      1      1      1   \n",
       "\n",
       "   Mach_score  \n",
       "0        2.99  \n",
       "1        2.92  \n",
       "2        2.78  \n",
       "3        3.07  \n",
       "4        3.00  \n",
       "\n",
       "[5 rows x 79 columns]"
      ]
     },
     "execution_count": 250,
     "metadata": {},
     "output_type": "execute_result"
    }
   ],
   "source": [
    "train_df['Mach_score'] = train_df[Answers].mean(axis = 1)\n",
    "train_df.head()"
   ]
  },
  {
   "cell_type": "code",
   "execution_count": 251,
   "metadata": {},
   "outputs": [
    {
     "data": {
      "text/html": [
       "<div>\n",
       "<style scoped>\n",
       "    .dataframe tbody tr th:only-of-type {\n",
       "        vertical-align: middle;\n",
       "    }\n",
       "\n",
       "    .dataframe tbody tr th {\n",
       "        vertical-align: top;\n",
       "    }\n",
       "\n",
       "    .dataframe thead th {\n",
       "        text-align: right;\n",
       "    }\n",
       "</style>\n",
       "<table border=\"1\" class=\"dataframe\">\n",
       "  <thead>\n",
       "    <tr style=\"text-align: right;\">\n",
       "      <th></th>\n",
       "      <th>index</th>\n",
       "      <th>QaA</th>\n",
       "      <th>QaE</th>\n",
       "      <th>QbA</th>\n",
       "      <th>QbE</th>\n",
       "      <th>QcA</th>\n",
       "      <th>QcE</th>\n",
       "      <th>QdA</th>\n",
       "      <th>QdE</th>\n",
       "      <th>QeA</th>\n",
       "      <th>...</th>\n",
       "      <th>wr_05</th>\n",
       "      <th>wr_06</th>\n",
       "      <th>wr_07</th>\n",
       "      <th>wr_08</th>\n",
       "      <th>wr_09</th>\n",
       "      <th>wr_10</th>\n",
       "      <th>wr_11</th>\n",
       "      <th>wr_12</th>\n",
       "      <th>wr_13</th>\n",
       "      <th>Mach_score</th>\n",
       "    </tr>\n",
       "  </thead>\n",
       "  <tbody>\n",
       "    <tr>\n",
       "      <th>0</th>\n",
       "      <td>0</td>\n",
       "      <td>5.4</td>\n",
       "      <td>0.943033</td>\n",
       "      <td>0.4</td>\n",
       "      <td>1.140929</td>\n",
       "      <td>0.6</td>\n",
       "      <td>1.205481</td>\n",
       "      <td>5.8</td>\n",
       "      <td>1.212597</td>\n",
       "      <td>5.6</td>\n",
       "      <td>...</td>\n",
       "      <td>1</td>\n",
       "      <td>0</td>\n",
       "      <td>0</td>\n",
       "      <td>1</td>\n",
       "      <td>0</td>\n",
       "      <td>1</td>\n",
       "      <td>0</td>\n",
       "      <td>1</td>\n",
       "      <td>1</td>\n",
       "      <td>2.89</td>\n",
       "    </tr>\n",
       "    <tr>\n",
       "      <th>1</th>\n",
       "      <td>1</td>\n",
       "      <td>5.4</td>\n",
       "      <td>0.891746</td>\n",
       "      <td>0.4</td>\n",
       "      <td>1.082373</td>\n",
       "      <td>0.6</td>\n",
       "      <td>1.049614</td>\n",
       "      <td>5.4</td>\n",
       "      <td>0.958646</td>\n",
       "      <td>5.2</td>\n",
       "      <td>...</td>\n",
       "      <td>0</td>\n",
       "      <td>0</td>\n",
       "      <td>0</td>\n",
       "      <td>0</td>\n",
       "      <td>0</td>\n",
       "      <td>0</td>\n",
       "      <td>0</td>\n",
       "      <td>0</td>\n",
       "      <td>0</td>\n",
       "      <td>2.96</td>\n",
       "    </tr>\n",
       "    <tr>\n",
       "      <th>2</th>\n",
       "      <td>2</td>\n",
       "      <td>5.4</td>\n",
       "      <td>0.887801</td>\n",
       "      <td>0.4</td>\n",
       "      <td>1.118120</td>\n",
       "      <td>0.8</td>\n",
       "      <td>0.881969</td>\n",
       "      <td>5.6</td>\n",
       "      <td>0.917142</td>\n",
       "      <td>5.6</td>\n",
       "      <td>...</td>\n",
       "      <td>1</td>\n",
       "      <td>0</td>\n",
       "      <td>1</td>\n",
       "      <td>1</td>\n",
       "      <td>0</td>\n",
       "      <td>1</td>\n",
       "      <td>0</td>\n",
       "      <td>1</td>\n",
       "      <td>1</td>\n",
       "      <td>3.11</td>\n",
       "    </tr>\n",
       "    <tr>\n",
       "      <th>3</th>\n",
       "      <td>3</td>\n",
       "      <td>5.8</td>\n",
       "      <td>0.929398</td>\n",
       "      <td>0.2</td>\n",
       "      <td>0.993792</td>\n",
       "      <td>1.0</td>\n",
       "      <td>1.038417</td>\n",
       "      <td>5.6</td>\n",
       "      <td>1.102796</td>\n",
       "      <td>5.0</td>\n",
       "      <td>...</td>\n",
       "      <td>1</td>\n",
       "      <td>1</td>\n",
       "      <td>1</td>\n",
       "      <td>1</td>\n",
       "      <td>1</td>\n",
       "      <td>1</td>\n",
       "      <td>1</td>\n",
       "      <td>1</td>\n",
       "      <td>1</td>\n",
       "      <td>3.07</td>\n",
       "    </tr>\n",
       "    <tr>\n",
       "      <th>4</th>\n",
       "      <td>4</td>\n",
       "      <td>5.6</td>\n",
       "      <td>0.887515</td>\n",
       "      <td>0.2</td>\n",
       "      <td>1.017898</td>\n",
       "      <td>1.0</td>\n",
       "      <td>0.962762</td>\n",
       "      <td>5.6</td>\n",
       "      <td>1.059740</td>\n",
       "      <td>5.6</td>\n",
       "      <td>...</td>\n",
       "      <td>1</td>\n",
       "      <td>0</td>\n",
       "      <td>1</td>\n",
       "      <td>1</td>\n",
       "      <td>0</td>\n",
       "      <td>1</td>\n",
       "      <td>1</td>\n",
       "      <td>1</td>\n",
       "      <td>1</td>\n",
       "      <td>2.98</td>\n",
       "    </tr>\n",
       "  </tbody>\n",
       "</table>\n",
       "<p>5 rows × 78 columns</p>\n",
       "</div>"
      ],
      "text/plain": [
       "   index  QaA       QaE  QbA       QbE  QcA       QcE  QdA       QdE  QeA  \\\n",
       "0      0  5.4  0.943033  0.4  1.140929  0.6  1.205481  5.8  1.212597  5.6   \n",
       "1      1  5.4  0.891746  0.4  1.082373  0.6  1.049614  5.4  0.958646  5.2   \n",
       "2      2  5.4  0.887801  0.4  1.118120  0.8  0.881969  5.6  0.917142  5.6   \n",
       "3      3  5.8  0.929398  0.2  0.993792  1.0  1.038417  5.6  1.102796  5.0   \n",
       "4      4  5.6  0.887515  0.2  1.017898  1.0  0.962762  5.6  1.059740  5.6   \n",
       "\n",
       "   ...  wr_05  wr_06  wr_07  wr_08  wr_09  wr_10  wr_11  wr_12  wr_13  \\\n",
       "0  ...      1      0      0      1      0      1      0      1      1   \n",
       "1  ...      0      0      0      0      0      0      0      0      0   \n",
       "2  ...      1      0      1      1      0      1      0      1      1   \n",
       "3  ...      1      1      1      1      1      1      1      1      1   \n",
       "4  ...      1      0      1      1      0      1      1      1      1   \n",
       "\n",
       "   Mach_score  \n",
       "0        2.89  \n",
       "1        2.96  \n",
       "2        3.11  \n",
       "3        3.07  \n",
       "4        2.98  \n",
       "\n",
       "[5 rows x 78 columns]"
      ]
     },
     "execution_count": 251,
     "metadata": {},
     "output_type": "execute_result"
    }
   ],
   "source": [
    "test_df['Mach_score'] = test_df[Answers].mean(axis = 1)\n",
    "test_df.head()"
   ]
  },
  {
   "cell_type": "code",
   "execution_count": 252,
   "metadata": {},
   "outputs": [
    {
     "data": {
      "text/html": [
       "<div>\n",
       "<style scoped>\n",
       "    .dataframe tbody tr th:only-of-type {\n",
       "        vertical-align: middle;\n",
       "    }\n",
       "\n",
       "    .dataframe tbody tr th {\n",
       "        vertical-align: top;\n",
       "    }\n",
       "\n",
       "    .dataframe thead th {\n",
       "        text-align: right;\n",
       "    }\n",
       "</style>\n",
       "<table border=\"1\" class=\"dataframe\">\n",
       "  <thead>\n",
       "    <tr style=\"text-align: right;\">\n",
       "      <th></th>\n",
       "      <th>Mach_score</th>\n",
       "    </tr>\n",
       "  </thead>\n",
       "  <tbody>\n",
       "    <tr>\n",
       "      <th>count</th>\n",
       "      <td>45532.000000</td>\n",
       "    </tr>\n",
       "    <tr>\n",
       "      <th>mean</th>\n",
       "      <td>3.070495</td>\n",
       "    </tr>\n",
       "    <tr>\n",
       "      <th>std</th>\n",
       "      <td>0.158932</td>\n",
       "    </tr>\n",
       "    <tr>\n",
       "      <th>min</th>\n",
       "      <td>2.600000</td>\n",
       "    </tr>\n",
       "    <tr>\n",
       "      <th>25%</th>\n",
       "      <td>2.950000</td>\n",
       "    </tr>\n",
       "    <tr>\n",
       "      <th>50%</th>\n",
       "      <td>3.070000</td>\n",
       "    </tr>\n",
       "    <tr>\n",
       "      <th>75%</th>\n",
       "      <td>3.190000</td>\n",
       "    </tr>\n",
       "    <tr>\n",
       "      <th>max</th>\n",
       "      <td>3.400000</td>\n",
       "    </tr>\n",
       "  </tbody>\n",
       "</table>\n",
       "</div>"
      ],
      "text/plain": [
       "         Mach_score\n",
       "count  45532.000000\n",
       "mean       3.070495\n",
       "std        0.158932\n",
       "min        2.600000\n",
       "25%        2.950000\n",
       "50%        3.070000\n",
       "75%        3.190000\n",
       "max        3.400000"
      ]
     },
     "execution_count": 252,
     "metadata": {},
     "output_type": "execute_result"
    }
   ],
   "source": [
    "train_df[['Mach_score']].describe()"
   ]
  },
  {
   "cell_type": "markdown",
   "metadata": {},
   "source": [
    "# age_group"
   ]
  },
  {
   "cell_type": "code",
   "execution_count": 253,
   "metadata": {},
   "outputs": [
    {
     "data": {
      "text/plain": [
       "['+70s', '10s', '40s', '30s', '60s', '50s', '20s']"
      ]
     },
     "execution_count": 253,
     "metadata": {},
     "output_type": "execute_result"
    }
   ],
   "source": [
    "list(set(train_df['age_group'].to_list()))"
   ]
  },
  {
   "cell_type": "code",
   "execution_count": 254,
   "metadata": {},
   "outputs": [],
   "source": [
    "train_df['age'] = train_df['age_group'].map({'10s':1, '20s':2, '30s':3, '40s':4, '50s': 5, '60s':6, '+70s':7})\n",
    "test_df['age'] = test_df['age_group'].map({'10s':1, '20s':2, '30s':3, '40s':4, '50s': 5, '60s':6, '+70s':7})"
   ]
  },
  {
   "cell_type": "code",
   "execution_count": 255,
   "metadata": {},
   "outputs": [
    {
     "data": {
      "text/plain": [
       "+70s     173\n",
       "10s     2314\n",
       "20s     7484\n",
       "30s     4614\n",
       "40s     3243\n",
       "50s     1936\n",
       "60s      870\n",
       "Name: age_group, dtype: int64"
      ]
     },
     "execution_count": 255,
     "metadata": {},
     "output_type": "execute_result"
    }
   ],
   "source": [
    "train_df[train_df['voted'] == 1]['age_group'].value_counts().sort_index()"
   ]
  },
  {
   "cell_type": "code",
   "execution_count": 256,
   "metadata": {},
   "outputs": [
    {
     "data": {
      "text/plain": [
       "10s     0.162786\n",
       "20s     0.530329\n",
       "30s     0.588821\n",
       "40s     0.642051\n",
       "50s     0.670128\n",
       "60s     0.728643\n",
       "+70s    0.736170\n",
       "Name: age_group, dtype: float64"
      ]
     },
     "execution_count": 256,
     "metadata": {},
     "output_type": "execute_result"
    }
   ],
   "source": [
    "(train_df[train_df['voted'] == 1]['age_group'].value_counts() / train_df['age_group'].value_counts()).sort_values()"
   ]
  },
  {
   "cell_type": "code",
   "execution_count": 257,
   "metadata": {},
   "outputs": [
    {
     "data": {
      "image/png": "[encoded data removed]",
      "text/plain": [
       "<Figure size 432x288 with 1 Axes>"
      ]
     },
     "metadata": {},
     "output_type": "display_data"
    }
   ],
   "source": [
    "train_df[train_df['voted'] == 2]['age_group'].value_counts().plot.pie(y='voted', startangle=90)\n",
    "plt.show()"
   ]
  },
  {
   "cell_type": "code",
   "execution_count": 258,
   "metadata": {},
   "outputs": [
    {
     "data": {
      "text/plain": [
       "10s     0.837214\n",
       "20s     0.469671\n",
       "30s     0.411179\n",
       "40s     0.357949\n",
       "50s     0.329872\n",
       "60s     0.271357\n",
       "+70s    0.263830\n",
       "Name: age_group, dtype: float64"
      ]
     },
     "execution_count": 258,
     "metadata": {},
     "output_type": "execute_result"
    }
   ],
   "source": [
    "(train_df[train_df['voted'] == 2]['age_group'].value_counts() / train_df['age_group'].value_counts())"
   ]
  },
  {
   "cell_type": "code",
   "execution_count": 259,
   "metadata": {},
   "outputs": [
    {
     "data": {
      "image/png": "[encoded data removed]",
      "text/plain": [
       "<Figure size 432x288 with 1 Axes>"
      ]
     },
     "metadata": {
      "needs_background": "light"
     },
     "output_type": "display_data"
    }
   ],
   "source": [
    "train_df['age'].plot.hist(y='voted')\n",
    "plt.show()"
   ]
  },
  {
   "cell_type": "code",
   "execution_count": null,
   "metadata": {},
   "outputs": [],
   "source": []
  },
  {
   "cell_type": "code",
   "execution_count": null,
   "metadata": {},
   "outputs": [],
   "source": []
  },
  {
   "cell_type": "code",
   "execution_count": 260,
   "metadata": {},
   "outputs": [
    {
     "data": {
      "image/png": "[encoded data removed]",
      "text/plain": [
       "<Figure size 432x288 with 1 Axes>"
      ]
     },
     "metadata": {
      "needs_background": "light"
     },
     "output_type": "display_data"
    }
   ],
   "source": [
    "train_df['education'].plot.hist(y='voted')\n",
    "plt.show()"
   ]
  },
  {
   "cell_type": "markdown",
   "metadata": {},
   "source": [
    "# engnat"
   ]
  },
  {
   "cell_type": "code",
   "execution_count": 261,
   "metadata": {},
   "outputs": [
    {
     "data": {
      "text/plain": [
       "2    24898\n",
       "1    20634\n",
       "Name: voted, dtype: int64"
      ]
     },
     "execution_count": 261,
     "metadata": {},
     "output_type": "execute_result"
    }
   ],
   "source": [
    "train_df['voted'].value_counts()"
   ]
  },
  {
   "cell_type": "code",
   "execution_count": 262,
   "metadata": {},
   "outputs": [
    {
     "data": {
      "text/plain": [
       "0       77\n",
       "1    33024\n",
       "2    12431\n",
       "Name: engnat, dtype: int64"
      ]
     },
     "execution_count": 262,
     "metadata": {},
     "output_type": "execute_result"
    }
   ],
   "source": [
    "train_df['engnat'].value_counts().sort_index()"
   ]
  },
  {
   "cell_type": "code",
   "execution_count": 263,
   "metadata": {},
   "outputs": [
    {
     "data": {
      "text/plain": [
       "0    0.376623\n",
       "1    0.462603\n",
       "2    0.428606\n",
       "Name: engnat, dtype: float64"
      ]
     },
     "execution_count": 263,
     "metadata": {},
     "output_type": "execute_result"
    }
   ],
   "source": [
    "(train_df[train_df['voted'] == 1]['engnat'].value_counts() / train_df['engnat'].value_counts()).sort_index()"
   ]
  },
  {
   "cell_type": "code",
   "execution_count": 264,
   "metadata": {},
   "outputs": [
    {
     "data": {
      "text/plain": [
       "0    0.623377\n",
       "1    0.537397\n",
       "2    0.571394\n",
       "Name: engnat, dtype: float64"
      ]
     },
     "execution_count": 264,
     "metadata": {},
     "output_type": "execute_result"
    }
   ],
   "source": [
    "(train_df[train_df['voted'] == 2]['engnat'].value_counts() / train_df['engnat'].value_counts()).sort_index()"
   ]
  },
  {
   "cell_type": "code",
   "execution_count": 265,
   "metadata": {},
   "outputs": [],
   "source": [
    "train_df.loc[train_df['engnat'] == 2 ,'engnat'] = 0\n",
    "test_df.loc[test_df['engnat'] == 2 ,'engnat'] = 0"
   ]
  },
  {
   "cell_type": "code",
   "execution_count": 266,
   "metadata": {},
   "outputs": [],
   "source": [
    "train_df = pd.concat([train_df, pd.get_dummies(train_df['engnat'], prefix='engnat')], axis=1, sort=False)\n",
    "test_df = pd.concat([test_df, pd.get_dummies(test_df['engnat'], prefix='engnat')], axis=1, sort=False)"
   ]
  },
  {
   "cell_type": "code",
   "execution_count": 267,
   "metadata": {},
   "outputs": [
    {
     "data": {
      "text/html": [
       "<div>\n",
       "<style scoped>\n",
       "    .dataframe tbody tr th:only-of-type {\n",
       "        vertical-align: middle;\n",
       "    }\n",
       "\n",
       "    .dataframe tbody tr th {\n",
       "        vertical-align: top;\n",
       "    }\n",
       "\n",
       "    .dataframe thead th {\n",
       "        text-align: right;\n",
       "    }\n",
       "</style>\n",
       "<table border=\"1\" class=\"dataframe\">\n",
       "  <thead>\n",
       "    <tr style=\"text-align: right;\">\n",
       "      <th></th>\n",
       "      <th>index</th>\n",
       "      <th>QaA</th>\n",
       "      <th>QaE</th>\n",
       "      <th>QbA</th>\n",
       "      <th>QbE</th>\n",
       "      <th>QcA</th>\n",
       "      <th>QcE</th>\n",
       "      <th>QdA</th>\n",
       "      <th>QdE</th>\n",
       "      <th>QeA</th>\n",
       "      <th>...</th>\n",
       "      <th>wr_08</th>\n",
       "      <th>wr_09</th>\n",
       "      <th>wr_10</th>\n",
       "      <th>wr_11</th>\n",
       "      <th>wr_12</th>\n",
       "      <th>wr_13</th>\n",
       "      <th>Mach_score</th>\n",
       "      <th>age</th>\n",
       "      <th>engnat_0</th>\n",
       "      <th>engnat_1</th>\n",
       "    </tr>\n",
       "  </thead>\n",
       "  <tbody>\n",
       "    <tr>\n",
       "      <th>0</th>\n",
       "      <td>0</td>\n",
       "      <td>5.4</td>\n",
       "      <td>0.842058</td>\n",
       "      <td>0.8</td>\n",
       "      <td>1.031795</td>\n",
       "      <td>1.0</td>\n",
       "      <td>0.986393</td>\n",
       "      <td>5.8</td>\n",
       "      <td>0.990210</td>\n",
       "      <td>5.6</td>\n",
       "      <td>...</td>\n",
       "      <td>1</td>\n",
       "      <td>0</td>\n",
       "      <td>1</td>\n",
       "      <td>0</td>\n",
       "      <td>1</td>\n",
       "      <td>1</td>\n",
       "      <td>2.99</td>\n",
       "      <td>3</td>\n",
       "      <td>0</td>\n",
       "      <td>1</td>\n",
       "    </tr>\n",
       "    <tr>\n",
       "      <th>1</th>\n",
       "      <td>1</td>\n",
       "      <td>5.0</td>\n",
       "      <td>0.924621</td>\n",
       "      <td>1.0</td>\n",
       "      <td>1.025724</td>\n",
       "      <td>0.6</td>\n",
       "      <td>1.161100</td>\n",
       "      <td>5.0</td>\n",
       "      <td>1.142283</td>\n",
       "      <td>5.8</td>\n",
       "      <td>...</td>\n",
       "      <td>1</td>\n",
       "      <td>0</td>\n",
       "      <td>1</td>\n",
       "      <td>0</td>\n",
       "      <td>1</td>\n",
       "      <td>1</td>\n",
       "      <td>2.92</td>\n",
       "      <td>2</td>\n",
       "      <td>1</td>\n",
       "      <td>0</td>\n",
       "    </tr>\n",
       "    <tr>\n",
       "      <th>2</th>\n",
       "      <td>2</td>\n",
       "      <td>5.2</td>\n",
       "      <td>1.056005</td>\n",
       "      <td>0.2</td>\n",
       "      <td>1.042828</td>\n",
       "      <td>0.2</td>\n",
       "      <td>0.989791</td>\n",
       "      <td>5.2</td>\n",
       "      <td>1.160551</td>\n",
       "      <td>5.0</td>\n",
       "      <td>...</td>\n",
       "      <td>1</td>\n",
       "      <td>1</td>\n",
       "      <td>1</td>\n",
       "      <td>0</td>\n",
       "      <td>1</td>\n",
       "      <td>1</td>\n",
       "      <td>2.78</td>\n",
       "      <td>3</td>\n",
       "      <td>0</td>\n",
       "      <td>1</td>\n",
       "    </tr>\n",
       "    <tr>\n",
       "      <th>3</th>\n",
       "      <td>3</td>\n",
       "      <td>5.4</td>\n",
       "      <td>0.888939</td>\n",
       "      <td>0.6</td>\n",
       "      <td>1.106491</td>\n",
       "      <td>0.8</td>\n",
       "      <td>0.985675</td>\n",
       "      <td>5.4</td>\n",
       "      <td>1.154982</td>\n",
       "      <td>5.8</td>\n",
       "      <td>...</td>\n",
       "      <td>1</td>\n",
       "      <td>0</td>\n",
       "      <td>1</td>\n",
       "      <td>0</td>\n",
       "      <td>1</td>\n",
       "      <td>1</td>\n",
       "      <td>3.07</td>\n",
       "      <td>2</td>\n",
       "      <td>1</td>\n",
       "      <td>0</td>\n",
       "    </tr>\n",
       "    <tr>\n",
       "      <th>4</th>\n",
       "      <td>4</td>\n",
       "      <td>5.8</td>\n",
       "      <td>0.975993</td>\n",
       "      <td>0.2</td>\n",
       "      <td>0.937290</td>\n",
       "      <td>1.0</td>\n",
       "      <td>0.902967</td>\n",
       "      <td>5.6</td>\n",
       "      <td>0.995416</td>\n",
       "      <td>5.8</td>\n",
       "      <td>...</td>\n",
       "      <td>1</td>\n",
       "      <td>0</td>\n",
       "      <td>1</td>\n",
       "      <td>1</td>\n",
       "      <td>1</td>\n",
       "      <td>1</td>\n",
       "      <td>3.00</td>\n",
       "      <td>2</td>\n",
       "      <td>0</td>\n",
       "      <td>1</td>\n",
       "    </tr>\n",
       "    <tr>\n",
       "      <th>...</th>\n",
       "      <td>...</td>\n",
       "      <td>...</td>\n",
       "      <td>...</td>\n",
       "      <td>...</td>\n",
       "      <td>...</td>\n",
       "      <td>...</td>\n",
       "      <td>...</td>\n",
       "      <td>...</td>\n",
       "      <td>...</td>\n",
       "      <td>...</td>\n",
       "      <td>...</td>\n",
       "      <td>...</td>\n",
       "      <td>...</td>\n",
       "      <td>...</td>\n",
       "      <td>...</td>\n",
       "      <td>...</td>\n",
       "      <td>...</td>\n",
       "      <td>...</td>\n",
       "      <td>...</td>\n",
       "      <td>...</td>\n",
       "      <td>...</td>\n",
       "    </tr>\n",
       "    <tr>\n",
       "      <th>45527</th>\n",
       "      <td>45527</td>\n",
       "      <td>5.6</td>\n",
       "      <td>0.993792</td>\n",
       "      <td>1.0</td>\n",
       "      <td>0.918301</td>\n",
       "      <td>0.8</td>\n",
       "      <td>0.827573</td>\n",
       "      <td>5.8</td>\n",
       "      <td>0.807498</td>\n",
       "      <td>5.8</td>\n",
       "      <td>...</td>\n",
       "      <td>1</td>\n",
       "      <td>1</td>\n",
       "      <td>1</td>\n",
       "      <td>0</td>\n",
       "      <td>1</td>\n",
       "      <td>1</td>\n",
       "      <td>3.23</td>\n",
       "      <td>1</td>\n",
       "      <td>0</td>\n",
       "      <td>1</td>\n",
       "    </tr>\n",
       "    <tr>\n",
       "      <th>45528</th>\n",
       "      <td>45528</td>\n",
       "      <td>5.6</td>\n",
       "      <td>0.909250</td>\n",
       "      <td>0.6</td>\n",
       "      <td>1.030011</td>\n",
       "      <td>0.8</td>\n",
       "      <td>1.008517</td>\n",
       "      <td>5.8</td>\n",
       "      <td>0.954587</td>\n",
       "      <td>5.4</td>\n",
       "      <td>...</td>\n",
       "      <td>1</td>\n",
       "      <td>1</td>\n",
       "      <td>1</td>\n",
       "      <td>0</td>\n",
       "      <td>1</td>\n",
       "      <td>1</td>\n",
       "      <td>3.16</td>\n",
       "      <td>3</td>\n",
       "      <td>0</td>\n",
       "      <td>1</td>\n",
       "    </tr>\n",
       "    <tr>\n",
       "      <th>45529</th>\n",
       "      <td>45529</td>\n",
       "      <td>5.2</td>\n",
       "      <td>0.912171</td>\n",
       "      <td>0.2</td>\n",
       "      <td>0.964777</td>\n",
       "      <td>0.2</td>\n",
       "      <td>0.993383</td>\n",
       "      <td>5.2</td>\n",
       "      <td>1.046167</td>\n",
       "      <td>5.0</td>\n",
       "      <td>...</td>\n",
       "      <td>1</td>\n",
       "      <td>0</td>\n",
       "      <td>1</td>\n",
       "      <td>0</td>\n",
       "      <td>1</td>\n",
       "      <td>1</td>\n",
       "      <td>2.70</td>\n",
       "      <td>1</td>\n",
       "      <td>0</td>\n",
       "      <td>1</td>\n",
       "    </tr>\n",
       "    <tr>\n",
       "      <th>45530</th>\n",
       "      <td>45530</td>\n",
       "      <td>5.8</td>\n",
       "      <td>0.945152</td>\n",
       "      <td>0.6</td>\n",
       "      <td>1.027669</td>\n",
       "      <td>0.8</td>\n",
       "      <td>0.970495</td>\n",
       "      <td>5.6</td>\n",
       "      <td>1.022199</td>\n",
       "      <td>5.8</td>\n",
       "      <td>...</td>\n",
       "      <td>1</td>\n",
       "      <td>1</td>\n",
       "      <td>1</td>\n",
       "      <td>0</td>\n",
       "      <td>1</td>\n",
       "      <td>1</td>\n",
       "      <td>2.98</td>\n",
       "      <td>4</td>\n",
       "      <td>0</td>\n",
       "      <td>1</td>\n",
       "    </tr>\n",
       "    <tr>\n",
       "      <th>45531</th>\n",
       "      <td>45531</td>\n",
       "      <td>5.4</td>\n",
       "      <td>0.886654</td>\n",
       "      <td>1.0</td>\n",
       "      <td>1.072919</td>\n",
       "      <td>1.0</td>\n",
       "      <td>0.946485</td>\n",
       "      <td>5.4</td>\n",
       "      <td>1.002629</td>\n",
       "      <td>5.8</td>\n",
       "      <td>...</td>\n",
       "      <td>1</td>\n",
       "      <td>0</td>\n",
       "      <td>1</td>\n",
       "      <td>0</td>\n",
       "      <td>1</td>\n",
       "      <td>1</td>\n",
       "      <td>3.08</td>\n",
       "      <td>2</td>\n",
       "      <td>0</td>\n",
       "      <td>1</td>\n",
       "    </tr>\n",
       "  </tbody>\n",
       "</table>\n",
       "<p>45532 rows × 82 columns</p>\n",
       "</div>"
      ],
      "text/plain": [
       "       index  QaA       QaE  QbA       QbE  QcA       QcE  QdA       QdE  QeA  \\\n",
       "0          0  5.4  0.842058  0.8  1.031795  1.0  0.986393  5.8  0.990210  5.6   \n",
       "1          1  5.0  0.924621  1.0  1.025724  0.6  1.161100  5.0  1.142283  5.8   \n",
       "2          2  5.2  1.056005  0.2  1.042828  0.2  0.989791  5.2  1.160551  5.0   \n",
       "3          3  5.4  0.888939  0.6  1.106491  0.8  0.985675  5.4  1.154982  5.8   \n",
       "4          4  5.8  0.975993  0.2  0.937290  1.0  0.902967  5.6  0.995416  5.8   \n",
       "...      ...  ...       ...  ...       ...  ...       ...  ...       ...  ...   \n",
       "45527  45527  5.6  0.993792  1.0  0.918301  0.8  0.827573  5.8  0.807498  5.8   \n",
       "45528  45528  5.6  0.909250  0.6  1.030011  0.8  1.008517  5.8  0.954587  5.4   \n",
       "45529  45529  5.2  0.912171  0.2  0.964777  0.2  0.993383  5.2  1.046167  5.0   \n",
       "45530  45530  5.8  0.945152  0.6  1.027669  0.8  0.970495  5.6  1.022199  5.8   \n",
       "45531  45531  5.4  0.886654  1.0  1.072919  1.0  0.946485  5.4  1.002629  5.8   \n",
       "\n",
       "       ...  wr_08  wr_09  wr_10  wr_11  wr_12  wr_13  Mach_score  age  \\\n",
       "0      ...      1      0      1      0      1      1        2.99    3   \n",
       "1      ...      1      0      1      0      1      1        2.92    2   \n",
       "2      ...      1      1      1      0      1      1        2.78    3   \n",
       "3      ...      1      0      1      0      1      1        3.07    2   \n",
       "4      ...      1      0      1      1      1      1        3.00    2   \n",
       "...    ...    ...    ...    ...    ...    ...    ...         ...  ...   \n",
       "45527  ...      1      1      1      0      1      1        3.23    1   \n",
       "45528  ...      1      1      1      0      1      1        3.16    3   \n",
       "45529  ...      1      0      1      0      1      1        2.70    1   \n",
       "45530  ...      1      1      1      0      1      1        2.98    4   \n",
       "45531  ...      1      0      1      0      1      1        3.08    2   \n",
       "\n",
       "       engnat_0  engnat_1  \n",
       "0             0         1  \n",
       "1             1         0  \n",
       "2             0         1  \n",
       "3             1         0  \n",
       "4             0         1  \n",
       "...         ...       ...  \n",
       "45527         0         1  \n",
       "45528         0         1  \n",
       "45529         0         1  \n",
       "45530         0         1  \n",
       "45531         0         1  \n",
       "\n",
       "[45532 rows x 82 columns]"
      ]
     },
     "execution_count": 267,
     "metadata": {},
     "output_type": "execute_result"
    }
   ],
   "source": [
    "train_df"
   ]
  },
  {
   "cell_type": "markdown",
   "metadata": {},
   "source": [
    "# gender"
   ]
  },
  {
   "cell_type": "code",
   "execution_count": 268,
   "metadata": {},
   "outputs": [],
   "source": [
    "# train_df['gender'] = train_df['gender'].map({'Male':0, 'Female':1})"
   ]
  },
  {
   "cell_type": "code",
   "execution_count": 269,
   "metadata": {},
   "outputs": [
    {
     "data": {
      "text/plain": [
       "Male      24217\n",
       "Female    21315\n",
       "Name: gender, dtype: int64"
      ]
     },
     "execution_count": 269,
     "metadata": {},
     "output_type": "execute_result"
    }
   ],
   "source": [
    "train_df['gender'].value_counts()"
   ]
  },
  {
   "cell_type": "code",
   "execution_count": 270,
   "metadata": {},
   "outputs": [
    {
     "data": {
      "text/plain": [
       "Female    0.460427\n",
       "Male      0.446794\n",
       "Name: gender, dtype: float64"
      ]
     },
     "execution_count": 270,
     "metadata": {},
     "output_type": "execute_result"
    }
   ],
   "source": [
    "(train_df[train_df['voted'] == 1]['gender'].value_counts() / train_df['gender'].value_counts()).sort_index()"
   ]
  },
  {
   "cell_type": "code",
   "execution_count": 271,
   "metadata": {},
   "outputs": [
    {
     "data": {
      "text/plain": [
       "Female    0.539573\n",
       "Male      0.553206\n",
       "Name: gender, dtype: float64"
      ]
     },
     "execution_count": 271,
     "metadata": {},
     "output_type": "execute_result"
    }
   ],
   "source": [
    "(train_df[train_df['voted'] == 2]['gender'].value_counts() / train_df['gender'].value_counts()).sort_index()"
   ]
  },
  {
   "cell_type": "code",
   "execution_count": 272,
   "metadata": {},
   "outputs": [],
   "source": [
    "train_df = pd.concat([train_df, pd.get_dummies(train_df['gender'], prefix='gender')], axis=1, sort=False)\n",
    "test_df = pd.concat([test_df, pd.get_dummies(test_df['gender'], prefix='gender')], axis=1, sort=False)"
   ]
  },
  {
   "cell_type": "code",
   "execution_count": 273,
   "metadata": {},
   "outputs": [
    {
     "data": {
      "text/html": [
       "<div>\n",
       "<style scoped>\n",
       "    .dataframe tbody tr th:only-of-type {\n",
       "        vertical-align: middle;\n",
       "    }\n",
       "\n",
       "    .dataframe tbody tr th {\n",
       "        vertical-align: top;\n",
       "    }\n",
       "\n",
       "    .dataframe thead th {\n",
       "        text-align: right;\n",
       "    }\n",
       "</style>\n",
       "<table border=\"1\" class=\"dataframe\">\n",
       "  <thead>\n",
       "    <tr style=\"text-align: right;\">\n",
       "      <th></th>\n",
       "      <th>index</th>\n",
       "      <th>QaA</th>\n",
       "      <th>QaE</th>\n",
       "      <th>QbA</th>\n",
       "      <th>QbE</th>\n",
       "      <th>QcA</th>\n",
       "      <th>QcE</th>\n",
       "      <th>QdA</th>\n",
       "      <th>QdE</th>\n",
       "      <th>QeA</th>\n",
       "      <th>...</th>\n",
       "      <th>wr_10</th>\n",
       "      <th>wr_11</th>\n",
       "      <th>wr_12</th>\n",
       "      <th>wr_13</th>\n",
       "      <th>Mach_score</th>\n",
       "      <th>age</th>\n",
       "      <th>engnat_0</th>\n",
       "      <th>engnat_1</th>\n",
       "      <th>gender_Female</th>\n",
       "      <th>gender_Male</th>\n",
       "    </tr>\n",
       "  </thead>\n",
       "  <tbody>\n",
       "    <tr>\n",
       "      <th>0</th>\n",
       "      <td>0</td>\n",
       "      <td>5.4</td>\n",
       "      <td>0.842058</td>\n",
       "      <td>0.8</td>\n",
       "      <td>1.031795</td>\n",
       "      <td>1.0</td>\n",
       "      <td>0.986393</td>\n",
       "      <td>5.8</td>\n",
       "      <td>0.990210</td>\n",
       "      <td>5.6</td>\n",
       "      <td>...</td>\n",
       "      <td>1</td>\n",
       "      <td>0</td>\n",
       "      <td>1</td>\n",
       "      <td>1</td>\n",
       "      <td>2.99</td>\n",
       "      <td>3</td>\n",
       "      <td>0</td>\n",
       "      <td>1</td>\n",
       "      <td>1</td>\n",
       "      <td>0</td>\n",
       "    </tr>\n",
       "    <tr>\n",
       "      <th>1</th>\n",
       "      <td>1</td>\n",
       "      <td>5.0</td>\n",
       "      <td>0.924621</td>\n",
       "      <td>1.0</td>\n",
       "      <td>1.025724</td>\n",
       "      <td>0.6</td>\n",
       "      <td>1.161100</td>\n",
       "      <td>5.0</td>\n",
       "      <td>1.142283</td>\n",
       "      <td>5.8</td>\n",
       "      <td>...</td>\n",
       "      <td>1</td>\n",
       "      <td>0</td>\n",
       "      <td>1</td>\n",
       "      <td>1</td>\n",
       "      <td>2.92</td>\n",
       "      <td>2</td>\n",
       "      <td>1</td>\n",
       "      <td>0</td>\n",
       "      <td>1</td>\n",
       "      <td>0</td>\n",
       "    </tr>\n",
       "    <tr>\n",
       "      <th>2</th>\n",
       "      <td>2</td>\n",
       "      <td>5.2</td>\n",
       "      <td>1.056005</td>\n",
       "      <td>0.2</td>\n",
       "      <td>1.042828</td>\n",
       "      <td>0.2</td>\n",
       "      <td>0.989791</td>\n",
       "      <td>5.2</td>\n",
       "      <td>1.160551</td>\n",
       "      <td>5.0</td>\n",
       "      <td>...</td>\n",
       "      <td>1</td>\n",
       "      <td>0</td>\n",
       "      <td>1</td>\n",
       "      <td>1</td>\n",
       "      <td>2.78</td>\n",
       "      <td>3</td>\n",
       "      <td>0</td>\n",
       "      <td>1</td>\n",
       "      <td>0</td>\n",
       "      <td>1</td>\n",
       "    </tr>\n",
       "    <tr>\n",
       "      <th>3</th>\n",
       "      <td>3</td>\n",
       "      <td>5.4</td>\n",
       "      <td>0.888939</td>\n",
       "      <td>0.6</td>\n",
       "      <td>1.106491</td>\n",
       "      <td>0.8</td>\n",
       "      <td>0.985675</td>\n",
       "      <td>5.4</td>\n",
       "      <td>1.154982</td>\n",
       "      <td>5.8</td>\n",
       "      <td>...</td>\n",
       "      <td>1</td>\n",
       "      <td>0</td>\n",
       "      <td>1</td>\n",
       "      <td>1</td>\n",
       "      <td>3.07</td>\n",
       "      <td>2</td>\n",
       "      <td>1</td>\n",
       "      <td>0</td>\n",
       "      <td>1</td>\n",
       "      <td>0</td>\n",
       "    </tr>\n",
       "    <tr>\n",
       "      <th>4</th>\n",
       "      <td>4</td>\n",
       "      <td>5.8</td>\n",
       "      <td>0.975993</td>\n",
       "      <td>0.2</td>\n",
       "      <td>0.937290</td>\n",
       "      <td>1.0</td>\n",
       "      <td>0.902967</td>\n",
       "      <td>5.6</td>\n",
       "      <td>0.995416</td>\n",
       "      <td>5.8</td>\n",
       "      <td>...</td>\n",
       "      <td>1</td>\n",
       "      <td>1</td>\n",
       "      <td>1</td>\n",
       "      <td>1</td>\n",
       "      <td>3.00</td>\n",
       "      <td>2</td>\n",
       "      <td>0</td>\n",
       "      <td>1</td>\n",
       "      <td>0</td>\n",
       "      <td>1</td>\n",
       "    </tr>\n",
       "    <tr>\n",
       "      <th>...</th>\n",
       "      <td>...</td>\n",
       "      <td>...</td>\n",
       "      <td>...</td>\n",
       "      <td>...</td>\n",
       "      <td>...</td>\n",
       "      <td>...</td>\n",
       "      <td>...</td>\n",
       "      <td>...</td>\n",
       "      <td>...</td>\n",
       "      <td>...</td>\n",
       "      <td>...</td>\n",
       "      <td>...</td>\n",
       "      <td>...</td>\n",
       "      <td>...</td>\n",
       "      <td>...</td>\n",
       "      <td>...</td>\n",
       "      <td>...</td>\n",
       "      <td>...</td>\n",
       "      <td>...</td>\n",
       "      <td>...</td>\n",
       "      <td>...</td>\n",
       "    </tr>\n",
       "    <tr>\n",
       "      <th>45527</th>\n",
       "      <td>45527</td>\n",
       "      <td>5.6</td>\n",
       "      <td>0.993792</td>\n",
       "      <td>1.0</td>\n",
       "      <td>0.918301</td>\n",
       "      <td>0.8</td>\n",
       "      <td>0.827573</td>\n",
       "      <td>5.8</td>\n",
       "      <td>0.807498</td>\n",
       "      <td>5.8</td>\n",
       "      <td>...</td>\n",
       "      <td>1</td>\n",
       "      <td>0</td>\n",
       "      <td>1</td>\n",
       "      <td>1</td>\n",
       "      <td>3.23</td>\n",
       "      <td>1</td>\n",
       "      <td>0</td>\n",
       "      <td>1</td>\n",
       "      <td>1</td>\n",
       "      <td>0</td>\n",
       "    </tr>\n",
       "    <tr>\n",
       "      <th>45528</th>\n",
       "      <td>45528</td>\n",
       "      <td>5.6</td>\n",
       "      <td>0.909250</td>\n",
       "      <td>0.6</td>\n",
       "      <td>1.030011</td>\n",
       "      <td>0.8</td>\n",
       "      <td>1.008517</td>\n",
       "      <td>5.8</td>\n",
       "      <td>0.954587</td>\n",
       "      <td>5.4</td>\n",
       "      <td>...</td>\n",
       "      <td>1</td>\n",
       "      <td>0</td>\n",
       "      <td>1</td>\n",
       "      <td>1</td>\n",
       "      <td>3.16</td>\n",
       "      <td>3</td>\n",
       "      <td>0</td>\n",
       "      <td>1</td>\n",
       "      <td>0</td>\n",
       "      <td>1</td>\n",
       "    </tr>\n",
       "    <tr>\n",
       "      <th>45529</th>\n",
       "      <td>45529</td>\n",
       "      <td>5.2</td>\n",
       "      <td>0.912171</td>\n",
       "      <td>0.2</td>\n",
       "      <td>0.964777</td>\n",
       "      <td>0.2</td>\n",
       "      <td>0.993383</td>\n",
       "      <td>5.2</td>\n",
       "      <td>1.046167</td>\n",
       "      <td>5.0</td>\n",
       "      <td>...</td>\n",
       "      <td>1</td>\n",
       "      <td>0</td>\n",
       "      <td>1</td>\n",
       "      <td>1</td>\n",
       "      <td>2.70</td>\n",
       "      <td>1</td>\n",
       "      <td>0</td>\n",
       "      <td>1</td>\n",
       "      <td>1</td>\n",
       "      <td>0</td>\n",
       "    </tr>\n",
       "    <tr>\n",
       "      <th>45530</th>\n",
       "      <td>45530</td>\n",
       "      <td>5.8</td>\n",
       "      <td>0.945152</td>\n",
       "      <td>0.6</td>\n",
       "      <td>1.027669</td>\n",
       "      <td>0.8</td>\n",
       "      <td>0.970495</td>\n",
       "      <td>5.6</td>\n",
       "      <td>1.022199</td>\n",
       "      <td>5.8</td>\n",
       "      <td>...</td>\n",
       "      <td>1</td>\n",
       "      <td>0</td>\n",
       "      <td>1</td>\n",
       "      <td>1</td>\n",
       "      <td>2.98</td>\n",
       "      <td>4</td>\n",
       "      <td>0</td>\n",
       "      <td>1</td>\n",
       "      <td>0</td>\n",
       "      <td>1</td>\n",
       "    </tr>\n",
       "    <tr>\n",
       "      <th>45531</th>\n",
       "      <td>45531</td>\n",
       "      <td>5.4</td>\n",
       "      <td>0.886654</td>\n",
       "      <td>1.0</td>\n",
       "      <td>1.072919</td>\n",
       "      <td>1.0</td>\n",
       "      <td>0.946485</td>\n",
       "      <td>5.4</td>\n",
       "      <td>1.002629</td>\n",
       "      <td>5.8</td>\n",
       "      <td>...</td>\n",
       "      <td>1</td>\n",
       "      <td>0</td>\n",
       "      <td>1</td>\n",
       "      <td>1</td>\n",
       "      <td>3.08</td>\n",
       "      <td>2</td>\n",
       "      <td>0</td>\n",
       "      <td>1</td>\n",
       "      <td>0</td>\n",
       "      <td>1</td>\n",
       "    </tr>\n",
       "  </tbody>\n",
       "</table>\n",
       "<p>45532 rows × 84 columns</p>\n",
       "</div>"
      ],
      "text/plain": [
       "       index  QaA       QaE  QbA       QbE  QcA       QcE  QdA       QdE  QeA  \\\n",
       "0          0  5.4  0.842058  0.8  1.031795  1.0  0.986393  5.8  0.990210  5.6   \n",
       "1          1  5.0  0.924621  1.0  1.025724  0.6  1.161100  5.0  1.142283  5.8   \n",
       "2          2  5.2  1.056005  0.2  1.042828  0.2  0.989791  5.2  1.160551  5.0   \n",
       "3          3  5.4  0.888939  0.6  1.106491  0.8  0.985675  5.4  1.154982  5.8   \n",
       "4          4  5.8  0.975993  0.2  0.937290  1.0  0.902967  5.6  0.995416  5.8   \n",
       "...      ...  ...       ...  ...       ...  ...       ...  ...       ...  ...   \n",
       "45527  45527  5.6  0.993792  1.0  0.918301  0.8  0.827573  5.8  0.807498  5.8   \n",
       "45528  45528  5.6  0.909250  0.6  1.030011  0.8  1.008517  5.8  0.954587  5.4   \n",
       "45529  45529  5.2  0.912171  0.2  0.964777  0.2  0.993383  5.2  1.046167  5.0   \n",
       "45530  45530  5.8  0.945152  0.6  1.027669  0.8  0.970495  5.6  1.022199  5.8   \n",
       "45531  45531  5.4  0.886654  1.0  1.072919  1.0  0.946485  5.4  1.002629  5.8   \n",
       "\n",
       "       ...  wr_10  wr_11  wr_12  wr_13  Mach_score  age  engnat_0  engnat_1  \\\n",
       "0      ...      1      0      1      1        2.99    3         0         1   \n",
       "1      ...      1      0      1      1        2.92    2         1         0   \n",
       "2      ...      1      0      1      1        2.78    3         0         1   \n",
       "3      ...      1      0      1      1        3.07    2         1         0   \n",
       "4      ...      1      1      1      1        3.00    2         0         1   \n",
       "...    ...    ...    ...    ...    ...         ...  ...       ...       ...   \n",
       "45527  ...      1      0      1      1        3.23    1         0         1   \n",
       "45528  ...      1      0      1      1        3.16    3         0         1   \n",
       "45529  ...      1      0      1      1        2.70    1         0         1   \n",
       "45530  ...      1      0      1      1        2.98    4         0         1   \n",
       "45531  ...      1      0      1      1        3.08    2         0         1   \n",
       "\n",
       "       gender_Female  gender_Male  \n",
       "0                  1            0  \n",
       "1                  1            0  \n",
       "2                  0            1  \n",
       "3                  1            0  \n",
       "4                  0            1  \n",
       "...              ...          ...  \n",
       "45527              1            0  \n",
       "45528              0            1  \n",
       "45529              1            0  \n",
       "45530              0            1  \n",
       "45531              0            1  \n",
       "\n",
       "[45532 rows x 84 columns]"
      ]
     },
     "execution_count": 273,
     "metadata": {},
     "output_type": "execute_result"
    }
   ],
   "source": [
    "train_df"
   ]
  },
  {
   "cell_type": "markdown",
   "metadata": {},
   "source": [
    "# race"
   ]
  },
  {
   "cell_type": "code",
   "execution_count": 274,
   "metadata": {},
   "outputs": [
    {
     "data": {
      "text/plain": [
       "2    24898\n",
       "1    20634\n",
       "Name: voted, dtype: int64"
      ]
     },
     "execution_count": 274,
     "metadata": {},
     "output_type": "execute_result"
    }
   ],
   "source": [
    "train_df['voted'].value_counts()"
   ]
  },
  {
   "cell_type": "code",
   "execution_count": 275,
   "metadata": {},
   "outputs": [
    {
     "data": {
      "text/plain": [
       "Arab                       351\n",
       "Asian                     6834\n",
       "Black                     2168\n",
       "Indigenous Australian       53\n",
       "Native American            548\n",
       "Other                     4330\n",
       "White                    31248\n",
       "Name: race, dtype: int64"
      ]
     },
     "execution_count": 275,
     "metadata": {},
     "output_type": "execute_result"
    }
   ],
   "source": [
    "train_df['race'].value_counts().sort_index()"
   ]
  },
  {
   "cell_type": "code",
   "execution_count": 276,
   "metadata": {},
   "outputs": [
    {
     "data": {
      "text/plain": [
       "Arab                     0.290598\n",
       "Asian                    0.295435\n",
       "Other                    0.377598\n",
       "Black                    0.402214\n",
       "Native American          0.412409\n",
       "Indigenous Australian    0.452830\n",
       "White                    0.504224\n",
       "Name: race, dtype: float64"
      ]
     },
     "execution_count": 276,
     "metadata": {},
     "output_type": "execute_result"
    }
   ],
   "source": [
    "(train_df[train_df['voted'] == 1]['race'].value_counts() / train_df['race'].value_counts()).sort_values()"
   ]
  },
  {
   "cell_type": "code",
   "execution_count": 277,
   "metadata": {},
   "outputs": [
    {
     "data": {
      "text/plain": [
       "Arab                     0.709402\n",
       "Asian                    0.704565\n",
       "Black                    0.597786\n",
       "Indigenous Australian    0.547170\n",
       "Native American          0.587591\n",
       "Other                    0.622402\n",
       "White                    0.495776\n",
       "Name: race, dtype: float64"
      ]
     },
     "execution_count": 277,
     "metadata": {},
     "output_type": "execute_result"
    }
   ],
   "source": [
    "(train_df[train_df['voted'] == 2]['race'].value_counts() / train_df['race'].value_counts()).sort_index()"
   ]
  },
  {
   "cell_type": "code",
   "execution_count": 278,
   "metadata": {},
   "outputs": [],
   "source": [
    "race_dict = {'Arab':0, 'Asian':0, 'Black':1, 'Indigenous Australian':1, 'Native American':1, 'Other':2, 'White':3}"
   ]
  },
  {
   "cell_type": "code",
   "execution_count": 279,
   "metadata": {},
   "outputs": [],
   "source": [
    "train_df['race'] = train_df['race'].map(race_dict)\n",
    "test_df['race'] = test_df['race'].map(race_dict)"
   ]
  },
  {
   "cell_type": "code",
   "execution_count": 280,
   "metadata": {},
   "outputs": [],
   "source": [
    "train_df = pd.concat([train_df, pd.get_dummies(train_df['race'], prefix='race')], axis=1, sort=False)\n",
    "test_df = pd.concat([test_df, pd.get_dummies(test_df['race'], prefix='race')], axis=1, sort=False)"
   ]
  },
  {
   "cell_type": "code",
   "execution_count": 281,
   "metadata": {},
   "outputs": [
    {
     "data": {
      "text/plain": [
       "3    31248\n",
       "0     7185\n",
       "2     4330\n",
       "1     2769\n",
       "Name: race, dtype: int64"
      ]
     },
     "execution_count": 281,
     "metadata": {},
     "output_type": "execute_result"
    }
   ],
   "source": [
    "train_df['race'].value_counts()"
   ]
  },
  {
   "cell_type": "code",
   "execution_count": null,
   "metadata": {},
   "outputs": [],
   "source": []
  },
  {
   "cell_type": "code",
   "execution_count": null,
   "metadata": {},
   "outputs": [],
   "source": []
  },
  {
   "cell_type": "code",
   "execution_count": null,
   "metadata": {},
   "outputs": [],
   "source": []
  },
  {
   "cell_type": "markdown",
   "metadata": {},
   "source": [
    "# religion"
   ]
  },
  {
   "cell_type": "code",
   "execution_count": 282,
   "metadata": {},
   "outputs": [
    {
     "data": {
      "text/plain": [
       "2    24898\n",
       "1    20634\n",
       "Name: voted, dtype: int64"
      ]
     },
     "execution_count": 282,
     "metadata": {},
     "output_type": "execute_result"
    }
   ],
   "source": [
    "train_df['voted'].value_counts()"
   ]
  },
  {
   "cell_type": "code",
   "execution_count": 283,
   "metadata": {},
   "outputs": [
    {
     "data": {
      "text/plain": [
       "Atheist                 10192\n",
       "Agnostic                 9624\n",
       "Christian_Catholic       6431\n",
       "Christian_Other          5137\n",
       "Christian_Protestant     4875\n",
       "Other                    4770\n",
       "Hindu                    1429\n",
       "Muslim                   1192\n",
       "Buddhist                  850\n",
       "Jewish                    487\n",
       "Christian_Mormon          428\n",
       "Sikh                      117\n",
       "Name: religion, dtype: int64"
      ]
     },
     "execution_count": 283,
     "metadata": {},
     "output_type": "execute_result"
    }
   ],
   "source": [
    "train_df['religion'].value_counts()"
   ]
  },
  {
   "cell_type": "code",
   "execution_count": 284,
   "metadata": {},
   "outputs": [
    {
     "data": {
      "text/plain": [
       "['Hindu',\n",
       " 'Christian_Other',\n",
       " 'Sikh',\n",
       " 'Agnostic',\n",
       " 'Jewish',\n",
       " 'Muslim',\n",
       " 'Atheist',\n",
       " 'Other',\n",
       " 'Buddhist',\n",
       " 'Christian_Catholic',\n",
       " 'Christian_Mormon',\n",
       " 'Christian_Protestant']"
      ]
     },
     "execution_count": 284,
     "metadata": {},
     "output_type": "execute_result"
    }
   ],
   "source": [
    "list(set(train_df['religion']))"
   ]
  },
  {
   "cell_type": "code",
   "execution_count": 285,
   "metadata": {},
   "outputs": [
    {
     "data": {
      "text/plain": [
       "Muslim                  0.312919\n",
       "Sikh                    0.358974\n",
       "Buddhist                0.378824\n",
       "Christian_Mormon        0.380841\n",
       "Hindu                   0.386984\n",
       "Other                   0.417191\n",
       "Atheist                 0.427296\n",
       "Agnostic                0.457398\n",
       "Christian_Other         0.460385\n",
       "Christian_Catholic      0.473488\n",
       "Jewish                  0.550308\n",
       "Christian_Protestant    0.565333\n",
       "Name: religion, dtype: float64"
      ]
     },
     "execution_count": 285,
     "metadata": {},
     "output_type": "execute_result"
    }
   ],
   "source": [
    "(train_df[train_df['voted'] == 1]['religion'].value_counts() / train_df['religion'].value_counts()).sort_values()"
   ]
  },
  {
   "cell_type": "code",
   "execution_count": 286,
   "metadata": {},
   "outputs": [
    {
     "data": {
      "text/plain": [
       "Agnostic                0.542602\n",
       "Atheist                 0.572704\n",
       "Buddhist                0.621176\n",
       "Christian_Catholic      0.526512\n",
       "Christian_Mormon        0.619159\n",
       "Christian_Other         0.539615\n",
       "Christian_Protestant    0.434667\n",
       "Hindu                   0.613016\n",
       "Jewish                  0.449692\n",
       "Muslim                  0.687081\n",
       "Other                   0.582809\n",
       "Sikh                    0.641026\n",
       "Name: religion, dtype: float64"
      ]
     },
     "execution_count": 286,
     "metadata": {},
     "output_type": "execute_result"
    }
   ],
   "source": [
    "(train_df[train_df['voted'] == 2]['religion'].value_counts() / train_df['religion'].value_counts()).sort_index()"
   ]
  },
  {
   "cell_type": "code",
   "execution_count": null,
   "metadata": {},
   "outputs": [],
   "source": []
  },
  {
   "cell_type": "code",
   "execution_count": 287,
   "metadata": {},
   "outputs": [],
   "source": [
    "religion_dict = {\n",
    " 'Muslim':0,\n",
    " 'Sikh':0,\n",
    " 'Buddhist':0,\n",
    " 'Christian_Mormon':0,\n",
    " 'Hindu':0,\n",
    " 'Other':1,\n",
    " 'Atheist':1,\n",
    " 'Agnostic':2,\n",
    " 'Christian_Other':3,\n",
    " 'Christian_Catholic':3,\n",
    " 'Christian_Protestant':4,\n",
    " 'Jewish':4,\n",
    "}"
   ]
  },
  {
   "cell_type": "code",
   "execution_count": 288,
   "metadata": {},
   "outputs": [],
   "source": [
    "train_df['religion'] = train_df['religion'].map(religion_dict)\n",
    "test_df['religion'] = test_df['religion'].map(religion_dict)"
   ]
  },
  {
   "cell_type": "code",
   "execution_count": 289,
   "metadata": {},
   "outputs": [],
   "source": [
    "train_df = pd.concat([train_df, pd.get_dummies(train_df['religion'], prefix='religion')], axis=1, sort=False)\n",
    "test_df = pd.concat([test_df, pd.get_dummies(test_df['religion'], prefix='religion')], axis=1, sort=False)"
   ]
  },
  {
   "cell_type": "code",
   "execution_count": 290,
   "metadata": {},
   "outputs": [
    {
     "data": {
      "text/plain": [
       "1    14962\n",
       "3    11568\n",
       "2     9624\n",
       "4     5362\n",
       "0     4016\n",
       "Name: religion, dtype: int64"
      ]
     },
     "execution_count": 290,
     "metadata": {},
     "output_type": "execute_result"
    }
   ],
   "source": [
    "train_df['religion'].value_counts()"
   ]
  },
  {
   "cell_type": "code",
   "execution_count": null,
   "metadata": {},
   "outputs": [],
   "source": []
  },
  {
   "cell_type": "code",
   "execution_count": null,
   "metadata": {},
   "outputs": [],
   "source": []
  },
  {
   "cell_type": "code",
   "execution_count": null,
   "metadata": {},
   "outputs": [],
   "source": []
  },
  {
   "cell_type": "markdown",
   "metadata": {},
   "source": [
    "# tp"
   ]
  },
  {
   "cell_type": "code",
   "execution_count": 291,
   "metadata": {},
   "outputs": [
    {
     "data": {
      "text/plain": [
       "2    24898\n",
       "1    20634\n",
       "Name: voted, dtype: int64"
      ]
     },
     "execution_count": 291,
     "metadata": {},
     "output_type": "execute_result"
    }
   ],
   "source": [
    "train_df['voted'].value_counts()"
   ]
  },
  {
   "cell_type": "code",
   "execution_count": 292,
   "metadata": {},
   "outputs": [
    {
     "name": "stdout",
     "output_type": "stream",
     "text": [
      "0    4783\n",
      "1    9014\n",
      "2    7877\n",
      "3    3692\n",
      "4    5900\n",
      "5    7942\n",
      "6    6041\n",
      "7     283\n",
      "Name: tp01, dtype: int64\n",
      "0     5438\n",
      "1     9208\n",
      "2    12498\n",
      "3     3921\n",
      "4     4198\n",
      "5     5340\n",
      "6     4614\n",
      "7      315\n",
      "Name: tp02, dtype: int64\n",
      "0    11567\n",
      "1    13488\n",
      "2     8777\n",
      "3     3483\n",
      "4     4053\n",
      "5     2515\n",
      "6     1288\n",
      "7      361\n",
      "Name: tp03, dtype: int64\n",
      "0     5437\n",
      "1     6752\n",
      "2    10189\n",
      "3     3710\n",
      "4     4754\n",
      "5     7277\n",
      "6     7078\n",
      "7      335\n",
      "Name: tp04, dtype: int64\n",
      "0    15772\n",
      "1    13681\n",
      "2     8775\n",
      "3     2750\n",
      "4     2513\n",
      "5     1243\n",
      "6      507\n",
      "7      291\n",
      "Name: tp05, dtype: int64\n",
      "0    8912\n",
      "1    8640\n",
      "2    9445\n",
      "3    4126\n",
      "4    4714\n",
      "5    4664\n",
      "6    4736\n",
      "7     295\n",
      "Name: tp06, dtype: int64\n",
      "0     9811\n",
      "1    11689\n",
      "2     9914\n",
      "3     4339\n",
      "4     3968\n",
      "5     3129\n",
      "6     2345\n",
      "7      337\n",
      "Name: tp07, dtype: int64\n",
      "0    3184\n",
      "1    4861\n",
      "2    9800\n",
      "3    3965\n",
      "4    5730\n",
      "5    7939\n",
      "6    9651\n",
      "7     402\n",
      "Name: tp08, dtype: int64\n",
      "0     8799\n",
      "1    10759\n",
      "2     7869\n",
      "3     5044\n",
      "4     6328\n",
      "5     3926\n",
      "6     2521\n",
      "7      286\n",
      "Name: tp09, dtype: int64\n",
      "0     1446\n",
      "1     2404\n",
      "2     4527\n",
      "3     4469\n",
      "4     7019\n",
      "5    10702\n",
      "6    14599\n",
      "7      366\n",
      "Name: tp10, dtype: int64\n"
     ]
    }
   ],
   "source": [
    "for i in range(1, 11):\n",
    "    print(train_df['tp{:02d}'.format(i)].value_counts().sort_index())"
   ]
  },
  {
   "cell_type": "code",
   "execution_count": 293,
   "metadata": {},
   "outputs": [],
   "source": [
    "# for i in range(1, 11):\n",
    "#     train_df['tp{:02d}'.format(i)] = train_df['tp{:02d}'.format(i)] / 7\n",
    "#     test_df['tp{:02d}'.format(i)] = test_df['tp{:02d}'.format(i)] / 7"
   ]
  },
  {
   "cell_type": "code",
   "execution_count": 294,
   "metadata": {},
   "outputs": [],
   "source": [
    "for idx in range(1,6):    \n",
    "    train_df['tp_score_{}'.format(idx)] = (train_df['tp{:02d}'.format(idx)] + (8-train_df['tp{:02d}'.format(idx+5)]))/2 / 8\n",
    "    test_df['tp_score_{}'.format(idx)] = (test_df['tp{:02d}'.format(idx)] + (8-test_df['tp{:02d}'.format(idx+5)]))/2 / 8"
   ]
  },
  {
   "cell_type": "code",
   "execution_count": 295,
   "metadata": {},
   "outputs": [
    {
     "data": {
      "text/plain": [
       "0.9375"
      ]
     },
     "execution_count": 295,
     "metadata": {},
     "output_type": "execute_result"
    }
   ],
   "source": [
    "train_df['tp_score_1'].max()"
   ]
  },
  {
   "cell_type": "code",
   "execution_count": null,
   "metadata": {},
   "outputs": [],
   "source": []
  },
  {
   "cell_type": "code",
   "execution_count": null,
   "metadata": {},
   "outputs": [],
   "source": []
  },
  {
   "cell_type": "markdown",
   "metadata": {},
   "source": [
    "# familysize"
   ]
  },
  {
   "cell_type": "code",
   "execution_count": 296,
   "metadata": {},
   "outputs": [
    {
     "data": {
      "text/plain": [
       "0              1217\n",
       "1              6535\n",
       "2             17918\n",
       "3             11256\n",
       "4              4907\n",
       "5              1962\n",
       "6               838\n",
       "7               387\n",
       "8               221\n",
       "9               126\n",
       "10               59\n",
       "11               39\n",
       "12               21\n",
       "13               11\n",
       "14                9\n",
       "15                8\n",
       "16                2\n",
       "17                3\n",
       "18                1\n",
       "20                2\n",
       "21                2\n",
       "30                1\n",
       "34                1\n",
       "44                3\n",
       "100               1\n",
       "999               1\n",
       "2147483647        1\n",
       "Name: familysize, dtype: int64"
      ]
     },
     "execution_count": 296,
     "metadata": {},
     "output_type": "execute_result"
    }
   ],
   "source": [
    "train_df['familysize'].value_counts().sort_index()"
   ]
  },
  {
   "cell_type": "code",
   "execution_count": 297,
   "metadata": {},
   "outputs": [
    {
     "data": {
      "text/plain": [
       "0             0.413311\n",
       "1             0.424331\n",
       "2             0.450106\n",
       "3             0.456912\n",
       "4             0.483391\n",
       "5             0.481651\n",
       "6             0.464200\n",
       "7             0.519380\n",
       "8             0.438914\n",
       "9             0.476190\n",
       "10            0.474576\n",
       "11            0.564103\n",
       "12            0.523810\n",
       "13            0.636364\n",
       "14            0.555556\n",
       "15            0.625000\n",
       "16                 NaN\n",
       "17            1.000000\n",
       "18                 NaN\n",
       "20                 NaN\n",
       "21            0.500000\n",
       "30            1.000000\n",
       "34                 NaN\n",
       "44            0.333333\n",
       "100           1.000000\n",
       "999           1.000000\n",
       "2147483647         NaN\n",
       "Name: familysize, dtype: float64"
      ]
     },
     "execution_count": 297,
     "metadata": {},
     "output_type": "execute_result"
    }
   ],
   "source": [
    "(train_df[train_df['voted'] == 1]['familysize'].value_counts() / train_df['familysize'].value_counts()).sort_index()"
   ]
  },
  {
   "cell_type": "code",
   "execution_count": 298,
   "metadata": {},
   "outputs": [
    {
     "data": {
      "text/plain": [
       "0             0.586689\n",
       "1             0.575669\n",
       "2             0.549894\n",
       "3             0.543088\n",
       "4             0.516609\n",
       "5             0.518349\n",
       "6             0.535800\n",
       "7             0.480620\n",
       "8             0.561086\n",
       "9             0.523810\n",
       "10            0.525424\n",
       "11            0.435897\n",
       "12            0.476190\n",
       "13            0.363636\n",
       "14            0.444444\n",
       "15            0.375000\n",
       "16            1.000000\n",
       "17                 NaN\n",
       "18            1.000000\n",
       "20            1.000000\n",
       "21            0.500000\n",
       "30                 NaN\n",
       "34            1.000000\n",
       "44            0.666667\n",
       "100                NaN\n",
       "999                NaN\n",
       "2147483647    1.000000\n",
       "Name: familysize, dtype: float64"
      ]
     },
     "execution_count": 298,
     "metadata": {},
     "output_type": "execute_result"
    }
   ],
   "source": [
    "(train_df[train_df['voted'] == 2]['familysize'].value_counts() / train_df['familysize'].value_counts()).sort_index()"
   ]
  },
  {
   "cell_type": "code",
   "execution_count": 299,
   "metadata": {},
   "outputs": [],
   "source": [
    "train_df.loc[train_df['familysize'] > 4, 'familysize'] = 4\n",
    "test_df.loc[test_df['familysize'] > 4, 'familysize'] = 4"
   ]
  },
  {
   "cell_type": "code",
   "execution_count": 300,
   "metadata": {},
   "outputs": [
    {
     "data": {
      "text/plain": [
       "0     1217\n",
       "1     6535\n",
       "2    17918\n",
       "3    11256\n",
       "4     8606\n",
       "Name: familysize, dtype: int64"
      ]
     },
     "execution_count": 300,
     "metadata": {},
     "output_type": "execute_result"
    }
   ],
   "source": [
    "train_df['familysize'].value_counts().sort_index()"
   ]
  },
  {
   "cell_type": "code",
   "execution_count": 301,
   "metadata": {},
   "outputs": [
    {
     "data": {
      "text/plain": [
       "0    0.413311\n",
       "1    0.424331\n",
       "2    0.450106\n",
       "3    0.456912\n",
       "4    0.482222\n",
       "Name: familysize, dtype: float64"
      ]
     },
     "execution_count": 301,
     "metadata": {},
     "output_type": "execute_result"
    }
   ],
   "source": [
    "(train_df[train_df['voted'] == 1]['familysize'].value_counts() / train_df['familysize'].value_counts()).sort_index()"
   ]
  },
  {
   "cell_type": "code",
   "execution_count": 302,
   "metadata": {},
   "outputs": [
    {
     "data": {
      "text/plain": [
       "0    0.586689\n",
       "1    0.575669\n",
       "2    0.549894\n",
       "3    0.543088\n",
       "4    0.517778\n",
       "Name: familysize, dtype: float64"
      ]
     },
     "execution_count": 302,
     "metadata": {},
     "output_type": "execute_result"
    }
   ],
   "source": [
    "(train_df[train_df['voted'] == 2]['familysize'].value_counts() / train_df['familysize'].value_counts()).sort_index()"
   ]
  },
  {
   "cell_type": "code",
   "execution_count": 303,
   "metadata": {},
   "outputs": [],
   "source": [
    "train_df['familysize'] = train_df['familysize'] / 6\n",
    "test_df['familysize'] = test_df['familysize'] / 6"
   ]
  },
  {
   "cell_type": "markdown",
   "metadata": {},
   "source": [
    "# married"
   ]
  },
  {
   "cell_type": "code",
   "execution_count": 304,
   "metadata": {},
   "outputs": [
    {
     "data": {
      "text/plain": [
       "2    24898\n",
       "1    20634\n",
       "Name: voted, dtype: int64"
      ]
     },
     "execution_count": 304,
     "metadata": {},
     "output_type": "execute_result"
    }
   ],
   "source": [
    "train_df['voted'].value_counts()"
   ]
  },
  {
   "cell_type": "code",
   "execution_count": 305,
   "metadata": {},
   "outputs": [
    {
     "data": {
      "text/plain": [
       "0       93\n",
       "1    31550\n",
       "2    10059\n",
       "3     3830\n",
       "Name: married, dtype: int64"
      ]
     },
     "execution_count": 305,
     "metadata": {},
     "output_type": "execute_result"
    }
   ],
   "source": [
    "train_df['married'].value_counts().sort_index()"
   ]
  },
  {
   "cell_type": "code",
   "execution_count": 306,
   "metadata": {},
   "outputs": [
    {
     "data": {
      "text/plain": [
       "0    0.322581\n",
       "1    0.370428\n",
       "2    0.666567\n",
       "3    0.577546\n",
       "Name: married, dtype: float64"
      ]
     },
     "execution_count": 306,
     "metadata": {},
     "output_type": "execute_result"
    }
   ],
   "source": [
    "(train_df[train_df['voted'] == 1]['married'].value_counts() / train_df['married'].value_counts()).sort_index()"
   ]
  },
  {
   "cell_type": "code",
   "execution_count": 307,
   "metadata": {},
   "outputs": [
    {
     "data": {
      "text/plain": [
       "0    0.677419\n",
       "1    0.629572\n",
       "2    0.333433\n",
       "3    0.422454\n",
       "Name: married, dtype: float64"
      ]
     },
     "execution_count": 307,
     "metadata": {},
     "output_type": "execute_result"
    }
   ],
   "source": [
    "(train_df[train_df['voted'] == 2]['married'].value_counts() / train_df['married'].value_counts()).sort_index()"
   ]
  },
  {
   "cell_type": "code",
   "execution_count": 308,
   "metadata": {},
   "outputs": [],
   "source": [
    "train_df.loc[train_df['married'] == 0,'married'] = 1\n",
    "test_df.loc[test_df['married'] == 0,'married'] = 1"
   ]
  },
  {
   "cell_type": "code",
   "execution_count": 309,
   "metadata": {},
   "outputs": [],
   "source": [
    "train_df.loc[train_df['married'] == 3,'married'] = 2\n",
    "test_df.loc[test_df['married'] == 3,'married'] = 2"
   ]
  },
  {
   "cell_type": "code",
   "execution_count": 310,
   "metadata": {},
   "outputs": [],
   "source": [
    "train_df['married'] = train_df['married'] - 1\n",
    "test_df['married'] = test_df['married'] - 1"
   ]
  },
  {
   "cell_type": "code",
   "execution_count": 311,
   "metadata": {},
   "outputs": [
    {
     "data": {
      "text/plain": [
       "0    31643\n",
       "1    13889\n",
       "Name: married, dtype: int64"
      ]
     },
     "execution_count": 311,
     "metadata": {},
     "output_type": "execute_result"
    }
   ],
   "source": [
    "train_df['married'].value_counts()"
   ]
  },
  {
   "cell_type": "code",
   "execution_count": 312,
   "metadata": {},
   "outputs": [],
   "source": [
    "train_df = pd.concat([train_df, pd.get_dummies(train_df['married'], prefix='married')], axis=1, sort=False)\n",
    "test_df = pd.concat([test_df, pd.get_dummies(test_df['married'], prefix='married')], axis=1, sort=False)"
   ]
  },
  {
   "cell_type": "code",
   "execution_count": 313,
   "metadata": {},
   "outputs": [
    {
     "data": {
      "text/html": [
       "<div>\n",
       "<style scoped>\n",
       "    .dataframe tbody tr th:only-of-type {\n",
       "        vertical-align: middle;\n",
       "    }\n",
       "\n",
       "    .dataframe tbody tr th {\n",
       "        vertical-align: top;\n",
       "    }\n",
       "\n",
       "    .dataframe thead th {\n",
       "        text-align: right;\n",
       "    }\n",
       "</style>\n",
       "<table border=\"1\" class=\"dataframe\">\n",
       "  <thead>\n",
       "    <tr style=\"text-align: right;\">\n",
       "      <th></th>\n",
       "      <th>index</th>\n",
       "      <th>QaA</th>\n",
       "      <th>QaE</th>\n",
       "      <th>QbA</th>\n",
       "      <th>QbE</th>\n",
       "      <th>QcA</th>\n",
       "      <th>QcE</th>\n",
       "      <th>QdA</th>\n",
       "      <th>QdE</th>\n",
       "      <th>QeA</th>\n",
       "      <th>...</th>\n",
       "      <th>religion_2</th>\n",
       "      <th>religion_3</th>\n",
       "      <th>religion_4</th>\n",
       "      <th>tp_score_1</th>\n",
       "      <th>tp_score_2</th>\n",
       "      <th>tp_score_3</th>\n",
       "      <th>tp_score_4</th>\n",
       "      <th>tp_score_5</th>\n",
       "      <th>married_0</th>\n",
       "      <th>married_1</th>\n",
       "    </tr>\n",
       "  </thead>\n",
       "  <tbody>\n",
       "    <tr>\n",
       "      <th>0</th>\n",
       "      <td>0</td>\n",
       "      <td>5.4</td>\n",
       "      <td>0.842058</td>\n",
       "      <td>0.8</td>\n",
       "      <td>1.031795</td>\n",
       "      <td>1.0</td>\n",
       "      <td>0.986393</td>\n",
       "      <td>5.8</td>\n",
       "      <td>0.990210</td>\n",
       "      <td>5.6</td>\n",
       "      <td>...</td>\n",
       "      <td>0</td>\n",
       "      <td>0</td>\n",
       "      <td>0</td>\n",
       "      <td>0.5625</td>\n",
       "      <td>0.1875</td>\n",
       "      <td>0.3750</td>\n",
       "      <td>0.3125</td>\n",
       "      <td>0.4375</td>\n",
       "      <td>0</td>\n",
       "      <td>1</td>\n",
       "    </tr>\n",
       "    <tr>\n",
       "      <th>1</th>\n",
       "      <td>1</td>\n",
       "      <td>5.0</td>\n",
       "      <td>0.924621</td>\n",
       "      <td>1.0</td>\n",
       "      <td>1.025724</td>\n",
       "      <td>0.6</td>\n",
       "      <td>1.161100</td>\n",
       "      <td>5.0</td>\n",
       "      <td>1.142283</td>\n",
       "      <td>5.8</td>\n",
       "      <td>...</td>\n",
       "      <td>0</td>\n",
       "      <td>0</td>\n",
       "      <td>0</td>\n",
       "      <td>0.4375</td>\n",
       "      <td>0.3750</td>\n",
       "      <td>0.2500</td>\n",
       "      <td>0.5000</td>\n",
       "      <td>0.3125</td>\n",
       "      <td>1</td>\n",
       "      <td>0</td>\n",
       "    </tr>\n",
       "    <tr>\n",
       "      <th>2</th>\n",
       "      <td>2</td>\n",
       "      <td>5.2</td>\n",
       "      <td>1.056005</td>\n",
       "      <td>0.2</td>\n",
       "      <td>1.042828</td>\n",
       "      <td>0.2</td>\n",
       "      <td>0.989791</td>\n",
       "      <td>5.2</td>\n",
       "      <td>1.160551</td>\n",
       "      <td>5.0</td>\n",
       "      <td>...</td>\n",
       "      <td>0</td>\n",
       "      <td>0</td>\n",
       "      <td>0</td>\n",
       "      <td>0.3750</td>\n",
       "      <td>0.5625</td>\n",
       "      <td>0.1875</td>\n",
       "      <td>0.7500</td>\n",
       "      <td>0.5000</td>\n",
       "      <td>0</td>\n",
       "      <td>1</td>\n",
       "    </tr>\n",
       "    <tr>\n",
       "      <th>3</th>\n",
       "      <td>3</td>\n",
       "      <td>5.4</td>\n",
       "      <td>0.888939</td>\n",
       "      <td>0.6</td>\n",
       "      <td>1.106491</td>\n",
       "      <td>0.8</td>\n",
       "      <td>0.985675</td>\n",
       "      <td>5.4</td>\n",
       "      <td>1.154982</td>\n",
       "      <td>5.8</td>\n",
       "      <td>...</td>\n",
       "      <td>0</td>\n",
       "      <td>0</td>\n",
       "      <td>0</td>\n",
       "      <td>0.4375</td>\n",
       "      <td>0.6875</td>\n",
       "      <td>0.3750</td>\n",
       "      <td>0.5000</td>\n",
       "      <td>0.3750</td>\n",
       "      <td>1</td>\n",
       "      <td>0</td>\n",
       "    </tr>\n",
       "    <tr>\n",
       "      <th>4</th>\n",
       "      <td>4</td>\n",
       "      <td>5.8</td>\n",
       "      <td>0.975993</td>\n",
       "      <td>0.2</td>\n",
       "      <td>0.937290</td>\n",
       "      <td>1.0</td>\n",
       "      <td>0.902967</td>\n",
       "      <td>5.6</td>\n",
       "      <td>0.995416</td>\n",
       "      <td>5.8</td>\n",
       "      <td>...</td>\n",
       "      <td>1</td>\n",
       "      <td>0</td>\n",
       "      <td>0</td>\n",
       "      <td>0.4375</td>\n",
       "      <td>0.5625</td>\n",
       "      <td>0.1875</td>\n",
       "      <td>0.7500</td>\n",
       "      <td>0.1250</td>\n",
       "      <td>0</td>\n",
       "      <td>1</td>\n",
       "    </tr>\n",
       "    <tr>\n",
       "      <th>...</th>\n",
       "      <td>...</td>\n",
       "      <td>...</td>\n",
       "      <td>...</td>\n",
       "      <td>...</td>\n",
       "      <td>...</td>\n",
       "      <td>...</td>\n",
       "      <td>...</td>\n",
       "      <td>...</td>\n",
       "      <td>...</td>\n",
       "      <td>...</td>\n",
       "      <td>...</td>\n",
       "      <td>...</td>\n",
       "      <td>...</td>\n",
       "      <td>...</td>\n",
       "      <td>...</td>\n",
       "      <td>...</td>\n",
       "      <td>...</td>\n",
       "      <td>...</td>\n",
       "      <td>...</td>\n",
       "      <td>...</td>\n",
       "      <td>...</td>\n",
       "    </tr>\n",
       "    <tr>\n",
       "      <th>45527</th>\n",
       "      <td>45527</td>\n",
       "      <td>5.6</td>\n",
       "      <td>0.993792</td>\n",
       "      <td>1.0</td>\n",
       "      <td>0.918301</td>\n",
       "      <td>0.8</td>\n",
       "      <td>0.827573</td>\n",
       "      <td>5.8</td>\n",
       "      <td>0.807498</td>\n",
       "      <td>5.8</td>\n",
       "      <td>...</td>\n",
       "      <td>0</td>\n",
       "      <td>0</td>\n",
       "      <td>1</td>\n",
       "      <td>0.1875</td>\n",
       "      <td>0.4375</td>\n",
       "      <td>0.8750</td>\n",
       "      <td>0.1875</td>\n",
       "      <td>0.3750</td>\n",
       "      <td>1</td>\n",
       "      <td>0</td>\n",
       "    </tr>\n",
       "    <tr>\n",
       "      <th>45528</th>\n",
       "      <td>45528</td>\n",
       "      <td>5.6</td>\n",
       "      <td>0.909250</td>\n",
       "      <td>0.6</td>\n",
       "      <td>1.030011</td>\n",
       "      <td>0.8</td>\n",
       "      <td>1.008517</td>\n",
       "      <td>5.8</td>\n",
       "      <td>0.954587</td>\n",
       "      <td>5.4</td>\n",
       "      <td>...</td>\n",
       "      <td>0</td>\n",
       "      <td>0</td>\n",
       "      <td>0</td>\n",
       "      <td>0.4375</td>\n",
       "      <td>0.4375</td>\n",
       "      <td>0.3750</td>\n",
       "      <td>0.6250</td>\n",
       "      <td>0.2500</td>\n",
       "      <td>1</td>\n",
       "      <td>0</td>\n",
       "    </tr>\n",
       "    <tr>\n",
       "      <th>45529</th>\n",
       "      <td>45529</td>\n",
       "      <td>5.2</td>\n",
       "      <td>0.912171</td>\n",
       "      <td>0.2</td>\n",
       "      <td>0.964777</td>\n",
       "      <td>0.2</td>\n",
       "      <td>0.993383</td>\n",
       "      <td>5.2</td>\n",
       "      <td>1.046167</td>\n",
       "      <td>5.0</td>\n",
       "      <td>...</td>\n",
       "      <td>0</td>\n",
       "      <td>1</td>\n",
       "      <td>0</td>\n",
       "      <td>0.6875</td>\n",
       "      <td>0.7500</td>\n",
       "      <td>0.5000</td>\n",
       "      <td>0.6875</td>\n",
       "      <td>0.1250</td>\n",
       "      <td>1</td>\n",
       "      <td>0</td>\n",
       "    </tr>\n",
       "    <tr>\n",
       "      <th>45530</th>\n",
       "      <td>45530</td>\n",
       "      <td>5.8</td>\n",
       "      <td>0.945152</td>\n",
       "      <td>0.6</td>\n",
       "      <td>1.027669</td>\n",
       "      <td>0.8</td>\n",
       "      <td>0.970495</td>\n",
       "      <td>5.6</td>\n",
       "      <td>1.022199</td>\n",
       "      <td>5.8</td>\n",
       "      <td>...</td>\n",
       "      <td>0</td>\n",
       "      <td>0</td>\n",
       "      <td>0</td>\n",
       "      <td>0.5000</td>\n",
       "      <td>0.4375</td>\n",
       "      <td>0.3750</td>\n",
       "      <td>0.6250</td>\n",
       "      <td>0.2500</td>\n",
       "      <td>1</td>\n",
       "      <td>0</td>\n",
       "    </tr>\n",
       "    <tr>\n",
       "      <th>45531</th>\n",
       "      <td>45531</td>\n",
       "      <td>5.4</td>\n",
       "      <td>0.886654</td>\n",
       "      <td>1.0</td>\n",
       "      <td>1.072919</td>\n",
       "      <td>1.0</td>\n",
       "      <td>0.946485</td>\n",
       "      <td>5.4</td>\n",
       "      <td>1.002629</td>\n",
       "      <td>5.8</td>\n",
       "      <td>...</td>\n",
       "      <td>1</td>\n",
       "      <td>0</td>\n",
       "      <td>0</td>\n",
       "      <td>0.6875</td>\n",
       "      <td>0.5000</td>\n",
       "      <td>0.3750</td>\n",
       "      <td>0.5625</td>\n",
       "      <td>0.5625</td>\n",
       "      <td>1</td>\n",
       "      <td>0</td>\n",
       "    </tr>\n",
       "  </tbody>\n",
       "</table>\n",
       "<p>45532 rows × 100 columns</p>\n",
       "</div>"
      ],
      "text/plain": [
       "       index  QaA       QaE  QbA       QbE  QcA       QcE  QdA       QdE  QeA  \\\n",
       "0          0  5.4  0.842058  0.8  1.031795  1.0  0.986393  5.8  0.990210  5.6   \n",
       "1          1  5.0  0.924621  1.0  1.025724  0.6  1.161100  5.0  1.142283  5.8   \n",
       "2          2  5.2  1.056005  0.2  1.042828  0.2  0.989791  5.2  1.160551  5.0   \n",
       "3          3  5.4  0.888939  0.6  1.106491  0.8  0.985675  5.4  1.154982  5.8   \n",
       "4          4  5.8  0.975993  0.2  0.937290  1.0  0.902967  5.6  0.995416  5.8   \n",
       "...      ...  ...       ...  ...       ...  ...       ...  ...       ...  ...   \n",
       "45527  45527  5.6  0.993792  1.0  0.918301  0.8  0.827573  5.8  0.807498  5.8   \n",
       "45528  45528  5.6  0.909250  0.6  1.030011  0.8  1.008517  5.8  0.954587  5.4   \n",
       "45529  45529  5.2  0.912171  0.2  0.964777  0.2  0.993383  5.2  1.046167  5.0   \n",
       "45530  45530  5.8  0.945152  0.6  1.027669  0.8  0.970495  5.6  1.022199  5.8   \n",
       "45531  45531  5.4  0.886654  1.0  1.072919  1.0  0.946485  5.4  1.002629  5.8   \n",
       "\n",
       "       ...  religion_2  religion_3  religion_4  tp_score_1  tp_score_2  \\\n",
       "0      ...           0           0           0      0.5625      0.1875   \n",
       "1      ...           0           0           0      0.4375      0.3750   \n",
       "2      ...           0           0           0      0.3750      0.5625   \n",
       "3      ...           0           0           0      0.4375      0.6875   \n",
       "4      ...           1           0           0      0.4375      0.5625   \n",
       "...    ...         ...         ...         ...         ...         ...   \n",
       "45527  ...           0           0           1      0.1875      0.4375   \n",
       "45528  ...           0           0           0      0.4375      0.4375   \n",
       "45529  ...           0           1           0      0.6875      0.7500   \n",
       "45530  ...           0           0           0      0.5000      0.4375   \n",
       "45531  ...           1           0           0      0.6875      0.5000   \n",
       "\n",
       "       tp_score_3  tp_score_4  tp_score_5  married_0  married_1  \n",
       "0          0.3750      0.3125      0.4375          0          1  \n",
       "1          0.2500      0.5000      0.3125          1          0  \n",
       "2          0.1875      0.7500      0.5000          0          1  \n",
       "3          0.3750      0.5000      0.3750          1          0  \n",
       "4          0.1875      0.7500      0.1250          0          1  \n",
       "...           ...         ...         ...        ...        ...  \n",
       "45527      0.8750      0.1875      0.3750          1          0  \n",
       "45528      0.3750      0.6250      0.2500          1          0  \n",
       "45529      0.5000      0.6875      0.1250          1          0  \n",
       "45530      0.3750      0.6250      0.2500          1          0  \n",
       "45531      0.3750      0.5625      0.5625          1          0  \n",
       "\n",
       "[45532 rows x 100 columns]"
      ]
     },
     "execution_count": 313,
     "metadata": {},
     "output_type": "execute_result"
    }
   ],
   "source": [
    "train_df"
   ]
  },
  {
   "cell_type": "code",
   "execution_count": null,
   "metadata": {},
   "outputs": [],
   "source": []
  },
  {
   "cell_type": "markdown",
   "metadata": {},
   "source": [
    "# hand"
   ]
  },
  {
   "cell_type": "code",
   "execution_count": 314,
   "metadata": {},
   "outputs": [
    {
     "data": {
      "text/plain": [
       "2    24898\n",
       "1    20634\n",
       "Name: voted, dtype: int64"
      ]
     },
     "execution_count": 314,
     "metadata": {},
     "output_type": "execute_result"
    }
   ],
   "source": [
    "train_df['voted'].value_counts()"
   ]
  },
  {
   "cell_type": "code",
   "execution_count": 315,
   "metadata": {},
   "outputs": [
    {
     "data": {
      "text/plain": [
       "0      161\n",
       "1    39058\n",
       "2     4692\n",
       "3     1621\n",
       "Name: hand, dtype: int64"
      ]
     },
     "execution_count": 315,
     "metadata": {},
     "output_type": "execute_result"
    }
   ],
   "source": [
    "train_df['hand'].value_counts().sort_index()"
   ]
  },
  {
   "cell_type": "code",
   "execution_count": 316,
   "metadata": {},
   "outputs": [
    {
     "data": {
      "text/plain": [
       "0    0.366460\n",
       "1    0.454683\n",
       "2    0.459506\n",
       "3    0.407156\n",
       "Name: hand, dtype: float64"
      ]
     },
     "execution_count": 316,
     "metadata": {},
     "output_type": "execute_result"
    }
   ],
   "source": [
    "(train_df[train_df['voted'] == 1]['hand'].value_counts() / train_df['hand'].value_counts()).sort_index()"
   ]
  },
  {
   "cell_type": "code",
   "execution_count": 317,
   "metadata": {},
   "outputs": [
    {
     "data": {
      "text/plain": [
       "0    0.633540\n",
       "1    0.545317\n",
       "2    0.540494\n",
       "3    0.592844\n",
       "Name: hand, dtype: float64"
      ]
     },
     "execution_count": 317,
     "metadata": {},
     "output_type": "execute_result"
    }
   ],
   "source": [
    "(train_df[train_df['voted'] == 2]['hand'].value_counts() / train_df['hand'].value_counts()).sort_index()"
   ]
  },
  {
   "cell_type": "code",
   "execution_count": 318,
   "metadata": {},
   "outputs": [],
   "source": [
    "train_df.loc[train_df['hand'] == 3, 'hand'] = 0\n",
    "test_df.loc[test_df['hand'] == 3, 'hand'] = 0"
   ]
  },
  {
   "cell_type": "code",
   "execution_count": 319,
   "metadata": {},
   "outputs": [],
   "source": [
    "train_df = pd.concat([train_df, pd.get_dummies(train_df['hand'], prefix='hand')], axis=1, sort=False)\n",
    "test_df = pd.concat([test_df, pd.get_dummies(test_df['hand'], prefix='hand')], axis=1, sort=False)"
   ]
  },
  {
   "cell_type": "code",
   "execution_count": null,
   "metadata": {},
   "outputs": [],
   "source": []
  },
  {
   "cell_type": "markdown",
   "metadata": {},
   "source": [
    "# education"
   ]
  },
  {
   "cell_type": "code",
   "execution_count": 320,
   "metadata": {},
   "outputs": [
    {
     "data": {
      "text/plain": [
       "2    24898\n",
       "1    20634\n",
       "Name: voted, dtype: int64"
      ]
     },
     "execution_count": 320,
     "metadata": {},
     "output_type": "execute_result"
    }
   ],
   "source": [
    "train_df['voted'].value_counts()"
   ]
  },
  {
   "cell_type": "code",
   "execution_count": 321,
   "metadata": {},
   "outputs": [
    {
     "data": {
      "text/plain": [
       "2    16835\n",
       "3    15227\n",
       "4     7854\n",
       "1     5088\n",
       "0      528\n",
       "Name: education, dtype: int64"
      ]
     },
     "execution_count": 321,
     "metadata": {},
     "output_type": "execute_result"
    }
   ],
   "source": [
    "train_df['education'].value_counts()"
   ]
  },
  {
   "cell_type": "code",
   "execution_count": 322,
   "metadata": {},
   "outputs": [
    {
     "data": {
      "text/plain": [
       "0    0.477273\n",
       "1    0.049725\n",
       "2    0.367033\n",
       "3    0.596506\n",
       "4    0.619684\n",
       "Name: education, dtype: float64"
      ]
     },
     "execution_count": 322,
     "metadata": {},
     "output_type": "execute_result"
    }
   ],
   "source": [
    "(train_df[train_df['voted'] == 1]['education'].value_counts() / train_df['education'].value_counts()).sort_index()"
   ]
  },
  {
   "cell_type": "code",
   "execution_count": 323,
   "metadata": {},
   "outputs": [
    {
     "data": {
      "text/plain": [
       "0    0.522727\n",
       "1    0.950275\n",
       "2    0.632967\n",
       "3    0.403494\n",
       "4    0.380316\n",
       "Name: education, dtype: float64"
      ]
     },
     "execution_count": 323,
     "metadata": {},
     "output_type": "execute_result"
    }
   ],
   "source": [
    "(train_df[train_df['voted'] == 2]['education'].value_counts() / train_df['education'].value_counts()).sort_index()"
   ]
  },
  {
   "cell_type": "code",
   "execution_count": 324,
   "metadata": {},
   "outputs": [],
   "source": [
    "train_df.loc[train_df['education']==0, 'education'] = 3\n",
    "test_df.loc[test_df['education']==0, 'education'] = 3"
   ]
  },
  {
   "cell_type": "code",
   "execution_count": 325,
   "metadata": {},
   "outputs": [],
   "source": [
    "train_df = pd.concat([train_df, pd.get_dummies(train_df['education'], prefix='education')], axis=1, sort=False)\n",
    "test_df = pd.concat([test_df, pd.get_dummies(test_df['education'], prefix='education')], axis=1, sort=False)"
   ]
  },
  {
   "cell_type": "code",
   "execution_count": 326,
   "metadata": {},
   "outputs": [],
   "source": [
    "# train_df['education'] = (train_df['education'] - 1) / 3\n",
    "# test_df['education'] = (test_df['education'] - 1) / 3"
   ]
  },
  {
   "cell_type": "markdown",
   "metadata": {},
   "source": [
    "# urban"
   ]
  },
  {
   "cell_type": "code",
   "execution_count": 327,
   "metadata": {},
   "outputs": [
    {
     "data": {
      "text/plain": [
       "0      322\n",
       "1     8909\n",
       "2    18534\n",
       "3    17767\n",
       "Name: urban, dtype: int64"
      ]
     },
     "execution_count": 327,
     "metadata": {},
     "output_type": "execute_result"
    }
   ],
   "source": [
    "train_df['urban'].value_counts().sort_index()"
   ]
  },
  {
   "cell_type": "code",
   "execution_count": 328,
   "metadata": {},
   "outputs": [
    {
     "data": {
      "text/plain": [
       "0    0.509317\n",
       "1    0.507128\n",
       "2    0.458455\n",
       "3    0.419598\n",
       "Name: urban, dtype: float64"
      ]
     },
     "execution_count": 328,
     "metadata": {},
     "output_type": "execute_result"
    }
   ],
   "source": [
    "(train_df[train_df['voted'] == 1]['urban'].value_counts() / train_df['urban'].value_counts()).sort_index()"
   ]
  },
  {
   "cell_type": "code",
   "execution_count": 329,
   "metadata": {},
   "outputs": [
    {
     "data": {
      "text/plain": [
       "0    0.490683\n",
       "1    0.492872\n",
       "2    0.541545\n",
       "3    0.580402\n",
       "Name: urban, dtype: float64"
      ]
     },
     "execution_count": 329,
     "metadata": {},
     "output_type": "execute_result"
    }
   ],
   "source": [
    "(train_df[train_df['voted'] == 2]['urban'].value_counts() / train_df['urban'].value_counts()).sort_index()"
   ]
  },
  {
   "cell_type": "code",
   "execution_count": 330,
   "metadata": {},
   "outputs": [],
   "source": [
    "train_df[train_df['urban'] == 0] = 1\n",
    "test_df[test_df['urban'] == 0] = 1"
   ]
  },
  {
   "cell_type": "code",
   "execution_count": 331,
   "metadata": {},
   "outputs": [],
   "source": [
    "train_df = pd.concat([train_df, pd.get_dummies(train_df['urban'], prefix='urban')], axis=1, sort=False)\n",
    "test_df = pd.concat([test_df, pd.get_dummies(test_df['urban'], prefix='urban')], axis=1, sort=False)"
   ]
  },
  {
   "cell_type": "code",
   "execution_count": null,
   "metadata": {},
   "outputs": [],
   "source": []
  },
  {
   "cell_type": "markdown",
   "metadata": {},
   "source": [
    "# split_data"
   ]
  },
  {
   "cell_type": "code",
   "execution_count": 332,
   "metadata": {},
   "outputs": [
    {
     "data": {
      "text/plain": [
       "2    24740\n",
       "1    20792\n",
       "Name: voted, dtype: int64"
      ]
     },
     "execution_count": 332,
     "metadata": {},
     "output_type": "execute_result"
    }
   ],
   "source": [
    "train_df['voted'].value_counts()"
   ]
  },
  {
   "cell_type": "code",
   "execution_count": 333,
   "metadata": {},
   "outputs": [
    {
     "data": {
      "text/html": [
       "<div>\n",
       "<style scoped>\n",
       "    .dataframe tbody tr th:only-of-type {\n",
       "        vertical-align: middle;\n",
       "    }\n",
       "\n",
       "    .dataframe tbody tr th {\n",
       "        vertical-align: top;\n",
       "    }\n",
       "\n",
       "    .dataframe thead th {\n",
       "        text-align: right;\n",
       "    }\n",
       "</style>\n",
       "<table border=\"1\" class=\"dataframe\">\n",
       "  <thead>\n",
       "    <tr style=\"text-align: right;\">\n",
       "      <th></th>\n",
       "      <th>index</th>\n",
       "      <th>QaA</th>\n",
       "      <th>QaE</th>\n",
       "      <th>QbA</th>\n",
       "      <th>QbE</th>\n",
       "      <th>QcA</th>\n",
       "      <th>QcE</th>\n",
       "      <th>QdA</th>\n",
       "      <th>QdE</th>\n",
       "      <th>QeA</th>\n",
       "      <th>...</th>\n",
       "      <th>hand_0</th>\n",
       "      <th>hand_1</th>\n",
       "      <th>hand_2</th>\n",
       "      <th>education_1</th>\n",
       "      <th>education_2</th>\n",
       "      <th>education_3</th>\n",
       "      <th>education_4</th>\n",
       "      <th>urban_1</th>\n",
       "      <th>urban_2</th>\n",
       "      <th>urban_3</th>\n",
       "    </tr>\n",
       "  </thead>\n",
       "  <tbody>\n",
       "    <tr>\n",
       "      <th>0</th>\n",
       "      <td>0</td>\n",
       "      <td>5.4</td>\n",
       "      <td>0.842058</td>\n",
       "      <td>0.8</td>\n",
       "      <td>1.031795</td>\n",
       "      <td>1.0</td>\n",
       "      <td>0.986393</td>\n",
       "      <td>5.8</td>\n",
       "      <td>0.990210</td>\n",
       "      <td>5.6</td>\n",
       "      <td>...</td>\n",
       "      <td>0</td>\n",
       "      <td>1</td>\n",
       "      <td>0</td>\n",
       "      <td>0</td>\n",
       "      <td>1</td>\n",
       "      <td>0</td>\n",
       "      <td>0</td>\n",
       "      <td>1</td>\n",
       "      <td>0</td>\n",
       "      <td>0</td>\n",
       "    </tr>\n",
       "    <tr>\n",
       "      <th>1</th>\n",
       "      <td>1</td>\n",
       "      <td>5.0</td>\n",
       "      <td>0.924621</td>\n",
       "      <td>1.0</td>\n",
       "      <td>1.025724</td>\n",
       "      <td>0.6</td>\n",
       "      <td>1.161100</td>\n",
       "      <td>5.0</td>\n",
       "      <td>1.142283</td>\n",
       "      <td>5.8</td>\n",
       "      <td>...</td>\n",
       "      <td>0</td>\n",
       "      <td>1</td>\n",
       "      <td>0</td>\n",
       "      <td>0</td>\n",
       "      <td>0</td>\n",
       "      <td>0</td>\n",
       "      <td>1</td>\n",
       "      <td>0</td>\n",
       "      <td>0</td>\n",
       "      <td>1</td>\n",
       "    </tr>\n",
       "    <tr>\n",
       "      <th>2</th>\n",
       "      <td>2</td>\n",
       "      <td>5.2</td>\n",
       "      <td>1.056005</td>\n",
       "      <td>0.2</td>\n",
       "      <td>1.042828</td>\n",
       "      <td>0.2</td>\n",
       "      <td>0.989791</td>\n",
       "      <td>5.2</td>\n",
       "      <td>1.160551</td>\n",
       "      <td>5.0</td>\n",
       "      <td>...</td>\n",
       "      <td>0</td>\n",
       "      <td>1</td>\n",
       "      <td>0</td>\n",
       "      <td>0</td>\n",
       "      <td>0</td>\n",
       "      <td>1</td>\n",
       "      <td>0</td>\n",
       "      <td>0</td>\n",
       "      <td>1</td>\n",
       "      <td>0</td>\n",
       "    </tr>\n",
       "    <tr>\n",
       "      <th>3</th>\n",
       "      <td>3</td>\n",
       "      <td>5.4</td>\n",
       "      <td>0.888939</td>\n",
       "      <td>0.6</td>\n",
       "      <td>1.106491</td>\n",
       "      <td>0.8</td>\n",
       "      <td>0.985675</td>\n",
       "      <td>5.4</td>\n",
       "      <td>1.154982</td>\n",
       "      <td>5.8</td>\n",
       "      <td>...</td>\n",
       "      <td>0</td>\n",
       "      <td>1</td>\n",
       "      <td>0</td>\n",
       "      <td>0</td>\n",
       "      <td>0</td>\n",
       "      <td>0</td>\n",
       "      <td>1</td>\n",
       "      <td>0</td>\n",
       "      <td>0</td>\n",
       "      <td>1</td>\n",
       "    </tr>\n",
       "    <tr>\n",
       "      <th>4</th>\n",
       "      <td>4</td>\n",
       "      <td>5.8</td>\n",
       "      <td>0.975993</td>\n",
       "      <td>0.2</td>\n",
       "      <td>0.937290</td>\n",
       "      <td>1.0</td>\n",
       "      <td>0.902967</td>\n",
       "      <td>5.6</td>\n",
       "      <td>0.995416</td>\n",
       "      <td>5.8</td>\n",
       "      <td>...</td>\n",
       "      <td>0</td>\n",
       "      <td>1</td>\n",
       "      <td>0</td>\n",
       "      <td>0</td>\n",
       "      <td>0</td>\n",
       "      <td>1</td>\n",
       "      <td>0</td>\n",
       "      <td>1</td>\n",
       "      <td>0</td>\n",
       "      <td>0</td>\n",
       "    </tr>\n",
       "    <tr>\n",
       "      <th>...</th>\n",
       "      <td>...</td>\n",
       "      <td>...</td>\n",
       "      <td>...</td>\n",
       "      <td>...</td>\n",
       "      <td>...</td>\n",
       "      <td>...</td>\n",
       "      <td>...</td>\n",
       "      <td>...</td>\n",
       "      <td>...</td>\n",
       "      <td>...</td>\n",
       "      <td>...</td>\n",
       "      <td>...</td>\n",
       "      <td>...</td>\n",
       "      <td>...</td>\n",
       "      <td>...</td>\n",
       "      <td>...</td>\n",
       "      <td>...</td>\n",
       "      <td>...</td>\n",
       "      <td>...</td>\n",
       "      <td>...</td>\n",
       "      <td>...</td>\n",
       "    </tr>\n",
       "    <tr>\n",
       "      <th>45527</th>\n",
       "      <td>45527</td>\n",
       "      <td>5.6</td>\n",
       "      <td>0.993792</td>\n",
       "      <td>1.0</td>\n",
       "      <td>0.918301</td>\n",
       "      <td>0.8</td>\n",
       "      <td>0.827573</td>\n",
       "      <td>5.8</td>\n",
       "      <td>0.807498</td>\n",
       "      <td>5.8</td>\n",
       "      <td>...</td>\n",
       "      <td>1</td>\n",
       "      <td>0</td>\n",
       "      <td>0</td>\n",
       "      <td>0</td>\n",
       "      <td>1</td>\n",
       "      <td>0</td>\n",
       "      <td>0</td>\n",
       "      <td>0</td>\n",
       "      <td>0</td>\n",
       "      <td>1</td>\n",
       "    </tr>\n",
       "    <tr>\n",
       "      <th>45528</th>\n",
       "      <td>45528</td>\n",
       "      <td>5.6</td>\n",
       "      <td>0.909250</td>\n",
       "      <td>0.6</td>\n",
       "      <td>1.030011</td>\n",
       "      <td>0.8</td>\n",
       "      <td>1.008517</td>\n",
       "      <td>5.8</td>\n",
       "      <td>0.954587</td>\n",
       "      <td>5.4</td>\n",
       "      <td>...</td>\n",
       "      <td>0</td>\n",
       "      <td>1</td>\n",
       "      <td>0</td>\n",
       "      <td>0</td>\n",
       "      <td>1</td>\n",
       "      <td>0</td>\n",
       "      <td>0</td>\n",
       "      <td>1</td>\n",
       "      <td>0</td>\n",
       "      <td>0</td>\n",
       "    </tr>\n",
       "    <tr>\n",
       "      <th>45529</th>\n",
       "      <td>45529</td>\n",
       "      <td>5.2</td>\n",
       "      <td>0.912171</td>\n",
       "      <td>0.2</td>\n",
       "      <td>0.964777</td>\n",
       "      <td>0.2</td>\n",
       "      <td>0.993383</td>\n",
       "      <td>5.2</td>\n",
       "      <td>1.046167</td>\n",
       "      <td>5.0</td>\n",
       "      <td>...</td>\n",
       "      <td>0</td>\n",
       "      <td>1</td>\n",
       "      <td>0</td>\n",
       "      <td>0</td>\n",
       "      <td>1</td>\n",
       "      <td>0</td>\n",
       "      <td>0</td>\n",
       "      <td>0</td>\n",
       "      <td>1</td>\n",
       "      <td>0</td>\n",
       "    </tr>\n",
       "    <tr>\n",
       "      <th>45530</th>\n",
       "      <td>1</td>\n",
       "      <td>1.0</td>\n",
       "      <td>1.000000</td>\n",
       "      <td>1.0</td>\n",
       "      <td>1.000000</td>\n",
       "      <td>1.0</td>\n",
       "      <td>1.000000</td>\n",
       "      <td>1.0</td>\n",
       "      <td>1.000000</td>\n",
       "      <td>1.0</td>\n",
       "      <td>...</td>\n",
       "      <td>1</td>\n",
       "      <td>1</td>\n",
       "      <td>1</td>\n",
       "      <td>1</td>\n",
       "      <td>1</td>\n",
       "      <td>1</td>\n",
       "      <td>1</td>\n",
       "      <td>1</td>\n",
       "      <td>0</td>\n",
       "      <td>0</td>\n",
       "    </tr>\n",
       "    <tr>\n",
       "      <th>45531</th>\n",
       "      <td>45531</td>\n",
       "      <td>5.4</td>\n",
       "      <td>0.886654</td>\n",
       "      <td>1.0</td>\n",
       "      <td>1.072919</td>\n",
       "      <td>1.0</td>\n",
       "      <td>0.946485</td>\n",
       "      <td>5.4</td>\n",
       "      <td>1.002629</td>\n",
       "      <td>5.8</td>\n",
       "      <td>...</td>\n",
       "      <td>0</td>\n",
       "      <td>1</td>\n",
       "      <td>0</td>\n",
       "      <td>0</td>\n",
       "      <td>1</td>\n",
       "      <td>0</td>\n",
       "      <td>0</td>\n",
       "      <td>0</td>\n",
       "      <td>1</td>\n",
       "      <td>0</td>\n",
       "    </tr>\n",
       "  </tbody>\n",
       "</table>\n",
       "<p>45532 rows × 110 columns</p>\n",
       "</div>"
      ],
      "text/plain": [
       "       index  QaA       QaE  QbA       QbE  QcA       QcE  QdA       QdE  QeA  \\\n",
       "0          0  5.4  0.842058  0.8  1.031795  1.0  0.986393  5.8  0.990210  5.6   \n",
       "1          1  5.0  0.924621  1.0  1.025724  0.6  1.161100  5.0  1.142283  5.8   \n",
       "2          2  5.2  1.056005  0.2  1.042828  0.2  0.989791  5.2  1.160551  5.0   \n",
       "3          3  5.4  0.888939  0.6  1.106491  0.8  0.985675  5.4  1.154982  5.8   \n",
       "4          4  5.8  0.975993  0.2  0.937290  1.0  0.902967  5.6  0.995416  5.8   \n",
       "...      ...  ...       ...  ...       ...  ...       ...  ...       ...  ...   \n",
       "45527  45527  5.6  0.993792  1.0  0.918301  0.8  0.827573  5.8  0.807498  5.8   \n",
       "45528  45528  5.6  0.909250  0.6  1.030011  0.8  1.008517  5.8  0.954587  5.4   \n",
       "45529  45529  5.2  0.912171  0.2  0.964777  0.2  0.993383  5.2  1.046167  5.0   \n",
       "45530      1  1.0  1.000000  1.0  1.000000  1.0  1.000000  1.0  1.000000  1.0   \n",
       "45531  45531  5.4  0.886654  1.0  1.072919  1.0  0.946485  5.4  1.002629  5.8   \n",
       "\n",
       "       ...  hand_0  hand_1  hand_2  education_1  education_2  education_3  \\\n",
       "0      ...       0       1       0            0            1            0   \n",
       "1      ...       0       1       0            0            0            0   \n",
       "2      ...       0       1       0            0            0            1   \n",
       "3      ...       0       1       0            0            0            0   \n",
       "4      ...       0       1       0            0            0            1   \n",
       "...    ...     ...     ...     ...          ...          ...          ...   \n",
       "45527  ...       1       0       0            0            1            0   \n",
       "45528  ...       0       1       0            0            1            0   \n",
       "45529  ...       0       1       0            0            1            0   \n",
       "45530  ...       1       1       1            1            1            1   \n",
       "45531  ...       0       1       0            0            1            0   \n",
       "\n",
       "       education_4  urban_1  urban_2  urban_3  \n",
       "0                0        1        0        0  \n",
       "1                1        0        0        1  \n",
       "2                0        0        1        0  \n",
       "3                1        0        0        1  \n",
       "4                0        1        0        0  \n",
       "...            ...      ...      ...      ...  \n",
       "45527            0        0        0        1  \n",
       "45528            0        1        0        0  \n",
       "45529            0        0        1        0  \n",
       "45530            1        1        0        0  \n",
       "45531            0        0        1        0  \n",
       "\n",
       "[45532 rows x 110 columns]"
      ]
     },
     "execution_count": 333,
     "metadata": {},
     "output_type": "execute_result"
    }
   ],
   "source": [
    "train_df"
   ]
  },
  {
   "cell_type": "code",
   "execution_count": 403,
   "metadata": {},
   "outputs": [
    {
     "data": {
      "text/plain": [
       "array(['index', 'QaA', 'QaE', 'QbA', 'QbE', 'QcA', 'QcE', 'QdA', 'QdE',\n",
       "       'QeA', 'QeE', 'QfA', 'QfE', 'QgA', 'QgE', 'QhA', 'QhE', 'QiA',\n",
       "       'QiE', 'QjA', 'QjE', 'QkA', 'QkE', 'QlA', 'QlE', 'QmA', 'QmE',\n",
       "       'QnA', 'QnE', 'QoA', 'QoE', 'QpA', 'QpE', 'QqA', 'QqE', 'QrA',\n",
       "       'QrE', 'QsA', 'QsE', 'QtA', 'QtE', 'age_group', 'education',\n",
       "       'engnat', 'familysize', 'gender', 'hand', 'married', 'race',\n",
       "       'religion', 'tp01', 'tp02', 'tp03', 'tp04', 'tp05', 'tp06', 'tp07',\n",
       "       'tp08', 'tp09', 'tp10', 'urban', 'voted', 'wf_01', 'wf_02',\n",
       "       'wf_03', 'wr_01', 'wr_02', 'wr_03', 'wr_04', 'wr_05', 'wr_06',\n",
       "       'wr_07', 'wr_08', 'wr_09', 'wr_10', 'wr_11', 'wr_12', 'wr_13',\n",
       "       'Mach_score', 'age', 'engnat_0', 'engnat_1', 'gender_Female',\n",
       "       'gender_Male', 'race_0', 'race_1', 'race_2', 'race_3',\n",
       "       'religion_0', 'religion_1', 'religion_2', 'religion_3',\n",
       "       'religion_4', 'tp_score_1', 'tp_score_2', 'tp_score_3',\n",
       "       'tp_score_4', 'tp_score_5', 'married_0', 'married_1', 'hand_0',\n",
       "       'hand_1', 'hand_2', 'education_1', 'education_2', 'education_3',\n",
       "       'education_4', 'urban_1', 'urban_2', 'urban_3'], dtype=object)"
      ]
     },
     "execution_count": 403,
     "metadata": {},
     "output_type": "execute_result"
    }
   ],
   "source": [
    "train_df.columns.to_numpy()"
   ]
  },
  {
   "cell_type": "code",
   "execution_count": 404,
   "metadata": {},
   "outputs": [],
   "source": [
    "from sklearn.model_selection import train_test_split"
   ]
  },
  {
   "cell_type": "code",
   "execution_count": 405,
   "metadata": {},
   "outputs": [],
   "source": [
    "columns_list = [\n",
    "       'Mach_score',\n",
    "       'age', 'engnat_0', 'engnat_1', 'familysize', 'gender_Male', 'gender_Female', \n",
    "       'education_1', 'education_2', 'education_3', 'education_4', \n",
    "#        'hand_0', 'hand_1', 'hand_2', \n",
    "       'married_0', 'married_1', #'married_2', \n",
    "       'race_0', 'race_1', 'race_2', 'race_3', #'race_4', \n",
    "       'religion_0', 'religion_1', 'religion_2', 'religion_3', 'religion_4', #'religion_5', \n",
    "#        'tp01', 'tp02', 'tp03', 'tp04',\n",
    "#        'tp05', 'tp06', 'tp07', 'tp08', 'tp09', 'tp10', \n",
    "       'tp_score_1', 'tp_score_2', 'tp_score_3', 'tp_score_4', 'tp_score_5', \n",
    "       'urban_1', 'urban_2', 'urban_3', \n",
    "       'wf_01', 'wf_02', 'wf_03', 'wr_01', 'wr_02', 'wr_03', 'wr_04', 'wr_05',\n",
    "       'wr_06', 'wr_07', 'wr_08', 'wr_09', 'wr_10', 'wr_11', 'wr_12', 'wr_13',\n",
    "                      ]"
   ]
  },
  {
   "cell_type": "code",
   "execution_count": 406,
   "metadata": {},
   "outputs": [],
   "source": [
    "train_x_df = train_df[columns_list]\n",
    "submission_x_df = test_df[columns_list]"
   ]
  },
  {
   "cell_type": "code",
   "execution_count": 407,
   "metadata": {},
   "outputs": [],
   "source": [
    "train_y_df = train_df[['voted']] - 1"
   ]
  },
  {
   "cell_type": "code",
   "execution_count": null,
   "metadata": {},
   "outputs": [],
   "source": []
  },
  {
   "cell_type": "code",
   "execution_count": 408,
   "metadata": {},
   "outputs": [
    {
     "data": {
      "text/plain": [
       "1    24740\n",
       "0    20792\n",
       "Name: voted, dtype: int64"
      ]
     },
     "execution_count": 408,
     "metadata": {},
     "output_type": "execute_result"
    }
   ],
   "source": [
    "train_y_df['voted'].value_counts()"
   ]
  },
  {
   "cell_type": "code",
   "execution_count": 389,
   "metadata": {},
   "outputs": [],
   "source": [
    "train_x, test_x, train_y, test_y = train_test_split(train_x_df, train_y_df, test_size=0.2, random_state=42)"
   ]
  },
  {
   "cell_type": "code",
   "execution_count": 390,
   "metadata": {},
   "outputs": [
    {
     "ename": "AttributeError",
     "evalue": "type object 'LGBMClassifier' has no attribute 'Dataset'",
     "output_type": "error",
     "traceback": [
      "\u001b[0;31m---------------------------------------------------------------------------\u001b[0m",
      "\u001b[0;31mAttributeError\u001b[0m                            Traceback (most recent call last)",
      "\u001b[0;32m<ipython-input-390-85a0c8980996>\u001b[0m in \u001b[0;36m<module>\u001b[0;34m\u001b[0m\n\u001b[0;32m----> 1\u001b[0;31m \u001b[0mtrain_ds\u001b[0m \u001b[0;34m=\u001b[0m \u001b[0mlgb\u001b[0m\u001b[0;34m.\u001b[0m\u001b[0mDataset\u001b[0m\u001b[0;34m(\u001b[0m\u001b[0mtrain_x\u001b[0m\u001b[0;34m,\u001b[0m \u001b[0mlabel\u001b[0m \u001b[0;34m=\u001b[0m \u001b[0mtrain_y\u001b[0m\u001b[0;34m)\u001b[0m\u001b[0;34m\u001b[0m\u001b[0;34m\u001b[0m\u001b[0m\n\u001b[0m\u001b[1;32m      2\u001b[0m \u001b[0mtest_ds\u001b[0m \u001b[0;34m=\u001b[0m \u001b[0mlgb\u001b[0m\u001b[0;34m.\u001b[0m\u001b[0mDataset\u001b[0m\u001b[0;34m(\u001b[0m\u001b[0mtest_x\u001b[0m\u001b[0;34m,\u001b[0m \u001b[0mlabel\u001b[0m \u001b[0;34m=\u001b[0m \u001b[0mtest_y\u001b[0m\u001b[0;34m)\u001b[0m\u001b[0;34m\u001b[0m\u001b[0;34m\u001b[0m\u001b[0m\n",
      "\u001b[0;31mAttributeError\u001b[0m: type object 'LGBMClassifier' has no attribute 'Dataset'"
     ]
    }
   ],
   "source": [
    "train_ds = lgb.Dataset(train_x, label = train_y) \n",
    "test_ds = lgb.Dataset(test_x, label = test_y) "
   ]
  },
  {
   "cell_type": "markdown",
   "metadata": {},
   "source": [
    "# k-fold"
   ]
  },
  {
   "cell_type": "code",
   "execution_count": 391,
   "metadata": {},
   "outputs": [],
   "source": [
    "from sklearn.model_selection import KFold"
   ]
  },
  {
   "cell_type": "code",
   "execution_count": 392,
   "metadata": {},
   "outputs": [],
   "source": [
    "folds = KFold(n_splits=5, shuffle=True, random_state=2020)"
   ]
  },
  {
   "cell_type": "code",
   "execution_count": 393,
   "metadata": {},
   "outputs": [
    {
     "data": {
      "text/plain": [
       "45532"
      ]
     },
     "execution_count": 393,
     "metadata": {},
     "output_type": "execute_result"
    }
   ],
   "source": [
    "len(train_df)"
   ]
  },
  {
   "cell_type": "code",
   "execution_count": 394,
   "metadata": {},
   "outputs": [],
   "source": [
    "rf_params = {'learning_rate': 0.01, \n",
    "          'max_depth': -1, \n",
    "          'boosting_type': 'rf', \n",
    "          'objective': 'binary', \n",
    "          'metric': 'binary_logloss', \n",
    "          'is_training_metric': True, \n",
    "          'num_leaves': 512, \n",
    "          'feature_fraction': 0.7, \n",
    "          'bagging_fraction': 0.6, \n",
    "          'bagging_freq': 10, \n",
    "          'seed':2020}"
   ]
  },
  {
   "cell_type": "code",
   "execution_count": 395,
   "metadata": {},
   "outputs": [],
   "source": [
    "gbdt_params = {'learning_rate': 0.01, \n",
    "                'max_depth': -1, \n",
    "                'boosting': 'gbdt', \n",
    "                'objective': 'binary', \n",
    "                'metric': 'mse', \n",
    "                'is_training_metric': True, \n",
    "                'num_leaves': 72, \n",
    "                'feature_fraction': 0.2, \n",
    "                'bagging_fraction': 0.2, \n",
    "                'bagging_freq': 10, \n",
    "                'seed':2020}"
   ]
  },
  {
   "cell_type": "code",
   "execution_count": 358,
   "metadata": {},
   "outputs": [
    {
     "name": "stdout",
     "output_type": "stream",
     "text": [
      "[LightGBM] [Info] Number of positive: 19810, number of negative: 16615\n",
      "[LightGBM] [Warning] Auto-choosing row-wise multi-threading, the overhead of testing was 0.007414 seconds.\n",
      "You can set `force_row_wise=true` to remove the overhead.\n",
      "And if memory is not enough, you can set `force_col_wise=true`.\n",
      "[LightGBM] [Info] Total Bins 271\n",
      "[LightGBM] [Info] Number of data points in the train set: 36425, number of used features: 46\n",
      "[LightGBM] [Info] [binary:BoostFromScore]: pavg=0.543857 -> initscore=0.175881\n",
      "[LightGBM] [Info] Start training from score 0.175881\n",
      "[LightGBM] [Warning] No further splits with positive gain, best gain: -inf\n",
      "Training until validation scores don't improve for 100 rounds\n",
      "[LightGBM] [Warning] No further splits with positive gain, best gain: -inf\n",
      "[LightGBM] [Warning] No further splits with positive gain, best gain: -inf\n",
      "[LightGBM] [Warning] No further splits with positive gain, best gain: -inf\n",
      "[LightGBM] [Warning] No further splits with positive gain, best gain: -inf\n",
      "[LightGBM] [Warning] No further splits with positive gain, best gain: -inf\n",
      "[LightGBM] [Warning] No further splits with positive gain, best gain: -inf\n",
      "[LightGBM] [Warning] No further splits with positive gain, best gain: -inf\n",
      "[LightGBM] [Warning] No further splits with positive gain, best gain: -inf\n",
      "[LightGBM] [Warning] No further splits with positive gain, best gain: -inf\n",
      "[LightGBM] [Warning] No further splits with positive gain, best gain: -inf\n",
      "[LightGBM] [Warning] No further splits with positive gain, best gain: -inf\n",
      "[LightGBM] [Warning] No further splits with positive gain, best gain: -inf\n",
      "[LightGBM] [Warning] No further splits with positive gain, best gain: -inf\n",
      "[LightGBM] [Warning] No further splits with positive gain, best gain: -inf\n",
      "[LightGBM] [Warning] No further splits with positive gain, best gain: -inf\n",
      "[LightGBM] [Warning] No further splits with positive gain, best gain: -inf\n",
      "[LightGBM] [Warning] No further splits with positive gain, best gain: -inf\n",
      "[LightGBM] [Warning] No further splits with positive gain, best gain: -inf\n",
      "[LightGBM] [Warning] No further splits with positive gain, best gain: -inf\n",
      "[LightGBM] [Warning] No further splits with positive gain, best gain: -inf\n",
      "[LightGBM] [Warning] No further splits with positive gain, best gain: -inf\n",
      "[LightGBM] [Warning] No further splits with positive gain, best gain: -inf\n",
      "[LightGBM] [Warning] No further splits with positive gain, best gain: -inf\n",
      "[LightGBM] [Warning] No further splits with positive gain, best gain: -inf\n",
      "[LightGBM] [Warning] No further splits with positive gain, best gain: -inf\n",
      "[LightGBM] [Warning] No further splits with positive gain, best gain: -inf\n",
      "[LightGBM] [Warning] No further splits with positive gain, best gain: -inf\n",
      "[LightGBM] [Warning] No further splits with positive gain, best gain: -inf\n",
      "[LightGBM] [Warning] No further splits with positive gain, best gain: -inf\n",
      "[LightGBM] [Warning] No further splits with positive gain, best gain: -inf\n",
      "[LightGBM] [Warning] No further splits with positive gain, best gain: -inf\n",
      "[LightGBM] [Warning] No further splits with positive gain, best gain: -inf\n",
      "[LightGBM] [Warning] No further splits with positive gain, best gain: -inf\n",
      "[LightGBM] [Warning] No further splits with positive gain, best gain: -inf\n",
      "[LightGBM] [Warning] No further splits with positive gain, best gain: -inf\n",
      "[LightGBM] [Warning] No further splits with positive gain, best gain: -inf\n",
      "[LightGBM] [Warning] No further splits with positive gain, best gain: -inf\n",
      "[LightGBM] [Warning] No further splits with positive gain, best gain: -inf\n",
      "[LightGBM] [Warning] No further splits with positive gain, best gain: -inf\n",
      "[LightGBM] [Warning] No further splits with positive gain, best gain: -inf\n",
      "[LightGBM] [Warning] No further splits with positive gain, best gain: -inf\n",
      "[LightGBM] [Warning] No further splits with positive gain, best gain: -inf\n",
      "[LightGBM] [Warning] No further splits with positive gain, best gain: -inf\n",
      "[LightGBM] [Warning] No further splits with positive gain, best gain: -inf\n",
      "[LightGBM] [Warning] No further splits with positive gain, best gain: -inf\n",
      "[LightGBM] [Warning] No further splits with positive gain, best gain: -inf\n",
      "[LightGBM] [Warning] No further splits with positive gain, best gain: -inf\n",
      "[LightGBM] [Warning] No further splits with positive gain, best gain: -inf\n",
      "[LightGBM] [Warning] No further splits with positive gain, best gain: -inf\n",
      "[LightGBM] [Warning] No further splits with positive gain, best gain: -inf\n",
      "[LightGBM] [Warning] No further splits with positive gain, best gain: -inf\n",
      "[LightGBM] [Warning] No further splits with positive gain, best gain: -inf\n",
      "[LightGBM] [Warning] No further splits with positive gain, best gain: -inf\n",
      "[LightGBM] [Warning] No further splits with positive gain, best gain: -inf\n",
      "[LightGBM] [Warning] No further splits with positive gain, best gain: -inf\n",
      "[LightGBM] [Warning] No further splits with positive gain, best gain: -inf\n",
      "[LightGBM] [Warning] No further splits with positive gain, best gain: -inf\n",
      "[LightGBM] [Warning] No further splits with positive gain, best gain: -inf\n",
      "[LightGBM] [Warning] No further splits with positive gain, best gain: -inf\n",
      "[LightGBM] [Warning] No further splits with positive gain, best gain: -inf\n",
      "[LightGBM] [Warning] No further splits with positive gain, best gain: -inf\n",
      "[LightGBM] [Warning] No further splits with positive gain, best gain: -inf\n",
      "[LightGBM] [Warning] No further splits with positive gain, best gain: -inf\n",
      "[LightGBM] [Warning] No further splits with positive gain, best gain: -inf\n",
      "[LightGBM] [Warning] No further splits with positive gain, best gain: -inf\n",
      "[LightGBM] [Warning] No further splits with positive gain, best gain: -inf\n",
      "[LightGBM] [Warning] No further splits with positive gain, best gain: -inf\n",
      "[LightGBM] [Warning] No further splits with positive gain, best gain: -inf\n",
      "[LightGBM] [Warning] No further splits with positive gain, best gain: -inf\n",
      "[LightGBM] [Warning] No further splits with positive gain, best gain: -inf\n",
      "[LightGBM] [Warning] No further splits with positive gain, best gain: -inf\n",
      "[LightGBM] [Warning] No further splits with positive gain, best gain: -inf\n",
      "[LightGBM] [Warning] No further splits with positive gain, best gain: -inf\n",
      "[LightGBM] [Warning] No further splits with positive gain, best gain: -inf\n",
      "[LightGBM] [Warning] No further splits with positive gain, best gain: -inf\n",
      "[LightGBM] [Warning] No further splits with positive gain, best gain: -inf\n",
      "[LightGBM] [Warning] No further splits with positive gain, best gain: -inf\n",
      "[LightGBM] [Warning] No further splits with positive gain, best gain: -inf\n",
      "[LightGBM] [Warning] No further splits with positive gain, best gain: -inf\n",
      "[LightGBM] [Warning] No further splits with positive gain, best gain: -inf\n",
      "[LightGBM] [Warning] No further splits with positive gain, best gain: -inf\n",
      "[LightGBM] [Warning] No further splits with positive gain, best gain: -inf\n",
      "[LightGBM] [Warning] No further splits with positive gain, best gain: -inf\n",
      "[LightGBM] [Warning] No further splits with positive gain, best gain: -inf\n",
      "[LightGBM] [Warning] No further splits with positive gain, best gain: -inf\n",
      "[LightGBM] [Warning] No further splits with positive gain, best gain: -inf\n",
      "[LightGBM] [Warning] No further splits with positive gain, best gain: -inf\n",
      "[LightGBM] [Warning] No further splits with positive gain, best gain: -inf\n",
      "[LightGBM] [Warning] No further splits with positive gain, best gain: -inf\n",
      "[LightGBM] [Warning] No further splits with positive gain, best gain: -inf\n",
      "[LightGBM] [Warning] No further splits with positive gain, best gain: -inf\n",
      "[LightGBM] [Warning] No further splits with positive gain, best gain: -inf\n",
      "[LightGBM] [Warning] No further splits with positive gain, best gain: -inf\n",
      "[LightGBM] [Warning] No further splits with positive gain, best gain: -inf\n",
      "[LightGBM] [Warning] No further splits with positive gain, best gain: -inf\n",
      "[LightGBM] [Warning] No further splits with positive gain, best gain: -inf\n",
      "[LightGBM] [Warning] No further splits with positive gain, best gain: -inf\n",
      "[LightGBM] [Warning] No further splits with positive gain, best gain: -inf\n",
      "[LightGBM] [Warning] No further splits with positive gain, best gain: -inf\n",
      "[100]\tvalid_0's binary_logloss: 0.609415\n",
      "[LightGBM] [Warning] No further splits with positive gain, best gain: -inf\n",
      "[LightGBM] [Warning] No further splits with positive gain, best gain: -inf\n",
      "[LightGBM] [Warning] No further splits with positive gain, best gain: -inf\n",
      "[LightGBM] [Warning] No further splits with positive gain, best gain: -inf\n",
      "[LightGBM] [Warning] No further splits with positive gain, best gain: -inf\n",
      "[LightGBM] [Warning] No further splits with positive gain, best gain: -inf\n",
      "[LightGBM] [Warning] No further splits with positive gain, best gain: -inf\n",
      "[LightGBM] [Warning] No further splits with positive gain, best gain: -inf\n",
      "[LightGBM] [Warning] No further splits with positive gain, best gain: -inf\n",
      "[LightGBM] [Warning] No further splits with positive gain, best gain: -inf\n",
      "[LightGBM] [Warning] No further splits with positive gain, best gain: -inf\n",
      "[LightGBM] [Warning] No further splits with positive gain, best gain: -inf\n",
      "[LightGBM] [Warning] No further splits with positive gain, best gain: -inf\n",
      "[LightGBM] [Warning] No further splits with positive gain, best gain: -inf\n",
      "[LightGBM] [Warning] No further splits with positive gain, best gain: -inf\n",
      "[LightGBM] [Warning] No further splits with positive gain, best gain: -inf\n",
      "[LightGBM] [Warning] No further splits with positive gain, best gain: -inf\n",
      "[LightGBM] [Warning] No further splits with positive gain, best gain: -inf\n",
      "[LightGBM] [Warning] No further splits with positive gain, best gain: -inf\n",
      "[LightGBM] [Warning] No further splits with positive gain, best gain: -inf\n",
      "[LightGBM] [Warning] No further splits with positive gain, best gain: -inf\n",
      "[LightGBM] [Warning] No further splits with positive gain, best gain: -inf\n",
      "[LightGBM] [Warning] No further splits with positive gain, best gain: -inf\n",
      "[LightGBM] [Warning] No further splits with positive gain, best gain: -inf\n",
      "[LightGBM] [Warning] No further splits with positive gain, best gain: -inf\n",
      "[LightGBM] [Warning] No further splits with positive gain, best gain: -inf\n",
      "[LightGBM] [Warning] No further splits with positive gain, best gain: -inf\n",
      "[LightGBM] [Warning] No further splits with positive gain, best gain: -inf\n",
      "[LightGBM] [Warning] No further splits with positive gain, best gain: -inf\n",
      "[LightGBM] [Warning] No further splits with positive gain, best gain: -inf\n",
      "[LightGBM] [Warning] No further splits with positive gain, best gain: -inf\n",
      "[LightGBM] [Warning] No further splits with positive gain, best gain: -inf\n",
      "[LightGBM] [Warning] No further splits with positive gain, best gain: -inf\n",
      "[LightGBM] [Warning] No further splits with positive gain, best gain: -inf\n",
      "[LightGBM] [Warning] No further splits with positive gain, best gain: -inf\n",
      "[LightGBM] [Warning] No further splits with positive gain, best gain: -inf\n",
      "[LightGBM] [Warning] No further splits with positive gain, best gain: -inf\n",
      "[LightGBM] [Warning] No further splits with positive gain, best gain: -inf\n",
      "[LightGBM] [Warning] No further splits with positive gain, best gain: -inf\n",
      "[LightGBM] [Warning] No further splits with positive gain, best gain: -inf\n",
      "[LightGBM] [Warning] No further splits with positive gain, best gain: -inf\n",
      "[LightGBM] [Warning] No further splits with positive gain, best gain: -inf\n",
      "[LightGBM] [Warning] No further splits with positive gain, best gain: -inf\n",
      "[LightGBM] [Warning] No further splits with positive gain, best gain: -inf\n",
      "[LightGBM] [Warning] No further splits with positive gain, best gain: -inf\n",
      "[LightGBM] [Warning] No further splits with positive gain, best gain: -inf\n",
      "[LightGBM] [Warning] No further splits with positive gain, best gain: -inf\n",
      "[LightGBM] [Warning] No further splits with positive gain, best gain: -inf\n",
      "[LightGBM] [Warning] No further splits with positive gain, best gain: -inf\n",
      "[LightGBM] [Warning] No further splits with positive gain, best gain: -inf\n",
      "[LightGBM] [Warning] No further splits with positive gain, best gain: -inf\n",
      "[LightGBM] [Warning] No further splits with positive gain, best gain: -inf\n",
      "[LightGBM] [Warning] No further splits with positive gain, best gain: -inf\n",
      "[LightGBM] [Warning] No further splits with positive gain, best gain: -inf\n",
      "[LightGBM] [Warning] No further splits with positive gain, best gain: -inf\n",
      "[LightGBM] [Warning] No further splits with positive gain, best gain: -inf\n",
      "[LightGBM] [Warning] No further splits with positive gain, best gain: -inf\n",
      "Early stopping, best iteration is:\n",
      "[57]\tvalid_0's binary_logloss: 0.60752\n"
     ]
    },
    {
     "ename": "KeyboardInterrupt",
     "evalue": "",
     "output_type": "error",
     "traceback": [
      "\u001b[0;31m---------------------------------------------------------------------------\u001b[0m",
      "\u001b[0;31mKeyboardInterrupt\u001b[0m                         Traceback (most recent call last)",
      "\u001b[0;32m<ipython-input-358-785dd5230086>\u001b[0m in \u001b[0;36m<module>\u001b[0;34m\u001b[0m\n\u001b[1;32m     21\u001b[0m \u001b[0;34m\u001b[0m\u001b[0m\n\u001b[1;32m     22\u001b[0m \u001b[0;34m\u001b[0m\u001b[0m\n\u001b[0;32m---> 23\u001b[0;31m     \u001b[0mrf_model\u001b[0m \u001b[0;34m=\u001b[0m \u001b[0mlgb\u001b[0m\u001b[0;34m.\u001b[0m\u001b[0mtrain\u001b[0m\u001b[0;34m(\u001b[0m\u001b[0mrf_params\u001b[0m\u001b[0;34m,\u001b[0m \u001b[0m_lgbm_train\u001b[0m\u001b[0;34m,\u001b[0m \u001b[0;36m1000\u001b[0m\u001b[0;34m,\u001b[0m \u001b[0m_lgbm_valid\u001b[0m\u001b[0;34m,\u001b[0m \u001b[0mverbose_eval\u001b[0m\u001b[0;34m=\u001b[0m\u001b[0;36m100\u001b[0m\u001b[0;34m,\u001b[0m \u001b[0mearly_stopping_rounds\u001b[0m\u001b[0;34m=\u001b[0m\u001b[0;36m100\u001b[0m\u001b[0;34m)\u001b[0m\u001b[0;34m\u001b[0m\u001b[0;34m\u001b[0m\u001b[0m\n\u001b[0m\u001b[1;32m     24\u001b[0m \u001b[0;31m#     rf_model_list.append(rf_model)\u001b[0m\u001b[0;34m\u001b[0m\u001b[0;34m\u001b[0m\u001b[0;34m\u001b[0m\u001b[0m\n\u001b[1;32m     25\u001b[0m \u001b[0;34m\u001b[0m\u001b[0m\n",
      "\u001b[0;32m~/opt/anaconda3/envs/my_env/lib/python3.6/site-packages/lightgbm/engine.py\u001b[0m in \u001b[0;36mtrain\u001b[0;34m(params, train_set, num_boost_round, valid_sets, valid_names, fobj, feval, init_model, feature_name, categorical_feature, early_stopping_rounds, evals_result, verbose_eval, learning_rates, keep_training_booster, callbacks)\u001b[0m\n\u001b[1;32m    274\u001b[0m         \u001b[0mbooster\u001b[0m\u001b[0;34m.\u001b[0m\u001b[0mbest_score\u001b[0m\u001b[0;34m[\u001b[0m\u001b[0mdataset_name\u001b[0m\u001b[0;34m]\u001b[0m\u001b[0;34m[\u001b[0m\u001b[0meval_name\u001b[0m\u001b[0;34m]\u001b[0m \u001b[0;34m=\u001b[0m \u001b[0mscore\u001b[0m\u001b[0;34m\u001b[0m\u001b[0;34m\u001b[0m\u001b[0m\n\u001b[1;32m    275\u001b[0m     \u001b[0;32mif\u001b[0m \u001b[0;32mnot\u001b[0m \u001b[0mkeep_training_booster\u001b[0m\u001b[0;34m:\u001b[0m\u001b[0;34m\u001b[0m\u001b[0;34m\u001b[0m\u001b[0m\n\u001b[0;32m--> 276\u001b[0;31m         \u001b[0mbooster\u001b[0m\u001b[0;34m.\u001b[0m\u001b[0mmodel_from_string\u001b[0m\u001b[0;34m(\u001b[0m\u001b[0mbooster\u001b[0m\u001b[0;34m.\u001b[0m\u001b[0mmodel_to_string\u001b[0m\u001b[0;34m(\u001b[0m\u001b[0;34m)\u001b[0m\u001b[0;34m,\u001b[0m \u001b[0;32mFalse\u001b[0m\u001b[0;34m)\u001b[0m\u001b[0;34m.\u001b[0m\u001b[0mfree_dataset\u001b[0m\u001b[0;34m(\u001b[0m\u001b[0;34m)\u001b[0m\u001b[0;34m\u001b[0m\u001b[0;34m\u001b[0m\u001b[0m\n\u001b[0m\u001b[1;32m    277\u001b[0m     \u001b[0;32mreturn\u001b[0m \u001b[0mbooster\u001b[0m\u001b[0;34m\u001b[0m\u001b[0;34m\u001b[0m\u001b[0m\n\u001b[1;32m    278\u001b[0m \u001b[0;34m\u001b[0m\u001b[0m\n",
      "\u001b[0;32m~/opt/anaconda3/envs/my_env/lib/python3.6/site-packages/lightgbm/basic.py\u001b[0m in \u001b[0;36mmodel_from_string\u001b[0;34m(self, model_str, verbose)\u001b[0m\n\u001b[1;32m   2696\u001b[0m             \u001b[0mc_str\u001b[0m\u001b[0;34m(\u001b[0m\u001b[0mmodel_str\u001b[0m\u001b[0;34m)\u001b[0m\u001b[0;34m,\u001b[0m\u001b[0;34m\u001b[0m\u001b[0;34m\u001b[0m\u001b[0m\n\u001b[1;32m   2697\u001b[0m             \u001b[0mctypes\u001b[0m\u001b[0;34m.\u001b[0m\u001b[0mbyref\u001b[0m\u001b[0;34m(\u001b[0m\u001b[0mout_num_iterations\u001b[0m\u001b[0;34m)\u001b[0m\u001b[0;34m,\u001b[0m\u001b[0;34m\u001b[0m\u001b[0;34m\u001b[0m\u001b[0m\n\u001b[0;32m-> 2698\u001b[0;31m             ctypes.byref(self.handle)))\n\u001b[0m\u001b[1;32m   2699\u001b[0m         \u001b[0mout_num_class\u001b[0m \u001b[0;34m=\u001b[0m \u001b[0mctypes\u001b[0m\u001b[0;34m.\u001b[0m\u001b[0mc_int\u001b[0m\u001b[0;34m(\u001b[0m\u001b[0;36m0\u001b[0m\u001b[0;34m)\u001b[0m\u001b[0;34m\u001b[0m\u001b[0;34m\u001b[0m\u001b[0m\n\u001b[1;32m   2700\u001b[0m         _safe_call(_LIB.LGBM_BoosterGetNumClasses(\n",
      "\u001b[0;31mKeyboardInterrupt\u001b[0m: "
     ]
    }
   ],
   "source": [
    "rf_valid_list = []\n",
    "rf_test_list = []\n",
    "rf_model_list = []\n",
    "\n",
    "gbdt_valid_list = []\n",
    "gbdt_test_list = []\n",
    "gbdt_model_list = []\n",
    "\n",
    "for train_idx, valid_idx in folds.split(train_df):\n",
    "    _train_df = train_df.iloc[train_idx, :]\n",
    "    _valid_df = train_df.iloc[valid_idx, :]\n",
    "\n",
    "    _train_x = _train_df[columns_list]\n",
    "    _valid_x = _valid_df[columns_list]\n",
    "    \n",
    "    _train_y = _train_df['voted'] - 1\n",
    "    _valid_y = _valid_df['voted'] - 1\n",
    "    \n",
    "    _lgbm_train = lgb.Dataset(_train_x, label = _train_y)\n",
    "    _lgbm_valid = lgb.Dataset(_valid_x, label = _valid_y)\n",
    "    \n",
    "    rf_model = lgb(**rf_params)\n",
    "    rf_model.fit(_train_x, _train_y)\n",
    "#     rf_model = lgb.train(rf_params, _lgbm_train, 1000, _lgbm_valid, verbose_eval=100, early_stopping_rounds=100)\n",
    "#     rf_model_list.append(rf_model)\n",
    "    \n",
    "#     gbdt_model = lgb.train(gbdt_params, _lgbm_train, 1000, _lgbm_valid, verbose_eval=100, early_stopping_rounds=100)\n",
    "#     gbdt_model_list.append(gbdt_model)\n",
    "    \n",
    "#     rf_result = rf_model.predict(_valid_x)\n",
    "#     gbdt_result = gbdt_model.predict(_valid_x)\n",
    "    \n",
    "#     rf_valid_list.append(rf_result)\n",
    "#     gbdt_valid_list.append(gbdt_result)\n",
    "    \n",
    "#     print('rf:',roc_auc_score(_valid_y, rf_result))\n",
    "#     print('gbdt:',roc_auc_score(_valid_y, gbdt_result))\n",
    "    \n",
    "    \n",
    "#     rf_test_result = rf_model.predict(submission_x_df)\n",
    "#     gbdt_test_result = gbdt_model.predict(submission_x_df)\n",
    "    \n",
    "#     rf_test_list.append(rf_test_result)\n",
    "#     gbdt_test_list.append(gbdt_test_result)"
   ]
  },
  {
   "cell_type": "code",
   "execution_count": 135,
   "metadata": {},
   "outputs": [
    {
     "data": {
      "text/plain": [
       "0.8366345561028183"
      ]
     },
     "execution_count": 135,
     "metadata": {},
     "output_type": "execute_result"
    }
   ],
   "source": [
    "sum(rf_test_list) / len(rf_test_list)"
   ]
  },
  {
   "cell_type": "code",
   "execution_count": 138,
   "metadata": {},
   "outputs": [
    {
     "data": {
      "text/plain": [
       "0.8366345561028183"
      ]
     },
     "execution_count": 138,
     "metadata": {},
     "output_type": "execute_result"
    }
   ],
   "source": [
    "sum(rf_valid_list) / len(rf_valid_list)"
   ]
  },
  {
   "cell_type": "code",
   "execution_count": 144,
   "metadata": {},
   "outputs": [
    {
     "data": {
      "text/plain": [
       "array([0.64834378, 0.82281771, 0.46175778, ..., 0.28173064, 0.38728874,\n",
       "       0.61694295])"
      ]
     },
     "execution_count": 144,
     "metadata": {},
     "output_type": "execute_result"
    }
   ],
   "source": [
    "np.array(rf_test_list).mean(axis=0)"
   ]
  },
  {
   "cell_type": "code",
   "execution_count": null,
   "metadata": {},
   "outputs": [],
   "source": []
  },
  {
   "cell_type": "code",
   "execution_count": 139,
   "metadata": {},
   "outputs": [],
   "source": [
    "sample_submission_df = pd.read_csv('data/sample_submission.csv')"
   ]
  },
  {
   "cell_type": "code",
   "execution_count": 140,
   "metadata": {},
   "outputs": [
    {
     "data": {
      "text/html": [
       "<div>\n",
       "<style scoped>\n",
       "    .dataframe tbody tr th:only-of-type {\n",
       "        vertical-align: middle;\n",
       "    }\n",
       "\n",
       "    .dataframe tbody tr th {\n",
       "        vertical-align: top;\n",
       "    }\n",
       "\n",
       "    .dataframe thead th {\n",
       "        text-align: right;\n",
       "    }\n",
       "</style>\n",
       "<table border=\"1\" class=\"dataframe\">\n",
       "  <thead>\n",
       "    <tr style=\"text-align: right;\">\n",
       "      <th></th>\n",
       "      <th>index</th>\n",
       "      <th>voted</th>\n",
       "    </tr>\n",
       "  </thead>\n",
       "  <tbody>\n",
       "    <tr>\n",
       "      <th>0</th>\n",
       "      <td>0</td>\n",
       "      <td>0</td>\n",
       "    </tr>\n",
       "    <tr>\n",
       "      <th>1</th>\n",
       "      <td>1</td>\n",
       "      <td>0</td>\n",
       "    </tr>\n",
       "    <tr>\n",
       "      <th>2</th>\n",
       "      <td>2</td>\n",
       "      <td>0</td>\n",
       "    </tr>\n",
       "    <tr>\n",
       "      <th>3</th>\n",
       "      <td>3</td>\n",
       "      <td>0</td>\n",
       "    </tr>\n",
       "    <tr>\n",
       "      <th>4</th>\n",
       "      <td>4</td>\n",
       "      <td>0</td>\n",
       "    </tr>\n",
       "    <tr>\n",
       "      <th>...</th>\n",
       "      <td>...</td>\n",
       "      <td>...</td>\n",
       "    </tr>\n",
       "    <tr>\n",
       "      <th>11378</th>\n",
       "      <td>11378</td>\n",
       "      <td>0</td>\n",
       "    </tr>\n",
       "    <tr>\n",
       "      <th>11379</th>\n",
       "      <td>11379</td>\n",
       "      <td>0</td>\n",
       "    </tr>\n",
       "    <tr>\n",
       "      <th>11380</th>\n",
       "      <td>11380</td>\n",
       "      <td>0</td>\n",
       "    </tr>\n",
       "    <tr>\n",
       "      <th>11381</th>\n",
       "      <td>11381</td>\n",
       "      <td>0</td>\n",
       "    </tr>\n",
       "    <tr>\n",
       "      <th>11382</th>\n",
       "      <td>11382</td>\n",
       "      <td>0</td>\n",
       "    </tr>\n",
       "  </tbody>\n",
       "</table>\n",
       "<p>11383 rows × 2 columns</p>\n",
       "</div>"
      ],
      "text/plain": [
       "       index  voted\n",
       "0          0      0\n",
       "1          1      0\n",
       "2          2      0\n",
       "3          3      0\n",
       "4          4      0\n",
       "...      ...    ...\n",
       "11378  11378      0\n",
       "11379  11379      0\n",
       "11380  11380      0\n",
       "11381  11381      0\n",
       "11382  11382      0\n",
       "\n",
       "[11383 rows x 2 columns]"
      ]
     },
     "execution_count": 140,
     "metadata": {},
     "output_type": "execute_result"
    }
   ],
   "source": [
    "sample_submission_df"
   ]
  },
  {
   "cell_type": "code",
   "execution_count": 145,
   "metadata": {},
   "outputs": [],
   "source": [
    "sample_submission_df['voted'] = np.array(rf_test_list).mean(axis=0) + 1"
   ]
  },
  {
   "cell_type": "code",
   "execution_count": 146,
   "metadata": {},
   "outputs": [
    {
     "data": {
      "text/html": [
       "<div>\n",
       "<style scoped>\n",
       "    .dataframe tbody tr th:only-of-type {\n",
       "        vertical-align: middle;\n",
       "    }\n",
       "\n",
       "    .dataframe tbody tr th {\n",
       "        vertical-align: top;\n",
       "    }\n",
       "\n",
       "    .dataframe thead th {\n",
       "        text-align: right;\n",
       "    }\n",
       "</style>\n",
       "<table border=\"1\" class=\"dataframe\">\n",
       "  <thead>\n",
       "    <tr style=\"text-align: right;\">\n",
       "      <th></th>\n",
       "      <th>index</th>\n",
       "      <th>voted</th>\n",
       "    </tr>\n",
       "  </thead>\n",
       "  <tbody>\n",
       "    <tr>\n",
       "      <th>0</th>\n",
       "      <td>0</td>\n",
       "      <td>1.648344</td>\n",
       "    </tr>\n",
       "    <tr>\n",
       "      <th>1</th>\n",
       "      <td>1</td>\n",
       "      <td>1.822818</td>\n",
       "    </tr>\n",
       "    <tr>\n",
       "      <th>2</th>\n",
       "      <td>2</td>\n",
       "      <td>1.461758</td>\n",
       "    </tr>\n",
       "    <tr>\n",
       "      <th>3</th>\n",
       "      <td>3</td>\n",
       "      <td>1.218767</td>\n",
       "    </tr>\n",
       "    <tr>\n",
       "      <th>4</th>\n",
       "      <td>4</td>\n",
       "      <td>1.724281</td>\n",
       "    </tr>\n",
       "    <tr>\n",
       "      <th>...</th>\n",
       "      <td>...</td>\n",
       "      <td>...</td>\n",
       "    </tr>\n",
       "    <tr>\n",
       "      <th>11378</th>\n",
       "      <td>11378</td>\n",
       "      <td>1.118153</td>\n",
       "    </tr>\n",
       "    <tr>\n",
       "      <th>11379</th>\n",
       "      <td>11379</td>\n",
       "      <td>1.809031</td>\n",
       "    </tr>\n",
       "    <tr>\n",
       "      <th>11380</th>\n",
       "      <td>11380</td>\n",
       "      <td>1.281731</td>\n",
       "    </tr>\n",
       "    <tr>\n",
       "      <th>11381</th>\n",
       "      <td>11381</td>\n",
       "      <td>1.387289</td>\n",
       "    </tr>\n",
       "    <tr>\n",
       "      <th>11382</th>\n",
       "      <td>11382</td>\n",
       "      <td>1.616943</td>\n",
       "    </tr>\n",
       "  </tbody>\n",
       "</table>\n",
       "<p>11383 rows × 2 columns</p>\n",
       "</div>"
      ],
      "text/plain": [
       "       index     voted\n",
       "0          0  1.648344\n",
       "1          1  1.822818\n",
       "2          2  1.461758\n",
       "3          3  1.218767\n",
       "4          4  1.724281\n",
       "...      ...       ...\n",
       "11378  11378  1.118153\n",
       "11379  11379  1.809031\n",
       "11380  11380  1.281731\n",
       "11381  11381  1.387289\n",
       "11382  11382  1.616943\n",
       "\n",
       "[11383 rows x 2 columns]"
      ]
     },
     "execution_count": 146,
     "metadata": {},
     "output_type": "execute_result"
    }
   ],
   "source": [
    "sample_submission_df"
   ]
  },
  {
   "cell_type": "code",
   "execution_count": 147,
   "metadata": {},
   "outputs": [],
   "source": [
    "sample_submission_df.to_csv('data/submission.csv', index=False)"
   ]
  },
  {
   "cell_type": "code",
   "execution_count": null,
   "metadata": {},
   "outputs": [],
   "source": []
  },
  {
   "cell_type": "markdown",
   "metadata": {},
   "source": [
    "# train model"
   ]
  },
  {
   "cell_type": "markdown",
   "metadata": {},
   "source": [
    "## random forest"
   ]
  },
  {
   "cell_type": "code",
   "execution_count": null,
   "metadata": {},
   "outputs": [],
   "source": []
  },
  {
   "cell_type": "code",
   "execution_count": 396,
   "metadata": {},
   "outputs": [],
   "source": [
    "params = {'learning_rate': 0.01, \n",
    "          'max_depth': -1, \n",
    "          'boosting_type': 'rf', \n",
    "          'objective': 'binary', \n",
    "          'metric': 'binary_logloss', \n",
    "          'is_training_metric': True, \n",
    "          'num_leaves': 512, \n",
    "          'feature_fraction': 0.7, \n",
    "          'bagging_fraction': 0.6, \n",
    "          'bagging_freq': 10, \n",
    "          'seed':2020}"
   ]
  },
  {
   "cell_type": "code",
   "execution_count": 397,
   "metadata": {},
   "outputs": [],
   "source": [
    "rf_lgbm = lgb(**params)"
   ]
  },
  {
   "cell_type": "code",
   "execution_count": 398,
   "metadata": {},
   "outputs": [
    {
     "name": "stderr",
     "output_type": "stream",
     "text": [
      "/Users/jeongsuchan/.local/lib/python3.6/site-packages/sklearn/utils/validation.py:73: DataConversionWarning: A column-vector y was passed when a 1d array was expected. Please change the shape of y to (n_samples, ), for example using ravel().\n",
      "  return f(**kwargs)\n"
     ]
    },
    {
     "name": "stdout",
     "output_type": "stream",
     "text": [
      "[LightGBM] [Warning] bagging_freq is set=10, subsample_freq=0 will be ignored. Current value: bagging_freq=10\n",
      "[LightGBM] [Warning] feature_fraction is set=0.7, colsample_bytree=1.0 will be ignored. Current value: feature_fraction=0.7\n",
      "[LightGBM] [Warning] bagging_fraction is set=0.6, subsample=1.0 will be ignored. Current value: bagging_fraction=0.6\n"
     ]
    }
   ],
   "source": [
    "rf_model = rf_lgbm.fit(train_x_df, train_y_df)"
   ]
  },
  {
   "cell_type": "code",
   "execution_count": 399,
   "metadata": {},
   "outputs": [
    {
     "data": {
      "text/plain": [
       "array([14153,  8927,  7221,  5964,  7145,  7690], dtype=int32)"
      ]
     },
     "execution_count": 399,
     "metadata": {},
     "output_type": "execute_result"
    }
   ],
   "source": [
    "rf_model.feature_importances_"
   ]
  },
  {
   "cell_type": "code",
   "execution_count": 400,
   "metadata": {},
   "outputs": [
    {
     "data": {
      "text/plain": [
       "Mach_score    14153\n",
       "tp_score_1     8927\n",
       "tp_score_5     7690\n",
       "tp_score_2     7221\n",
       "tp_score_4     7145\n",
       "tp_score_3     5964\n",
       "dtype: int32"
      ]
     },
     "execution_count": 400,
     "metadata": {},
     "output_type": "execute_result"
    }
   ],
   "source": [
    "pd.Series(rf_model.feature_importances_, index=columns_list).sort_values(ascending=False)"
   ]
  },
  {
   "cell_type": "code",
   "execution_count": 401,
   "metadata": {},
   "outputs": [],
   "source": [
    "predict_test_rf = rf_model.predict(test_x)"
   ]
  },
  {
   "cell_type": "code",
   "execution_count": 402,
   "metadata": {},
   "outputs": [
    {
     "data": {
      "text/plain": [
       "0.6385027092247598"
      ]
     },
     "execution_count": 402,
     "metadata": {},
     "output_type": "execute_result"
    }
   ],
   "source": [
    "roc_auc_score(test_y['voted'], predict_test_rf)"
   ]
  },
  {
   "cell_type": "code",
   "execution_count": 621,
   "metadata": {},
   "outputs": [
    {
     "data": {
      "text/plain": [
       "0.7737868186654034"
      ]
     },
     "execution_count": 621,
     "metadata": {},
     "output_type": "execute_result"
    }
   ],
   "source": [
    "roc_auc_score(test_y['voted'], predict_test_rf)"
   ]
  },
  {
   "cell_type": "code",
   "execution_count": 560,
   "metadata": {},
   "outputs": [
    {
     "data": {
      "text/plain": [
       "0.7737868186654034"
      ]
     },
     "execution_count": 560,
     "metadata": {},
     "output_type": "execute_result"
    }
   ],
   "source": [
    "roc_auc_score(test_y['voted'], predict_test_rf)"
   ]
  },
  {
   "cell_type": "code",
   "execution_count": 561,
   "metadata": {},
   "outputs": [
    {
     "data": {
      "text/plain": [
       "0.7737868186654034"
      ]
     },
     "execution_count": 561,
     "metadata": {},
     "output_type": "execute_result"
    }
   ],
   "source": [
    "roc_auc_score(test_y['voted'], predict_test_rf)"
   ]
  },
  {
   "cell_type": "code",
   "execution_count": null,
   "metadata": {},
   "outputs": [],
   "source": []
  },
  {
   "cell_type": "code",
   "execution_count": null,
   "metadata": {},
   "outputs": [],
   "source": []
  },
  {
   "cell_type": "markdown",
   "metadata": {},
   "source": [
    "## gbdt"
   ]
  },
  {
   "cell_type": "code",
   "execution_count": 630,
   "metadata": {},
   "outputs": [],
   "source": [
    "params = {'learning_rate': 0.01, \n",
    "          'max_depth': -1, \n",
    "          'boosting': 'gbdt', \n",
    "          'objective': 'binary', \n",
    "          'metric': 'mse', \n",
    "          'is_training_metric': True, \n",
    "          'num_leaves': 72, \n",
    "          'feature_fraction': 0.6, \n",
    "          'bagging_fraction': 0.7, \n",
    "          'bagging_freq': 10, \n",
    "          'seed':2020}"
   ]
  },
  {
   "cell_type": "code",
   "execution_count": 631,
   "metadata": {},
   "outputs": [
    {
     "name": "stdout",
     "output_type": "stream",
     "text": [
      "[LightGBM] [Info] Number of positive: 19825, number of negative: 16600\n",
      "[LightGBM] [Warning] Auto-choosing row-wise multi-threading, the overhead of testing was 0.009716 seconds.\n",
      "You can set `force_row_wise=true` to remove the overhead.\n",
      "And if memory is not enough, you can set `force_col_wise=true`.\n",
      "[LightGBM] [Info] Total Bins 271\n",
      "[LightGBM] [Info] Number of data points in the train set: 36425, number of used features: 46\n",
      "[LightGBM] [Info] [binary:BoostFromScore]: pavg=0.544269 -> initscore=0.177541\n",
      "[LightGBM] [Info] Start training from score 0.177541\n",
      "Training until validation scores don't improve for 100 rounds\n",
      "[100]\tvalid_0's l2: 0.201071\n",
      "[200]\tvalid_0's l2: 0.191999\n",
      "[300]\tvalid_0's l2: 0.189872\n",
      "[400]\tvalid_0's l2: 0.189401\n",
      "[500]\tvalid_0's l2: 0.189265\n",
      "[600]\tvalid_0's l2: 0.189142\n",
      "[700]\tvalid_0's l2: 0.189063\n",
      "Early stopping, best iteration is:\n",
      "[683]\tvalid_0's l2: 0.18903\n"
     ]
    }
   ],
   "source": [
    "gbdt_model = lgb.train(params, train_ds, 1000, test_ds, verbose_eval=100, early_stopping_rounds=100)"
   ]
  },
  {
   "cell_type": "code",
   "execution_count": 632,
   "metadata": {},
   "outputs": [],
   "source": [
    "predict_test_gbdt = gbdt_model.predict(test_x)"
   ]
  },
  {
   "cell_type": "code",
   "execution_count": 625,
   "metadata": {},
   "outputs": [
    {
     "data": {
      "text/plain": [
       "0.7759518202573521"
      ]
     },
     "execution_count": 625,
     "metadata": {},
     "output_type": "execute_result"
    }
   ],
   "source": [
    "roc_auc_score(test_y['voted'], predict_test_gbdt)"
   ]
  },
  {
   "cell_type": "code",
   "execution_count": 633,
   "metadata": {},
   "outputs": [
    {
     "data": {
      "text/plain": [
       "0.7763175316254183"
      ]
     },
     "execution_count": 633,
     "metadata": {},
     "output_type": "execute_result"
    }
   ],
   "source": [
    "roc_auc_score(test_y['voted'], predict_test_gbdt)"
   ]
  },
  {
   "cell_type": "code",
   "execution_count": 286,
   "metadata": {},
   "outputs": [
    {
     "data": {
      "text/plain": [
       "0.7760291850776173"
      ]
     },
     "execution_count": 286,
     "metadata": {},
     "output_type": "execute_result"
    }
   ],
   "source": [
    "roc_auc_score(test_y['voted'], predict_test_gbdt)"
   ]
  },
  {
   "cell_type": "code",
   "execution_count": null,
   "metadata": {},
   "outputs": [],
   "source": []
  },
  {
   "cell_type": "code",
   "execution_count": null,
   "metadata": {},
   "outputs": [],
   "source": []
  },
  {
   "cell_type": "markdown",
   "metadata": {},
   "source": [
    "## goss"
   ]
  },
  {
   "cell_type": "code",
   "execution_count": 654,
   "metadata": {},
   "outputs": [],
   "source": [
    "params = {'learning_rate': 0.01, \n",
    "          'max_depth': -1, \n",
    "          'boosting': 'goss', \n",
    "          'objective': 'binary', \n",
    "          'metric': 'binary_logloss', \n",
    "          'is_training_metric': True, \n",
    "          'num_leaves': 72, \n",
    "          'feature_fraction': 0.5, \n",
    "#           'bagging_fraction': 0.6, \n",
    "#           'bagging_freq': 5, \n",
    "          'seed':2020}"
   ]
  },
  {
   "cell_type": "code",
   "execution_count": 655,
   "metadata": {},
   "outputs": [
    {
     "name": "stdout",
     "output_type": "stream",
     "text": [
      "[LightGBM] [Info] Number of positive: 19825, number of negative: 16600\n",
      "[LightGBM] [Warning] Auto-choosing row-wise multi-threading, the overhead of testing was 0.009608 seconds.\n",
      "You can set `force_row_wise=true` to remove the overhead.\n",
      "And if memory is not enough, you can set `force_col_wise=true`.\n",
      "[LightGBM] [Info] Total Bins 271\n",
      "[LightGBM] [Info] Number of data points in the train set: 36425, number of used features: 46\n",
      "[LightGBM] [Info] Using GOSS\n",
      "[LightGBM] [Info] [binary:BoostFromScore]: pavg=0.544269 -> initscore=0.177541\n",
      "[LightGBM] [Info] Start training from score 0.177541\n",
      "Training until validation scores don't improve for 100 rounds\n",
      "[100]\tvalid_0's binary_logloss: 0.592057\n",
      "[200]\tvalid_0's binary_logloss: 0.566234\n",
      "[300]\tvalid_0's binary_logloss: 0.5573\n",
      "[400]\tvalid_0's binary_logloss: 0.553621\n",
      "[500]\tvalid_0's binary_logloss: 0.552639\n",
      "[600]\tvalid_0's binary_logloss: 0.552186\n",
      "[700]\tvalid_0's binary_logloss: 0.552016\n",
      "Early stopping, best iteration is:\n",
      "[622]\tvalid_0's binary_logloss: 0.551894\n"
     ]
    }
   ],
   "source": [
    "goss_model = lgb.train(params, train_ds, 2000, test_ds, verbose_eval=100, early_stopping_rounds=100)"
   ]
  },
  {
   "cell_type": "code",
   "execution_count": 656,
   "metadata": {},
   "outputs": [],
   "source": [
    "predict_test_goss = goss_model.predict(test_x)"
   ]
  },
  {
   "cell_type": "code",
   "execution_count": 649,
   "metadata": {},
   "outputs": [
    {
     "data": {
      "text/plain": [
       "0.7739911996303572"
      ]
     },
     "execution_count": 649,
     "metadata": {},
     "output_type": "execute_result"
    }
   ],
   "source": [
    "roc_auc_score(test_y['voted'], predict_test_goss)"
   ]
  },
  {
   "cell_type": "code",
   "execution_count": 657,
   "metadata": {},
   "outputs": [
    {
     "data": {
      "text/plain": [
       "0.7739911996303572"
      ]
     },
     "execution_count": 657,
     "metadata": {},
     "output_type": "execute_result"
    }
   ],
   "source": [
    "roc_auc_score(test_y['voted'], predict_test_goss)"
   ]
  },
  {
   "cell_type": "code",
   "execution_count": 306,
   "metadata": {},
   "outputs": [
    {
     "data": {
      "text/plain": [
       "0.7744224332740559"
      ]
     },
     "execution_count": 306,
     "metadata": {},
     "output_type": "execute_result"
    }
   ],
   "source": [
    "roc_auc_score(test_y['voted'], predict_test_goss)"
   ]
  },
  {
   "cell_type": "code",
   "execution_count": 215,
   "metadata": {},
   "outputs": [
    {
     "data": {
      "text/plain": [
       "0.7760057911984655"
      ]
     },
     "execution_count": 215,
     "metadata": {},
     "output_type": "execute_result"
    }
   ],
   "source": [
    "roc_auc_score(test_y['voted'], predict_test_goss)"
   ]
  },
  {
   "cell_type": "code",
   "execution_count": null,
   "metadata": {},
   "outputs": [],
   "source": []
  },
  {
   "cell_type": "code",
   "execution_count": null,
   "metadata": {},
   "outputs": [],
   "source": []
  },
  {
   "cell_type": "markdown",
   "metadata": {},
   "source": [
    "## dart"
   ]
  },
  {
   "cell_type": "code",
   "execution_count": 658,
   "metadata": {},
   "outputs": [],
   "source": [
    "params = {'learning_rate': 0.01, \n",
    "          'max_depth': -1, \n",
    "          'boosting': 'dart', \n",
    "          'objective': 'binary', \n",
    "          'metric': 'mse', \n",
    "          'is_training_metric': True, \n",
    "          'num_leaves': 96, \n",
    "          'feature_fraction': 0.7, \n",
    "          'bagging_fraction': 0.6, \n",
    "          'bagging_freq': 10, \n",
    "          'seed':2020}"
   ]
  },
  {
   "cell_type": "code",
   "execution_count": 659,
   "metadata": {},
   "outputs": [
    {
     "name": "stdout",
     "output_type": "stream",
     "text": [
      "[LightGBM] [Info] Number of positive: 19825, number of negative: 16600\n",
      "[LightGBM] [Warning] Auto-choosing row-wise multi-threading, the overhead of testing was 0.009319 seconds.\n",
      "You can set `force_row_wise=true` to remove the overhead.\n",
      "And if memory is not enough, you can set `force_col_wise=true`.\n",
      "[LightGBM] [Info] Total Bins 271\n",
      "[LightGBM] [Info] Number of data points in the train set: 36425, number of used features: 46\n",
      "[LightGBM] [Info] [binary:BoostFromScore]: pavg=0.544269 -> initscore=0.177541\n",
      "[LightGBM] [Info] Start training from score 0.177541\n"
     ]
    },
    {
     "name": "stderr",
     "output_type": "stream",
     "text": [
      "/Users/jeongsuchan/opt/anaconda3/envs/my_env/lib/python3.6/site-packages/lightgbm/callback.py:186: UserWarning: Early stopping is not available in dart mode\n",
      "  warnings.warn('Early stopping is not available in dart mode')\n"
     ]
    },
    {
     "name": "stdout",
     "output_type": "stream",
     "text": [
      "[100]\tvalid_0's l2: 0.216391\n",
      "[200]\tvalid_0's l2: 0.210758\n",
      "[300]\tvalid_0's l2: 0.204335\n",
      "[400]\tvalid_0's l2: 0.199745\n",
      "[500]\tvalid_0's l2: 0.196844\n",
      "[600]\tvalid_0's l2: 0.194153\n",
      "[700]\tvalid_0's l2: 0.193157\n",
      "[800]\tvalid_0's l2: 0.192104\n",
      "[900]\tvalid_0's l2: 0.191398\n",
      "[1000]\tvalid_0's l2: 0.190673\n"
     ]
    }
   ],
   "source": [
    "dart_model = lgb.train(params, train_ds, 1000, test_ds, verbose_eval=100, early_stopping_rounds=100)"
   ]
  },
  {
   "cell_type": "code",
   "execution_count": 660,
   "metadata": {},
   "outputs": [],
   "source": [
    "predict_test_dart = dart_model.predict(test_x)"
   ]
  },
  {
   "cell_type": "code",
   "execution_count": 661,
   "metadata": {},
   "outputs": [
    {
     "data": {
      "text/plain": [
       "0.7756623088690953"
      ]
     },
     "execution_count": 661,
     "metadata": {},
     "output_type": "execute_result"
    }
   ],
   "source": [
    "roc_auc_score(test_y['voted'], predict_test_dart)"
   ]
  },
  {
   "cell_type": "code",
   "execution_count": 343,
   "metadata": {},
   "outputs": [
    {
     "data": {
      "text/plain": [
       "0.7754879225458754"
      ]
     },
     "execution_count": 343,
     "metadata": {},
     "output_type": "execute_result"
    }
   ],
   "source": [
    "roc_auc_score(test_y['voted'], predict_test_dart)"
   ]
  },
  {
   "cell_type": "code",
   "execution_count": 335,
   "metadata": {},
   "outputs": [
    {
     "data": {
      "text/plain": [
       "0.7749514649810131"
      ]
     },
     "execution_count": 335,
     "metadata": {},
     "output_type": "execute_result"
    }
   ],
   "source": [
    "roc_auc_score(test_y['voted'], predict_test_dart)"
   ]
  },
  {
   "cell_type": "code",
   "execution_count": null,
   "metadata": {},
   "outputs": [],
   "source": []
  },
  {
   "cell_type": "code",
   "execution_count": null,
   "metadata": {},
   "outputs": [],
   "source": []
  },
  {
   "cell_type": "markdown",
   "metadata": {},
   "source": [
    "# dense model"
   ]
  },
  {
   "cell_type": "code",
   "execution_count": 662,
   "metadata": {},
   "outputs": [],
   "source": [
    "import os\n",
    "os.environ[\"KERAS_BACKEND\"] = \"plaidml.keras.backend\"\n",
    "os.environ[\"RUNFILES_DIR\"] = \"/Library/Frameworks/Python.framework/Versions/3.6/share/plaidml\"\n",
    "os.environ[\"PLAIDML_NATIVE_PATH\"] = \"/Library/Frameworks/Python.framework/Versions/3.6/lib/libplaidml.dylib\""
   ]
  },
  {
   "cell_type": "code",
   "execution_count": 663,
   "metadata": {},
   "outputs": [],
   "source": [
    "import tensorflow as tf\n",
    "from tensorflow.keras.layers import Input, Dense, Activation, Conv1D, Conv2D, Flatten, MaxPooling1D, LSTM, BatchNormalization, Dropout, GlobalAveragePooling1D\n",
    "from tensorflow.keras.models import Model\n",
    "from tensorflow.keras.metrics import binary_crossentropy"
   ]
  },
  {
   "cell_type": "code",
   "execution_count": 664,
   "metadata": {},
   "outputs": [
    {
     "data": {
      "text/plain": [
       "'2.2.4'"
      ]
     },
     "execution_count": 664,
     "metadata": {},
     "output_type": "execute_result"
    }
   ],
   "source": [
    "keras.__version__"
   ]
  },
  {
   "cell_type": "code",
   "execution_count": null,
   "metadata": {},
   "outputs": [],
   "source": []
  },
  {
   "cell_type": "code",
   "execution_count": 665,
   "metadata": {},
   "outputs": [
    {
     "data": {
      "text/plain": [
       "46"
      ]
     },
     "execution_count": 665,
     "metadata": {},
     "output_type": "execute_result"
    }
   ],
   "source": [
    "len(train_x.columns)"
   ]
  },
  {
   "cell_type": "code",
   "execution_count": 666,
   "metadata": {},
   "outputs": [],
   "source": [
    "model = tf.keras.Sequential([\n",
    "    Conv1D(256, 1, activation='relu', input_shape=(1, 46)),\n",
    "    Conv1D(512, 1, activation='relu'),\n",
    "    Conv1D(1024, 1, activation='relu'),\n",
    "#     Conv1D(2048, 1, activation='relu', data_format='channels_first'),\n",
    "#     Conv1D(4096, 1, activation='relu', data_format='channels_first'),\n",
    "\n",
    "#     Conv1D(256, 1, activation='relu', input_shape=(82, 1)),\n",
    "#     Conv1D(512, 1, activation='relu'),\n",
    "#     Conv1D(1024, 1, activation='relu'),\n",
    "#     Conv1D(2048, 1, activation='relu'),\n",
    "\n",
    "\n",
    "    Flatten(),\n",
    "    \n",
    "    Dense(64, activation='relu'),\n",
    "    Dense(1, activation='sigmoid')\n",
    "])"
   ]
  },
  {
   "cell_type": "code",
   "execution_count": 667,
   "metadata": {},
   "outputs": [],
   "source": [
    "opt = tf.keras.optimizers.Adam(lr=0.00001)\n",
    "model.compile(loss='binary_crossentropy', optimizer=opt, metrics=[tf.metrics.AUC(name='AUC')])"
   ]
  },
  {
   "cell_type": "code",
   "execution_count": 668,
   "metadata": {},
   "outputs": [
    {
     "name": "stdout",
     "output_type": "stream",
     "text": [
      "Model: \"sequential_4\"\n",
      "_________________________________________________________________\n",
      "Layer (type)                 Output Shape              Param #   \n",
      "=================================================================\n",
      "conv1d_14 (Conv1D)           (None, 1, 256)            12032     \n",
      "_________________________________________________________________\n",
      "conv1d_15 (Conv1D)           (None, 1, 512)            131584    \n",
      "_________________________________________________________________\n",
      "conv1d_16 (Conv1D)           (None, 1, 1024)           525312    \n",
      "_________________________________________________________________\n",
      "flatten_4 (Flatten)          (None, 1024)              0         \n",
      "_________________________________________________________________\n",
      "dense_5 (Dense)              (None, 64)                65600     \n",
      "_________________________________________________________________\n",
      "dense_6 (Dense)              (None, 1)                 65        \n",
      "=================================================================\n",
      "Total params: 734,593\n",
      "Trainable params: 734,593\n",
      "Non-trainable params: 0\n",
      "_________________________________________________________________\n"
     ]
    }
   ],
   "source": [
    "model.summary()"
   ]
  },
  {
   "cell_type": "code",
   "execution_count": 669,
   "metadata": {},
   "outputs": [],
   "source": [
    "import keras\n",
    "import sklearn\n",
    "\n",
    "class DataGenerator(tf.keras.utils.Sequence):\n",
    "    'Generates data for Keras'\n",
    "    def __init__(self, train_x, train_y, batch_size):\n",
    "        \n",
    "        self.train_x = np.array_split(train_x.to_numpy()[:,np.newaxis], len(train_x) // batch_size)\n",
    "        self.train_y = np.array_split(train_y.to_numpy(), len(train_y) // batch_size)\n",
    "        \n",
    "    def __len__(self):\n",
    "        'Denotes the number of batches per epoch'\n",
    "        return len(self.train_x)\n",
    "\n",
    "    def __getitem__(self, index):\n",
    "        return self.train_x[index], self.train_y[index]"
   ]
  },
  {
   "cell_type": "code",
   "execution_count": 670,
   "metadata": {},
   "outputs": [],
   "source": [
    "train_generator = DataGenerator(train_x, train_y, 64)\n",
    "test_generator = DataGenerator(test_x, test_y, 64)"
   ]
  },
  {
   "cell_type": "code",
   "execution_count": 672,
   "metadata": {},
   "outputs": [
    {
     "name": "stdout",
     "output_type": "stream",
     "text": [
      "WARNING:tensorflow:`period` argument is deprecated. Please use `save_freq` to specify the frequency in number of batches seen.\n"
     ]
    },
    {
     "name": "stderr",
     "output_type": "stream",
     "text": [
      "WARNING:tensorflow:`period` argument is deprecated. Please use `save_freq` to specify the frequency in number of batches seen.\n"
     ]
    }
   ],
   "source": [
    "from tensorflow.keras.callbacks import EarlyStopping, ModelCheckpoint\n",
    "\n",
    "early_stop = EarlyStopping(monitor='val_loss', patience=10, mode='min', verbose=1)\n",
    "checkpoint = ModelCheckpoint('model_best_weights_auc.h5', monitor='val_loss', verbose=1, save_best_only=True, mode='min', period=1)"
   ]
  },
  {
   "cell_type": "code",
   "execution_count": 673,
   "metadata": {},
   "outputs": [
    {
     "name": "stdout",
     "output_type": "stream",
     "text": [
      "Epoch 1/100\n",
      "569/569 [==============================] - ETA: 0s - loss: 0.6261 - AUC: 0.7104\n",
      "Epoch 00001: val_loss improved from inf to 0.59180, saving model to model_best_weights_auc.h5\n",
      "569/569 [==============================] - 28s 49ms/step - loss: 0.6261 - AUC: 0.7104 - val_loss: 0.5918 - val_AUC: 0.7472\n",
      "Epoch 2/100\n",
      "569/569 [==============================] - ETA: 0s - loss: 0.5809 - AUC: 0.7519\n",
      "Epoch 00002: val_loss improved from 0.59180 to 0.57069, saving model to model_best_weights_auc.h5\n",
      "569/569 [==============================] - 28s 50ms/step - loss: 0.5809 - AUC: 0.7519 - val_loss: 0.5707 - val_AUC: 0.7589\n",
      "Epoch 3/100\n",
      "568/569 [============================>.] - ETA: 0s - loss: 0.5686 - AUC: 0.7585\n",
      "Epoch 00003: val_loss improved from 0.57069 to 0.56563, saving model to model_best_weights_auc.h5\n",
      "569/569 [==============================] - 28s 50ms/step - loss: 0.5685 - AUC: 0.7586 - val_loss: 0.5656 - val_AUC: 0.7635\n",
      "Epoch 4/100\n",
      "569/569 [==============================] - ETA: 0s - loss: 0.5634 - AUC: 0.7616\n",
      "Epoch 00004: val_loss improved from 0.56563 to 0.55988, saving model to model_best_weights_auc.h5\n",
      "569/569 [==============================] - 28s 50ms/step - loss: 0.5634 - AUC: 0.7616 - val_loss: 0.5599 - val_AUC: 0.7662\n",
      "Epoch 5/100\n",
      "568/569 [============================>.] - ETA: 0s - loss: 0.5606 - AUC: 0.7636\n",
      "Epoch 00005: val_loss improved from 0.55988 to 0.55813, saving model to model_best_weights_auc.h5\n",
      "569/569 [==============================] - 28s 49ms/step - loss: 0.5606 - AUC: 0.7637 - val_loss: 0.5581 - val_AUC: 0.7676\n",
      "Epoch 6/100\n",
      "569/569 [==============================] - ETA: 0s - loss: 0.5586 - AUC: 0.7655\n",
      "Epoch 00006: val_loss did not improve from 0.55813\n",
      "569/569 [==============================] - 28s 49ms/step - loss: 0.5586 - AUC: 0.7655 - val_loss: 0.5582 - val_AUC: 0.7689\n",
      "Epoch 7/100\n",
      "568/569 [============================>.] - ETA: 0s - loss: 0.5570 - AUC: 0.7666\n",
      "Epoch 00007: val_loss improved from 0.55813 to 0.55704, saving model to model_best_weights_auc.h5\n",
      "569/569 [==============================] - 28s 50ms/step - loss: 0.5571 - AUC: 0.7665 - val_loss: 0.5570 - val_AUC: 0.7699\n",
      "Epoch 8/100\n",
      "569/569 [==============================] - ETA: 0s - loss: 0.5560 - AUC: 0.7676\n",
      "Epoch 00008: val_loss improved from 0.55704 to 0.55511, saving model to model_best_weights_auc.h5\n",
      "569/569 [==============================] - 28s 50ms/step - loss: 0.5560 - AUC: 0.7676 - val_loss: 0.5551 - val_AUC: 0.7703\n",
      "Epoch 9/100\n",
      "568/569 [============================>.] - ETA: 0s - loss: 0.5546 - AUC: 0.7694\n",
      "Epoch 00009: val_loss improved from 0.55511 to 0.55510, saving model to model_best_weights_auc.h5\n",
      "569/569 [==============================] - 28s 50ms/step - loss: 0.5546 - AUC: 0.7693 - val_loss: 0.5551 - val_AUC: 0.7712\n",
      "Epoch 10/100\n",
      "569/569 [==============================] - ETA: 0s - loss: 0.5541 - AUC: 0.7698\n",
      "Epoch 00010: val_loss improved from 0.55510 to 0.55416, saving model to model_best_weights_auc.h5\n",
      "569/569 [==============================] - 28s 50ms/step - loss: 0.5541 - AUC: 0.7698 - val_loss: 0.5542 - val_AUC: 0.7720\n",
      "Epoch 11/100\n",
      "568/569 [============================>.] - ETA: 0s - loss: 0.5529 - AUC: 0.7716\n",
      "Epoch 00011: val_loss did not improve from 0.55416\n",
      "569/569 [==============================] - 28s 49ms/step - loss: 0.5530 - AUC: 0.7714 - val_loss: 0.5543 - val_AUC: 0.7718\n",
      "Epoch 12/100\n",
      "569/569 [==============================] - ETA: 0s - loss: 0.5524 - AUC: 0.7718\n",
      "Epoch 00012: val_loss improved from 0.55416 to 0.55317, saving model to model_best_weights_auc.h5\n",
      "569/569 [==============================] - 28s 49ms/step - loss: 0.5524 - AUC: 0.7718 - val_loss: 0.5532 - val_AUC: 0.7726\n",
      "Epoch 13/100\n",
      "568/569 [============================>.] - ETA: 0s - loss: 0.5518 - AUC: 0.7725\n",
      "Epoch 00013: val_loss improved from 0.55317 to 0.55314, saving model to model_best_weights_auc.h5\n",
      "569/569 [==============================] - 28s 50ms/step - loss: 0.5518 - AUC: 0.7725 - val_loss: 0.5531 - val_AUC: 0.7725\n",
      "Epoch 14/100\n",
      "569/569 [==============================] - ETA: 0s - loss: 0.5511 - AUC: 0.7733\n",
      "Epoch 00014: val_loss improved from 0.55314 to 0.55284, saving model to model_best_weights_auc.h5\n",
      "569/569 [==============================] - 28s 49ms/step - loss: 0.5511 - AUC: 0.7733 - val_loss: 0.5528 - val_AUC: 0.7728\n",
      "Epoch 15/100\n",
      "569/569 [==============================] - ETA: 0s - loss: 0.5506 - AUC: 0.7739\n",
      "Epoch 00015: val_loss improved from 0.55284 to 0.55234, saving model to model_best_weights_auc.h5\n",
      "569/569 [==============================] - 28s 49ms/step - loss: 0.5506 - AUC: 0.7739 - val_loss: 0.5523 - val_AUC: 0.7733\n",
      "Epoch 16/100\n",
      "569/569 [==============================] - ETA: 0s - loss: 0.5499 - AUC: 0.7745\n",
      "Epoch 00016: val_loss did not improve from 0.55234\n",
      "569/569 [==============================] - 28s 49ms/step - loss: 0.5499 - AUC: 0.7745 - val_loss: 0.5532 - val_AUC: 0.7737\n",
      "Epoch 17/100\n",
      "568/569 [============================>.] - ETA: 0s - loss: 0.5491 - AUC: 0.7754\n",
      "Epoch 00017: val_loss did not improve from 0.55234\n",
      "569/569 [==============================] - 28s 49ms/step - loss: 0.5491 - AUC: 0.7754 - val_loss: 0.5524 - val_AUC: 0.7739\n",
      "Epoch 18/100\n",
      "569/569 [==============================] - ETA: 0s - loss: 0.5487 - AUC: 0.7757\n",
      "Epoch 00018: val_loss did not improve from 0.55234\n",
      "569/569 [==============================] - 28s 49ms/step - loss: 0.5487 - AUC: 0.7757 - val_loss: 0.5524 - val_AUC: 0.7741\n",
      "Epoch 19/100\n",
      "568/569 [============================>.] - ETA: 0s - loss: 0.5481 - AUC: 0.7765\n",
      "Epoch 00019: val_loss improved from 0.55234 to 0.55212, saving model to model_best_weights_auc.h5\n",
      "569/569 [==============================] - 28s 50ms/step - loss: 0.5481 - AUC: 0.7765 - val_loss: 0.5521 - val_AUC: 0.7740\n",
      "Epoch 20/100\n",
      "569/569 [==============================] - ETA: 0s - loss: 0.5476 - AUC: 0.7773\n",
      "Epoch 00020: val_loss improved from 0.55212 to 0.55143, saving model to model_best_weights_auc.h5\n",
      "569/569 [==============================] - 29s 50ms/step - loss: 0.5476 - AUC: 0.7773 - val_loss: 0.5514 - val_AUC: 0.7744\n",
      "Epoch 21/100\n",
      "568/569 [============================>.] - ETA: 0s - loss: 0.5470 - AUC: 0.7776\n",
      "Epoch 00021: val_loss improved from 0.55143 to 0.55134, saving model to model_best_weights_auc.h5\n",
      "569/569 [==============================] - 28s 50ms/step - loss: 0.5471 - AUC: 0.7775 - val_loss: 0.5513 - val_AUC: 0.7746\n",
      "Epoch 22/100\n",
      "569/569 [==============================] - ETA: 0s - loss: 0.5464 - AUC: 0.7783\n",
      "Epoch 00022: val_loss improved from 0.55134 to 0.55078, saving model to model_best_weights_auc.h5\n",
      "569/569 [==============================] - 28s 50ms/step - loss: 0.5464 - AUC: 0.7783 - val_loss: 0.5508 - val_AUC: 0.7750\n",
      "Epoch 23/100\n",
      "568/569 [============================>.] - ETA: 0s - loss: 0.5462 - AUC: 0.7785\n",
      "Epoch 00023: val_loss did not improve from 0.55078\n",
      "569/569 [==============================] - 28s 49ms/step - loss: 0.5461 - AUC: 0.7786 - val_loss: 0.5512 - val_AUC: 0.7748\n",
      "Epoch 24/100\n",
      "569/569 [==============================] - ETA: 0s - loss: 0.5456 - AUC: 0.7791\n",
      "Epoch 00024: val_loss did not improve from 0.55078\n",
      "569/569 [==============================] - 28s 49ms/step - loss: 0.5456 - AUC: 0.7791 - val_loss: 0.5514 - val_AUC: 0.7750\n",
      "Epoch 25/100\n",
      "568/569 [============================>.] - ETA: 0s - loss: 0.5447 - AUC: 0.7801\n",
      "Epoch 00025: val_loss did not improve from 0.55078\n",
      "569/569 [==============================] - 28s 49ms/step - loss: 0.5447 - AUC: 0.7801 - val_loss: 0.5518 - val_AUC: 0.7749\n",
      "Epoch 26/100\n",
      "569/569 [==============================] - ETA: 0s - loss: 0.5446 - AUC: 0.7802\n",
      "Epoch 00026: val_loss did not improve from 0.55078\n",
      "569/569 [==============================] - 28s 49ms/step - loss: 0.5446 - AUC: 0.7802 - val_loss: 0.5524 - val_AUC: 0.7752\n",
      "Epoch 27/100\n",
      "568/569 [============================>.] - ETA: 0s - loss: 0.5442 - AUC: 0.7807\n",
      "Epoch 00027: val_loss did not improve from 0.55078\n",
      "569/569 [==============================] - 28s 49ms/step - loss: 0.5439 - AUC: 0.7809 - val_loss: 0.5520 - val_AUC: 0.7748\n",
      "Epoch 28/100\n",
      "167/569 [=======>......................] - ETA: 20s - loss: 0.5491 - AUC: 0.7742"
     ]
    },
    {
     "ename": "KeyboardInterrupt",
     "evalue": "",
     "output_type": "error",
     "traceback": [
      "\u001b[0;31m---------------------------------------------------------------------------\u001b[0m",
      "\u001b[0;31mKeyboardInterrupt\u001b[0m                         Traceback (most recent call last)",
      "\u001b[0;32m<ipython-input-673-f6ddabf0ed71>\u001b[0m in \u001b[0;36m<module>\u001b[0;34m\u001b[0m\n\u001b[0;32m----> 1\u001b[0;31m \u001b[0mmodel\u001b[0m\u001b[0;34m.\u001b[0m\u001b[0mfit_generator\u001b[0m\u001b[0;34m(\u001b[0m\u001b[0mgenerator\u001b[0m\u001b[0;34m=\u001b[0m\u001b[0mtrain_generator\u001b[0m\u001b[0;34m,\u001b[0m \u001b[0mvalidation_data\u001b[0m\u001b[0;34m=\u001b[0m\u001b[0mtest_generator\u001b[0m\u001b[0;34m,\u001b[0m \u001b[0mepochs\u001b[0m\u001b[0;34m=\u001b[0m\u001b[0;36m100\u001b[0m\u001b[0;34m,\u001b[0m \u001b[0mshuffle\u001b[0m\u001b[0;34m=\u001b[0m\u001b[0;32mTrue\u001b[0m\u001b[0;34m,\u001b[0m \u001b[0mcallbacks\u001b[0m\u001b[0;34m=\u001b[0m\u001b[0;34m[\u001b[0m\u001b[0mearly_stop\u001b[0m\u001b[0;34m,\u001b[0m \u001b[0mcheckpoint\u001b[0m\u001b[0;34m]\u001b[0m\u001b[0;34m)\u001b[0m\u001b[0;34m\u001b[0m\u001b[0;34m\u001b[0m\u001b[0m\n\u001b[0m",
      "\u001b[0;32m~/opt/anaconda3/envs/my_env/lib/python3.6/site-packages/tensorflow/python/util/deprecation.py\u001b[0m in \u001b[0;36mnew_func\u001b[0;34m(*args, **kwargs)\u001b[0m\n\u001b[1;32m    322\u001b[0m               \u001b[0;34m'in a future version'\u001b[0m \u001b[0;32mif\u001b[0m \u001b[0mdate\u001b[0m \u001b[0;32mis\u001b[0m \u001b[0;32mNone\u001b[0m \u001b[0;32melse\u001b[0m \u001b[0;34m(\u001b[0m\u001b[0;34m'after %s'\u001b[0m \u001b[0;34m%\u001b[0m \u001b[0mdate\u001b[0m\u001b[0;34m)\u001b[0m\u001b[0;34m,\u001b[0m\u001b[0;34m\u001b[0m\u001b[0;34m\u001b[0m\u001b[0m\n\u001b[1;32m    323\u001b[0m               instructions)\n\u001b[0;32m--> 324\u001b[0;31m       \u001b[0;32mreturn\u001b[0m \u001b[0mfunc\u001b[0m\u001b[0;34m(\u001b[0m\u001b[0;34m*\u001b[0m\u001b[0margs\u001b[0m\u001b[0;34m,\u001b[0m \u001b[0;34m**\u001b[0m\u001b[0mkwargs\u001b[0m\u001b[0;34m)\u001b[0m\u001b[0;34m\u001b[0m\u001b[0;34m\u001b[0m\u001b[0m\n\u001b[0m\u001b[1;32m    325\u001b[0m     return tf_decorator.make_decorator(\n\u001b[1;32m    326\u001b[0m         \u001b[0mfunc\u001b[0m\u001b[0;34m,\u001b[0m \u001b[0mnew_func\u001b[0m\u001b[0;34m,\u001b[0m \u001b[0;34m'deprecated'\u001b[0m\u001b[0;34m,\u001b[0m\u001b[0;34m\u001b[0m\u001b[0;34m\u001b[0m\u001b[0m\n",
      "\u001b[0;32m~/opt/anaconda3/envs/my_env/lib/python3.6/site-packages/tensorflow/python/keras/engine/training.py\u001b[0m in \u001b[0;36mfit_generator\u001b[0;34m(self, generator, steps_per_epoch, epochs, verbose, callbacks, validation_data, validation_steps, validation_freq, class_weight, max_queue_size, workers, use_multiprocessing, shuffle, initial_epoch)\u001b[0m\n\u001b[1;32m   1477\u001b[0m         \u001b[0muse_multiprocessing\u001b[0m\u001b[0;34m=\u001b[0m\u001b[0muse_multiprocessing\u001b[0m\u001b[0;34m,\u001b[0m\u001b[0;34m\u001b[0m\u001b[0;34m\u001b[0m\u001b[0m\n\u001b[1;32m   1478\u001b[0m         \u001b[0mshuffle\u001b[0m\u001b[0;34m=\u001b[0m\u001b[0mshuffle\u001b[0m\u001b[0;34m,\u001b[0m\u001b[0;34m\u001b[0m\u001b[0;34m\u001b[0m\u001b[0m\n\u001b[0;32m-> 1479\u001b[0;31m         initial_epoch=initial_epoch)\n\u001b[0m\u001b[1;32m   1480\u001b[0m \u001b[0;34m\u001b[0m\u001b[0m\n\u001b[1;32m   1481\u001b[0m   @deprecation.deprecated(\n",
      "\u001b[0;32m~/opt/anaconda3/envs/my_env/lib/python3.6/site-packages/tensorflow/python/keras/engine/training.py\u001b[0m in \u001b[0;36m_method_wrapper\u001b[0;34m(self, *args, **kwargs)\u001b[0m\n\u001b[1;32m     64\u001b[0m   \u001b[0;32mdef\u001b[0m \u001b[0m_method_wrapper\u001b[0m\u001b[0;34m(\u001b[0m\u001b[0mself\u001b[0m\u001b[0;34m,\u001b[0m \u001b[0;34m*\u001b[0m\u001b[0margs\u001b[0m\u001b[0;34m,\u001b[0m \u001b[0;34m**\u001b[0m\u001b[0mkwargs\u001b[0m\u001b[0;34m)\u001b[0m\u001b[0;34m:\u001b[0m\u001b[0;34m\u001b[0m\u001b[0;34m\u001b[0m\u001b[0m\n\u001b[1;32m     65\u001b[0m     \u001b[0;32mif\u001b[0m \u001b[0;32mnot\u001b[0m \u001b[0mself\u001b[0m\u001b[0;34m.\u001b[0m\u001b[0m_in_multi_worker_mode\u001b[0m\u001b[0;34m(\u001b[0m\u001b[0;34m)\u001b[0m\u001b[0;34m:\u001b[0m  \u001b[0;31m# pylint: disable=protected-access\u001b[0m\u001b[0;34m\u001b[0m\u001b[0;34m\u001b[0m\u001b[0m\n\u001b[0;32m---> 66\u001b[0;31m       \u001b[0;32mreturn\u001b[0m \u001b[0mmethod\u001b[0m\u001b[0;34m(\u001b[0m\u001b[0mself\u001b[0m\u001b[0;34m,\u001b[0m \u001b[0;34m*\u001b[0m\u001b[0margs\u001b[0m\u001b[0;34m,\u001b[0m \u001b[0;34m**\u001b[0m\u001b[0mkwargs\u001b[0m\u001b[0;34m)\u001b[0m\u001b[0;34m\u001b[0m\u001b[0;34m\u001b[0m\u001b[0m\n\u001b[0m\u001b[1;32m     67\u001b[0m \u001b[0;34m\u001b[0m\u001b[0m\n\u001b[1;32m     68\u001b[0m     \u001b[0;31m# Running inside `run_distribute_coordinator` already.\u001b[0m\u001b[0;34m\u001b[0m\u001b[0;34m\u001b[0m\u001b[0;34m\u001b[0m\u001b[0m\n",
      "\u001b[0;32m~/opt/anaconda3/envs/my_env/lib/python3.6/site-packages/tensorflow/python/keras/engine/training.py\u001b[0m in \u001b[0;36mfit\u001b[0;34m(self, x, y, batch_size, epochs, verbose, callbacks, validation_split, validation_data, shuffle, class_weight, sample_weight, initial_epoch, steps_per_epoch, validation_steps, validation_batch_size, validation_freq, max_queue_size, workers, use_multiprocessing)\u001b[0m\n\u001b[1;32m    846\u001b[0m                 batch_size=batch_size):\n\u001b[1;32m    847\u001b[0m               \u001b[0mcallbacks\u001b[0m\u001b[0;34m.\u001b[0m\u001b[0mon_train_batch_begin\u001b[0m\u001b[0;34m(\u001b[0m\u001b[0mstep\u001b[0m\u001b[0;34m)\u001b[0m\u001b[0;34m\u001b[0m\u001b[0;34m\u001b[0m\u001b[0m\n\u001b[0;32m--> 848\u001b[0;31m               \u001b[0mtmp_logs\u001b[0m \u001b[0;34m=\u001b[0m \u001b[0mtrain_function\u001b[0m\u001b[0;34m(\u001b[0m\u001b[0miterator\u001b[0m\u001b[0;34m)\u001b[0m\u001b[0;34m\u001b[0m\u001b[0;34m\u001b[0m\u001b[0m\n\u001b[0m\u001b[1;32m    849\u001b[0m               \u001b[0;31m# Catch OutOfRangeError for Datasets of unknown size.\u001b[0m\u001b[0;34m\u001b[0m\u001b[0;34m\u001b[0m\u001b[0;34m\u001b[0m\u001b[0m\n\u001b[1;32m    850\u001b[0m               \u001b[0;31m# This blocks until the batch has finished executing.\u001b[0m\u001b[0;34m\u001b[0m\u001b[0;34m\u001b[0m\u001b[0;34m\u001b[0m\u001b[0m\n",
      "\u001b[0;32m~/opt/anaconda3/envs/my_env/lib/python3.6/site-packages/tensorflow/python/eager/def_function.py\u001b[0m in \u001b[0;36m__call__\u001b[0;34m(self, *args, **kwds)\u001b[0m\n\u001b[1;32m    578\u001b[0m         \u001b[0mxla_context\u001b[0m\u001b[0;34m.\u001b[0m\u001b[0mExit\u001b[0m\u001b[0;34m(\u001b[0m\u001b[0;34m)\u001b[0m\u001b[0;34m\u001b[0m\u001b[0;34m\u001b[0m\u001b[0m\n\u001b[1;32m    579\u001b[0m     \u001b[0;32melse\u001b[0m\u001b[0;34m:\u001b[0m\u001b[0;34m\u001b[0m\u001b[0;34m\u001b[0m\u001b[0m\n\u001b[0;32m--> 580\u001b[0;31m       \u001b[0mresult\u001b[0m \u001b[0;34m=\u001b[0m \u001b[0mself\u001b[0m\u001b[0;34m.\u001b[0m\u001b[0m_call\u001b[0m\u001b[0;34m(\u001b[0m\u001b[0;34m*\u001b[0m\u001b[0margs\u001b[0m\u001b[0;34m,\u001b[0m \u001b[0;34m**\u001b[0m\u001b[0mkwds\u001b[0m\u001b[0;34m)\u001b[0m\u001b[0;34m\u001b[0m\u001b[0;34m\u001b[0m\u001b[0m\n\u001b[0m\u001b[1;32m    581\u001b[0m \u001b[0;34m\u001b[0m\u001b[0m\n\u001b[1;32m    582\u001b[0m     \u001b[0;32mif\u001b[0m \u001b[0mtracing_count\u001b[0m \u001b[0;34m==\u001b[0m \u001b[0mself\u001b[0m\u001b[0;34m.\u001b[0m\u001b[0m_get_tracing_count\u001b[0m\u001b[0;34m(\u001b[0m\u001b[0;34m)\u001b[0m\u001b[0;34m:\u001b[0m\u001b[0;34m\u001b[0m\u001b[0;34m\u001b[0m\u001b[0m\n",
      "\u001b[0;32m~/opt/anaconda3/envs/my_env/lib/python3.6/site-packages/tensorflow/python/eager/def_function.py\u001b[0m in \u001b[0;36m_call\u001b[0;34m(self, *args, **kwds)\u001b[0m\n\u001b[1;32m    609\u001b[0m       \u001b[0;31m# In this case we have created variables on the first call, so we run the\u001b[0m\u001b[0;34m\u001b[0m\u001b[0;34m\u001b[0m\u001b[0;34m\u001b[0m\u001b[0m\n\u001b[1;32m    610\u001b[0m       \u001b[0;31m# defunned version which is guaranteed to never create variables.\u001b[0m\u001b[0;34m\u001b[0m\u001b[0;34m\u001b[0m\u001b[0;34m\u001b[0m\u001b[0m\n\u001b[0;32m--> 611\u001b[0;31m       \u001b[0;32mreturn\u001b[0m \u001b[0mself\u001b[0m\u001b[0;34m.\u001b[0m\u001b[0m_stateless_fn\u001b[0m\u001b[0;34m(\u001b[0m\u001b[0;34m*\u001b[0m\u001b[0margs\u001b[0m\u001b[0;34m,\u001b[0m \u001b[0;34m**\u001b[0m\u001b[0mkwds\u001b[0m\u001b[0;34m)\u001b[0m  \u001b[0;31m# pylint: disable=not-callable\u001b[0m\u001b[0;34m\u001b[0m\u001b[0;34m\u001b[0m\u001b[0m\n\u001b[0m\u001b[1;32m    612\u001b[0m     \u001b[0;32melif\u001b[0m \u001b[0mself\u001b[0m\u001b[0;34m.\u001b[0m\u001b[0m_stateful_fn\u001b[0m \u001b[0;32mis\u001b[0m \u001b[0;32mnot\u001b[0m \u001b[0;32mNone\u001b[0m\u001b[0;34m:\u001b[0m\u001b[0;34m\u001b[0m\u001b[0;34m\u001b[0m\u001b[0m\n\u001b[1;32m    613\u001b[0m       \u001b[0;31m# Release the lock early so that multiple threads can perform the call\u001b[0m\u001b[0;34m\u001b[0m\u001b[0;34m\u001b[0m\u001b[0;34m\u001b[0m\u001b[0m\n",
      "\u001b[0;32m~/opt/anaconda3/envs/my_env/lib/python3.6/site-packages/tensorflow/python/eager/function.py\u001b[0m in \u001b[0;36m__call__\u001b[0;34m(self, *args, **kwargs)\u001b[0m\n\u001b[1;32m   2418\u001b[0m     \u001b[0;32mwith\u001b[0m \u001b[0mself\u001b[0m\u001b[0;34m.\u001b[0m\u001b[0m_lock\u001b[0m\u001b[0;34m:\u001b[0m\u001b[0;34m\u001b[0m\u001b[0;34m\u001b[0m\u001b[0m\n\u001b[1;32m   2419\u001b[0m       \u001b[0mgraph_function\u001b[0m\u001b[0;34m,\u001b[0m \u001b[0margs\u001b[0m\u001b[0;34m,\u001b[0m \u001b[0mkwargs\u001b[0m \u001b[0;34m=\u001b[0m \u001b[0mself\u001b[0m\u001b[0;34m.\u001b[0m\u001b[0m_maybe_define_function\u001b[0m\u001b[0;34m(\u001b[0m\u001b[0margs\u001b[0m\u001b[0;34m,\u001b[0m \u001b[0mkwargs\u001b[0m\u001b[0;34m)\u001b[0m\u001b[0;34m\u001b[0m\u001b[0;34m\u001b[0m\u001b[0m\n\u001b[0;32m-> 2420\u001b[0;31m     \u001b[0;32mreturn\u001b[0m \u001b[0mgraph_function\u001b[0m\u001b[0;34m.\u001b[0m\u001b[0m_filtered_call\u001b[0m\u001b[0;34m(\u001b[0m\u001b[0margs\u001b[0m\u001b[0;34m,\u001b[0m \u001b[0mkwargs\u001b[0m\u001b[0;34m)\u001b[0m  \u001b[0;31m# pylint: disable=protected-access\u001b[0m\u001b[0;34m\u001b[0m\u001b[0;34m\u001b[0m\u001b[0m\n\u001b[0m\u001b[1;32m   2421\u001b[0m \u001b[0;34m\u001b[0m\u001b[0m\n\u001b[1;32m   2422\u001b[0m   \u001b[0;34m@\u001b[0m\u001b[0mproperty\u001b[0m\u001b[0;34m\u001b[0m\u001b[0;34m\u001b[0m\u001b[0m\n",
      "\u001b[0;32m~/opt/anaconda3/envs/my_env/lib/python3.6/site-packages/tensorflow/python/eager/function.py\u001b[0m in \u001b[0;36m_filtered_call\u001b[0;34m(self, args, kwargs)\u001b[0m\n\u001b[1;32m   1663\u001b[0m          if isinstance(t, (ops.Tensor,\n\u001b[1;32m   1664\u001b[0m                            resource_variable_ops.BaseResourceVariable))),\n\u001b[0;32m-> 1665\u001b[0;31m         self.captured_inputs)\n\u001b[0m\u001b[1;32m   1666\u001b[0m \u001b[0;34m\u001b[0m\u001b[0m\n\u001b[1;32m   1667\u001b[0m   \u001b[0;32mdef\u001b[0m \u001b[0m_call_flat\u001b[0m\u001b[0;34m(\u001b[0m\u001b[0mself\u001b[0m\u001b[0;34m,\u001b[0m \u001b[0margs\u001b[0m\u001b[0;34m,\u001b[0m \u001b[0mcaptured_inputs\u001b[0m\u001b[0;34m,\u001b[0m \u001b[0mcancellation_manager\u001b[0m\u001b[0;34m=\u001b[0m\u001b[0;32mNone\u001b[0m\u001b[0;34m)\u001b[0m\u001b[0;34m:\u001b[0m\u001b[0;34m\u001b[0m\u001b[0;34m\u001b[0m\u001b[0m\n",
      "\u001b[0;32m~/opt/anaconda3/envs/my_env/lib/python3.6/site-packages/tensorflow/python/eager/function.py\u001b[0m in \u001b[0;36m_call_flat\u001b[0;34m(self, args, captured_inputs, cancellation_manager)\u001b[0m\n\u001b[1;32m   1744\u001b[0m       \u001b[0;31m# No tape is watching; skip to running the function.\u001b[0m\u001b[0;34m\u001b[0m\u001b[0;34m\u001b[0m\u001b[0;34m\u001b[0m\u001b[0m\n\u001b[1;32m   1745\u001b[0m       return self._build_call_outputs(self._inference_function.call(\n\u001b[0;32m-> 1746\u001b[0;31m           ctx, args, cancellation_manager=cancellation_manager))\n\u001b[0m\u001b[1;32m   1747\u001b[0m     forward_backward = self._select_forward_and_backward_functions(\n\u001b[1;32m   1748\u001b[0m         \u001b[0margs\u001b[0m\u001b[0;34m,\u001b[0m\u001b[0;34m\u001b[0m\u001b[0;34m\u001b[0m\u001b[0m\n",
      "\u001b[0;32m~/opt/anaconda3/envs/my_env/lib/python3.6/site-packages/tensorflow/python/eager/function.py\u001b[0m in \u001b[0;36mcall\u001b[0;34m(self, ctx, args, cancellation_manager)\u001b[0m\n\u001b[1;32m    596\u001b[0m               \u001b[0minputs\u001b[0m\u001b[0;34m=\u001b[0m\u001b[0margs\u001b[0m\u001b[0;34m,\u001b[0m\u001b[0;34m\u001b[0m\u001b[0;34m\u001b[0m\u001b[0m\n\u001b[1;32m    597\u001b[0m               \u001b[0mattrs\u001b[0m\u001b[0;34m=\u001b[0m\u001b[0mattrs\u001b[0m\u001b[0;34m,\u001b[0m\u001b[0;34m\u001b[0m\u001b[0;34m\u001b[0m\u001b[0m\n\u001b[0;32m--> 598\u001b[0;31m               ctx=ctx)\n\u001b[0m\u001b[1;32m    599\u001b[0m         \u001b[0;32melse\u001b[0m\u001b[0;34m:\u001b[0m\u001b[0;34m\u001b[0m\u001b[0;34m\u001b[0m\u001b[0m\n\u001b[1;32m    600\u001b[0m           outputs = execute.execute_with_cancellation(\n",
      "\u001b[0;32m~/opt/anaconda3/envs/my_env/lib/python3.6/site-packages/tensorflow/python/eager/execute.py\u001b[0m in \u001b[0;36mquick_execute\u001b[0;34m(op_name, num_outputs, inputs, attrs, ctx, name)\u001b[0m\n\u001b[1;32m     58\u001b[0m     \u001b[0mctx\u001b[0m\u001b[0;34m.\u001b[0m\u001b[0mensure_initialized\u001b[0m\u001b[0;34m(\u001b[0m\u001b[0;34m)\u001b[0m\u001b[0;34m\u001b[0m\u001b[0;34m\u001b[0m\u001b[0m\n\u001b[1;32m     59\u001b[0m     tensors = pywrap_tfe.TFE_Py_Execute(ctx._handle, device_name, op_name,\n\u001b[0;32m---> 60\u001b[0;31m                                         inputs, attrs, num_outputs)\n\u001b[0m\u001b[1;32m     61\u001b[0m   \u001b[0;32mexcept\u001b[0m \u001b[0mcore\u001b[0m\u001b[0;34m.\u001b[0m\u001b[0m_NotOkStatusException\u001b[0m \u001b[0;32mas\u001b[0m \u001b[0me\u001b[0m\u001b[0;34m:\u001b[0m\u001b[0;34m\u001b[0m\u001b[0;34m\u001b[0m\u001b[0m\n\u001b[1;32m     62\u001b[0m     \u001b[0;32mif\u001b[0m \u001b[0mname\u001b[0m \u001b[0;32mis\u001b[0m \u001b[0;32mnot\u001b[0m \u001b[0;32mNone\u001b[0m\u001b[0;34m:\u001b[0m\u001b[0;34m\u001b[0m\u001b[0;34m\u001b[0m\u001b[0m\n",
      "\u001b[0;31mKeyboardInterrupt\u001b[0m: "
     ]
    }
   ],
   "source": [
    "model.fit_generator(generator=train_generator, validation_data=test_generator, epochs=100, shuffle=True, callbacks=[early_stop, checkpoint])"
   ]
  },
  {
   "cell_type": "code",
   "execution_count": 674,
   "metadata": {},
   "outputs": [],
   "source": [
    "model.load_weights('model_best_weights_auc.h5')"
   ]
  },
  {
   "cell_type": "code",
   "execution_count": 675,
   "metadata": {},
   "outputs": [],
   "source": [
    "predict_keras = model.predict(test_x.to_numpy()[:,np.newaxis])"
   ]
  },
  {
   "cell_type": "code",
   "execution_count": 676,
   "metadata": {},
   "outputs": [
    {
     "data": {
      "text/plain": [
       "0.7751270646797077"
      ]
     },
     "execution_count": 676,
     "metadata": {},
     "output_type": "execute_result"
    }
   ],
   "source": [
    "roc_auc_score(test_y.to_numpy(), predict_keras)"
   ]
  },
  {
   "cell_type": "code",
   "execution_count": 677,
   "metadata": {},
   "outputs": [
    {
     "data": {
      "text/plain": [
       "(9107, 1)"
      ]
     },
     "execution_count": 677,
     "metadata": {},
     "output_type": "execute_result"
    }
   ],
   "source": [
    "predict_keras.shape"
   ]
  },
  {
   "cell_type": "markdown",
   "metadata": {},
   "source": [
    "# ensemble"
   ]
  },
  {
   "cell_type": "code",
   "execution_count": 332,
   "metadata": {},
   "outputs": [],
   "source": [
    "predict_test = predict_test_rf * 0.2 + predict_test_gbdt * 0.2 + predict_test_goss * 0.3 + predict_test_dart * 0.3"
   ]
  },
  {
   "cell_type": "code",
   "execution_count": 681,
   "metadata": {},
   "outputs": [],
   "source": [
    "predict_test = (predict_test_rf + predict_test_gbdt + predict_test_goss + predict_test_dart + predict_keras[:,0]) / 5"
   ]
  },
  {
   "cell_type": "code",
   "execution_count": 679,
   "metadata": {},
   "outputs": [],
   "source": [
    "predict_test = (predict_test_rf + predict_test_gbdt + predict_test_goss + predict_test_dart) / 4"
   ]
  },
  {
   "cell_type": "code",
   "execution_count": 582,
   "metadata": {},
   "outputs": [],
   "source": [
    "predict_test = (predict_test_gbdt + predict_test_dart) / 2"
   ]
  },
  {
   "cell_type": "code",
   "execution_count": 680,
   "metadata": {},
   "outputs": [
    {
     "data": {
      "text/plain": [
       "0.7760238947605477"
      ]
     },
     "execution_count": 680,
     "metadata": {},
     "output_type": "execute_result"
    }
   ],
   "source": [
    "roc_auc_score(test_y['voted'], predict_test)"
   ]
  },
  {
   "cell_type": "code",
   "execution_count": 682,
   "metadata": {},
   "outputs": [
    {
     "data": {
      "text/plain": [
       "0.7769909064788425"
      ]
     },
     "execution_count": 682,
     "metadata": {},
     "output_type": "execute_result"
    }
   ],
   "source": [
    "roc_auc_score(test_y['voted'], predict_test)"
   ]
  },
  {
   "cell_type": "code",
   "execution_count": 513,
   "metadata": {},
   "outputs": [
    {
     "data": {
      "text/plain": [
       "0.7739498477941804"
      ]
     },
     "execution_count": 513,
     "metadata": {},
     "output_type": "execute_result"
    }
   ],
   "source": [
    "roc_auc_score(test_y['voted'], predict_test)"
   ]
  },
  {
   "cell_type": "code",
   "execution_count": null,
   "metadata": {},
   "outputs": [],
   "source": []
  },
  {
   "cell_type": "markdown",
   "metadata": {},
   "source": [
    "# submission"
   ]
  },
  {
   "cell_type": "code",
   "execution_count": 421,
   "metadata": {},
   "outputs": [],
   "source": [
    "submission_rf = rf_model.predict(submission_x_df)"
   ]
  },
  {
   "cell_type": "code",
   "execution_count": 422,
   "metadata": {},
   "outputs": [],
   "source": [
    "submission_gbdt = gbdt_model.predict(submission_x_df)"
   ]
  },
  {
   "cell_type": "code",
   "execution_count": 423,
   "metadata": {},
   "outputs": [],
   "source": [
    "submission_goss = goss_model.predict(submission_x_df)"
   ]
  },
  {
   "cell_type": "code",
   "execution_count": 424,
   "metadata": {},
   "outputs": [],
   "source": [
    "submission_dart = dart_model.predict(submission_x_df)"
   ]
  },
  {
   "cell_type": "code",
   "execution_count": 683,
   "metadata": {},
   "outputs": [],
   "source": [
    "submission_keras = model.predict(submission_x_df.to_numpy()[:,np.newaxis])"
   ]
  },
  {
   "cell_type": "code",
   "execution_count": 690,
   "metadata": {},
   "outputs": [],
   "source": [
    "submission_result = (submission_rf + submission_gbdt + submission_goss + submission_dart + submission_keras)/5 + 1"
   ]
  },
  {
   "cell_type": "code",
   "execution_count": 426,
   "metadata": {},
   "outputs": [],
   "source": [
    "submission_result = (submission_rf + submission_gbdt + submission_goss + submission_dart)/4 + 1"
   ]
  },
  {
   "cell_type": "code",
   "execution_count": 590,
   "metadata": {},
   "outputs": [],
   "source": [
    "submission_result = (submission_gbdt + submission_dart)/2 + 1"
   ]
  },
  {
   "cell_type": "code",
   "execution_count": 691,
   "metadata": {},
   "outputs": [
    {
     "data": {
      "text/plain": [
       "array([[1.63235157, 1.80902909, 1.48032529, ..., 1.34744152, 1.44321935,\n",
       "        1.61506558],\n",
       "       [1.66699206, 1.84366958, 1.51496578, ..., 1.38208201, 1.47785984,\n",
       "        1.64970607],\n",
       "       [1.60040103, 1.77707855, 1.44837475, ..., 1.31549098, 1.41126881,\n",
       "        1.58311504],\n",
       "       ...,\n",
       "       [1.56627247, 1.74294999, 1.4142462 , ..., 1.28136243, 1.37714026,\n",
       "        1.54898649],\n",
       "       [1.59205626, 1.76873378, 1.44002998, ..., 1.30714622, 1.40292405,\n",
       "        1.57477028],\n",
       "       [1.64274166, 1.81941918, 1.49071538, ..., 1.35783161, 1.45360944,\n",
       "        1.62545567]])"
      ]
     },
     "execution_count": 691,
     "metadata": {},
     "output_type": "execute_result"
    }
   ],
   "source": [
    "submission_result"
   ]
  },
  {
   "cell_type": "code",
   "execution_count": null,
   "metadata": {},
   "outputs": [],
   "source": []
  },
  {
   "cell_type": "code",
   "execution_count": 692,
   "metadata": {},
   "outputs": [],
   "source": [
    "sample_submission_df = pd.read_csv('data/sample_submission.csv')"
   ]
  },
  {
   "cell_type": "code",
   "execution_count": 693,
   "metadata": {},
   "outputs": [
    {
     "data": {
      "text/html": [
       "<div>\n",
       "<style scoped>\n",
       "    .dataframe tbody tr th:only-of-type {\n",
       "        vertical-align: middle;\n",
       "    }\n",
       "\n",
       "    .dataframe tbody tr th {\n",
       "        vertical-align: top;\n",
       "    }\n",
       "\n",
       "    .dataframe thead th {\n",
       "        text-align: right;\n",
       "    }\n",
       "</style>\n",
       "<table border=\"1\" class=\"dataframe\">\n",
       "  <thead>\n",
       "    <tr style=\"text-align: right;\">\n",
       "      <th></th>\n",
       "      <th>index</th>\n",
       "      <th>voted</th>\n",
       "    </tr>\n",
       "  </thead>\n",
       "  <tbody>\n",
       "    <tr>\n",
       "      <th>0</th>\n",
       "      <td>0</td>\n",
       "      <td>0</td>\n",
       "    </tr>\n",
       "    <tr>\n",
       "      <th>1</th>\n",
       "      <td>1</td>\n",
       "      <td>0</td>\n",
       "    </tr>\n",
       "    <tr>\n",
       "      <th>2</th>\n",
       "      <td>2</td>\n",
       "      <td>0</td>\n",
       "    </tr>\n",
       "    <tr>\n",
       "      <th>3</th>\n",
       "      <td>3</td>\n",
       "      <td>0</td>\n",
       "    </tr>\n",
       "    <tr>\n",
       "      <th>4</th>\n",
       "      <td>4</td>\n",
       "      <td>0</td>\n",
       "    </tr>\n",
       "    <tr>\n",
       "      <th>...</th>\n",
       "      <td>...</td>\n",
       "      <td>...</td>\n",
       "    </tr>\n",
       "    <tr>\n",
       "      <th>11378</th>\n",
       "      <td>11378</td>\n",
       "      <td>0</td>\n",
       "    </tr>\n",
       "    <tr>\n",
       "      <th>11379</th>\n",
       "      <td>11379</td>\n",
       "      <td>0</td>\n",
       "    </tr>\n",
       "    <tr>\n",
       "      <th>11380</th>\n",
       "      <td>11380</td>\n",
       "      <td>0</td>\n",
       "    </tr>\n",
       "    <tr>\n",
       "      <th>11381</th>\n",
       "      <td>11381</td>\n",
       "      <td>0</td>\n",
       "    </tr>\n",
       "    <tr>\n",
       "      <th>11382</th>\n",
       "      <td>11382</td>\n",
       "      <td>0</td>\n",
       "    </tr>\n",
       "  </tbody>\n",
       "</table>\n",
       "<p>11383 rows × 2 columns</p>\n",
       "</div>"
      ],
      "text/plain": [
       "       index  voted\n",
       "0          0      0\n",
       "1          1      0\n",
       "2          2      0\n",
       "3          3      0\n",
       "4          4      0\n",
       "...      ...    ...\n",
       "11378  11378      0\n",
       "11379  11379      0\n",
       "11380  11380      0\n",
       "11381  11381      0\n",
       "11382  11382      0\n",
       "\n",
       "[11383 rows x 2 columns]"
      ]
     },
     "execution_count": 693,
     "metadata": {},
     "output_type": "execute_result"
    }
   ],
   "source": [
    "sample_submission_df"
   ]
  },
  {
   "cell_type": "code",
   "execution_count": 694,
   "metadata": {},
   "outputs": [],
   "source": [
    "sample_submission_df['voted'] = submission_result"
   ]
  },
  {
   "cell_type": "code",
   "execution_count": 695,
   "metadata": {},
   "outputs": [
    {
     "data": {
      "text/html": [
       "<div>\n",
       "<style scoped>\n",
       "    .dataframe tbody tr th:only-of-type {\n",
       "        vertical-align: middle;\n",
       "    }\n",
       "\n",
       "    .dataframe tbody tr th {\n",
       "        vertical-align: top;\n",
       "    }\n",
       "\n",
       "    .dataframe thead th {\n",
       "        text-align: right;\n",
       "    }\n",
       "</style>\n",
       "<table border=\"1\" class=\"dataframe\">\n",
       "  <thead>\n",
       "    <tr style=\"text-align: right;\">\n",
       "      <th></th>\n",
       "      <th>index</th>\n",
       "      <th>voted</th>\n",
       "    </tr>\n",
       "  </thead>\n",
       "  <tbody>\n",
       "    <tr>\n",
       "      <th>0</th>\n",
       "      <td>0</td>\n",
       "      <td>1.632352</td>\n",
       "    </tr>\n",
       "    <tr>\n",
       "      <th>1</th>\n",
       "      <td>1</td>\n",
       "      <td>1.666992</td>\n",
       "    </tr>\n",
       "    <tr>\n",
       "      <th>2</th>\n",
       "      <td>2</td>\n",
       "      <td>1.600401</td>\n",
       "    </tr>\n",
       "    <tr>\n",
       "      <th>3</th>\n",
       "      <td>3</td>\n",
       "      <td>1.551001</td>\n",
       "    </tr>\n",
       "    <tr>\n",
       "      <th>4</th>\n",
       "      <td>4</td>\n",
       "      <td>1.658385</td>\n",
       "    </tr>\n",
       "    <tr>\n",
       "      <th>...</th>\n",
       "      <td>...</td>\n",
       "      <td>...</td>\n",
       "    </tr>\n",
       "    <tr>\n",
       "      <th>11378</th>\n",
       "      <td>11378</td>\n",
       "      <td>1.510697</td>\n",
       "    </tr>\n",
       "    <tr>\n",
       "      <th>11379</th>\n",
       "      <td>11379</td>\n",
       "      <td>1.686311</td>\n",
       "    </tr>\n",
       "    <tr>\n",
       "      <th>11380</th>\n",
       "      <td>11380</td>\n",
       "      <td>1.566272</td>\n",
       "    </tr>\n",
       "    <tr>\n",
       "      <th>11381</th>\n",
       "      <td>11381</td>\n",
       "      <td>1.592056</td>\n",
       "    </tr>\n",
       "    <tr>\n",
       "      <th>11382</th>\n",
       "      <td>11382</td>\n",
       "      <td>1.642742</td>\n",
       "    </tr>\n",
       "  </tbody>\n",
       "</table>\n",
       "<p>11383 rows × 2 columns</p>\n",
       "</div>"
      ],
      "text/plain": [
       "       index     voted\n",
       "0          0  1.632352\n",
       "1          1  1.666992\n",
       "2          2  1.600401\n",
       "3          3  1.551001\n",
       "4          4  1.658385\n",
       "...      ...       ...\n",
       "11378  11378  1.510697\n",
       "11379  11379  1.686311\n",
       "11380  11380  1.566272\n",
       "11381  11381  1.592056\n",
       "11382  11382  1.642742\n",
       "\n",
       "[11383 rows x 2 columns]"
      ]
     },
     "execution_count": 695,
     "metadata": {},
     "output_type": "execute_result"
    }
   ],
   "source": [
    "sample_submission_df"
   ]
  },
  {
   "cell_type": "code",
   "execution_count": 696,
   "metadata": {},
   "outputs": [],
   "source": [
    "sample_submission_df.to_csv('data/submission.csv', index=False)"
   ]
  },
  {
   "cell_type": "code",
   "execution_count": null,
   "metadata": {},
   "outputs": [],
   "source": []
  },
  {
   "cell_type": "code",
   "execution_count": null,
   "metadata": {},
   "outputs": [],
   "source": []
  }
 ],
 "metadata": {
  "kernelspec": {
   "display_name": "my_env",
   "language": "python",
   "name": "my_env"
  },
  "language_info": {
   "codemirror_mode": {
    "name": "ipython",
    "version": 3
   },
   "file_extension": ".py",
   "mimetype": "text/x-python",
   "name": "python",
   "nbconvert_exporter": "python",
   "pygments_lexer": "ipython3",
   "version": "3.6.10"
  }
 },
 "nbformat": 4,
 "nbformat_minor": 4
}
