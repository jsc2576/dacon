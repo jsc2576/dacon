{
 "cells": [
  {
   "cell_type": "code",
   "execution_count": 9,
   "metadata": {},
   "outputs": [],
   "source": [
    "import numpy as np\n",
    "import pandas as pd\n",
    "import seaborn as sns\n",
    "import lightgbm as lgb\n",
    "from sklearn.metrics import roc_auc_score\n",
    "\n"
   ]
  },
  {
   "cell_type": "code",
   "execution_count": 10,
   "metadata": {},
   "outputs": [],
   "source": [
    "train_df = pd.read_csv('data/train.csv')\n",
    "test_df = pd.read_csv('data/test_x.csv')"
   ]
  },
  {
   "cell_type": "code",
   "execution_count": 13,
   "metadata": {},
   "outputs": [
    {
     "data": {
      "text/plain": [
       "(45532, 78)"
      ]
     },
     "execution_count": 13,
     "metadata": {},
     "output_type": "execute_result"
    }
   ],
   "source": [
    "train_df.shape"
   ]
  },
  {
   "cell_type": "code",
   "execution_count": 11,
   "metadata": {},
   "outputs": [
    {
     "data": {
      "text/html": [
       "<div>\n",
       "<style scoped>\n",
       "    .dataframe tbody tr th:only-of-type {\n",
       "        vertical-align: middle;\n",
       "    }\n",
       "\n",
       "    .dataframe tbody tr th {\n",
       "        vertical-align: top;\n",
       "    }\n",
       "\n",
       "    .dataframe thead th {\n",
       "        text-align: right;\n",
       "    }\n",
       "</style>\n",
       "<table border=\"1\" class=\"dataframe\">\n",
       "  <thead>\n",
       "    <tr style=\"text-align: right;\">\n",
       "      <th></th>\n",
       "      <th>index</th>\n",
       "      <th>QaA</th>\n",
       "      <th>QaE</th>\n",
       "      <th>QbA</th>\n",
       "      <th>QbE</th>\n",
       "      <th>QcA</th>\n",
       "      <th>QcE</th>\n",
       "      <th>QdA</th>\n",
       "      <th>QdE</th>\n",
       "      <th>QeA</th>\n",
       "      <th>QeE</th>\n",
       "      <th>QfA</th>\n",
       "      <th>QfE</th>\n",
       "      <th>QgA</th>\n",
       "      <th>QgE</th>\n",
       "      <th>QhA</th>\n",
       "      <th>QhE</th>\n",
       "      <th>QiA</th>\n",
       "      <th>QiE</th>\n",
       "      <th>QjA</th>\n",
       "      <th>QjE</th>\n",
       "      <th>QkA</th>\n",
       "      <th>QkE</th>\n",
       "      <th>QlA</th>\n",
       "      <th>QlE</th>\n",
       "      <th>QmA</th>\n",
       "      <th>QmE</th>\n",
       "      <th>QnA</th>\n",
       "      <th>QnE</th>\n",
       "      <th>QoA</th>\n",
       "      <th>QoE</th>\n",
       "      <th>QpA</th>\n",
       "      <th>QpE</th>\n",
       "      <th>QqA</th>\n",
       "      <th>QqE</th>\n",
       "      <th>QrA</th>\n",
       "      <th>QrE</th>\n",
       "      <th>QsA</th>\n",
       "      <th>QsE</th>\n",
       "      <th>QtA</th>\n",
       "      <th>QtE</th>\n",
       "      <th>age_group</th>\n",
       "      <th>education</th>\n",
       "      <th>engnat</th>\n",
       "      <th>familysize</th>\n",
       "      <th>gender</th>\n",
       "      <th>hand</th>\n",
       "      <th>married</th>\n",
       "      <th>race</th>\n",
       "      <th>religion</th>\n",
       "      <th>tp01</th>\n",
       "      <th>tp02</th>\n",
       "      <th>tp03</th>\n",
       "      <th>tp04</th>\n",
       "      <th>tp05</th>\n",
       "      <th>tp06</th>\n",
       "      <th>tp07</th>\n",
       "      <th>tp08</th>\n",
       "      <th>tp09</th>\n",
       "      <th>tp10</th>\n",
       "      <th>urban</th>\n",
       "      <th>voted</th>\n",
       "      <th>wf_01</th>\n",
       "      <th>wf_02</th>\n",
       "      <th>wf_03</th>\n",
       "      <th>wr_01</th>\n",
       "      <th>wr_02</th>\n",
       "      <th>wr_03</th>\n",
       "      <th>wr_04</th>\n",
       "      <th>wr_05</th>\n",
       "      <th>wr_06</th>\n",
       "      <th>wr_07</th>\n",
       "      <th>wr_08</th>\n",
       "      <th>wr_09</th>\n",
       "      <th>wr_10</th>\n",
       "      <th>wr_11</th>\n",
       "      <th>wr_12</th>\n",
       "      <th>wr_13</th>\n",
       "    </tr>\n",
       "  </thead>\n",
       "  <tbody>\n",
       "    <tr>\n",
       "      <th>0</th>\n",
       "      <td>0</td>\n",
       "      <td>3.0</td>\n",
       "      <td>363</td>\n",
       "      <td>4.0</td>\n",
       "      <td>1370</td>\n",
       "      <td>5.0</td>\n",
       "      <td>997</td>\n",
       "      <td>1.0</td>\n",
       "      <td>1024</td>\n",
       "      <td>2.0</td>\n",
       "      <td>1577</td>\n",
       "      <td>5.0</td>\n",
       "      <td>539</td>\n",
       "      <td>2.0</td>\n",
       "      <td>586</td>\n",
       "      <td>4.0</td>\n",
       "      <td>1095</td>\n",
       "      <td>5.0</td>\n",
       "      <td>1142</td>\n",
       "      <td>4.0</td>\n",
       "      <td>1287</td>\n",
       "      <td>4.0</td>\n",
       "      <td>883</td>\n",
       "      <td>4.0</td>\n",
       "      <td>851</td>\n",
       "      <td>2.0</td>\n",
       "      <td>851</td>\n",
       "      <td>5.0</td>\n",
       "      <td>816</td>\n",
       "      <td>2.0</td>\n",
       "      <td>579</td>\n",
       "      <td>2.0</td>\n",
       "      <td>924</td>\n",
       "      <td>2.0</td>\n",
       "      <td>366</td>\n",
       "      <td>2.0</td>\n",
       "      <td>876</td>\n",
       "      <td>2.0</td>\n",
       "      <td>633</td>\n",
       "      <td>1.0</td>\n",
       "      <td>1115</td>\n",
       "      <td>30s</td>\n",
       "      <td>2</td>\n",
       "      <td>1</td>\n",
       "      <td>4</td>\n",
       "      <td>Female</td>\n",
       "      <td>1</td>\n",
       "      <td>3</td>\n",
       "      <td>White</td>\n",
       "      <td>Other</td>\n",
       "      <td>2</td>\n",
       "      <td>2</td>\n",
       "      <td>2</td>\n",
       "      <td>1</td>\n",
       "      <td>2</td>\n",
       "      <td>1</td>\n",
       "      <td>7</td>\n",
       "      <td>4</td>\n",
       "      <td>4</td>\n",
       "      <td>3</td>\n",
       "      <td>1</td>\n",
       "      <td>2</td>\n",
       "      <td>0</td>\n",
       "      <td>0</td>\n",
       "      <td>0</td>\n",
       "      <td>0</td>\n",
       "      <td>1</td>\n",
       "      <td>0</td>\n",
       "      <td>0</td>\n",
       "      <td>1</td>\n",
       "      <td>0</td>\n",
       "      <td>1</td>\n",
       "      <td>1</td>\n",
       "      <td>0</td>\n",
       "      <td>1</td>\n",
       "      <td>0</td>\n",
       "      <td>1</td>\n",
       "      <td>1</td>\n",
       "    </tr>\n",
       "    <tr>\n",
       "      <th>1</th>\n",
       "      <td>1</td>\n",
       "      <td>5.0</td>\n",
       "      <td>647</td>\n",
       "      <td>5.0</td>\n",
       "      <td>1313</td>\n",
       "      <td>3.0</td>\n",
       "      <td>3387</td>\n",
       "      <td>5.0</td>\n",
       "      <td>2969</td>\n",
       "      <td>1.0</td>\n",
       "      <td>4320</td>\n",
       "      <td>3.0</td>\n",
       "      <td>2190</td>\n",
       "      <td>1.0</td>\n",
       "      <td>826</td>\n",
       "      <td>1.0</td>\n",
       "      <td>4082</td>\n",
       "      <td>5.0</td>\n",
       "      <td>1867</td>\n",
       "      <td>3.0</td>\n",
       "      <td>1264</td>\n",
       "      <td>5.0</td>\n",
       "      <td>2943</td>\n",
       "      <td>4.0</td>\n",
       "      <td>3927</td>\n",
       "      <td>1.0</td>\n",
       "      <td>4329</td>\n",
       "      <td>5.0</td>\n",
       "      <td>1828</td>\n",
       "      <td>1.0</td>\n",
       "      <td>1214</td>\n",
       "      <td>5.0</td>\n",
       "      <td>2414</td>\n",
       "      <td>5.0</td>\n",
       "      <td>1356</td>\n",
       "      <td>1.0</td>\n",
       "      <td>3039</td>\n",
       "      <td>4.0</td>\n",
       "      <td>4304</td>\n",
       "      <td>1.0</td>\n",
       "      <td>1346</td>\n",
       "      <td>20s</td>\n",
       "      <td>4</td>\n",
       "      <td>2</td>\n",
       "      <td>3</td>\n",
       "      <td>Female</td>\n",
       "      <td>1</td>\n",
       "      <td>1</td>\n",
       "      <td>Asian</td>\n",
       "      <td>Hindu</td>\n",
       "      <td>1</td>\n",
       "      <td>1</td>\n",
       "      <td>0</td>\n",
       "      <td>0</td>\n",
       "      <td>1</td>\n",
       "      <td>2</td>\n",
       "      <td>3</td>\n",
       "      <td>4</td>\n",
       "      <td>0</td>\n",
       "      <td>4</td>\n",
       "      <td>3</td>\n",
       "      <td>2</td>\n",
       "      <td>0</td>\n",
       "      <td>0</td>\n",
       "      <td>0</td>\n",
       "      <td>0</td>\n",
       "      <td>1</td>\n",
       "      <td>0</td>\n",
       "      <td>1</td>\n",
       "      <td>1</td>\n",
       "      <td>0</td>\n",
       "      <td>1</td>\n",
       "      <td>1</td>\n",
       "      <td>0</td>\n",
       "      <td>1</td>\n",
       "      <td>0</td>\n",
       "      <td>1</td>\n",
       "      <td>1</td>\n",
       "    </tr>\n",
       "    <tr>\n",
       "      <th>2</th>\n",
       "      <td>2</td>\n",
       "      <td>4.0</td>\n",
       "      <td>1623</td>\n",
       "      <td>1.0</td>\n",
       "      <td>1480</td>\n",
       "      <td>1.0</td>\n",
       "      <td>1021</td>\n",
       "      <td>4.0</td>\n",
       "      <td>3374</td>\n",
       "      <td>5.0</td>\n",
       "      <td>1333</td>\n",
       "      <td>1.0</td>\n",
       "      <td>531</td>\n",
       "      <td>4.0</td>\n",
       "      <td>1167</td>\n",
       "      <td>1.0</td>\n",
       "      <td>1016</td>\n",
       "      <td>3.0</td>\n",
       "      <td>2653</td>\n",
       "      <td>2.0</td>\n",
       "      <td>1569</td>\n",
       "      <td>5.0</td>\n",
       "      <td>998</td>\n",
       "      <td>5.0</td>\n",
       "      <td>2547</td>\n",
       "      <td>2.0</td>\n",
       "      <td>918</td>\n",
       "      <td>4.0</td>\n",
       "      <td>2153</td>\n",
       "      <td>2.0</td>\n",
       "      <td>1304</td>\n",
       "      <td>1.0</td>\n",
       "      <td>1131</td>\n",
       "      <td>5.0</td>\n",
       "      <td>937</td>\n",
       "      <td>4.0</td>\n",
       "      <td>1327</td>\n",
       "      <td>1.0</td>\n",
       "      <td>1170</td>\n",
       "      <td>1.0</td>\n",
       "      <td>1409</td>\n",
       "      <td>30s</td>\n",
       "      <td>3</td>\n",
       "      <td>1</td>\n",
       "      <td>3</td>\n",
       "      <td>Male</td>\n",
       "      <td>1</td>\n",
       "      <td>2</td>\n",
       "      <td>White</td>\n",
       "      <td>Other</td>\n",
       "      <td>2</td>\n",
       "      <td>3</td>\n",
       "      <td>1</td>\n",
       "      <td>5</td>\n",
       "      <td>3</td>\n",
       "      <td>4</td>\n",
       "      <td>2</td>\n",
       "      <td>6</td>\n",
       "      <td>1</td>\n",
       "      <td>3</td>\n",
       "      <td>2</td>\n",
       "      <td>1</td>\n",
       "      <td>0</td>\n",
       "      <td>0</td>\n",
       "      <td>1</td>\n",
       "      <td>1</td>\n",
       "      <td>1</td>\n",
       "      <td>0</td>\n",
       "      <td>1</td>\n",
       "      <td>1</td>\n",
       "      <td>0</td>\n",
       "      <td>1</td>\n",
       "      <td>1</td>\n",
       "      <td>1</td>\n",
       "      <td>1</td>\n",
       "      <td>0</td>\n",
       "      <td>1</td>\n",
       "      <td>1</td>\n",
       "    </tr>\n",
       "    <tr>\n",
       "      <th>3</th>\n",
       "      <td>3</td>\n",
       "      <td>3.0</td>\n",
       "      <td>504</td>\n",
       "      <td>3.0</td>\n",
       "      <td>2311</td>\n",
       "      <td>4.0</td>\n",
       "      <td>992</td>\n",
       "      <td>3.0</td>\n",
       "      <td>3245</td>\n",
       "      <td>1.0</td>\n",
       "      <td>357</td>\n",
       "      <td>2.0</td>\n",
       "      <td>1519</td>\n",
       "      <td>4.0</td>\n",
       "      <td>159</td>\n",
       "      <td>3.0</td>\n",
       "      <td>2275</td>\n",
       "      <td>5.0</td>\n",
       "      <td>2809</td>\n",
       "      <td>4.0</td>\n",
       "      <td>5614</td>\n",
       "      <td>3.0</td>\n",
       "      <td>3219</td>\n",
       "      <td>4.0</td>\n",
       "      <td>1296</td>\n",
       "      <td>4.0</td>\n",
       "      <td>9046</td>\n",
       "      <td>4.0</td>\n",
       "      <td>1216</td>\n",
       "      <td>4.0</td>\n",
       "      <td>1169</td>\n",
       "      <td>4.0</td>\n",
       "      <td>23868</td>\n",
       "      <td>3.0</td>\n",
       "      <td>581</td>\n",
       "      <td>4.0</td>\n",
       "      <td>8830</td>\n",
       "      <td>4.0</td>\n",
       "      <td>2392</td>\n",
       "      <td>5.0</td>\n",
       "      <td>1312</td>\n",
       "      <td>20s</td>\n",
       "      <td>4</td>\n",
       "      <td>2</td>\n",
       "      <td>0</td>\n",
       "      <td>Female</td>\n",
       "      <td>1</td>\n",
       "      <td>1</td>\n",
       "      <td>Asian</td>\n",
       "      <td>Hindu</td>\n",
       "      <td>2</td>\n",
       "      <td>4</td>\n",
       "      <td>1</td>\n",
       "      <td>1</td>\n",
       "      <td>1</td>\n",
       "      <td>3</td>\n",
       "      <td>1</td>\n",
       "      <td>3</td>\n",
       "      <td>1</td>\n",
       "      <td>3</td>\n",
       "      <td>3</td>\n",
       "      <td>1</td>\n",
       "      <td>0</td>\n",
       "      <td>0</td>\n",
       "      <td>0</td>\n",
       "      <td>0</td>\n",
       "      <td>1</td>\n",
       "      <td>0</td>\n",
       "      <td>0</td>\n",
       "      <td>0</td>\n",
       "      <td>0</td>\n",
       "      <td>0</td>\n",
       "      <td>1</td>\n",
       "      <td>0</td>\n",
       "      <td>1</td>\n",
       "      <td>0</td>\n",
       "      <td>1</td>\n",
       "      <td>1</td>\n",
       "    </tr>\n",
       "    <tr>\n",
       "      <th>4</th>\n",
       "      <td>4</td>\n",
       "      <td>1.0</td>\n",
       "      <td>927</td>\n",
       "      <td>1.0</td>\n",
       "      <td>707</td>\n",
       "      <td>5.0</td>\n",
       "      <td>556</td>\n",
       "      <td>2.0</td>\n",
       "      <td>1062</td>\n",
       "      <td>1.0</td>\n",
       "      <td>1014</td>\n",
       "      <td>2.0</td>\n",
       "      <td>628</td>\n",
       "      <td>1.0</td>\n",
       "      <td>991</td>\n",
       "      <td>1.0</td>\n",
       "      <td>1259</td>\n",
       "      <td>5.0</td>\n",
       "      <td>1153</td>\n",
       "      <td>5.0</td>\n",
       "      <td>1388</td>\n",
       "      <td>5.0</td>\n",
       "      <td>740</td>\n",
       "      <td>5.0</td>\n",
       "      <td>1181</td>\n",
       "      <td>4.0</td>\n",
       "      <td>547</td>\n",
       "      <td>2.0</td>\n",
       "      <td>575</td>\n",
       "      <td>1.0</td>\n",
       "      <td>754</td>\n",
       "      <td>4.0</td>\n",
       "      <td>1140</td>\n",
       "      <td>5.0</td>\n",
       "      <td>323</td>\n",
       "      <td>5.0</td>\n",
       "      <td>1070</td>\n",
       "      <td>1.0</td>\n",
       "      <td>583</td>\n",
       "      <td>2.0</td>\n",
       "      <td>1889</td>\n",
       "      <td>20s</td>\n",
       "      <td>3</td>\n",
       "      <td>1</td>\n",
       "      <td>2</td>\n",
       "      <td>Male</td>\n",
       "      <td>1</td>\n",
       "      <td>2</td>\n",
       "      <td>White</td>\n",
       "      <td>Agnostic</td>\n",
       "      <td>1</td>\n",
       "      <td>1</td>\n",
       "      <td>1</td>\n",
       "      <td>6</td>\n",
       "      <td>0</td>\n",
       "      <td>2</td>\n",
       "      <td>0</td>\n",
       "      <td>6</td>\n",
       "      <td>2</td>\n",
       "      <td>6</td>\n",
       "      <td>1</td>\n",
       "      <td>1</td>\n",
       "      <td>0</td>\n",
       "      <td>1</td>\n",
       "      <td>0</td>\n",
       "      <td>1</td>\n",
       "      <td>1</td>\n",
       "      <td>0</td>\n",
       "      <td>1</td>\n",
       "      <td>1</td>\n",
       "      <td>1</td>\n",
       "      <td>1</td>\n",
       "      <td>1</td>\n",
       "      <td>0</td>\n",
       "      <td>1</td>\n",
       "      <td>1</td>\n",
       "      <td>1</td>\n",
       "      <td>1</td>\n",
       "    </tr>\n",
       "  </tbody>\n",
       "</table>\n",
       "</div>"
      ],
      "text/plain": [
       "   index  QaA   QaE  QbA   QbE  QcA   QcE  QdA   QdE  QeA   QeE  QfA   QfE  \\\n",
       "0      0  3.0   363  4.0  1370  5.0   997  1.0  1024  2.0  1577  5.0   539   \n",
       "1      1  5.0   647  5.0  1313  3.0  3387  5.0  2969  1.0  4320  3.0  2190   \n",
       "2      2  4.0  1623  1.0  1480  1.0  1021  4.0  3374  5.0  1333  1.0   531   \n",
       "3      3  3.0   504  3.0  2311  4.0   992  3.0  3245  1.0   357  2.0  1519   \n",
       "4      4  1.0   927  1.0   707  5.0   556  2.0  1062  1.0  1014  2.0   628   \n",
       "\n",
       "   QgA   QgE  QhA   QhE  QiA   QiE  QjA   QjE  QkA   QkE  QlA   QlE  QmA  \\\n",
       "0  2.0   586  4.0  1095  5.0  1142  4.0  1287  4.0   883  4.0   851  2.0   \n",
       "1  1.0   826  1.0  4082  5.0  1867  3.0  1264  5.0  2943  4.0  3927  1.0   \n",
       "2  4.0  1167  1.0  1016  3.0  2653  2.0  1569  5.0   998  5.0  2547  2.0   \n",
       "3  4.0   159  3.0  2275  5.0  2809  4.0  5614  3.0  3219  4.0  1296  4.0   \n",
       "4  1.0   991  1.0  1259  5.0  1153  5.0  1388  5.0   740  5.0  1181  4.0   \n",
       "\n",
       "    QmE  QnA   QnE  QoA   QoE  QpA    QpE  QqA   QqE  QrA   QrE  QsA   QsE  \\\n",
       "0   851  5.0   816  2.0   579  2.0    924  2.0   366  2.0   876  2.0   633   \n",
       "1  4329  5.0  1828  1.0  1214  5.0   2414  5.0  1356  1.0  3039  4.0  4304   \n",
       "2   918  4.0  2153  2.0  1304  1.0   1131  5.0   937  4.0  1327  1.0  1170   \n",
       "3  9046  4.0  1216  4.0  1169  4.0  23868  3.0   581  4.0  8830  4.0  2392   \n",
       "4   547  2.0   575  1.0   754  4.0   1140  5.0   323  5.0  1070  1.0   583   \n",
       "\n",
       "   QtA   QtE age_group  education  engnat  familysize  gender  hand  married  \\\n",
       "0  1.0  1115       30s          2       1           4  Female     1        3   \n",
       "1  1.0  1346       20s          4       2           3  Female     1        1   \n",
       "2  1.0  1409       30s          3       1           3    Male     1        2   \n",
       "3  5.0  1312       20s          4       2           0  Female     1        1   \n",
       "4  2.0  1889       20s          3       1           2    Male     1        2   \n",
       "\n",
       "    race  religion  tp01  tp02  tp03  tp04  tp05  tp06  tp07  tp08  tp09  \\\n",
       "0  White     Other     2     2     2     1     2     1     7     4     4   \n",
       "1  Asian     Hindu     1     1     0     0     1     2     3     4     0   \n",
       "2  White     Other     2     3     1     5     3     4     2     6     1   \n",
       "3  Asian     Hindu     2     4     1     1     1     3     1     3     1   \n",
       "4  White  Agnostic     1     1     1     6     0     2     0     6     2   \n",
       "\n",
       "   tp10  urban  voted  wf_01  wf_02  wf_03  wr_01  wr_02  wr_03  wr_04  wr_05  \\\n",
       "0     3      1      2      0      0      0      0      1      0      0      1   \n",
       "1     4      3      2      0      0      0      0      1      0      1      1   \n",
       "2     3      2      1      0      0      1      1      1      0      1      1   \n",
       "3     3      3      1      0      0      0      0      1      0      0      0   \n",
       "4     6      1      1      0      1      0      1      1      0      1      1   \n",
       "\n",
       "   wr_06  wr_07  wr_08  wr_09  wr_10  wr_11  wr_12  wr_13  \n",
       "0      0      1      1      0      1      0      1      1  \n",
       "1      0      1      1      0      1      0      1      1  \n",
       "2      0      1      1      1      1      0      1      1  \n",
       "3      0      0      1      0      1      0      1      1  \n",
       "4      1      1      1      0      1      1      1      1  "
      ]
     },
     "execution_count": 11,
     "metadata": {},
     "output_type": "execute_result"
    }
   ],
   "source": [
    "train_df.head()"
   ]
  },
  {
   "cell_type": "code",
   "execution_count": 12,
   "metadata": {},
   "outputs": [
    {
     "data": {
      "text/html": [
       "<div>\n",
       "<style scoped>\n",
       "    .dataframe tbody tr th:only-of-type {\n",
       "        vertical-align: middle;\n",
       "    }\n",
       "\n",
       "    .dataframe tbody tr th {\n",
       "        vertical-align: top;\n",
       "    }\n",
       "\n",
       "    .dataframe thead th {\n",
       "        text-align: right;\n",
       "    }\n",
       "</style>\n",
       "<table border=\"1\" class=\"dataframe\">\n",
       "  <thead>\n",
       "    <tr style=\"text-align: right;\">\n",
       "      <th></th>\n",
       "      <th>index</th>\n",
       "      <th>QaA</th>\n",
       "      <th>QaE</th>\n",
       "      <th>QbA</th>\n",
       "      <th>QbE</th>\n",
       "      <th>QcA</th>\n",
       "      <th>QcE</th>\n",
       "      <th>QdA</th>\n",
       "      <th>QdE</th>\n",
       "      <th>QeA</th>\n",
       "      <th>QeE</th>\n",
       "      <th>QfA</th>\n",
       "      <th>QfE</th>\n",
       "      <th>QgA</th>\n",
       "      <th>QgE</th>\n",
       "      <th>QhA</th>\n",
       "      <th>QhE</th>\n",
       "      <th>QiA</th>\n",
       "      <th>QiE</th>\n",
       "      <th>QjA</th>\n",
       "      <th>QjE</th>\n",
       "      <th>QkA</th>\n",
       "      <th>QkE</th>\n",
       "      <th>QlA</th>\n",
       "      <th>QlE</th>\n",
       "      <th>QmA</th>\n",
       "      <th>QmE</th>\n",
       "      <th>QnA</th>\n",
       "      <th>QnE</th>\n",
       "      <th>QoA</th>\n",
       "      <th>QoE</th>\n",
       "      <th>QpA</th>\n",
       "      <th>QpE</th>\n",
       "      <th>QqA</th>\n",
       "      <th>QqE</th>\n",
       "      <th>QrA</th>\n",
       "      <th>QrE</th>\n",
       "      <th>QsA</th>\n",
       "      <th>QsE</th>\n",
       "      <th>QtA</th>\n",
       "      <th>QtE</th>\n",
       "      <th>education</th>\n",
       "      <th>engnat</th>\n",
       "      <th>familysize</th>\n",
       "      <th>hand</th>\n",
       "      <th>married</th>\n",
       "      <th>tp01</th>\n",
       "      <th>tp02</th>\n",
       "      <th>tp03</th>\n",
       "      <th>tp04</th>\n",
       "      <th>tp05</th>\n",
       "      <th>tp06</th>\n",
       "      <th>tp07</th>\n",
       "      <th>tp08</th>\n",
       "      <th>tp09</th>\n",
       "      <th>tp10</th>\n",
       "      <th>urban</th>\n",
       "      <th>voted</th>\n",
       "      <th>wf_01</th>\n",
       "      <th>wf_02</th>\n",
       "      <th>wf_03</th>\n",
       "      <th>wr_01</th>\n",
       "      <th>wr_02</th>\n",
       "      <th>wr_03</th>\n",
       "      <th>wr_04</th>\n",
       "      <th>wr_05</th>\n",
       "      <th>wr_06</th>\n",
       "      <th>wr_07</th>\n",
       "      <th>wr_08</th>\n",
       "      <th>wr_09</th>\n",
       "      <th>wr_10</th>\n",
       "      <th>wr_11</th>\n",
       "      <th>wr_12</th>\n",
       "      <th>wr_13</th>\n",
       "    </tr>\n",
       "  </thead>\n",
       "  <tbody>\n",
       "    <tr>\n",
       "      <th>count</th>\n",
       "      <td>45532.000000</td>\n",
       "      <td>45532.000000</td>\n",
       "      <td>4.553200e+04</td>\n",
       "      <td>45532.000000</td>\n",
       "      <td>4.553200e+04</td>\n",
       "      <td>45532.000000</td>\n",
       "      <td>45532.000000</td>\n",
       "      <td>45532.000000</td>\n",
       "      <td>4.553200e+04</td>\n",
       "      <td>45532.000000</td>\n",
       "      <td>4.553200e+04</td>\n",
       "      <td>45532.000000</td>\n",
       "      <td>4.553200e+04</td>\n",
       "      <td>45532.000000</td>\n",
       "      <td>4.553200e+04</td>\n",
       "      <td>45532.000000</td>\n",
       "      <td>4.553200e+04</td>\n",
       "      <td>45532.000000</td>\n",
       "      <td>4.553200e+04</td>\n",
       "      <td>45532.000000</td>\n",
       "      <td>4.553200e+04</td>\n",
       "      <td>45532.000000</td>\n",
       "      <td>4.553200e+04</td>\n",
       "      <td>45532.000000</td>\n",
       "      <td>4.553200e+04</td>\n",
       "      <td>45532.000000</td>\n",
       "      <td>4.553200e+04</td>\n",
       "      <td>45532.000000</td>\n",
       "      <td>45532.000000</td>\n",
       "      <td>45532.000000</td>\n",
       "      <td>4.553200e+04</td>\n",
       "      <td>45532.000000</td>\n",
       "      <td>4.553200e+04</td>\n",
       "      <td>45532.000000</td>\n",
       "      <td>4.553200e+04</td>\n",
       "      <td>45532.000000</td>\n",
       "      <td>4.553200e+04</td>\n",
       "      <td>45532.000000</td>\n",
       "      <td>4.553200e+04</td>\n",
       "      <td>45532.000000</td>\n",
       "      <td>4.553200e+04</td>\n",
       "      <td>45532.000000</td>\n",
       "      <td>45532.000000</td>\n",
       "      <td>4.553200e+04</td>\n",
       "      <td>45532.000000</td>\n",
       "      <td>45532.000000</td>\n",
       "      <td>45532.000000</td>\n",
       "      <td>45532.000000</td>\n",
       "      <td>45532.000000</td>\n",
       "      <td>45532.000000</td>\n",
       "      <td>45532.000000</td>\n",
       "      <td>45532.000000</td>\n",
       "      <td>45532.000000</td>\n",
       "      <td>45532.000000</td>\n",
       "      <td>45532.000000</td>\n",
       "      <td>45532.000000</td>\n",
       "      <td>45532.000000</td>\n",
       "      <td>45532.000000</td>\n",
       "      <td>45532.000000</td>\n",
       "      <td>45532.000000</td>\n",
       "      <td>45532.000000</td>\n",
       "      <td>45532.000000</td>\n",
       "      <td>45532.000000</td>\n",
       "      <td>45532.000000</td>\n",
       "      <td>45532.000000</td>\n",
       "      <td>45532.000000</td>\n",
       "      <td>45532.000000</td>\n",
       "      <td>45532.000000</td>\n",
       "      <td>45532.000000</td>\n",
       "      <td>45532.000000</td>\n",
       "      <td>45532.000000</td>\n",
       "      <td>45532.000000</td>\n",
       "      <td>45532.000000</td>\n",
       "      <td>45532.000000</td>\n",
       "    </tr>\n",
       "    <tr>\n",
       "      <th>mean</th>\n",
       "      <td>22765.500000</td>\n",
       "      <td>2.129535</td>\n",
       "      <td>9.453570e+02</td>\n",
       "      <td>2.904463</td>\n",
       "      <td>2.189589e+03</td>\n",
       "      <td>3.662347</td>\n",
       "      <td>1484.294518</td>\n",
       "      <td>1.749078</td>\n",
       "      <td>1.490672e+03</td>\n",
       "      <td>2.317952</td>\n",
       "      <td>1.899292e+03</td>\n",
       "      <td>2.168145</td>\n",
       "      <td>1.850650e+03</td>\n",
       "      <td>2.560595</td>\n",
       "      <td>1.284608e+03</td>\n",
       "      <td>2.317952</td>\n",
       "      <td>4.584272e+03</td>\n",
       "      <td>3.157691</td>\n",
       "      <td>4.068434e+03</td>\n",
       "      <td>3.575529</td>\n",
       "      <td>2.576363e+03</td>\n",
       "      <td>3.813933</td>\n",
       "      <td>2.038986e+03</td>\n",
       "      <td>4.325727</td>\n",
       "      <td>3.741018e+03</td>\n",
       "      <td>3.509620</td>\n",
       "      <td>2.050287e+03</td>\n",
       "      <td>2.632896</td>\n",
       "      <td>959.880502</td>\n",
       "      <td>3.217232</td>\n",
       "      <td>1.435762e+03</td>\n",
       "      <td>3.071752</td>\n",
       "      <td>1.633479e+03</td>\n",
       "      <td>2.840464</td>\n",
       "      <td>1.154352e+03</td>\n",
       "      <td>2.823487</td>\n",
       "      <td>2.470808e+03</td>\n",
       "      <td>3.432948</td>\n",
       "      <td>1.164117e+03</td>\n",
       "      <td>3.225687</td>\n",
       "      <td>2.240057e+03</td>\n",
       "      <td>2.544474</td>\n",
       "      <td>1.271326</td>\n",
       "      <td>4.716689e+04</td>\n",
       "      <td>1.170715</td>\n",
       "      <td>1.387112</td>\n",
       "      <td>3.017241</td>\n",
       "      <td>2.621189</td>\n",
       "      <td>1.768712</td>\n",
       "      <td>3.041246</td>\n",
       "      <td>1.335918</td>\n",
       "      <td>2.472217</td>\n",
       "      <td>2.031099</td>\n",
       "      <td>3.507226</td>\n",
       "      <td>2.277497</td>\n",
       "      <td>4.317996</td>\n",
       "      <td>2.180401</td>\n",
       "      <td>1.546824</td>\n",
       "      <td>0.079592</td>\n",
       "      <td>0.163665</td>\n",
       "      <td>0.118356</td>\n",
       "      <td>0.709721</td>\n",
       "      <td>0.934793</td>\n",
       "      <td>0.208974</td>\n",
       "      <td>0.868708</td>\n",
       "      <td>0.895722</td>\n",
       "      <td>0.328538</td>\n",
       "      <td>0.938900</td>\n",
       "      <td>0.972195</td>\n",
       "      <td>0.202824</td>\n",
       "      <td>0.946104</td>\n",
       "      <td>0.395195</td>\n",
       "      <td>0.947729</td>\n",
       "      <td>0.927040</td>\n",
       "    </tr>\n",
       "    <tr>\n",
       "      <th>std</th>\n",
       "      <td>13144.100565</td>\n",
       "      <td>1.196952</td>\n",
       "      <td>1.307565e+04</td>\n",
       "      <td>1.566142</td>\n",
       "      <td>3.351027e+04</td>\n",
       "      <td>1.431494</td>\n",
       "      <td>8977.664318</td>\n",
       "      <td>1.043625</td>\n",
       "      <td>1.092260e+04</td>\n",
       "      <td>1.369205</td>\n",
       "      <td>1.670765e+04</td>\n",
       "      <td>1.348653</td>\n",
       "      <td>7.608236e+04</td>\n",
       "      <td>1.510600</td>\n",
       "      <td>9.756584e+03</td>\n",
       "      <td>1.460813</td>\n",
       "      <td>5.020265e+05</td>\n",
       "      <td>1.481740</td>\n",
       "      <td>1.141738e+05</td>\n",
       "      <td>1.361220</td>\n",
       "      <td>5.411432e+04</td>\n",
       "      <td>1.372551</td>\n",
       "      <td>3.069164e+04</td>\n",
       "      <td>1.146992</td>\n",
       "      <td>3.663672e+05</td>\n",
       "      <td>1.375134</td>\n",
       "      <td>7.530787e+04</td>\n",
       "      <td>1.473022</td>\n",
       "      <td>5869.964127</td>\n",
       "      <td>1.476414</td>\n",
       "      <td>1.084997e+04</td>\n",
       "      <td>1.489744</td>\n",
       "      <td>2.600221e+04</td>\n",
       "      <td>1.404342</td>\n",
       "      <td>2.250689e+04</td>\n",
       "      <td>1.424383</td>\n",
       "      <td>1.482890e+05</td>\n",
       "      <td>1.374938</td>\n",
       "      <td>7.433515e+03</td>\n",
       "      <td>1.521603</td>\n",
       "      <td>6.730924e+04</td>\n",
       "      <td>0.941328</td>\n",
       "      <td>0.448436</td>\n",
       "      <td>1.006402e+07</td>\n",
       "      <td>0.468883</td>\n",
       "      <td>0.639987</td>\n",
       "      <td>2.007713</td>\n",
       "      <td>1.897081</td>\n",
       "      <td>1.685069</td>\n",
       "      <td>2.037278</td>\n",
       "      <td>1.452544</td>\n",
       "      <td>2.000658</td>\n",
       "      <td>1.785824</td>\n",
       "      <td>1.971456</td>\n",
       "      <td>1.848783</td>\n",
       "      <td>1.722793</td>\n",
       "      <td>0.762647</td>\n",
       "      <td>0.497808</td>\n",
       "      <td>0.270664</td>\n",
       "      <td>0.369975</td>\n",
       "      <td>0.323033</td>\n",
       "      <td>0.453896</td>\n",
       "      <td>0.246893</td>\n",
       "      <td>0.406580</td>\n",
       "      <td>0.337723</td>\n",
       "      <td>0.305625</td>\n",
       "      <td>0.469687</td>\n",
       "      <td>0.239516</td>\n",
       "      <td>0.164414</td>\n",
       "      <td>0.402107</td>\n",
       "      <td>0.225815</td>\n",
       "      <td>0.488898</td>\n",
       "      <td>0.222575</td>\n",
       "      <td>0.260073</td>\n",
       "    </tr>\n",
       "    <tr>\n",
       "      <th>min</th>\n",
       "      <td>0.000000</td>\n",
       "      <td>1.000000</td>\n",
       "      <td>2.500000e+01</td>\n",
       "      <td>1.000000</td>\n",
       "      <td>2.500000e+01</td>\n",
       "      <td>1.000000</td>\n",
       "      <td>25.000000</td>\n",
       "      <td>1.000000</td>\n",
       "      <td>2.600000e+01</td>\n",
       "      <td>1.000000</td>\n",
       "      <td>2.500000e+01</td>\n",
       "      <td>1.000000</td>\n",
       "      <td>2.500000e+01</td>\n",
       "      <td>1.000000</td>\n",
       "      <td>2.500000e+01</td>\n",
       "      <td>1.000000</td>\n",
       "      <td>0.000000e+00</td>\n",
       "      <td>1.000000</td>\n",
       "      <td>0.000000e+00</td>\n",
       "      <td>1.000000</td>\n",
       "      <td>0.000000e+00</td>\n",
       "      <td>1.000000</td>\n",
       "      <td>0.000000e+00</td>\n",
       "      <td>1.000000</td>\n",
       "      <td>2.500000e+01</td>\n",
       "      <td>1.000000</td>\n",
       "      <td>2.500000e+01</td>\n",
       "      <td>1.000000</td>\n",
       "      <td>25.000000</td>\n",
       "      <td>1.000000</td>\n",
       "      <td>0.000000e+00</td>\n",
       "      <td>1.000000</td>\n",
       "      <td>0.000000e+00</td>\n",
       "      <td>1.000000</td>\n",
       "      <td>0.000000e+00</td>\n",
       "      <td>1.000000</td>\n",
       "      <td>2.500000e+01</td>\n",
       "      <td>1.000000</td>\n",
       "      <td>2.500000e+01</td>\n",
       "      <td>1.000000</td>\n",
       "      <td>2.500000e+01</td>\n",
       "      <td>0.000000</td>\n",
       "      <td>0.000000</td>\n",
       "      <td>0.000000e+00</td>\n",
       "      <td>0.000000</td>\n",
       "      <td>0.000000</td>\n",
       "      <td>0.000000</td>\n",
       "      <td>0.000000</td>\n",
       "      <td>0.000000</td>\n",
       "      <td>0.000000</td>\n",
       "      <td>0.000000</td>\n",
       "      <td>0.000000</td>\n",
       "      <td>0.000000</td>\n",
       "      <td>0.000000</td>\n",
       "      <td>0.000000</td>\n",
       "      <td>0.000000</td>\n",
       "      <td>0.000000</td>\n",
       "      <td>1.000000</td>\n",
       "      <td>0.000000</td>\n",
       "      <td>0.000000</td>\n",
       "      <td>0.000000</td>\n",
       "      <td>0.000000</td>\n",
       "      <td>0.000000</td>\n",
       "      <td>0.000000</td>\n",
       "      <td>0.000000</td>\n",
       "      <td>0.000000</td>\n",
       "      <td>0.000000</td>\n",
       "      <td>0.000000</td>\n",
       "      <td>0.000000</td>\n",
       "      <td>0.000000</td>\n",
       "      <td>0.000000</td>\n",
       "      <td>0.000000</td>\n",
       "      <td>0.000000</td>\n",
       "      <td>0.000000</td>\n",
       "    </tr>\n",
       "    <tr>\n",
       "      <th>25%</th>\n",
       "      <td>11382.750000</td>\n",
       "      <td>1.000000</td>\n",
       "      <td>4.040000e+02</td>\n",
       "      <td>1.000000</td>\n",
       "      <td>8.750000e+02</td>\n",
       "      <td>2.000000</td>\n",
       "      <td>651.000000</td>\n",
       "      <td>1.000000</td>\n",
       "      <td>6.790000e+02</td>\n",
       "      <td>1.000000</td>\n",
       "      <td>8.340000e+02</td>\n",
       "      <td>1.000000</td>\n",
       "      <td>5.040000e+02</td>\n",
       "      <td>1.000000</td>\n",
       "      <td>5.490000e+02</td>\n",
       "      <td>1.000000</td>\n",
       "      <td>1.077000e+03</td>\n",
       "      <td>2.000000</td>\n",
       "      <td>1.259000e+03</td>\n",
       "      <td>2.000000</td>\n",
       "      <td>9.020000e+02</td>\n",
       "      <td>3.000000</td>\n",
       "      <td>8.590000e+02</td>\n",
       "      <td>4.000000</td>\n",
       "      <td>8.060000e+02</td>\n",
       "      <td>2.000000</td>\n",
       "      <td>6.500000e+02</td>\n",
       "      <td>1.000000</td>\n",
       "      <td>428.000000</td>\n",
       "      <td>2.000000</td>\n",
       "      <td>6.380000e+02</td>\n",
       "      <td>2.000000</td>\n",
       "      <td>7.060000e+02</td>\n",
       "      <td>2.000000</td>\n",
       "      <td>4.610000e+02</td>\n",
       "      <td>2.000000</td>\n",
       "      <td>7.940000e+02</td>\n",
       "      <td>2.000000</td>\n",
       "      <td>5.270000e+02</td>\n",
       "      <td>2.000000</td>\n",
       "      <td>7.330000e+02</td>\n",
       "      <td>2.000000</td>\n",
       "      <td>1.000000</td>\n",
       "      <td>2.000000e+00</td>\n",
       "      <td>1.000000</td>\n",
       "      <td>1.000000</td>\n",
       "      <td>1.000000</td>\n",
       "      <td>1.000000</td>\n",
       "      <td>0.000000</td>\n",
       "      <td>1.000000</td>\n",
       "      <td>0.000000</td>\n",
       "      <td>1.000000</td>\n",
       "      <td>1.000000</td>\n",
       "      <td>2.000000</td>\n",
       "      <td>1.000000</td>\n",
       "      <td>3.000000</td>\n",
       "      <td>2.000000</td>\n",
       "      <td>1.000000</td>\n",
       "      <td>0.000000</td>\n",
       "      <td>0.000000</td>\n",
       "      <td>0.000000</td>\n",
       "      <td>0.000000</td>\n",
       "      <td>1.000000</td>\n",
       "      <td>0.000000</td>\n",
       "      <td>1.000000</td>\n",
       "      <td>1.000000</td>\n",
       "      <td>0.000000</td>\n",
       "      <td>1.000000</td>\n",
       "      <td>1.000000</td>\n",
       "      <td>0.000000</td>\n",
       "      <td>1.000000</td>\n",
       "      <td>0.000000</td>\n",
       "      <td>1.000000</td>\n",
       "      <td>1.000000</td>\n",
       "    </tr>\n",
       "    <tr>\n",
       "      <th>50%</th>\n",
       "      <td>22765.500000</td>\n",
       "      <td>2.000000</td>\n",
       "      <td>5.570000e+02</td>\n",
       "      <td>3.000000</td>\n",
       "      <td>1.218000e+03</td>\n",
       "      <td>4.000000</td>\n",
       "      <td>899.000000</td>\n",
       "      <td>1.000000</td>\n",
       "      <td>9.310000e+02</td>\n",
       "      <td>2.000000</td>\n",
       "      <td>1.154000e+03</td>\n",
       "      <td>2.000000</td>\n",
       "      <td>7.120000e+02</td>\n",
       "      <td>2.000000</td>\n",
       "      <td>7.720000e+02</td>\n",
       "      <td>2.000000</td>\n",
       "      <td>1.464000e+03</td>\n",
       "      <td>3.000000</td>\n",
       "      <td>1.800000e+03</td>\n",
       "      <td>4.000000</td>\n",
       "      <td>1.260000e+03</td>\n",
       "      <td>4.000000</td>\n",
       "      <td>1.178000e+03</td>\n",
       "      <td>5.000000</td>\n",
       "      <td>1.125000e+03</td>\n",
       "      <td>4.000000</td>\n",
       "      <td>9.060000e+02</td>\n",
       "      <td>2.000000</td>\n",
       "      <td>596.000000</td>\n",
       "      <td>4.000000</td>\n",
       "      <td>8.830000e+02</td>\n",
       "      <td>3.000000</td>\n",
       "      <td>9.700000e+02</td>\n",
       "      <td>3.000000</td>\n",
       "      <td>6.520000e+02</td>\n",
       "      <td>3.000000</td>\n",
       "      <td>1.117000e+03</td>\n",
       "      <td>4.000000</td>\n",
       "      <td>7.470000e+02</td>\n",
       "      <td>4.000000</td>\n",
       "      <td>1.020000e+03</td>\n",
       "      <td>3.000000</td>\n",
       "      <td>1.000000</td>\n",
       "      <td>2.000000e+00</td>\n",
       "      <td>1.000000</td>\n",
       "      <td>1.000000</td>\n",
       "      <td>3.000000</td>\n",
       "      <td>2.000000</td>\n",
       "      <td>1.000000</td>\n",
       "      <td>3.000000</td>\n",
       "      <td>1.000000</td>\n",
       "      <td>2.000000</td>\n",
       "      <td>2.000000</td>\n",
       "      <td>4.000000</td>\n",
       "      <td>2.000000</td>\n",
       "      <td>5.000000</td>\n",
       "      <td>2.000000</td>\n",
       "      <td>2.000000</td>\n",
       "      <td>0.000000</td>\n",
       "      <td>0.000000</td>\n",
       "      <td>0.000000</td>\n",
       "      <td>1.000000</td>\n",
       "      <td>1.000000</td>\n",
       "      <td>0.000000</td>\n",
       "      <td>1.000000</td>\n",
       "      <td>1.000000</td>\n",
       "      <td>0.000000</td>\n",
       "      <td>1.000000</td>\n",
       "      <td>1.000000</td>\n",
       "      <td>0.000000</td>\n",
       "      <td>1.000000</td>\n",
       "      <td>0.000000</td>\n",
       "      <td>1.000000</td>\n",
       "      <td>1.000000</td>\n",
       "    </tr>\n",
       "    <tr>\n",
       "      <th>75%</th>\n",
       "      <td>34148.250000</td>\n",
       "      <td>3.000000</td>\n",
       "      <td>8.270000e+02</td>\n",
       "      <td>4.000000</td>\n",
       "      <td>1.838000e+03</td>\n",
       "      <td>5.000000</td>\n",
       "      <td>1335.000000</td>\n",
       "      <td>2.000000</td>\n",
       "      <td>1.355000e+03</td>\n",
       "      <td>3.000000</td>\n",
       "      <td>1.656000e+03</td>\n",
       "      <td>3.000000</td>\n",
       "      <td>1.078000e+03</td>\n",
       "      <td>4.000000</td>\n",
       "      <td>1.150000e+03</td>\n",
       "      <td>4.000000</td>\n",
       "      <td>2.090000e+03</td>\n",
       "      <td>5.000000</td>\n",
       "      <td>2.761000e+03</td>\n",
       "      <td>5.000000</td>\n",
       "      <td>1.899000e+03</td>\n",
       "      <td>5.000000</td>\n",
       "      <td>1.721000e+03</td>\n",
       "      <td>5.000000</td>\n",
       "      <td>1.649000e+03</td>\n",
       "      <td>5.000000</td>\n",
       "      <td>1.342000e+03</td>\n",
       "      <td>4.000000</td>\n",
       "      <td>891.000000</td>\n",
       "      <td>5.000000</td>\n",
       "      <td>1.300000e+03</td>\n",
       "      <td>4.000000</td>\n",
       "      <td>1.409000e+03</td>\n",
       "      <td>4.000000</td>\n",
       "      <td>9.820000e+02</td>\n",
       "      <td>4.000000</td>\n",
       "      <td>1.664000e+03</td>\n",
       "      <td>5.000000</td>\n",
       "      <td>1.124000e+03</td>\n",
       "      <td>5.000000</td>\n",
       "      <td>1.526000e+03</td>\n",
       "      <td>3.000000</td>\n",
       "      <td>2.000000</td>\n",
       "      <td>3.000000e+00</td>\n",
       "      <td>1.000000</td>\n",
       "      <td>2.000000</td>\n",
       "      <td>5.000000</td>\n",
       "      <td>4.000000</td>\n",
       "      <td>3.000000</td>\n",
       "      <td>5.000000</td>\n",
       "      <td>2.000000</td>\n",
       "      <td>4.000000</td>\n",
       "      <td>3.000000</td>\n",
       "      <td>5.000000</td>\n",
       "      <td>4.000000</td>\n",
       "      <td>6.000000</td>\n",
       "      <td>3.000000</td>\n",
       "      <td>2.000000</td>\n",
       "      <td>0.000000</td>\n",
       "      <td>0.000000</td>\n",
       "      <td>0.000000</td>\n",
       "      <td>1.000000</td>\n",
       "      <td>1.000000</td>\n",
       "      <td>0.000000</td>\n",
       "      <td>1.000000</td>\n",
       "      <td>1.000000</td>\n",
       "      <td>1.000000</td>\n",
       "      <td>1.000000</td>\n",
       "      <td>1.000000</td>\n",
       "      <td>0.000000</td>\n",
       "      <td>1.000000</td>\n",
       "      <td>1.000000</td>\n",
       "      <td>1.000000</td>\n",
       "      <td>1.000000</td>\n",
       "    </tr>\n",
       "    <tr>\n",
       "      <th>max</th>\n",
       "      <td>45531.000000</td>\n",
       "      <td>5.000000</td>\n",
       "      <td>2.413960e+06</td>\n",
       "      <td>5.000000</td>\n",
       "      <td>5.580395e+06</td>\n",
       "      <td>5.000000</td>\n",
       "      <td>871557.000000</td>\n",
       "      <td>5.000000</td>\n",
       "      <td>1.552821e+06</td>\n",
       "      <td>5.000000</td>\n",
       "      <td>1.919926e+06</td>\n",
       "      <td>5.000000</td>\n",
       "      <td>1.176370e+07</td>\n",
       "      <td>5.000000</td>\n",
       "      <td>1.068252e+06</td>\n",
       "      <td>5.000000</td>\n",
       "      <td>1.070860e+08</td>\n",
       "      <td>5.000000</td>\n",
       "      <td>1.703586e+07</td>\n",
       "      <td>5.000000</td>\n",
       "      <td>9.910006e+06</td>\n",
       "      <td>5.000000</td>\n",
       "      <td>4.824953e+06</td>\n",
       "      <td>5.000000</td>\n",
       "      <td>7.754351e+07</td>\n",
       "      <td>5.000000</td>\n",
       "      <td>1.410832e+07</td>\n",
       "      <td>5.000000</td>\n",
       "      <td>606694.000000</td>\n",
       "      <td>5.000000</td>\n",
       "      <td>1.309739e+06</td>\n",
       "      <td>5.000000</td>\n",
       "      <td>4.650742e+06</td>\n",
       "      <td>5.000000</td>\n",
       "      <td>4.277510e+06</td>\n",
       "      <td>5.000000</td>\n",
       "      <td>3.159328e+07</td>\n",
       "      <td>5.000000</td>\n",
       "      <td>1.286581e+06</td>\n",
       "      <td>5.000000</td>\n",
       "      <td>1.155650e+07</td>\n",
       "      <td>4.000000</td>\n",
       "      <td>2.000000</td>\n",
       "      <td>2.147484e+09</td>\n",
       "      <td>3.000000</td>\n",
       "      <td>3.000000</td>\n",
       "      <td>7.000000</td>\n",
       "      <td>7.000000</td>\n",
       "      <td>7.000000</td>\n",
       "      <td>7.000000</td>\n",
       "      <td>7.000000</td>\n",
       "      <td>7.000000</td>\n",
       "      <td>7.000000</td>\n",
       "      <td>7.000000</td>\n",
       "      <td>7.000000</td>\n",
       "      <td>7.000000</td>\n",
       "      <td>3.000000</td>\n",
       "      <td>2.000000</td>\n",
       "      <td>1.000000</td>\n",
       "      <td>1.000000</td>\n",
       "      <td>1.000000</td>\n",
       "      <td>1.000000</td>\n",
       "      <td>1.000000</td>\n",
       "      <td>1.000000</td>\n",
       "      <td>1.000000</td>\n",
       "      <td>1.000000</td>\n",
       "      <td>1.000000</td>\n",
       "      <td>1.000000</td>\n",
       "      <td>1.000000</td>\n",
       "      <td>1.000000</td>\n",
       "      <td>1.000000</td>\n",
       "      <td>1.000000</td>\n",
       "      <td>1.000000</td>\n",
       "      <td>1.000000</td>\n",
       "    </tr>\n",
       "  </tbody>\n",
       "</table>\n",
       "</div>"
      ],
      "text/plain": [
       "              index           QaA           QaE           QbA           QbE  \\\n",
       "count  45532.000000  45532.000000  4.553200e+04  45532.000000  4.553200e+04   \n",
       "mean   22765.500000      2.129535  9.453570e+02      2.904463  2.189589e+03   \n",
       "std    13144.100565      1.196952  1.307565e+04      1.566142  3.351027e+04   \n",
       "min        0.000000      1.000000  2.500000e+01      1.000000  2.500000e+01   \n",
       "25%    11382.750000      1.000000  4.040000e+02      1.000000  8.750000e+02   \n",
       "50%    22765.500000      2.000000  5.570000e+02      3.000000  1.218000e+03   \n",
       "75%    34148.250000      3.000000  8.270000e+02      4.000000  1.838000e+03   \n",
       "max    45531.000000      5.000000  2.413960e+06      5.000000  5.580395e+06   \n",
       "\n",
       "                QcA            QcE           QdA           QdE           QeA  \\\n",
       "count  45532.000000   45532.000000  45532.000000  4.553200e+04  45532.000000   \n",
       "mean       3.662347    1484.294518      1.749078  1.490672e+03      2.317952   \n",
       "std        1.431494    8977.664318      1.043625  1.092260e+04      1.369205   \n",
       "min        1.000000      25.000000      1.000000  2.600000e+01      1.000000   \n",
       "25%        2.000000     651.000000      1.000000  6.790000e+02      1.000000   \n",
       "50%        4.000000     899.000000      1.000000  9.310000e+02      2.000000   \n",
       "75%        5.000000    1335.000000      2.000000  1.355000e+03      3.000000   \n",
       "max        5.000000  871557.000000      5.000000  1.552821e+06      5.000000   \n",
       "\n",
       "                QeE           QfA           QfE           QgA           QgE  \\\n",
       "count  4.553200e+04  45532.000000  4.553200e+04  45532.000000  4.553200e+04   \n",
       "mean   1.899292e+03      2.168145  1.850650e+03      2.560595  1.284608e+03   \n",
       "std    1.670765e+04      1.348653  7.608236e+04      1.510600  9.756584e+03   \n",
       "min    2.500000e+01      1.000000  2.500000e+01      1.000000  2.500000e+01   \n",
       "25%    8.340000e+02      1.000000  5.040000e+02      1.000000  5.490000e+02   \n",
       "50%    1.154000e+03      2.000000  7.120000e+02      2.000000  7.720000e+02   \n",
       "75%    1.656000e+03      3.000000  1.078000e+03      4.000000  1.150000e+03   \n",
       "max    1.919926e+06      5.000000  1.176370e+07      5.000000  1.068252e+06   \n",
       "\n",
       "                QhA           QhE           QiA           QiE           QjA  \\\n",
       "count  45532.000000  4.553200e+04  45532.000000  4.553200e+04  45532.000000   \n",
       "mean       2.317952  4.584272e+03      3.157691  4.068434e+03      3.575529   \n",
       "std        1.460813  5.020265e+05      1.481740  1.141738e+05      1.361220   \n",
       "min        1.000000  0.000000e+00      1.000000  0.000000e+00      1.000000   \n",
       "25%        1.000000  1.077000e+03      2.000000  1.259000e+03      2.000000   \n",
       "50%        2.000000  1.464000e+03      3.000000  1.800000e+03      4.000000   \n",
       "75%        4.000000  2.090000e+03      5.000000  2.761000e+03      5.000000   \n",
       "max        5.000000  1.070860e+08      5.000000  1.703586e+07      5.000000   \n",
       "\n",
       "                QjE           QkA           QkE           QlA           QlE  \\\n",
       "count  4.553200e+04  45532.000000  4.553200e+04  45532.000000  4.553200e+04   \n",
       "mean   2.576363e+03      3.813933  2.038986e+03      4.325727  3.741018e+03   \n",
       "std    5.411432e+04      1.372551  3.069164e+04      1.146992  3.663672e+05   \n",
       "min    0.000000e+00      1.000000  0.000000e+00      1.000000  2.500000e+01   \n",
       "25%    9.020000e+02      3.000000  8.590000e+02      4.000000  8.060000e+02   \n",
       "50%    1.260000e+03      4.000000  1.178000e+03      5.000000  1.125000e+03   \n",
       "75%    1.899000e+03      5.000000  1.721000e+03      5.000000  1.649000e+03   \n",
       "max    9.910006e+06      5.000000  4.824953e+06      5.000000  7.754351e+07   \n",
       "\n",
       "                QmA           QmE           QnA            QnE           QoA  \\\n",
       "count  45532.000000  4.553200e+04  45532.000000   45532.000000  45532.000000   \n",
       "mean       3.509620  2.050287e+03      2.632896     959.880502      3.217232   \n",
       "std        1.375134  7.530787e+04      1.473022    5869.964127      1.476414   \n",
       "min        1.000000  2.500000e+01      1.000000      25.000000      1.000000   \n",
       "25%        2.000000  6.500000e+02      1.000000     428.000000      2.000000   \n",
       "50%        4.000000  9.060000e+02      2.000000     596.000000      4.000000   \n",
       "75%        5.000000  1.342000e+03      4.000000     891.000000      5.000000   \n",
       "max        5.000000  1.410832e+07      5.000000  606694.000000      5.000000   \n",
       "\n",
       "                QoE           QpA           QpE           QqA           QqE  \\\n",
       "count  4.553200e+04  45532.000000  4.553200e+04  45532.000000  4.553200e+04   \n",
       "mean   1.435762e+03      3.071752  1.633479e+03      2.840464  1.154352e+03   \n",
       "std    1.084997e+04      1.489744  2.600221e+04      1.404342  2.250689e+04   \n",
       "min    0.000000e+00      1.000000  0.000000e+00      1.000000  0.000000e+00   \n",
       "25%    6.380000e+02      2.000000  7.060000e+02      2.000000  4.610000e+02   \n",
       "50%    8.830000e+02      3.000000  9.700000e+02      3.000000  6.520000e+02   \n",
       "75%    1.300000e+03      4.000000  1.409000e+03      4.000000  9.820000e+02   \n",
       "max    1.309739e+06      5.000000  4.650742e+06      5.000000  4.277510e+06   \n",
       "\n",
       "                QrA           QrE           QsA           QsE           QtA  \\\n",
       "count  45532.000000  4.553200e+04  45532.000000  4.553200e+04  45532.000000   \n",
       "mean       2.823487  2.470808e+03      3.432948  1.164117e+03      3.225687   \n",
       "std        1.424383  1.482890e+05      1.374938  7.433515e+03      1.521603   \n",
       "min        1.000000  2.500000e+01      1.000000  2.500000e+01      1.000000   \n",
       "25%        2.000000  7.940000e+02      2.000000  5.270000e+02      2.000000   \n",
       "50%        3.000000  1.117000e+03      4.000000  7.470000e+02      4.000000   \n",
       "75%        4.000000  1.664000e+03      5.000000  1.124000e+03      5.000000   \n",
       "max        5.000000  3.159328e+07      5.000000  1.286581e+06      5.000000   \n",
       "\n",
       "                QtE     education        engnat    familysize          hand  \\\n",
       "count  4.553200e+04  45532.000000  45532.000000  4.553200e+04  45532.000000   \n",
       "mean   2.240057e+03      2.544474      1.271326  4.716689e+04      1.170715   \n",
       "std    6.730924e+04      0.941328      0.448436  1.006402e+07      0.468883   \n",
       "min    2.500000e+01      0.000000      0.000000  0.000000e+00      0.000000   \n",
       "25%    7.330000e+02      2.000000      1.000000  2.000000e+00      1.000000   \n",
       "50%    1.020000e+03      3.000000      1.000000  2.000000e+00      1.000000   \n",
       "75%    1.526000e+03      3.000000      2.000000  3.000000e+00      1.000000   \n",
       "max    1.155650e+07      4.000000      2.000000  2.147484e+09      3.000000   \n",
       "\n",
       "            married          tp01          tp02          tp03          tp04  \\\n",
       "count  45532.000000  45532.000000  45532.000000  45532.000000  45532.000000   \n",
       "mean       1.387112      3.017241      2.621189      1.768712      3.041246   \n",
       "std        0.639987      2.007713      1.897081      1.685069      2.037278   \n",
       "min        0.000000      0.000000      0.000000      0.000000      0.000000   \n",
       "25%        1.000000      1.000000      1.000000      0.000000      1.000000   \n",
       "50%        1.000000      3.000000      2.000000      1.000000      3.000000   \n",
       "75%        2.000000      5.000000      4.000000      3.000000      5.000000   \n",
       "max        3.000000      7.000000      7.000000      7.000000      7.000000   \n",
       "\n",
       "               tp05          tp06          tp07          tp08          tp09  \\\n",
       "count  45532.000000  45532.000000  45532.000000  45532.000000  45532.000000   \n",
       "mean       1.335918      2.472217      2.031099      3.507226      2.277497   \n",
       "std        1.452544      2.000658      1.785824      1.971456      1.848783   \n",
       "min        0.000000      0.000000      0.000000      0.000000      0.000000   \n",
       "25%        0.000000      1.000000      1.000000      2.000000      1.000000   \n",
       "50%        1.000000      2.000000      2.000000      4.000000      2.000000   \n",
       "75%        2.000000      4.000000      3.000000      5.000000      4.000000   \n",
       "max        7.000000      7.000000      7.000000      7.000000      7.000000   \n",
       "\n",
       "               tp10         urban         voted         wf_01         wf_02  \\\n",
       "count  45532.000000  45532.000000  45532.000000  45532.000000  45532.000000   \n",
       "mean       4.317996      2.180401      1.546824      0.079592      0.163665   \n",
       "std        1.722793      0.762647      0.497808      0.270664      0.369975   \n",
       "min        0.000000      0.000000      1.000000      0.000000      0.000000   \n",
       "25%        3.000000      2.000000      1.000000      0.000000      0.000000   \n",
       "50%        5.000000      2.000000      2.000000      0.000000      0.000000   \n",
       "75%        6.000000      3.000000      2.000000      0.000000      0.000000   \n",
       "max        7.000000      3.000000      2.000000      1.000000      1.000000   \n",
       "\n",
       "              wf_03         wr_01         wr_02         wr_03         wr_04  \\\n",
       "count  45532.000000  45532.000000  45532.000000  45532.000000  45532.000000   \n",
       "mean       0.118356      0.709721      0.934793      0.208974      0.868708   \n",
       "std        0.323033      0.453896      0.246893      0.406580      0.337723   \n",
       "min        0.000000      0.000000      0.000000      0.000000      0.000000   \n",
       "25%        0.000000      0.000000      1.000000      0.000000      1.000000   \n",
       "50%        0.000000      1.000000      1.000000      0.000000      1.000000   \n",
       "75%        0.000000      1.000000      1.000000      0.000000      1.000000   \n",
       "max        1.000000      1.000000      1.000000      1.000000      1.000000   \n",
       "\n",
       "              wr_05         wr_06         wr_07         wr_08         wr_09  \\\n",
       "count  45532.000000  45532.000000  45532.000000  45532.000000  45532.000000   \n",
       "mean       0.895722      0.328538      0.938900      0.972195      0.202824   \n",
       "std        0.305625      0.469687      0.239516      0.164414      0.402107   \n",
       "min        0.000000      0.000000      0.000000      0.000000      0.000000   \n",
       "25%        1.000000      0.000000      1.000000      1.000000      0.000000   \n",
       "50%        1.000000      0.000000      1.000000      1.000000      0.000000   \n",
       "75%        1.000000      1.000000      1.000000      1.000000      0.000000   \n",
       "max        1.000000      1.000000      1.000000      1.000000      1.000000   \n",
       "\n",
       "              wr_10         wr_11         wr_12         wr_13  \n",
       "count  45532.000000  45532.000000  45532.000000  45532.000000  \n",
       "mean       0.946104      0.395195      0.947729      0.927040  \n",
       "std        0.225815      0.488898      0.222575      0.260073  \n",
       "min        0.000000      0.000000      0.000000      0.000000  \n",
       "25%        1.000000      0.000000      1.000000      1.000000  \n",
       "50%        1.000000      0.000000      1.000000      1.000000  \n",
       "75%        1.000000      1.000000      1.000000      1.000000  \n",
       "max        1.000000      1.000000      1.000000      1.000000  "
      ]
     },
     "execution_count": 12,
     "metadata": {},
     "output_type": "execute_result"
    }
   ],
   "source": [
    "train_df.describe()"
   ]
  },
  {
   "cell_type": "code",
   "execution_count": 1974,
   "metadata": {},
   "outputs": [
    {
     "data": {
      "text/plain": [
       "Index(['index', 'QaA', 'QaE', 'QbA', 'QbE', 'QcA', 'QcE', 'QdA', 'QdE', 'QeA',\n",
       "       'QeE', 'QfA', 'QfE', 'QgA', 'QgE', 'QhA', 'QhE', 'QiA', 'QiE', 'QjA',\n",
       "       'QjE', 'QkA', 'QkE', 'QlA', 'QlE', 'QmA', 'QmE', 'QnA', 'QnE', 'QoA',\n",
       "       'QoE', 'QpA', 'QpE', 'QqA', 'QqE', 'QrA', 'QrE', 'QsA', 'QsE', 'QtA',\n",
       "       'QtE', 'age_group', 'education', 'engnat', 'familysize', 'gender',\n",
       "       'hand', 'married', 'race', 'religion', 'tp01', 'tp02', 'tp03', 'tp04',\n",
       "       'tp05', 'tp06', 'tp07', 'tp08', 'tp09', 'tp10', 'urban', 'voted',\n",
       "       'wf_01', 'wf_02', 'wf_03', 'wr_01', 'wr_02', 'wr_03', 'wr_04', 'wr_05',\n",
       "       'wr_06', 'wr_07', 'wr_08', 'wr_09', 'wr_10', 'wr_11', 'wr_12', 'wr_13'],\n",
       "      dtype='object')"
      ]
     },
     "execution_count": 1974,
     "metadata": {},
     "output_type": "execute_result"
    }
   ],
   "source": [
    "train_df.columns"
   ]
  },
  {
   "cell_type": "code",
   "execution_count": 1975,
   "metadata": {},
   "outputs": [
    {
     "data": {
      "text/html": [
       "<div>\n",
       "<style scoped>\n",
       "    .dataframe tbody tr th:only-of-type {\n",
       "        vertical-align: middle;\n",
       "    }\n",
       "\n",
       "    .dataframe tbody tr th {\n",
       "        vertical-align: top;\n",
       "    }\n",
       "\n",
       "    .dataframe thead th {\n",
       "        text-align: right;\n",
       "    }\n",
       "</style>\n",
       "<table border=\"1\" class=\"dataframe\">\n",
       "  <thead>\n",
       "    <tr style=\"text-align: right;\">\n",
       "      <th></th>\n",
       "      <th>index</th>\n",
       "      <th>QaA</th>\n",
       "      <th>QaE</th>\n",
       "      <th>QbA</th>\n",
       "      <th>QbE</th>\n",
       "      <th>QcA</th>\n",
       "      <th>QcE</th>\n",
       "      <th>QdA</th>\n",
       "      <th>QdE</th>\n",
       "      <th>QeA</th>\n",
       "      <th>...</th>\n",
       "      <th>wr_04</th>\n",
       "      <th>wr_05</th>\n",
       "      <th>wr_06</th>\n",
       "      <th>wr_07</th>\n",
       "      <th>wr_08</th>\n",
       "      <th>wr_09</th>\n",
       "      <th>wr_10</th>\n",
       "      <th>wr_11</th>\n",
       "      <th>wr_12</th>\n",
       "      <th>wr_13</th>\n",
       "    </tr>\n",
       "  </thead>\n",
       "  <tbody>\n",
       "    <tr>\n",
       "      <th>0</th>\n",
       "      <td>0</td>\n",
       "      <td>3.0</td>\n",
       "      <td>736</td>\n",
       "      <td>2.0</td>\n",
       "      <td>2941</td>\n",
       "      <td>3.0</td>\n",
       "      <td>4621</td>\n",
       "      <td>1.0</td>\n",
       "      <td>4857</td>\n",
       "      <td>2.0</td>\n",
       "      <td>...</td>\n",
       "      <td>0</td>\n",
       "      <td>1</td>\n",
       "      <td>0</td>\n",
       "      <td>0</td>\n",
       "      <td>1</td>\n",
       "      <td>0</td>\n",
       "      <td>1</td>\n",
       "      <td>0</td>\n",
       "      <td>1</td>\n",
       "      <td>1</td>\n",
       "    </tr>\n",
       "    <tr>\n",
       "      <th>1</th>\n",
       "      <td>1</td>\n",
       "      <td>3.0</td>\n",
       "      <td>514</td>\n",
       "      <td>2.0</td>\n",
       "      <td>1952</td>\n",
       "      <td>3.0</td>\n",
       "      <td>1552</td>\n",
       "      <td>3.0</td>\n",
       "      <td>821</td>\n",
       "      <td>4.0</td>\n",
       "      <td>...</td>\n",
       "      <td>0</td>\n",
       "      <td>0</td>\n",
       "      <td>0</td>\n",
       "      <td>0</td>\n",
       "      <td>0</td>\n",
       "      <td>0</td>\n",
       "      <td>0</td>\n",
       "      <td>0</td>\n",
       "      <td>0</td>\n",
       "      <td>0</td>\n",
       "    </tr>\n",
       "    <tr>\n",
       "      <th>2</th>\n",
       "      <td>2</td>\n",
       "      <td>3.0</td>\n",
       "      <td>500</td>\n",
       "      <td>2.0</td>\n",
       "      <td>2507</td>\n",
       "      <td>4.0</td>\n",
       "      <td>480</td>\n",
       "      <td>2.0</td>\n",
       "      <td>614</td>\n",
       "      <td>2.0</td>\n",
       "      <td>...</td>\n",
       "      <td>0</td>\n",
       "      <td>1</td>\n",
       "      <td>0</td>\n",
       "      <td>1</td>\n",
       "      <td>1</td>\n",
       "      <td>0</td>\n",
       "      <td>1</td>\n",
       "      <td>0</td>\n",
       "      <td>1</td>\n",
       "      <td>1</td>\n",
       "    </tr>\n",
       "    <tr>\n",
       "      <th>3</th>\n",
       "      <td>3</td>\n",
       "      <td>1.0</td>\n",
       "      <td>669</td>\n",
       "      <td>1.0</td>\n",
       "      <td>1050</td>\n",
       "      <td>5.0</td>\n",
       "      <td>1435</td>\n",
       "      <td>2.0</td>\n",
       "      <td>2252</td>\n",
       "      <td>5.0</td>\n",
       "      <td>...</td>\n",
       "      <td>1</td>\n",
       "      <td>1</td>\n",
       "      <td>1</td>\n",
       "      <td>1</td>\n",
       "      <td>1</td>\n",
       "      <td>1</td>\n",
       "      <td>1</td>\n",
       "      <td>1</td>\n",
       "      <td>1</td>\n",
       "      <td>1</td>\n",
       "    </tr>\n",
       "    <tr>\n",
       "      <th>4</th>\n",
       "      <td>4</td>\n",
       "      <td>2.0</td>\n",
       "      <td>499</td>\n",
       "      <td>1.0</td>\n",
       "      <td>1243</td>\n",
       "      <td>5.0</td>\n",
       "      <td>845</td>\n",
       "      <td>2.0</td>\n",
       "      <td>1666</td>\n",
       "      <td>2.0</td>\n",
       "      <td>...</td>\n",
       "      <td>1</td>\n",
       "      <td>1</td>\n",
       "      <td>0</td>\n",
       "      <td>1</td>\n",
       "      <td>1</td>\n",
       "      <td>0</td>\n",
       "      <td>1</td>\n",
       "      <td>1</td>\n",
       "      <td>1</td>\n",
       "      <td>1</td>\n",
       "    </tr>\n",
       "  </tbody>\n",
       "</table>\n",
       "<p>5 rows × 77 columns</p>\n",
       "</div>"
      ],
      "text/plain": [
       "   index  QaA  QaE  QbA   QbE  QcA   QcE  QdA   QdE  QeA  ...  wr_04  wr_05  \\\n",
       "0      0  3.0  736  2.0  2941  3.0  4621  1.0  4857  2.0  ...      0      1   \n",
       "1      1  3.0  514  2.0  1952  3.0  1552  3.0   821  4.0  ...      0      0   \n",
       "2      2  3.0  500  2.0  2507  4.0   480  2.0   614  2.0  ...      0      1   \n",
       "3      3  1.0  669  1.0  1050  5.0  1435  2.0  2252  5.0  ...      1      1   \n",
       "4      4  2.0  499  1.0  1243  5.0   845  2.0  1666  2.0  ...      1      1   \n",
       "\n",
       "   wr_06  wr_07  wr_08  wr_09  wr_10  wr_11  wr_12  wr_13  \n",
       "0      0      0      1      0      1      0      1      1  \n",
       "1      0      0      0      0      0      0      0      0  \n",
       "2      0      1      1      0      1      0      1      1  \n",
       "3      1      1      1      1      1      1      1      1  \n",
       "4      0      1      1      0      1      1      1      1  \n",
       "\n",
       "[5 rows x 77 columns]"
      ]
     },
     "execution_count": 1975,
     "metadata": {},
     "output_type": "execute_result"
    }
   ],
   "source": [
    "test_df.head()"
   ]
  },
  {
   "cell_type": "code",
   "execution_count": 1976,
   "metadata": {},
   "outputs": [
    {
     "data": {
      "text/plain": [
       "2    24898\n",
       "1    20634\n",
       "Name: voted, dtype: int64"
      ]
     },
     "execution_count": 1976,
     "metadata": {},
     "output_type": "execute_result"
    }
   ],
   "source": [
    "train_df['voted'].value_counts()"
   ]
  },
  {
   "cell_type": "code",
   "execution_count": null,
   "metadata": {},
   "outputs": [],
   "source": []
  },
  {
   "cell_type": "code",
   "execution_count": 1977,
   "metadata": {},
   "outputs": [
    {
     "data": {
      "text/plain": [
       "index    0.0\n",
       "QaA      0.0\n",
       "QaE      0.0\n",
       "QbA      0.0\n",
       "QbE      0.0\n",
       "        ... \n",
       "wr_09    0.0\n",
       "wr_10    0.0\n",
       "wr_11    0.0\n",
       "wr_12    0.0\n",
       "wr_13    0.0\n",
       "Length: 78, dtype: float64"
      ]
     },
     "execution_count": 1977,
     "metadata": {},
     "output_type": "execute_result"
    }
   ],
   "source": [
    "train_df.isnull().sum() / len(train_df)"
   ]
  },
  {
   "cell_type": "code",
   "execution_count": 1978,
   "metadata": {},
   "outputs": [
    {
     "data": {
      "text/plain": [
       "count    4.553200e+04\n",
       "mean     9.453570e+02\n",
       "std      1.307565e+04\n",
       "min      2.500000e+01\n",
       "25%      4.040000e+02\n",
       "50%      5.570000e+02\n",
       "75%      8.270000e+02\n",
       "max      2.413960e+06\n",
       "Name: QaE, dtype: float64"
      ]
     },
     "execution_count": 1978,
     "metadata": {},
     "output_type": "execute_result"
    }
   ],
   "source": [
    "train_df['QaE'].describe()"
   ]
  },
  {
   "cell_type": "code",
   "execution_count": 1979,
   "metadata": {},
   "outputs": [
    {
     "data": {
      "text/plain": [
       "<matplotlib.axes._subplots.AxesSubplot at 0x1f0372898>"
      ]
     },
     "execution_count": 1979,
     "metadata": {},
     "output_type": "execute_result"
    },
    {
     "data": {
      "image/png": "[encoded data removed]",
      "text/plain": [
       "<Figure size 432x288 with 1 Axes>"
      ]
     },
     "metadata": {
      "needs_background": "light"
     },
     "output_type": "display_data"
    }
   ],
   "source": [
    "log(train_df['QaE']).plot.hist(bins=100)"
   ]
  },
  {
   "cell_type": "code",
   "execution_count": 1980,
   "metadata": {},
   "outputs": [
    {
     "data": {
      "text/html": [
       "<div>\n",
       "<style scoped>\n",
       "    .dataframe tbody tr th:only-of-type {\n",
       "        vertical-align: middle;\n",
       "    }\n",
       "\n",
       "    .dataframe tbody tr th {\n",
       "        vertical-align: top;\n",
       "    }\n",
       "\n",
       "    .dataframe thead th {\n",
       "        text-align: right;\n",
       "    }\n",
       "</style>\n",
       "<table border=\"1\" class=\"dataframe\">\n",
       "  <thead>\n",
       "    <tr style=\"text-align: right;\">\n",
       "      <th></th>\n",
       "      <th>index</th>\n",
       "      <th>QaA</th>\n",
       "      <th>QaE</th>\n",
       "      <th>QbA</th>\n",
       "      <th>QbE</th>\n",
       "      <th>QcA</th>\n",
       "      <th>QcE</th>\n",
       "      <th>QdA</th>\n",
       "      <th>QdE</th>\n",
       "      <th>QeA</th>\n",
       "      <th>...</th>\n",
       "      <th>wr_04</th>\n",
       "      <th>wr_05</th>\n",
       "      <th>wr_06</th>\n",
       "      <th>wr_07</th>\n",
       "      <th>wr_08</th>\n",
       "      <th>wr_09</th>\n",
       "      <th>wr_10</th>\n",
       "      <th>wr_11</th>\n",
       "      <th>wr_12</th>\n",
       "      <th>wr_13</th>\n",
       "    </tr>\n",
       "  </thead>\n",
       "  <tbody>\n",
       "    <tr>\n",
       "      <th>0</th>\n",
       "      <td>0</td>\n",
       "      <td>3.0</td>\n",
       "      <td>363</td>\n",
       "      <td>4.0</td>\n",
       "      <td>1370</td>\n",
       "      <td>5.0</td>\n",
       "      <td>997</td>\n",
       "      <td>1.0</td>\n",
       "      <td>1024</td>\n",
       "      <td>2.0</td>\n",
       "      <td>...</td>\n",
       "      <td>0</td>\n",
       "      <td>1</td>\n",
       "      <td>0</td>\n",
       "      <td>1</td>\n",
       "      <td>1</td>\n",
       "      <td>0</td>\n",
       "      <td>1</td>\n",
       "      <td>0</td>\n",
       "      <td>1</td>\n",
       "      <td>1</td>\n",
       "    </tr>\n",
       "    <tr>\n",
       "      <th>1</th>\n",
       "      <td>1</td>\n",
       "      <td>5.0</td>\n",
       "      <td>647</td>\n",
       "      <td>5.0</td>\n",
       "      <td>1313</td>\n",
       "      <td>3.0</td>\n",
       "      <td>3387</td>\n",
       "      <td>5.0</td>\n",
       "      <td>2969</td>\n",
       "      <td>1.0</td>\n",
       "      <td>...</td>\n",
       "      <td>1</td>\n",
       "      <td>1</td>\n",
       "      <td>0</td>\n",
       "      <td>1</td>\n",
       "      <td>1</td>\n",
       "      <td>0</td>\n",
       "      <td>1</td>\n",
       "      <td>0</td>\n",
       "      <td>1</td>\n",
       "      <td>1</td>\n",
       "    </tr>\n",
       "    <tr>\n",
       "      <th>2</th>\n",
       "      <td>2</td>\n",
       "      <td>4.0</td>\n",
       "      <td>1623</td>\n",
       "      <td>1.0</td>\n",
       "      <td>1480</td>\n",
       "      <td>1.0</td>\n",
       "      <td>1021</td>\n",
       "      <td>4.0</td>\n",
       "      <td>3374</td>\n",
       "      <td>5.0</td>\n",
       "      <td>...</td>\n",
       "      <td>1</td>\n",
       "      <td>1</td>\n",
       "      <td>0</td>\n",
       "      <td>1</td>\n",
       "      <td>1</td>\n",
       "      <td>1</td>\n",
       "      <td>1</td>\n",
       "      <td>0</td>\n",
       "      <td>1</td>\n",
       "      <td>1</td>\n",
       "    </tr>\n",
       "    <tr>\n",
       "      <th>3</th>\n",
       "      <td>3</td>\n",
       "      <td>3.0</td>\n",
       "      <td>504</td>\n",
       "      <td>3.0</td>\n",
       "      <td>2311</td>\n",
       "      <td>4.0</td>\n",
       "      <td>992</td>\n",
       "      <td>3.0</td>\n",
       "      <td>3245</td>\n",
       "      <td>1.0</td>\n",
       "      <td>...</td>\n",
       "      <td>0</td>\n",
       "      <td>0</td>\n",
       "      <td>0</td>\n",
       "      <td>0</td>\n",
       "      <td>1</td>\n",
       "      <td>0</td>\n",
       "      <td>1</td>\n",
       "      <td>0</td>\n",
       "      <td>1</td>\n",
       "      <td>1</td>\n",
       "    </tr>\n",
       "    <tr>\n",
       "      <th>4</th>\n",
       "      <td>4</td>\n",
       "      <td>1.0</td>\n",
       "      <td>927</td>\n",
       "      <td>1.0</td>\n",
       "      <td>707</td>\n",
       "      <td>5.0</td>\n",
       "      <td>556</td>\n",
       "      <td>2.0</td>\n",
       "      <td>1062</td>\n",
       "      <td>1.0</td>\n",
       "      <td>...</td>\n",
       "      <td>1</td>\n",
       "      <td>1</td>\n",
       "      <td>1</td>\n",
       "      <td>1</td>\n",
       "      <td>1</td>\n",
       "      <td>0</td>\n",
       "      <td>1</td>\n",
       "      <td>1</td>\n",
       "      <td>1</td>\n",
       "      <td>1</td>\n",
       "    </tr>\n",
       "    <tr>\n",
       "      <th>...</th>\n",
       "      <td>...</td>\n",
       "      <td>...</td>\n",
       "      <td>...</td>\n",
       "      <td>...</td>\n",
       "      <td>...</td>\n",
       "      <td>...</td>\n",
       "      <td>...</td>\n",
       "      <td>...</td>\n",
       "      <td>...</td>\n",
       "      <td>...</td>\n",
       "      <td>...</td>\n",
       "      <td>...</td>\n",
       "      <td>...</td>\n",
       "      <td>...</td>\n",
       "      <td>...</td>\n",
       "      <td>...</td>\n",
       "      <td>...</td>\n",
       "      <td>...</td>\n",
       "      <td>...</td>\n",
       "      <td>...</td>\n",
       "      <td>...</td>\n",
       "    </tr>\n",
       "    <tr>\n",
       "      <th>45527</th>\n",
       "      <td>45527</td>\n",
       "      <td>2.0</td>\n",
       "      <td>1050</td>\n",
       "      <td>5.0</td>\n",
       "      <td>619</td>\n",
       "      <td>4.0</td>\n",
       "      <td>328</td>\n",
       "      <td>1.0</td>\n",
       "      <td>285</td>\n",
       "      <td>1.0</td>\n",
       "      <td>...</td>\n",
       "      <td>1</td>\n",
       "      <td>1</td>\n",
       "      <td>0</td>\n",
       "      <td>1</td>\n",
       "      <td>1</td>\n",
       "      <td>1</td>\n",
       "      <td>1</td>\n",
       "      <td>0</td>\n",
       "      <td>1</td>\n",
       "      <td>1</td>\n",
       "    </tr>\n",
       "    <tr>\n",
       "      <th>45528</th>\n",
       "      <td>45528</td>\n",
       "      <td>2.0</td>\n",
       "      <td>581</td>\n",
       "      <td>3.0</td>\n",
       "      <td>1353</td>\n",
       "      <td>4.0</td>\n",
       "      <td>1164</td>\n",
       "      <td>1.0</td>\n",
       "      <td>798</td>\n",
       "      <td>3.0</td>\n",
       "      <td>...</td>\n",
       "      <td>1</td>\n",
       "      <td>1</td>\n",
       "      <td>0</td>\n",
       "      <td>1</td>\n",
       "      <td>1</td>\n",
       "      <td>1</td>\n",
       "      <td>1</td>\n",
       "      <td>0</td>\n",
       "      <td>1</td>\n",
       "      <td>1</td>\n",
       "    </tr>\n",
       "    <tr>\n",
       "      <th>45529</th>\n",
       "      <td>45529</td>\n",
       "      <td>4.0</td>\n",
       "      <td>593</td>\n",
       "      <td>1.0</td>\n",
       "      <td>857</td>\n",
       "      <td>1.0</td>\n",
       "      <td>1047</td>\n",
       "      <td>4.0</td>\n",
       "      <td>1515</td>\n",
       "      <td>5.0</td>\n",
       "      <td>...</td>\n",
       "      <td>1</td>\n",
       "      <td>1</td>\n",
       "      <td>0</td>\n",
       "      <td>1</td>\n",
       "      <td>1</td>\n",
       "      <td>0</td>\n",
       "      <td>1</td>\n",
       "      <td>0</td>\n",
       "      <td>1</td>\n",
       "      <td>1</td>\n",
       "    </tr>\n",
       "    <tr>\n",
       "      <th>45530</th>\n",
       "      <td>45530</td>\n",
       "      <td>1.0</td>\n",
       "      <td>747</td>\n",
       "      <td>3.0</td>\n",
       "      <td>1331</td>\n",
       "      <td>4.0</td>\n",
       "      <td>892</td>\n",
       "      <td>2.0</td>\n",
       "      <td>1281</td>\n",
       "      <td>1.0</td>\n",
       "      <td>...</td>\n",
       "      <td>1</td>\n",
       "      <td>1</td>\n",
       "      <td>0</td>\n",
       "      <td>1</td>\n",
       "      <td>1</td>\n",
       "      <td>1</td>\n",
       "      <td>1</td>\n",
       "      <td>0</td>\n",
       "      <td>1</td>\n",
       "      <td>1</td>\n",
       "    </tr>\n",
       "    <tr>\n",
       "      <th>45531</th>\n",
       "      <td>45531</td>\n",
       "      <td>3.0</td>\n",
       "      <td>496</td>\n",
       "      <td>5.0</td>\n",
       "      <td>1827</td>\n",
       "      <td>5.0</td>\n",
       "      <td>754</td>\n",
       "      <td>3.0</td>\n",
       "      <td>1117</td>\n",
       "      <td>1.0</td>\n",
       "      <td>...</td>\n",
       "      <td>1</td>\n",
       "      <td>1</td>\n",
       "      <td>0</td>\n",
       "      <td>1</td>\n",
       "      <td>1</td>\n",
       "      <td>0</td>\n",
       "      <td>1</td>\n",
       "      <td>0</td>\n",
       "      <td>1</td>\n",
       "      <td>1</td>\n",
       "    </tr>\n",
       "  </tbody>\n",
       "</table>\n",
       "<p>45532 rows × 78 columns</p>\n",
       "</div>"
      ],
      "text/plain": [
       "       index  QaA   QaE  QbA   QbE  QcA   QcE  QdA   QdE  QeA  ...  wr_04  \\\n",
       "0          0  3.0   363  4.0  1370  5.0   997  1.0  1024  2.0  ...      0   \n",
       "1          1  5.0   647  5.0  1313  3.0  3387  5.0  2969  1.0  ...      1   \n",
       "2          2  4.0  1623  1.0  1480  1.0  1021  4.0  3374  5.0  ...      1   \n",
       "3          3  3.0   504  3.0  2311  4.0   992  3.0  3245  1.0  ...      0   \n",
       "4          4  1.0   927  1.0   707  5.0   556  2.0  1062  1.0  ...      1   \n",
       "...      ...  ...   ...  ...   ...  ...   ...  ...   ...  ...  ...    ...   \n",
       "45527  45527  2.0  1050  5.0   619  4.0   328  1.0   285  1.0  ...      1   \n",
       "45528  45528  2.0   581  3.0  1353  4.0  1164  1.0   798  3.0  ...      1   \n",
       "45529  45529  4.0   593  1.0   857  1.0  1047  4.0  1515  5.0  ...      1   \n",
       "45530  45530  1.0   747  3.0  1331  4.0   892  2.0  1281  1.0  ...      1   \n",
       "45531  45531  3.0   496  5.0  1827  5.0   754  3.0  1117  1.0  ...      1   \n",
       "\n",
       "       wr_05  wr_06  wr_07  wr_08  wr_09  wr_10  wr_11  wr_12  wr_13  \n",
       "0          1      0      1      1      0      1      0      1      1  \n",
       "1          1      0      1      1      0      1      0      1      1  \n",
       "2          1      0      1      1      1      1      0      1      1  \n",
       "3          0      0      0      1      0      1      0      1      1  \n",
       "4          1      1      1      1      0      1      1      1      1  \n",
       "...      ...    ...    ...    ...    ...    ...    ...    ...    ...  \n",
       "45527      1      0      1      1      1      1      0      1      1  \n",
       "45528      1      0      1      1      1      1      0      1      1  \n",
       "45529      1      0      1      1      0      1      0      1      1  \n",
       "45530      1      0      1      1      1      1      0      1      1  \n",
       "45531      1      0      1      1      0      1      0      1      1  \n",
       "\n",
       "[45532 rows x 78 columns]"
      ]
     },
     "execution_count": 1980,
     "metadata": {},
     "output_type": "execute_result"
    }
   ],
   "source": [
    "train_df"
   ]
  },
  {
   "cell_type": "code",
   "execution_count": 1981,
   "metadata": {},
   "outputs": [
    {
     "data": {
      "text/plain": [
       "2    24898\n",
       "1    20634\n",
       "Name: voted, dtype: int64"
      ]
     },
     "execution_count": 1981,
     "metadata": {},
     "output_type": "execute_result"
    }
   ],
   "source": [
    "train_df['voted'].value_counts()"
   ]
  },
  {
   "cell_type": "markdown",
   "metadata": {},
   "source": [
    "# Q_E"
   ]
  },
  {
   "cell_type": "code",
   "execution_count": 1751,
   "metadata": {},
   "outputs": [],
   "source": [
    "qe_list = ['Q{}E'.format(chr(ch)) for ch in range(ord('a'), ord('u'))]"
   ]
  },
  {
   "cell_type": "code",
   "execution_count": 1752,
   "metadata": {},
   "outputs": [
    {
     "data": {
      "text/plain": [
       "['QaE',\n",
       " 'QbE',\n",
       " 'QcE',\n",
       " 'QdE',\n",
       " 'QeE',\n",
       " 'QfE',\n",
       " 'QgE',\n",
       " 'QhE',\n",
       " 'QiE',\n",
       " 'QjE',\n",
       " 'QkE',\n",
       " 'QlE',\n",
       " 'QmE',\n",
       " 'QnE',\n",
       " 'QoE',\n",
       " 'QpE',\n",
       " 'QqE',\n",
       " 'QrE',\n",
       " 'QsE',\n",
       " 'QtE']"
      ]
     },
     "execution_count": 1752,
     "metadata": {},
     "output_type": "execute_result"
    }
   ],
   "source": [
    "qe_list"
   ]
  },
  {
   "cell_type": "code",
   "execution_count": 1753,
   "metadata": {},
   "outputs": [
    {
     "data": {
      "text/html": [
       "<div>\n",
       "<style scoped>\n",
       "    .dataframe tbody tr th:only-of-type {\n",
       "        vertical-align: middle;\n",
       "    }\n",
       "\n",
       "    .dataframe tbody tr th {\n",
       "        vertical-align: top;\n",
       "    }\n",
       "\n",
       "    .dataframe thead th {\n",
       "        text-align: right;\n",
       "    }\n",
       "</style>\n",
       "<table border=\"1\" class=\"dataframe\">\n",
       "  <thead>\n",
       "    <tr style=\"text-align: right;\">\n",
       "      <th></th>\n",
       "      <th>QaE</th>\n",
       "      <th>QbE</th>\n",
       "      <th>QcE</th>\n",
       "      <th>QdE</th>\n",
       "      <th>QeE</th>\n",
       "      <th>QfE</th>\n",
       "      <th>QgE</th>\n",
       "      <th>QhE</th>\n",
       "      <th>QiE</th>\n",
       "      <th>QjE</th>\n",
       "      <th>QkE</th>\n",
       "      <th>QlE</th>\n",
       "      <th>QmE</th>\n",
       "      <th>QnE</th>\n",
       "      <th>QoE</th>\n",
       "      <th>QpE</th>\n",
       "      <th>QqE</th>\n",
       "      <th>QrE</th>\n",
       "      <th>QsE</th>\n",
       "      <th>QtE</th>\n",
       "    </tr>\n",
       "  </thead>\n",
       "  <tbody>\n",
       "    <tr>\n",
       "      <th>count</th>\n",
       "      <td>4.553200e+04</td>\n",
       "      <td>4.553200e+04</td>\n",
       "      <td>45532.000000</td>\n",
       "      <td>4.553200e+04</td>\n",
       "      <td>4.553200e+04</td>\n",
       "      <td>4.553200e+04</td>\n",
       "      <td>4.553200e+04</td>\n",
       "      <td>4.553200e+04</td>\n",
       "      <td>4.553200e+04</td>\n",
       "      <td>4.553200e+04</td>\n",
       "      <td>4.553200e+04</td>\n",
       "      <td>4.553200e+04</td>\n",
       "      <td>4.553200e+04</td>\n",
       "      <td>45532.000000</td>\n",
       "      <td>4.553200e+04</td>\n",
       "      <td>4.553200e+04</td>\n",
       "      <td>4.553200e+04</td>\n",
       "      <td>4.553200e+04</td>\n",
       "      <td>4.553200e+04</td>\n",
       "      <td>4.553200e+04</td>\n",
       "    </tr>\n",
       "    <tr>\n",
       "      <th>mean</th>\n",
       "      <td>9.453570e+02</td>\n",
       "      <td>2.189589e+03</td>\n",
       "      <td>1484.294518</td>\n",
       "      <td>1.490672e+03</td>\n",
       "      <td>1.899292e+03</td>\n",
       "      <td>1.850650e+03</td>\n",
       "      <td>1.284608e+03</td>\n",
       "      <td>4.584272e+03</td>\n",
       "      <td>4.068434e+03</td>\n",
       "      <td>2.576363e+03</td>\n",
       "      <td>2.038986e+03</td>\n",
       "      <td>3.741018e+03</td>\n",
       "      <td>2.050287e+03</td>\n",
       "      <td>959.880502</td>\n",
       "      <td>1.435762e+03</td>\n",
       "      <td>1.633479e+03</td>\n",
       "      <td>1.154352e+03</td>\n",
       "      <td>2.470808e+03</td>\n",
       "      <td>1.164117e+03</td>\n",
       "      <td>2.240057e+03</td>\n",
       "    </tr>\n",
       "    <tr>\n",
       "      <th>std</th>\n",
       "      <td>1.307565e+04</td>\n",
       "      <td>3.351027e+04</td>\n",
       "      <td>8977.664318</td>\n",
       "      <td>1.092260e+04</td>\n",
       "      <td>1.670765e+04</td>\n",
       "      <td>7.608236e+04</td>\n",
       "      <td>9.756584e+03</td>\n",
       "      <td>5.020265e+05</td>\n",
       "      <td>1.141738e+05</td>\n",
       "      <td>5.411432e+04</td>\n",
       "      <td>3.069164e+04</td>\n",
       "      <td>3.663672e+05</td>\n",
       "      <td>7.530787e+04</td>\n",
       "      <td>5869.964127</td>\n",
       "      <td>1.084997e+04</td>\n",
       "      <td>2.600221e+04</td>\n",
       "      <td>2.250689e+04</td>\n",
       "      <td>1.482890e+05</td>\n",
       "      <td>7.433515e+03</td>\n",
       "      <td>6.730924e+04</td>\n",
       "    </tr>\n",
       "    <tr>\n",
       "      <th>min</th>\n",
       "      <td>2.500000e+01</td>\n",
       "      <td>2.500000e+01</td>\n",
       "      <td>25.000000</td>\n",
       "      <td>2.600000e+01</td>\n",
       "      <td>2.500000e+01</td>\n",
       "      <td>2.500000e+01</td>\n",
       "      <td>2.500000e+01</td>\n",
       "      <td>0.000000e+00</td>\n",
       "      <td>0.000000e+00</td>\n",
       "      <td>0.000000e+00</td>\n",
       "      <td>0.000000e+00</td>\n",
       "      <td>2.500000e+01</td>\n",
       "      <td>2.500000e+01</td>\n",
       "      <td>25.000000</td>\n",
       "      <td>0.000000e+00</td>\n",
       "      <td>0.000000e+00</td>\n",
       "      <td>0.000000e+00</td>\n",
       "      <td>2.500000e+01</td>\n",
       "      <td>2.500000e+01</td>\n",
       "      <td>2.500000e+01</td>\n",
       "    </tr>\n",
       "    <tr>\n",
       "      <th>25%</th>\n",
       "      <td>4.040000e+02</td>\n",
       "      <td>8.750000e+02</td>\n",
       "      <td>651.000000</td>\n",
       "      <td>6.790000e+02</td>\n",
       "      <td>8.340000e+02</td>\n",
       "      <td>5.040000e+02</td>\n",
       "      <td>5.490000e+02</td>\n",
       "      <td>1.077000e+03</td>\n",
       "      <td>1.259000e+03</td>\n",
       "      <td>9.020000e+02</td>\n",
       "      <td>8.590000e+02</td>\n",
       "      <td>8.060000e+02</td>\n",
       "      <td>6.500000e+02</td>\n",
       "      <td>428.000000</td>\n",
       "      <td>6.380000e+02</td>\n",
       "      <td>7.060000e+02</td>\n",
       "      <td>4.610000e+02</td>\n",
       "      <td>7.940000e+02</td>\n",
       "      <td>5.270000e+02</td>\n",
       "      <td>7.330000e+02</td>\n",
       "    </tr>\n",
       "    <tr>\n",
       "      <th>50%</th>\n",
       "      <td>5.570000e+02</td>\n",
       "      <td>1.218000e+03</td>\n",
       "      <td>899.000000</td>\n",
       "      <td>9.310000e+02</td>\n",
       "      <td>1.154000e+03</td>\n",
       "      <td>7.120000e+02</td>\n",
       "      <td>7.720000e+02</td>\n",
       "      <td>1.464000e+03</td>\n",
       "      <td>1.800000e+03</td>\n",
       "      <td>1.260000e+03</td>\n",
       "      <td>1.178000e+03</td>\n",
       "      <td>1.125000e+03</td>\n",
       "      <td>9.060000e+02</td>\n",
       "      <td>596.000000</td>\n",
       "      <td>8.830000e+02</td>\n",
       "      <td>9.700000e+02</td>\n",
       "      <td>6.520000e+02</td>\n",
       "      <td>1.117000e+03</td>\n",
       "      <td>7.470000e+02</td>\n",
       "      <td>1.020000e+03</td>\n",
       "    </tr>\n",
       "    <tr>\n",
       "      <th>75%</th>\n",
       "      <td>8.270000e+02</td>\n",
       "      <td>1.838000e+03</td>\n",
       "      <td>1335.000000</td>\n",
       "      <td>1.355000e+03</td>\n",
       "      <td>1.656000e+03</td>\n",
       "      <td>1.078000e+03</td>\n",
       "      <td>1.150000e+03</td>\n",
       "      <td>2.090000e+03</td>\n",
       "      <td>2.761000e+03</td>\n",
       "      <td>1.899000e+03</td>\n",
       "      <td>1.721000e+03</td>\n",
       "      <td>1.649000e+03</td>\n",
       "      <td>1.342000e+03</td>\n",
       "      <td>891.000000</td>\n",
       "      <td>1.300000e+03</td>\n",
       "      <td>1.409000e+03</td>\n",
       "      <td>9.820000e+02</td>\n",
       "      <td>1.664000e+03</td>\n",
       "      <td>1.124000e+03</td>\n",
       "      <td>1.526000e+03</td>\n",
       "    </tr>\n",
       "    <tr>\n",
       "      <th>max</th>\n",
       "      <td>2.413960e+06</td>\n",
       "      <td>5.580395e+06</td>\n",
       "      <td>871557.000000</td>\n",
       "      <td>1.552821e+06</td>\n",
       "      <td>1.919926e+06</td>\n",
       "      <td>1.176370e+07</td>\n",
       "      <td>1.068252e+06</td>\n",
       "      <td>1.070860e+08</td>\n",
       "      <td>1.703586e+07</td>\n",
       "      <td>9.910006e+06</td>\n",
       "      <td>4.824953e+06</td>\n",
       "      <td>7.754351e+07</td>\n",
       "      <td>1.410832e+07</td>\n",
       "      <td>606694.000000</td>\n",
       "      <td>1.309739e+06</td>\n",
       "      <td>4.650742e+06</td>\n",
       "      <td>4.277510e+06</td>\n",
       "      <td>3.159328e+07</td>\n",
       "      <td>1.286581e+06</td>\n",
       "      <td>1.155650e+07</td>\n",
       "    </tr>\n",
       "  </tbody>\n",
       "</table>\n",
       "</div>"
      ],
      "text/plain": [
       "                QaE           QbE            QcE           QdE           QeE  \\\n",
       "count  4.553200e+04  4.553200e+04   45532.000000  4.553200e+04  4.553200e+04   \n",
       "mean   9.453570e+02  2.189589e+03    1484.294518  1.490672e+03  1.899292e+03   \n",
       "std    1.307565e+04  3.351027e+04    8977.664318  1.092260e+04  1.670765e+04   \n",
       "min    2.500000e+01  2.500000e+01      25.000000  2.600000e+01  2.500000e+01   \n",
       "25%    4.040000e+02  8.750000e+02     651.000000  6.790000e+02  8.340000e+02   \n",
       "50%    5.570000e+02  1.218000e+03     899.000000  9.310000e+02  1.154000e+03   \n",
       "75%    8.270000e+02  1.838000e+03    1335.000000  1.355000e+03  1.656000e+03   \n",
       "max    2.413960e+06  5.580395e+06  871557.000000  1.552821e+06  1.919926e+06   \n",
       "\n",
       "                QfE           QgE           QhE           QiE           QjE  \\\n",
       "count  4.553200e+04  4.553200e+04  4.553200e+04  4.553200e+04  4.553200e+04   \n",
       "mean   1.850650e+03  1.284608e+03  4.584272e+03  4.068434e+03  2.576363e+03   \n",
       "std    7.608236e+04  9.756584e+03  5.020265e+05  1.141738e+05  5.411432e+04   \n",
       "min    2.500000e+01  2.500000e+01  0.000000e+00  0.000000e+00  0.000000e+00   \n",
       "25%    5.040000e+02  5.490000e+02  1.077000e+03  1.259000e+03  9.020000e+02   \n",
       "50%    7.120000e+02  7.720000e+02  1.464000e+03  1.800000e+03  1.260000e+03   \n",
       "75%    1.078000e+03  1.150000e+03  2.090000e+03  2.761000e+03  1.899000e+03   \n",
       "max    1.176370e+07  1.068252e+06  1.070860e+08  1.703586e+07  9.910006e+06   \n",
       "\n",
       "                QkE           QlE           QmE            QnE           QoE  \\\n",
       "count  4.553200e+04  4.553200e+04  4.553200e+04   45532.000000  4.553200e+04   \n",
       "mean   2.038986e+03  3.741018e+03  2.050287e+03     959.880502  1.435762e+03   \n",
       "std    3.069164e+04  3.663672e+05  7.530787e+04    5869.964127  1.084997e+04   \n",
       "min    0.000000e+00  2.500000e+01  2.500000e+01      25.000000  0.000000e+00   \n",
       "25%    8.590000e+02  8.060000e+02  6.500000e+02     428.000000  6.380000e+02   \n",
       "50%    1.178000e+03  1.125000e+03  9.060000e+02     596.000000  8.830000e+02   \n",
       "75%    1.721000e+03  1.649000e+03  1.342000e+03     891.000000  1.300000e+03   \n",
       "max    4.824953e+06  7.754351e+07  1.410832e+07  606694.000000  1.309739e+06   \n",
       "\n",
       "                QpE           QqE           QrE           QsE           QtE  \n",
       "count  4.553200e+04  4.553200e+04  4.553200e+04  4.553200e+04  4.553200e+04  \n",
       "mean   1.633479e+03  1.154352e+03  2.470808e+03  1.164117e+03  2.240057e+03  \n",
       "std    2.600221e+04  2.250689e+04  1.482890e+05  7.433515e+03  6.730924e+04  \n",
       "min    0.000000e+00  0.000000e+00  2.500000e+01  2.500000e+01  2.500000e+01  \n",
       "25%    7.060000e+02  4.610000e+02  7.940000e+02  5.270000e+02  7.330000e+02  \n",
       "50%    9.700000e+02  6.520000e+02  1.117000e+03  7.470000e+02  1.020000e+03  \n",
       "75%    1.409000e+03  9.820000e+02  1.664000e+03  1.124000e+03  1.526000e+03  \n",
       "max    4.650742e+06  4.277510e+06  3.159328e+07  1.286581e+06  1.155650e+07  "
      ]
     },
     "execution_count": 1753,
     "metadata": {},
     "output_type": "execute_result"
    }
   ],
   "source": [
    "train_df[qe_list].describe()"
   ]
  },
  {
   "cell_type": "code",
   "execution_count": 1754,
   "metadata": {},
   "outputs": [
    {
     "name": "stderr",
     "output_type": "stream",
     "text": [
      "/Users/jeongsuchan/.local/lib/python3.6/site-packages/ipykernel_launcher.py:1: RuntimeWarning: divide by zero encountered in log\n",
      "  \"\"\"Entry point for launching an IPython kernel.\n",
      "/Users/jeongsuchan/.local/lib/python3.6/site-packages/ipykernel_launcher.py:2: RuntimeWarning: divide by zero encountered in log\n",
      "  \n"
     ]
    }
   ],
   "source": [
    "train_df[qe_list] = log(train_df[qe_list]) / 7\n",
    "test_df[qe_list] = log(test_df[qe_list]) / 7"
   ]
  },
  {
   "cell_type": "code",
   "execution_count": 1755,
   "metadata": {},
   "outputs": [
    {
     "data": {
      "text/html": [
       "<div>\n",
       "<style scoped>\n",
       "    .dataframe tbody tr th:only-of-type {\n",
       "        vertical-align: middle;\n",
       "    }\n",
       "\n",
       "    .dataframe tbody tr th {\n",
       "        vertical-align: top;\n",
       "    }\n",
       "\n",
       "    .dataframe thead th {\n",
       "        text-align: right;\n",
       "    }\n",
       "</style>\n",
       "<table border=\"1\" class=\"dataframe\">\n",
       "  <thead>\n",
       "    <tr style=\"text-align: right;\">\n",
       "      <th></th>\n",
       "      <th>QaE</th>\n",
       "      <th>QbE</th>\n",
       "      <th>QcE</th>\n",
       "      <th>QdE</th>\n",
       "      <th>QeE</th>\n",
       "      <th>QfE</th>\n",
       "      <th>QgE</th>\n",
       "      <th>QhE</th>\n",
       "      <th>QiE</th>\n",
       "      <th>QjE</th>\n",
       "      <th>QkE</th>\n",
       "      <th>QlE</th>\n",
       "      <th>QmE</th>\n",
       "      <th>QnE</th>\n",
       "      <th>QoE</th>\n",
       "      <th>QpE</th>\n",
       "      <th>QqE</th>\n",
       "      <th>QrE</th>\n",
       "      <th>QsE</th>\n",
       "      <th>QtE</th>\n",
       "    </tr>\n",
       "  </thead>\n",
       "  <tbody>\n",
       "    <tr>\n",
       "      <th>0</th>\n",
       "      <td>0.842058</td>\n",
       "      <td>1.031795</td>\n",
       "      <td>0.986393</td>\n",
       "      <td>0.990210</td>\n",
       "      <td>1.051897</td>\n",
       "      <td>0.898531</td>\n",
       "      <td>0.910474</td>\n",
       "      <td>0.999787</td>\n",
       "      <td>1.005791</td>\n",
       "      <td>1.022867</td>\n",
       "      <td>0.969046</td>\n",
       "      <td>0.963773</td>\n",
       "      <td>0.963773</td>\n",
       "      <td>0.957773</td>\n",
       "      <td>0.908757</td>\n",
       "      <td>0.975530</td>\n",
       "      <td>0.843233</td>\n",
       "      <td>0.967909</td>\n",
       "      <td>0.921496</td>\n",
       "      <td>1.002373</td>\n",
       "    </tr>\n",
       "    <tr>\n",
       "      <th>1</th>\n",
       "      <td>0.924621</td>\n",
       "      <td>1.025724</td>\n",
       "      <td>1.161100</td>\n",
       "      <td>1.142283</td>\n",
       "      <td>1.195859</td>\n",
       "      <td>1.098808</td>\n",
       "      <td>0.959514</td>\n",
       "      <td>1.187763</td>\n",
       "      <td>1.076013</td>\n",
       "      <td>1.020291</td>\n",
       "      <td>1.141026</td>\n",
       "      <td>1.182233</td>\n",
       "      <td>1.196156</td>\n",
       "      <td>1.072997</td>\n",
       "      <td>1.014525</td>\n",
       "      <td>1.112720</td>\n",
       "      <td>1.030328</td>\n",
       "      <td>1.145612</td>\n",
       "      <td>1.195329</td>\n",
       "      <td>1.029270</td>\n",
       "    </tr>\n",
       "    <tr>\n",
       "      <th>2</th>\n",
       "      <td>1.056005</td>\n",
       "      <td>1.042828</td>\n",
       "      <td>0.989791</td>\n",
       "      <td>1.160551</td>\n",
       "      <td>1.027884</td>\n",
       "      <td>0.896395</td>\n",
       "      <td>1.008885</td>\n",
       "      <td>0.989090</td>\n",
       "      <td>1.126207</td>\n",
       "      <td>1.051171</td>\n",
       "      <td>0.986536</td>\n",
       "      <td>1.120382</td>\n",
       "      <td>0.974600</td>\n",
       "      <td>1.096374</td>\n",
       "      <td>1.024742</td>\n",
       "      <td>1.004408</td>\n",
       "      <td>0.977526</td>\n",
       "      <td>1.027239</td>\n",
       "      <td>1.009251</td>\n",
       "      <td>1.035805</td>\n",
       "    </tr>\n",
       "    <tr>\n",
       "      <th>3</th>\n",
       "      <td>0.888939</td>\n",
       "      <td>1.106491</td>\n",
       "      <td>0.985675</td>\n",
       "      <td>1.154982</td>\n",
       "      <td>0.839677</td>\n",
       "      <td>1.046544</td>\n",
       "      <td>0.724129</td>\n",
       "      <td>1.104248</td>\n",
       "      <td>1.134369</td>\n",
       "      <td>1.233288</td>\n",
       "      <td>1.153832</td>\n",
       "      <td>1.023863</td>\n",
       "      <td>1.301440</td>\n",
       "      <td>1.014760</td>\n",
       "      <td>1.009129</td>\n",
       "      <td>1.440042</td>\n",
       "      <td>0.909250</td>\n",
       "      <td>1.297987</td>\n",
       "      <td>1.111412</td>\n",
       "      <td>1.025615</td>\n",
       "    </tr>\n",
       "    <tr>\n",
       "      <th>4</th>\n",
       "      <td>0.975993</td>\n",
       "      <td>0.937290</td>\n",
       "      <td>0.902967</td>\n",
       "      <td>0.995416</td>\n",
       "      <td>0.988808</td>\n",
       "      <td>0.920363</td>\n",
       "      <td>0.985531</td>\n",
       "      <td>1.019725</td>\n",
       "      <td>1.007160</td>\n",
       "      <td>1.033660</td>\n",
       "      <td>0.943807</td>\n",
       "      <td>1.010588</td>\n",
       "      <td>0.900636</td>\n",
       "      <td>0.907767</td>\n",
       "      <td>0.946485</td>\n",
       "      <td>1.005541</td>\n",
       "      <td>0.825379</td>\n",
       "      <td>0.996488</td>\n",
       "      <td>0.909741</td>\n",
       "      <td>1.077686</td>\n",
       "    </tr>\n",
       "    <tr>\n",
       "      <th>...</th>\n",
       "      <td>...</td>\n",
       "      <td>...</td>\n",
       "      <td>...</td>\n",
       "      <td>...</td>\n",
       "      <td>...</td>\n",
       "      <td>...</td>\n",
       "      <td>...</td>\n",
       "      <td>...</td>\n",
       "      <td>...</td>\n",
       "      <td>...</td>\n",
       "      <td>...</td>\n",
       "      <td>...</td>\n",
       "      <td>...</td>\n",
       "      <td>...</td>\n",
       "      <td>...</td>\n",
       "      <td>...</td>\n",
       "      <td>...</td>\n",
       "      <td>...</td>\n",
       "      <td>...</td>\n",
       "      <td>...</td>\n",
       "    </tr>\n",
       "    <tr>\n",
       "      <th>45527</th>\n",
       "      <td>0.993792</td>\n",
       "      <td>0.918301</td>\n",
       "      <td>0.827573</td>\n",
       "      <td>0.807498</td>\n",
       "      <td>0.914322</td>\n",
       "      <td>0.798178</td>\n",
       "      <td>0.821796</td>\n",
       "      <td>0.882860</td>\n",
       "      <td>0.989090</td>\n",
       "      <td>0.803946</td>\n",
       "      <td>0.916442</td>\n",
       "      <td>0.767234</td>\n",
       "      <td>0.851572</td>\n",
       "      <td>0.814349</td>\n",
       "      <td>1.079639</td>\n",
       "      <td>0.869214</td>\n",
       "      <td>0.958994</td>\n",
       "      <td>0.819049</td>\n",
       "      <td>0.910474</td>\n",
       "      <td>1.102796</td>\n",
       "    </tr>\n",
       "    <tr>\n",
       "      <th>45528</th>\n",
       "      <td>0.909250</td>\n",
       "      <td>1.030011</td>\n",
       "      <td>1.008517</td>\n",
       "      <td>0.954587</td>\n",
       "      <td>1.060936</td>\n",
       "      <td>0.903991</td>\n",
       "      <td>0.923067</td>\n",
       "      <td>1.036412</td>\n",
       "      <td>1.201500</td>\n",
       "      <td>1.034071</td>\n",
       "      <td>1.116458</td>\n",
       "      <td>1.020742</td>\n",
       "      <td>0.962424</td>\n",
       "      <td>1.034992</td>\n",
       "      <td>1.047013</td>\n",
       "      <td>0.939694</td>\n",
       "      <td>0.946485</td>\n",
       "      <td>1.002757</td>\n",
       "      <td>0.926158</td>\n",
       "      <td>1.012511</td>\n",
       "    </tr>\n",
       "    <tr>\n",
       "      <th>45529</th>\n",
       "      <td>0.912171</td>\n",
       "      <td>0.964777</td>\n",
       "      <td>0.993383</td>\n",
       "      <td>1.046167</td>\n",
       "      <td>1.061783</td>\n",
       "      <td>1.019042</td>\n",
       "      <td>0.999657</td>\n",
       "      <td>1.022422</td>\n",
       "      <td>1.100042</td>\n",
       "      <td>1.067906</td>\n",
       "      <td>0.995416</td>\n",
       "      <td>1.043694</td>\n",
       "      <td>1.079116</td>\n",
       "      <td>0.970335</td>\n",
       "      <td>1.024083</td>\n",
       "      <td>1.012868</td>\n",
       "      <td>0.879871</td>\n",
       "      <td>1.069115</td>\n",
       "      <td>1.030222</td>\n",
       "      <td>0.928970</td>\n",
       "    </tr>\n",
       "    <tr>\n",
       "      <th>45530</th>\n",
       "      <td>0.945152</td>\n",
       "      <td>1.027669</td>\n",
       "      <td>0.970495</td>\n",
       "      <td>1.022199</td>\n",
       "      <td>1.027347</td>\n",
       "      <td>0.913609</td>\n",
       "      <td>0.925282</td>\n",
       "      <td>1.037819</td>\n",
       "      <td>1.066604</td>\n",
       "      <td>0.949484</td>\n",
       "      <td>0.990350</td>\n",
       "      <td>0.944193</td>\n",
       "      <td>1.191152</td>\n",
       "      <td>0.937290</td>\n",
       "      <td>0.884623</td>\n",
       "      <td>0.973819</td>\n",
       "      <td>1.024413</td>\n",
       "      <td>1.060936</td>\n",
       "      <td>0.943227</td>\n",
       "      <td>1.003521</td>\n",
       "    </tr>\n",
       "    <tr>\n",
       "      <th>45531</th>\n",
       "      <td>0.886654</td>\n",
       "      <td>1.072919</td>\n",
       "      <td>0.946485</td>\n",
       "      <td>1.002629</td>\n",
       "      <td>0.866918</td>\n",
       "      <td>1.037117</td>\n",
       "      <td>0.900112</td>\n",
       "      <td>1.062290</td>\n",
       "      <td>1.097629</td>\n",
       "      <td>1.266352</td>\n",
       "      <td>0.998740</td>\n",
       "      <td>0.999133</td>\n",
       "      <td>1.099134</td>\n",
       "      <td>0.866587</td>\n",
       "      <td>0.973976</td>\n",
       "      <td>0.918531</td>\n",
       "      <td>0.859451</td>\n",
       "      <td>0.943033</td>\n",
       "      <td>0.928970</td>\n",
       "      <td>1.059654</td>\n",
       "    </tr>\n",
       "  </tbody>\n",
       "</table>\n",
       "<p>45532 rows × 20 columns</p>\n",
       "</div>"
      ],
      "text/plain": [
       "            QaE       QbE       QcE       QdE       QeE       QfE       QgE  \\\n",
       "0      0.842058  1.031795  0.986393  0.990210  1.051897  0.898531  0.910474   \n",
       "1      0.924621  1.025724  1.161100  1.142283  1.195859  1.098808  0.959514   \n",
       "2      1.056005  1.042828  0.989791  1.160551  1.027884  0.896395  1.008885   \n",
       "3      0.888939  1.106491  0.985675  1.154982  0.839677  1.046544  0.724129   \n",
       "4      0.975993  0.937290  0.902967  0.995416  0.988808  0.920363  0.985531   \n",
       "...         ...       ...       ...       ...       ...       ...       ...   \n",
       "45527  0.993792  0.918301  0.827573  0.807498  0.914322  0.798178  0.821796   \n",
       "45528  0.909250  1.030011  1.008517  0.954587  1.060936  0.903991  0.923067   \n",
       "45529  0.912171  0.964777  0.993383  1.046167  1.061783  1.019042  0.999657   \n",
       "45530  0.945152  1.027669  0.970495  1.022199  1.027347  0.913609  0.925282   \n",
       "45531  0.886654  1.072919  0.946485  1.002629  0.866918  1.037117  0.900112   \n",
       "\n",
       "            QhE       QiE       QjE       QkE       QlE       QmE       QnE  \\\n",
       "0      0.999787  1.005791  1.022867  0.969046  0.963773  0.963773  0.957773   \n",
       "1      1.187763  1.076013  1.020291  1.141026  1.182233  1.196156  1.072997   \n",
       "2      0.989090  1.126207  1.051171  0.986536  1.120382  0.974600  1.096374   \n",
       "3      1.104248  1.134369  1.233288  1.153832  1.023863  1.301440  1.014760   \n",
       "4      1.019725  1.007160  1.033660  0.943807  1.010588  0.900636  0.907767   \n",
       "...         ...       ...       ...       ...       ...       ...       ...   \n",
       "45527  0.882860  0.989090  0.803946  0.916442  0.767234  0.851572  0.814349   \n",
       "45528  1.036412  1.201500  1.034071  1.116458  1.020742  0.962424  1.034992   \n",
       "45529  1.022422  1.100042  1.067906  0.995416  1.043694  1.079116  0.970335   \n",
       "45530  1.037819  1.066604  0.949484  0.990350  0.944193  1.191152  0.937290   \n",
       "45531  1.062290  1.097629  1.266352  0.998740  0.999133  1.099134  0.866587   \n",
       "\n",
       "            QoE       QpE       QqE       QrE       QsE       QtE  \n",
       "0      0.908757  0.975530  0.843233  0.967909  0.921496  1.002373  \n",
       "1      1.014525  1.112720  1.030328  1.145612  1.195329  1.029270  \n",
       "2      1.024742  1.004408  0.977526  1.027239  1.009251  1.035805  \n",
       "3      1.009129  1.440042  0.909250  1.297987  1.111412  1.025615  \n",
       "4      0.946485  1.005541  0.825379  0.996488  0.909741  1.077686  \n",
       "...         ...       ...       ...       ...       ...       ...  \n",
       "45527  1.079639  0.869214  0.958994  0.819049  0.910474  1.102796  \n",
       "45528  1.047013  0.939694  0.946485  1.002757  0.926158  1.012511  \n",
       "45529  1.024083  1.012868  0.879871  1.069115  1.030222  0.928970  \n",
       "45530  0.884623  0.973819  1.024413  1.060936  0.943227  1.003521  \n",
       "45531  0.973976  0.918531  0.859451  0.943033  0.928970  1.059654  \n",
       "\n",
       "[45532 rows x 20 columns]"
      ]
     },
     "execution_count": 1755,
     "metadata": {},
     "output_type": "execute_result"
    }
   ],
   "source": [
    "train_df[qe_list]"
   ]
  },
  {
   "cell_type": "code",
   "execution_count": 1756,
   "metadata": {},
   "outputs": [],
   "source": [
    "train_df = train_df.replace(-np.inf, 0)\n",
    "test_df = test_df.replace(-np.inf, 0)"
   ]
  },
  {
   "cell_type": "code",
   "execution_count": null,
   "metadata": {},
   "outputs": [],
   "source": []
  },
  {
   "cell_type": "markdown",
   "metadata": {},
   "source": [
    "# Q_A"
   ]
  },
  {
   "cell_type": "code",
   "execution_count": 1757,
   "metadata": {},
   "outputs": [],
   "source": [
    "qa_list = ['Q{}A'.format(chr(ch)) for ch in range(ord('a'), ord('u'))]"
   ]
  },
  {
   "cell_type": "code",
   "execution_count": 1758,
   "metadata": {},
   "outputs": [],
   "source": [
    "train_df[qa_list] = train_df[qa_list]/5\n",
    "test_df[qa_list] = test_df[qa_list]/5"
   ]
  },
  {
   "cell_type": "code",
   "execution_count": 1759,
   "metadata": {},
   "outputs": [
    {
     "data": {
      "text/html": [
       "<div>\n",
       "<style scoped>\n",
       "    .dataframe tbody tr th:only-of-type {\n",
       "        vertical-align: middle;\n",
       "    }\n",
       "\n",
       "    .dataframe tbody tr th {\n",
       "        vertical-align: top;\n",
       "    }\n",
       "\n",
       "    .dataframe thead th {\n",
       "        text-align: right;\n",
       "    }\n",
       "</style>\n",
       "<table border=\"1\" class=\"dataframe\">\n",
       "  <thead>\n",
       "    <tr style=\"text-align: right;\">\n",
       "      <th></th>\n",
       "      <th>QaA</th>\n",
       "      <th>QbA</th>\n",
       "      <th>QcA</th>\n",
       "      <th>QdA</th>\n",
       "      <th>QeA</th>\n",
       "      <th>QfA</th>\n",
       "      <th>QgA</th>\n",
       "      <th>QhA</th>\n",
       "      <th>QiA</th>\n",
       "      <th>QjA</th>\n",
       "      <th>QkA</th>\n",
       "      <th>QlA</th>\n",
       "      <th>QmA</th>\n",
       "      <th>QnA</th>\n",
       "      <th>QoA</th>\n",
       "      <th>QpA</th>\n",
       "      <th>QqA</th>\n",
       "      <th>QrA</th>\n",
       "      <th>QsA</th>\n",
       "      <th>QtA</th>\n",
       "    </tr>\n",
       "  </thead>\n",
       "  <tbody>\n",
       "    <tr>\n",
       "      <th>0</th>\n",
       "      <td>0.6</td>\n",
       "      <td>0.8</td>\n",
       "      <td>1.0</td>\n",
       "      <td>0.2</td>\n",
       "      <td>0.4</td>\n",
       "      <td>1.0</td>\n",
       "      <td>0.4</td>\n",
       "      <td>0.8</td>\n",
       "      <td>1.0</td>\n",
       "      <td>0.8</td>\n",
       "      <td>0.8</td>\n",
       "      <td>0.8</td>\n",
       "      <td>0.4</td>\n",
       "      <td>1.0</td>\n",
       "      <td>0.4</td>\n",
       "      <td>0.4</td>\n",
       "      <td>0.4</td>\n",
       "      <td>0.4</td>\n",
       "      <td>0.4</td>\n",
       "      <td>0.2</td>\n",
       "    </tr>\n",
       "    <tr>\n",
       "      <th>1</th>\n",
       "      <td>1.0</td>\n",
       "      <td>1.0</td>\n",
       "      <td>0.6</td>\n",
       "      <td>1.0</td>\n",
       "      <td>0.2</td>\n",
       "      <td>0.6</td>\n",
       "      <td>0.2</td>\n",
       "      <td>0.2</td>\n",
       "      <td>1.0</td>\n",
       "      <td>0.6</td>\n",
       "      <td>1.0</td>\n",
       "      <td>0.8</td>\n",
       "      <td>0.2</td>\n",
       "      <td>1.0</td>\n",
       "      <td>0.2</td>\n",
       "      <td>1.0</td>\n",
       "      <td>1.0</td>\n",
       "      <td>0.2</td>\n",
       "      <td>0.8</td>\n",
       "      <td>0.2</td>\n",
       "    </tr>\n",
       "    <tr>\n",
       "      <th>2</th>\n",
       "      <td>0.8</td>\n",
       "      <td>0.2</td>\n",
       "      <td>0.2</td>\n",
       "      <td>0.8</td>\n",
       "      <td>1.0</td>\n",
       "      <td>0.2</td>\n",
       "      <td>0.8</td>\n",
       "      <td>0.2</td>\n",
       "      <td>0.6</td>\n",
       "      <td>0.4</td>\n",
       "      <td>1.0</td>\n",
       "      <td>1.0</td>\n",
       "      <td>0.4</td>\n",
       "      <td>0.8</td>\n",
       "      <td>0.4</td>\n",
       "      <td>0.2</td>\n",
       "      <td>1.0</td>\n",
       "      <td>0.8</td>\n",
       "      <td>0.2</td>\n",
       "      <td>0.2</td>\n",
       "    </tr>\n",
       "    <tr>\n",
       "      <th>3</th>\n",
       "      <td>0.6</td>\n",
       "      <td>0.6</td>\n",
       "      <td>0.8</td>\n",
       "      <td>0.6</td>\n",
       "      <td>0.2</td>\n",
       "      <td>0.4</td>\n",
       "      <td>0.8</td>\n",
       "      <td>0.6</td>\n",
       "      <td>1.0</td>\n",
       "      <td>0.8</td>\n",
       "      <td>0.6</td>\n",
       "      <td>0.8</td>\n",
       "      <td>0.8</td>\n",
       "      <td>0.8</td>\n",
       "      <td>0.8</td>\n",
       "      <td>0.8</td>\n",
       "      <td>0.6</td>\n",
       "      <td>0.8</td>\n",
       "      <td>0.8</td>\n",
       "      <td>1.0</td>\n",
       "    </tr>\n",
       "    <tr>\n",
       "      <th>4</th>\n",
       "      <td>0.2</td>\n",
       "      <td>0.2</td>\n",
       "      <td>1.0</td>\n",
       "      <td>0.4</td>\n",
       "      <td>0.2</td>\n",
       "      <td>0.4</td>\n",
       "      <td>0.2</td>\n",
       "      <td>0.2</td>\n",
       "      <td>1.0</td>\n",
       "      <td>1.0</td>\n",
       "      <td>1.0</td>\n",
       "      <td>1.0</td>\n",
       "      <td>0.8</td>\n",
       "      <td>0.4</td>\n",
       "      <td>0.2</td>\n",
       "      <td>0.8</td>\n",
       "      <td>1.0</td>\n",
       "      <td>1.0</td>\n",
       "      <td>0.2</td>\n",
       "      <td>0.4</td>\n",
       "    </tr>\n",
       "    <tr>\n",
       "      <th>...</th>\n",
       "      <td>...</td>\n",
       "      <td>...</td>\n",
       "      <td>...</td>\n",
       "      <td>...</td>\n",
       "      <td>...</td>\n",
       "      <td>...</td>\n",
       "      <td>...</td>\n",
       "      <td>...</td>\n",
       "      <td>...</td>\n",
       "      <td>...</td>\n",
       "      <td>...</td>\n",
       "      <td>...</td>\n",
       "      <td>...</td>\n",
       "      <td>...</td>\n",
       "      <td>...</td>\n",
       "      <td>...</td>\n",
       "      <td>...</td>\n",
       "      <td>...</td>\n",
       "      <td>...</td>\n",
       "      <td>...</td>\n",
       "    </tr>\n",
       "    <tr>\n",
       "      <th>45527</th>\n",
       "      <td>0.4</td>\n",
       "      <td>1.0</td>\n",
       "      <td>0.8</td>\n",
       "      <td>0.2</td>\n",
       "      <td>0.2</td>\n",
       "      <td>0.2</td>\n",
       "      <td>0.2</td>\n",
       "      <td>0.2</td>\n",
       "      <td>0.2</td>\n",
       "      <td>0.8</td>\n",
       "      <td>0.8</td>\n",
       "      <td>1.0</td>\n",
       "      <td>0.8</td>\n",
       "      <td>0.2</td>\n",
       "      <td>0.4</td>\n",
       "      <td>0.8</td>\n",
       "      <td>0.4</td>\n",
       "      <td>0.2</td>\n",
       "      <td>1.0</td>\n",
       "      <td>0.8</td>\n",
       "    </tr>\n",
       "    <tr>\n",
       "      <th>45528</th>\n",
       "      <td>0.4</td>\n",
       "      <td>0.6</td>\n",
       "      <td>0.8</td>\n",
       "      <td>0.2</td>\n",
       "      <td>0.6</td>\n",
       "      <td>0.4</td>\n",
       "      <td>0.4</td>\n",
       "      <td>0.2</td>\n",
       "      <td>0.4</td>\n",
       "      <td>1.0</td>\n",
       "      <td>0.4</td>\n",
       "      <td>1.0</td>\n",
       "      <td>0.6</td>\n",
       "      <td>0.4</td>\n",
       "      <td>0.8</td>\n",
       "      <td>0.8</td>\n",
       "      <td>0.4</td>\n",
       "      <td>0.6</td>\n",
       "      <td>0.8</td>\n",
       "      <td>0.8</td>\n",
       "    </tr>\n",
       "    <tr>\n",
       "      <th>45529</th>\n",
       "      <td>0.8</td>\n",
       "      <td>0.2</td>\n",
       "      <td>0.2</td>\n",
       "      <td>0.8</td>\n",
       "      <td>1.0</td>\n",
       "      <td>0.8</td>\n",
       "      <td>1.0</td>\n",
       "      <td>0.2</td>\n",
       "      <td>1.0</td>\n",
       "      <td>0.2</td>\n",
       "      <td>1.0</td>\n",
       "      <td>1.0</td>\n",
       "      <td>0.2</td>\n",
       "      <td>0.8</td>\n",
       "      <td>0.2</td>\n",
       "      <td>0.2</td>\n",
       "      <td>1.0</td>\n",
       "      <td>1.0</td>\n",
       "      <td>0.6</td>\n",
       "      <td>0.2</td>\n",
       "    </tr>\n",
       "    <tr>\n",
       "      <th>45530</th>\n",
       "      <td>0.2</td>\n",
       "      <td>0.6</td>\n",
       "      <td>0.8</td>\n",
       "      <td>0.4</td>\n",
       "      <td>0.2</td>\n",
       "      <td>0.2</td>\n",
       "      <td>0.2</td>\n",
       "      <td>0.2</td>\n",
       "      <td>1.0</td>\n",
       "      <td>0.2</td>\n",
       "      <td>1.0</td>\n",
       "      <td>1.0</td>\n",
       "      <td>0.8</td>\n",
       "      <td>0.6</td>\n",
       "      <td>0.2</td>\n",
       "      <td>0.2</td>\n",
       "      <td>0.8</td>\n",
       "      <td>0.8</td>\n",
       "      <td>0.8</td>\n",
       "      <td>0.2</td>\n",
       "    </tr>\n",
       "    <tr>\n",
       "      <th>45531</th>\n",
       "      <td>0.6</td>\n",
       "      <td>1.0</td>\n",
       "      <td>1.0</td>\n",
       "      <td>0.6</td>\n",
       "      <td>0.2</td>\n",
       "      <td>0.8</td>\n",
       "      <td>0.6</td>\n",
       "      <td>0.6</td>\n",
       "      <td>0.8</td>\n",
       "      <td>0.8</td>\n",
       "      <td>1.0</td>\n",
       "      <td>1.0</td>\n",
       "      <td>0.8</td>\n",
       "      <td>0.8</td>\n",
       "      <td>0.8</td>\n",
       "      <td>0.8</td>\n",
       "      <td>0.8</td>\n",
       "      <td>0.8</td>\n",
       "      <td>0.8</td>\n",
       "      <td>1.0</td>\n",
       "    </tr>\n",
       "  </tbody>\n",
       "</table>\n",
       "<p>45532 rows × 20 columns</p>\n",
       "</div>"
      ],
      "text/plain": [
       "       QaA  QbA  QcA  QdA  QeA  QfA  QgA  QhA  QiA  QjA  QkA  QlA  QmA  QnA  \\\n",
       "0      0.6  0.8  1.0  0.2  0.4  1.0  0.4  0.8  1.0  0.8  0.8  0.8  0.4  1.0   \n",
       "1      1.0  1.0  0.6  1.0  0.2  0.6  0.2  0.2  1.0  0.6  1.0  0.8  0.2  1.0   \n",
       "2      0.8  0.2  0.2  0.8  1.0  0.2  0.8  0.2  0.6  0.4  1.0  1.0  0.4  0.8   \n",
       "3      0.6  0.6  0.8  0.6  0.2  0.4  0.8  0.6  1.0  0.8  0.6  0.8  0.8  0.8   \n",
       "4      0.2  0.2  1.0  0.4  0.2  0.4  0.2  0.2  1.0  1.0  1.0  1.0  0.8  0.4   \n",
       "...    ...  ...  ...  ...  ...  ...  ...  ...  ...  ...  ...  ...  ...  ...   \n",
       "45527  0.4  1.0  0.8  0.2  0.2  0.2  0.2  0.2  0.2  0.8  0.8  1.0  0.8  0.2   \n",
       "45528  0.4  0.6  0.8  0.2  0.6  0.4  0.4  0.2  0.4  1.0  0.4  1.0  0.6  0.4   \n",
       "45529  0.8  0.2  0.2  0.8  1.0  0.8  1.0  0.2  1.0  0.2  1.0  1.0  0.2  0.8   \n",
       "45530  0.2  0.6  0.8  0.4  0.2  0.2  0.2  0.2  1.0  0.2  1.0  1.0  0.8  0.6   \n",
       "45531  0.6  1.0  1.0  0.6  0.2  0.8  0.6  0.6  0.8  0.8  1.0  1.0  0.8  0.8   \n",
       "\n",
       "       QoA  QpA  QqA  QrA  QsA  QtA  \n",
       "0      0.4  0.4  0.4  0.4  0.4  0.2  \n",
       "1      0.2  1.0  1.0  0.2  0.8  0.2  \n",
       "2      0.4  0.2  1.0  0.8  0.2  0.2  \n",
       "3      0.8  0.8  0.6  0.8  0.8  1.0  \n",
       "4      0.2  0.8  1.0  1.0  0.2  0.4  \n",
       "...    ...  ...  ...  ...  ...  ...  \n",
       "45527  0.4  0.8  0.4  0.2  1.0  0.8  \n",
       "45528  0.8  0.8  0.4  0.6  0.8  0.8  \n",
       "45529  0.2  0.2  1.0  1.0  0.6  0.2  \n",
       "45530  0.2  0.2  0.8  0.8  0.8  0.2  \n",
       "45531  0.8  0.8  0.8  0.8  0.8  1.0  \n",
       "\n",
       "[45532 rows x 20 columns]"
      ]
     },
     "execution_count": 1759,
     "metadata": {},
     "output_type": "execute_result"
    }
   ],
   "source": [
    "train_df[qa_list]"
   ]
  },
  {
   "cell_type": "code",
   "execution_count": null,
   "metadata": {},
   "outputs": [],
   "source": []
  },
  {
   "cell_type": "markdown",
   "metadata": {},
   "source": [
    "# age_group"
   ]
  },
  {
   "cell_type": "code",
   "execution_count": 1982,
   "metadata": {},
   "outputs": [
    {
     "data": {
      "text/plain": [
       "['10s', '40s', '+70s', '60s', '50s', '20s', '30s']"
      ]
     },
     "execution_count": 1982,
     "metadata": {},
     "output_type": "execute_result"
    }
   ],
   "source": [
    "list(set(train_df['age_group'].to_list()))"
   ]
  },
  {
   "cell_type": "code",
   "execution_count": 1983,
   "metadata": {},
   "outputs": [],
   "source": [
    "train_df['age'] = train_df['age_group'].map({'10s':1, '20s':2, '30s':3, '40s':4, '50s': 5, '60s':6, '+70s':6})\n",
    "test_df['age'] = test_df['age_group'].map({'10s':1, '20s':2, '30s':3, '40s':4, '50s': 5, '60s':6, '+70s':6})"
   ]
  },
  {
   "cell_type": "code",
   "execution_count": 1984,
   "metadata": {},
   "outputs": [
    {
     "data": {
      "text/plain": [
       "+70s     173\n",
       "10s     2314\n",
       "20s     7484\n",
       "30s     4614\n",
       "40s     3243\n",
       "50s     1936\n",
       "60s      870\n",
       "Name: age_group, dtype: int64"
      ]
     },
     "execution_count": 1984,
     "metadata": {},
     "output_type": "execute_result"
    }
   ],
   "source": [
    "train_df[train_df['voted'] == 1]['age_group'].value_counts().sort_index()"
   ]
  },
  {
   "cell_type": "code",
   "execution_count": 1985,
   "metadata": {},
   "outputs": [
    {
     "data": {
      "text/plain": [
       "10s     0.162786\n",
       "20s     0.530329\n",
       "30s     0.588821\n",
       "40s     0.642051\n",
       "50s     0.670128\n",
       "60s     0.728643\n",
       "+70s    0.736170\n",
       "Name: age_group, dtype: float64"
      ]
     },
     "execution_count": 1985,
     "metadata": {},
     "output_type": "execute_result"
    }
   ],
   "source": [
    "(train_df[train_df['voted'] == 1]['age_group'].value_counts() / train_df['age_group'].value_counts()).sort_values()"
   ]
  },
  {
   "cell_type": "code",
   "execution_count": 1986,
   "metadata": {},
   "outputs": [
    {
     "data": {
      "image/png": "[encoded data removed]",
      "text/plain": [
       "<Figure size 432x288 with 1 Axes>"
      ]
     },
     "metadata": {},
     "output_type": "display_data"
    }
   ],
   "source": [
    "train_df[train_df['voted'] == 2]['age_group'].value_counts().plot.pie(y='voted', startangle=90)\n",
    "plt.show()"
   ]
  },
  {
   "cell_type": "code",
   "execution_count": 1987,
   "metadata": {},
   "outputs": [
    {
     "data": {
      "text/plain": [
       "10s     0.837214\n",
       "20s     0.469671\n",
       "30s     0.411179\n",
       "40s     0.357949\n",
       "50s     0.329872\n",
       "60s     0.271357\n",
       "+70s    0.263830\n",
       "Name: age_group, dtype: float64"
      ]
     },
     "execution_count": 1987,
     "metadata": {},
     "output_type": "execute_result"
    }
   ],
   "source": [
    "(train_df[train_df['voted'] == 2]['age_group'].value_counts() / train_df['age_group'].value_counts())"
   ]
  },
  {
   "cell_type": "code",
   "execution_count": 1988,
   "metadata": {},
   "outputs": [
    {
     "data": {
      "image/png": "[encoded data removed]",
      "text/plain": [
       "<Figure size 432x288 with 1 Axes>"
      ]
     },
     "metadata": {
      "needs_background": "light"
     },
     "output_type": "display_data"
    }
   ],
   "source": [
    "train_df['age'].plot.hist(y='voted')\n",
    "plt.show()"
   ]
  },
  {
   "cell_type": "code",
   "execution_count": null,
   "metadata": {},
   "outputs": [],
   "source": []
  },
  {
   "cell_type": "code",
   "execution_count": null,
   "metadata": {},
   "outputs": [],
   "source": []
  },
  {
   "cell_type": "code",
   "execution_count": 1989,
   "metadata": {},
   "outputs": [
    {
     "data": {
      "image/png": "[encoded data removed]",
      "text/plain": [
       "<Figure size 432x288 with 1 Axes>"
      ]
     },
     "metadata": {
      "needs_background": "light"
     },
     "output_type": "display_data"
    }
   ],
   "source": [
    "train_df['education'].plot.hist(y='voted')\n",
    "plt.show()"
   ]
  },
  {
   "cell_type": "markdown",
   "metadata": {},
   "source": [
    "# engnat"
   ]
  },
  {
   "cell_type": "code",
   "execution_count": 1990,
   "metadata": {},
   "outputs": [
    {
     "data": {
      "text/plain": [
       "2    24898\n",
       "1    20634\n",
       "Name: voted, dtype: int64"
      ]
     },
     "execution_count": 1990,
     "metadata": {},
     "output_type": "execute_result"
    }
   ],
   "source": [
    "train_df['voted'].value_counts()"
   ]
  },
  {
   "cell_type": "code",
   "execution_count": 1991,
   "metadata": {},
   "outputs": [
    {
     "data": {
      "text/plain": [
       "0       77\n",
       "1    33024\n",
       "2    12431\n",
       "Name: engnat, dtype: int64"
      ]
     },
     "execution_count": 1991,
     "metadata": {},
     "output_type": "execute_result"
    }
   ],
   "source": [
    "train_df['engnat'].value_counts().sort_index()"
   ]
  },
  {
   "cell_type": "code",
   "execution_count": 1992,
   "metadata": {},
   "outputs": [
    {
     "data": {
      "text/plain": [
       "0    0.376623\n",
       "1    0.462603\n",
       "2    0.428606\n",
       "Name: engnat, dtype: float64"
      ]
     },
     "execution_count": 1992,
     "metadata": {},
     "output_type": "execute_result"
    }
   ],
   "source": [
    "(train_df[train_df['voted'] == 1]['engnat'].value_counts() / train_df['engnat'].value_counts()).sort_index()"
   ]
  },
  {
   "cell_type": "code",
   "execution_count": 1993,
   "metadata": {},
   "outputs": [
    {
     "data": {
      "text/plain": [
       "0    0.623377\n",
       "1    0.537397\n",
       "2    0.571394\n",
       "Name: engnat, dtype: float64"
      ]
     },
     "execution_count": 1993,
     "metadata": {},
     "output_type": "execute_result"
    }
   ],
   "source": [
    "(train_df[train_df['voted'] == 2]['engnat'].value_counts() / train_df['engnat'].value_counts()).sort_index()"
   ]
  },
  {
   "cell_type": "code",
   "execution_count": 1994,
   "metadata": {},
   "outputs": [],
   "source": [
    "train_df.loc[train_df['engnat'] == 2 ,'engnat'] = 0\n",
    "test_df.loc[test_df['engnat'] == 2 ,'engnat'] = 0"
   ]
  },
  {
   "cell_type": "code",
   "execution_count": 1995,
   "metadata": {},
   "outputs": [],
   "source": [
    "train_df = pd.concat([train_df, pd.get_dummies(train_df['engnat'], prefix='engnat')], axis=1, sort=False)\n",
    "test_df = pd.concat([test_df, pd.get_dummies(test_df['engnat'], prefix='engnat')], axis=1, sort=False)"
   ]
  },
  {
   "cell_type": "code",
   "execution_count": 1996,
   "metadata": {},
   "outputs": [
    {
     "data": {
      "text/html": [
       "<div>\n",
       "<style scoped>\n",
       "    .dataframe tbody tr th:only-of-type {\n",
       "        vertical-align: middle;\n",
       "    }\n",
       "\n",
       "    .dataframe tbody tr th {\n",
       "        vertical-align: top;\n",
       "    }\n",
       "\n",
       "    .dataframe thead th {\n",
       "        text-align: right;\n",
       "    }\n",
       "</style>\n",
       "<table border=\"1\" class=\"dataframe\">\n",
       "  <thead>\n",
       "    <tr style=\"text-align: right;\">\n",
       "      <th></th>\n",
       "      <th>index</th>\n",
       "      <th>QaA</th>\n",
       "      <th>QaE</th>\n",
       "      <th>QbA</th>\n",
       "      <th>QbE</th>\n",
       "      <th>QcA</th>\n",
       "      <th>QcE</th>\n",
       "      <th>QdA</th>\n",
       "      <th>QdE</th>\n",
       "      <th>QeA</th>\n",
       "      <th>...</th>\n",
       "      <th>wr_07</th>\n",
       "      <th>wr_08</th>\n",
       "      <th>wr_09</th>\n",
       "      <th>wr_10</th>\n",
       "      <th>wr_11</th>\n",
       "      <th>wr_12</th>\n",
       "      <th>wr_13</th>\n",
       "      <th>age</th>\n",
       "      <th>engnat_0</th>\n",
       "      <th>engnat_1</th>\n",
       "    </tr>\n",
       "  </thead>\n",
       "  <tbody>\n",
       "    <tr>\n",
       "      <th>0</th>\n",
       "      <td>0</td>\n",
       "      <td>3.0</td>\n",
       "      <td>363</td>\n",
       "      <td>4.0</td>\n",
       "      <td>1370</td>\n",
       "      <td>5.0</td>\n",
       "      <td>997</td>\n",
       "      <td>1.0</td>\n",
       "      <td>1024</td>\n",
       "      <td>2.0</td>\n",
       "      <td>...</td>\n",
       "      <td>1</td>\n",
       "      <td>1</td>\n",
       "      <td>0</td>\n",
       "      <td>1</td>\n",
       "      <td>0</td>\n",
       "      <td>1</td>\n",
       "      <td>1</td>\n",
       "      <td>3</td>\n",
       "      <td>0</td>\n",
       "      <td>1</td>\n",
       "    </tr>\n",
       "    <tr>\n",
       "      <th>1</th>\n",
       "      <td>1</td>\n",
       "      <td>5.0</td>\n",
       "      <td>647</td>\n",
       "      <td>5.0</td>\n",
       "      <td>1313</td>\n",
       "      <td>3.0</td>\n",
       "      <td>3387</td>\n",
       "      <td>5.0</td>\n",
       "      <td>2969</td>\n",
       "      <td>1.0</td>\n",
       "      <td>...</td>\n",
       "      <td>1</td>\n",
       "      <td>1</td>\n",
       "      <td>0</td>\n",
       "      <td>1</td>\n",
       "      <td>0</td>\n",
       "      <td>1</td>\n",
       "      <td>1</td>\n",
       "      <td>2</td>\n",
       "      <td>1</td>\n",
       "      <td>0</td>\n",
       "    </tr>\n",
       "    <tr>\n",
       "      <th>2</th>\n",
       "      <td>2</td>\n",
       "      <td>4.0</td>\n",
       "      <td>1623</td>\n",
       "      <td>1.0</td>\n",
       "      <td>1480</td>\n",
       "      <td>1.0</td>\n",
       "      <td>1021</td>\n",
       "      <td>4.0</td>\n",
       "      <td>3374</td>\n",
       "      <td>5.0</td>\n",
       "      <td>...</td>\n",
       "      <td>1</td>\n",
       "      <td>1</td>\n",
       "      <td>1</td>\n",
       "      <td>1</td>\n",
       "      <td>0</td>\n",
       "      <td>1</td>\n",
       "      <td>1</td>\n",
       "      <td>3</td>\n",
       "      <td>0</td>\n",
       "      <td>1</td>\n",
       "    </tr>\n",
       "    <tr>\n",
       "      <th>3</th>\n",
       "      <td>3</td>\n",
       "      <td>3.0</td>\n",
       "      <td>504</td>\n",
       "      <td>3.0</td>\n",
       "      <td>2311</td>\n",
       "      <td>4.0</td>\n",
       "      <td>992</td>\n",
       "      <td>3.0</td>\n",
       "      <td>3245</td>\n",
       "      <td>1.0</td>\n",
       "      <td>...</td>\n",
       "      <td>0</td>\n",
       "      <td>1</td>\n",
       "      <td>0</td>\n",
       "      <td>1</td>\n",
       "      <td>0</td>\n",
       "      <td>1</td>\n",
       "      <td>1</td>\n",
       "      <td>2</td>\n",
       "      <td>1</td>\n",
       "      <td>0</td>\n",
       "    </tr>\n",
       "    <tr>\n",
       "      <th>4</th>\n",
       "      <td>4</td>\n",
       "      <td>1.0</td>\n",
       "      <td>927</td>\n",
       "      <td>1.0</td>\n",
       "      <td>707</td>\n",
       "      <td>5.0</td>\n",
       "      <td>556</td>\n",
       "      <td>2.0</td>\n",
       "      <td>1062</td>\n",
       "      <td>1.0</td>\n",
       "      <td>...</td>\n",
       "      <td>1</td>\n",
       "      <td>1</td>\n",
       "      <td>0</td>\n",
       "      <td>1</td>\n",
       "      <td>1</td>\n",
       "      <td>1</td>\n",
       "      <td>1</td>\n",
       "      <td>2</td>\n",
       "      <td>0</td>\n",
       "      <td>1</td>\n",
       "    </tr>\n",
       "    <tr>\n",
       "      <th>...</th>\n",
       "      <td>...</td>\n",
       "      <td>...</td>\n",
       "      <td>...</td>\n",
       "      <td>...</td>\n",
       "      <td>...</td>\n",
       "      <td>...</td>\n",
       "      <td>...</td>\n",
       "      <td>...</td>\n",
       "      <td>...</td>\n",
       "      <td>...</td>\n",
       "      <td>...</td>\n",
       "      <td>...</td>\n",
       "      <td>...</td>\n",
       "      <td>...</td>\n",
       "      <td>...</td>\n",
       "      <td>...</td>\n",
       "      <td>...</td>\n",
       "      <td>...</td>\n",
       "      <td>...</td>\n",
       "      <td>...</td>\n",
       "      <td>...</td>\n",
       "    </tr>\n",
       "    <tr>\n",
       "      <th>45527</th>\n",
       "      <td>45527</td>\n",
       "      <td>2.0</td>\n",
       "      <td>1050</td>\n",
       "      <td>5.0</td>\n",
       "      <td>619</td>\n",
       "      <td>4.0</td>\n",
       "      <td>328</td>\n",
       "      <td>1.0</td>\n",
       "      <td>285</td>\n",
       "      <td>1.0</td>\n",
       "      <td>...</td>\n",
       "      <td>1</td>\n",
       "      <td>1</td>\n",
       "      <td>1</td>\n",
       "      <td>1</td>\n",
       "      <td>0</td>\n",
       "      <td>1</td>\n",
       "      <td>1</td>\n",
       "      <td>1</td>\n",
       "      <td>0</td>\n",
       "      <td>1</td>\n",
       "    </tr>\n",
       "    <tr>\n",
       "      <th>45528</th>\n",
       "      <td>45528</td>\n",
       "      <td>2.0</td>\n",
       "      <td>581</td>\n",
       "      <td>3.0</td>\n",
       "      <td>1353</td>\n",
       "      <td>4.0</td>\n",
       "      <td>1164</td>\n",
       "      <td>1.0</td>\n",
       "      <td>798</td>\n",
       "      <td>3.0</td>\n",
       "      <td>...</td>\n",
       "      <td>1</td>\n",
       "      <td>1</td>\n",
       "      <td>1</td>\n",
       "      <td>1</td>\n",
       "      <td>0</td>\n",
       "      <td>1</td>\n",
       "      <td>1</td>\n",
       "      <td>3</td>\n",
       "      <td>0</td>\n",
       "      <td>1</td>\n",
       "    </tr>\n",
       "    <tr>\n",
       "      <th>45529</th>\n",
       "      <td>45529</td>\n",
       "      <td>4.0</td>\n",
       "      <td>593</td>\n",
       "      <td>1.0</td>\n",
       "      <td>857</td>\n",
       "      <td>1.0</td>\n",
       "      <td>1047</td>\n",
       "      <td>4.0</td>\n",
       "      <td>1515</td>\n",
       "      <td>5.0</td>\n",
       "      <td>...</td>\n",
       "      <td>1</td>\n",
       "      <td>1</td>\n",
       "      <td>0</td>\n",
       "      <td>1</td>\n",
       "      <td>0</td>\n",
       "      <td>1</td>\n",
       "      <td>1</td>\n",
       "      <td>1</td>\n",
       "      <td>0</td>\n",
       "      <td>1</td>\n",
       "    </tr>\n",
       "    <tr>\n",
       "      <th>45530</th>\n",
       "      <td>45530</td>\n",
       "      <td>1.0</td>\n",
       "      <td>747</td>\n",
       "      <td>3.0</td>\n",
       "      <td>1331</td>\n",
       "      <td>4.0</td>\n",
       "      <td>892</td>\n",
       "      <td>2.0</td>\n",
       "      <td>1281</td>\n",
       "      <td>1.0</td>\n",
       "      <td>...</td>\n",
       "      <td>1</td>\n",
       "      <td>1</td>\n",
       "      <td>1</td>\n",
       "      <td>1</td>\n",
       "      <td>0</td>\n",
       "      <td>1</td>\n",
       "      <td>1</td>\n",
       "      <td>4</td>\n",
       "      <td>0</td>\n",
       "      <td>1</td>\n",
       "    </tr>\n",
       "    <tr>\n",
       "      <th>45531</th>\n",
       "      <td>45531</td>\n",
       "      <td>3.0</td>\n",
       "      <td>496</td>\n",
       "      <td>5.0</td>\n",
       "      <td>1827</td>\n",
       "      <td>5.0</td>\n",
       "      <td>754</td>\n",
       "      <td>3.0</td>\n",
       "      <td>1117</td>\n",
       "      <td>1.0</td>\n",
       "      <td>...</td>\n",
       "      <td>1</td>\n",
       "      <td>1</td>\n",
       "      <td>0</td>\n",
       "      <td>1</td>\n",
       "      <td>0</td>\n",
       "      <td>1</td>\n",
       "      <td>1</td>\n",
       "      <td>2</td>\n",
       "      <td>0</td>\n",
       "      <td>1</td>\n",
       "    </tr>\n",
       "  </tbody>\n",
       "</table>\n",
       "<p>45532 rows × 81 columns</p>\n",
       "</div>"
      ],
      "text/plain": [
       "       index  QaA   QaE  QbA   QbE  QcA   QcE  QdA   QdE  QeA  ...  wr_07  \\\n",
       "0          0  3.0   363  4.0  1370  5.0   997  1.0  1024  2.0  ...      1   \n",
       "1          1  5.0   647  5.0  1313  3.0  3387  5.0  2969  1.0  ...      1   \n",
       "2          2  4.0  1623  1.0  1480  1.0  1021  4.0  3374  5.0  ...      1   \n",
       "3          3  3.0   504  3.0  2311  4.0   992  3.0  3245  1.0  ...      0   \n",
       "4          4  1.0   927  1.0   707  5.0   556  2.0  1062  1.0  ...      1   \n",
       "...      ...  ...   ...  ...   ...  ...   ...  ...   ...  ...  ...    ...   \n",
       "45527  45527  2.0  1050  5.0   619  4.0   328  1.0   285  1.0  ...      1   \n",
       "45528  45528  2.0   581  3.0  1353  4.0  1164  1.0   798  3.0  ...      1   \n",
       "45529  45529  4.0   593  1.0   857  1.0  1047  4.0  1515  5.0  ...      1   \n",
       "45530  45530  1.0   747  3.0  1331  4.0   892  2.0  1281  1.0  ...      1   \n",
       "45531  45531  3.0   496  5.0  1827  5.0   754  3.0  1117  1.0  ...      1   \n",
       "\n",
       "       wr_08  wr_09  wr_10  wr_11  wr_12  wr_13  age  engnat_0  engnat_1  \n",
       "0          1      0      1      0      1      1    3         0         1  \n",
       "1          1      0      1      0      1      1    2         1         0  \n",
       "2          1      1      1      0      1      1    3         0         1  \n",
       "3          1      0      1      0      1      1    2         1         0  \n",
       "4          1      0      1      1      1      1    2         0         1  \n",
       "...      ...    ...    ...    ...    ...    ...  ...       ...       ...  \n",
       "45527      1      1      1      0      1      1    1         0         1  \n",
       "45528      1      1      1      0      1      1    3         0         1  \n",
       "45529      1      0      1      0      1      1    1         0         1  \n",
       "45530      1      1      1      0      1      1    4         0         1  \n",
       "45531      1      0      1      0      1      1    2         0         1  \n",
       "\n",
       "[45532 rows x 81 columns]"
      ]
     },
     "execution_count": 1996,
     "metadata": {},
     "output_type": "execute_result"
    }
   ],
   "source": [
    "train_df"
   ]
  },
  {
   "cell_type": "markdown",
   "metadata": {},
   "source": [
    "# gender"
   ]
  },
  {
   "cell_type": "code",
   "execution_count": 1997,
   "metadata": {},
   "outputs": [],
   "source": [
    "# train_df['gender'] = train_df['gender'].map({'Male':0, 'Female':1})"
   ]
  },
  {
   "cell_type": "code",
   "execution_count": 1998,
   "metadata": {},
   "outputs": [
    {
     "data": {
      "text/plain": [
       "Male      24217\n",
       "Female    21315\n",
       "Name: gender, dtype: int64"
      ]
     },
     "execution_count": 1998,
     "metadata": {},
     "output_type": "execute_result"
    }
   ],
   "source": [
    "train_df['gender'].value_counts()"
   ]
  },
  {
   "cell_type": "code",
   "execution_count": 1999,
   "metadata": {},
   "outputs": [
    {
     "data": {
      "text/plain": [
       "Female    0.460427\n",
       "Male      0.446794\n",
       "Name: gender, dtype: float64"
      ]
     },
     "execution_count": 1999,
     "metadata": {},
     "output_type": "execute_result"
    }
   ],
   "source": [
    "(train_df[train_df['voted'] == 1]['gender'].value_counts() / train_df['gender'].value_counts()).sort_index()"
   ]
  },
  {
   "cell_type": "code",
   "execution_count": 2000,
   "metadata": {},
   "outputs": [
    {
     "data": {
      "text/plain": [
       "Female    0.539573\n",
       "Male      0.553206\n",
       "Name: gender, dtype: float64"
      ]
     },
     "execution_count": 2000,
     "metadata": {},
     "output_type": "execute_result"
    }
   ],
   "source": [
    "(train_df[train_df['voted'] == 2]['gender'].value_counts() / train_df['gender'].value_counts()).sort_index()"
   ]
  },
  {
   "cell_type": "code",
   "execution_count": 2001,
   "metadata": {},
   "outputs": [],
   "source": [
    "train_df = pd.concat([train_df, pd.get_dummies(train_df['gender'], prefix='gender')], axis=1, sort=False)\n",
    "test_df = pd.concat([test_df, pd.get_dummies(test_df['gender'], prefix='gender')], axis=1, sort=False)"
   ]
  },
  {
   "cell_type": "code",
   "execution_count": 2002,
   "metadata": {},
   "outputs": [
    {
     "data": {
      "text/html": [
       "<div>\n",
       "<style scoped>\n",
       "    .dataframe tbody tr th:only-of-type {\n",
       "        vertical-align: middle;\n",
       "    }\n",
       "\n",
       "    .dataframe tbody tr th {\n",
       "        vertical-align: top;\n",
       "    }\n",
       "\n",
       "    .dataframe thead th {\n",
       "        text-align: right;\n",
       "    }\n",
       "</style>\n",
       "<table border=\"1\" class=\"dataframe\">\n",
       "  <thead>\n",
       "    <tr style=\"text-align: right;\">\n",
       "      <th></th>\n",
       "      <th>index</th>\n",
       "      <th>QaA</th>\n",
       "      <th>QaE</th>\n",
       "      <th>QbA</th>\n",
       "      <th>QbE</th>\n",
       "      <th>QcA</th>\n",
       "      <th>QcE</th>\n",
       "      <th>QdA</th>\n",
       "      <th>QdE</th>\n",
       "      <th>QeA</th>\n",
       "      <th>...</th>\n",
       "      <th>wr_09</th>\n",
       "      <th>wr_10</th>\n",
       "      <th>wr_11</th>\n",
       "      <th>wr_12</th>\n",
       "      <th>wr_13</th>\n",
       "      <th>age</th>\n",
       "      <th>engnat_0</th>\n",
       "      <th>engnat_1</th>\n",
       "      <th>gender_Female</th>\n",
       "      <th>gender_Male</th>\n",
       "    </tr>\n",
       "  </thead>\n",
       "  <tbody>\n",
       "    <tr>\n",
       "      <th>0</th>\n",
       "      <td>0</td>\n",
       "      <td>3.0</td>\n",
       "      <td>363</td>\n",
       "      <td>4.0</td>\n",
       "      <td>1370</td>\n",
       "      <td>5.0</td>\n",
       "      <td>997</td>\n",
       "      <td>1.0</td>\n",
       "      <td>1024</td>\n",
       "      <td>2.0</td>\n",
       "      <td>...</td>\n",
       "      <td>0</td>\n",
       "      <td>1</td>\n",
       "      <td>0</td>\n",
       "      <td>1</td>\n",
       "      <td>1</td>\n",
       "      <td>3</td>\n",
       "      <td>0</td>\n",
       "      <td>1</td>\n",
       "      <td>1</td>\n",
       "      <td>0</td>\n",
       "    </tr>\n",
       "    <tr>\n",
       "      <th>1</th>\n",
       "      <td>1</td>\n",
       "      <td>5.0</td>\n",
       "      <td>647</td>\n",
       "      <td>5.0</td>\n",
       "      <td>1313</td>\n",
       "      <td>3.0</td>\n",
       "      <td>3387</td>\n",
       "      <td>5.0</td>\n",
       "      <td>2969</td>\n",
       "      <td>1.0</td>\n",
       "      <td>...</td>\n",
       "      <td>0</td>\n",
       "      <td>1</td>\n",
       "      <td>0</td>\n",
       "      <td>1</td>\n",
       "      <td>1</td>\n",
       "      <td>2</td>\n",
       "      <td>1</td>\n",
       "      <td>0</td>\n",
       "      <td>1</td>\n",
       "      <td>0</td>\n",
       "    </tr>\n",
       "    <tr>\n",
       "      <th>2</th>\n",
       "      <td>2</td>\n",
       "      <td>4.0</td>\n",
       "      <td>1623</td>\n",
       "      <td>1.0</td>\n",
       "      <td>1480</td>\n",
       "      <td>1.0</td>\n",
       "      <td>1021</td>\n",
       "      <td>4.0</td>\n",
       "      <td>3374</td>\n",
       "      <td>5.0</td>\n",
       "      <td>...</td>\n",
       "      <td>1</td>\n",
       "      <td>1</td>\n",
       "      <td>0</td>\n",
       "      <td>1</td>\n",
       "      <td>1</td>\n",
       "      <td>3</td>\n",
       "      <td>0</td>\n",
       "      <td>1</td>\n",
       "      <td>0</td>\n",
       "      <td>1</td>\n",
       "    </tr>\n",
       "    <tr>\n",
       "      <th>3</th>\n",
       "      <td>3</td>\n",
       "      <td>3.0</td>\n",
       "      <td>504</td>\n",
       "      <td>3.0</td>\n",
       "      <td>2311</td>\n",
       "      <td>4.0</td>\n",
       "      <td>992</td>\n",
       "      <td>3.0</td>\n",
       "      <td>3245</td>\n",
       "      <td>1.0</td>\n",
       "      <td>...</td>\n",
       "      <td>0</td>\n",
       "      <td>1</td>\n",
       "      <td>0</td>\n",
       "      <td>1</td>\n",
       "      <td>1</td>\n",
       "      <td>2</td>\n",
       "      <td>1</td>\n",
       "      <td>0</td>\n",
       "      <td>1</td>\n",
       "      <td>0</td>\n",
       "    </tr>\n",
       "    <tr>\n",
       "      <th>4</th>\n",
       "      <td>4</td>\n",
       "      <td>1.0</td>\n",
       "      <td>927</td>\n",
       "      <td>1.0</td>\n",
       "      <td>707</td>\n",
       "      <td>5.0</td>\n",
       "      <td>556</td>\n",
       "      <td>2.0</td>\n",
       "      <td>1062</td>\n",
       "      <td>1.0</td>\n",
       "      <td>...</td>\n",
       "      <td>0</td>\n",
       "      <td>1</td>\n",
       "      <td>1</td>\n",
       "      <td>1</td>\n",
       "      <td>1</td>\n",
       "      <td>2</td>\n",
       "      <td>0</td>\n",
       "      <td>1</td>\n",
       "      <td>0</td>\n",
       "      <td>1</td>\n",
       "    </tr>\n",
       "    <tr>\n",
       "      <th>...</th>\n",
       "      <td>...</td>\n",
       "      <td>...</td>\n",
       "      <td>...</td>\n",
       "      <td>...</td>\n",
       "      <td>...</td>\n",
       "      <td>...</td>\n",
       "      <td>...</td>\n",
       "      <td>...</td>\n",
       "      <td>...</td>\n",
       "      <td>...</td>\n",
       "      <td>...</td>\n",
       "      <td>...</td>\n",
       "      <td>...</td>\n",
       "      <td>...</td>\n",
       "      <td>...</td>\n",
       "      <td>...</td>\n",
       "      <td>...</td>\n",
       "      <td>...</td>\n",
       "      <td>...</td>\n",
       "      <td>...</td>\n",
       "      <td>...</td>\n",
       "    </tr>\n",
       "    <tr>\n",
       "      <th>45527</th>\n",
       "      <td>45527</td>\n",
       "      <td>2.0</td>\n",
       "      <td>1050</td>\n",
       "      <td>5.0</td>\n",
       "      <td>619</td>\n",
       "      <td>4.0</td>\n",
       "      <td>328</td>\n",
       "      <td>1.0</td>\n",
       "      <td>285</td>\n",
       "      <td>1.0</td>\n",
       "      <td>...</td>\n",
       "      <td>1</td>\n",
       "      <td>1</td>\n",
       "      <td>0</td>\n",
       "      <td>1</td>\n",
       "      <td>1</td>\n",
       "      <td>1</td>\n",
       "      <td>0</td>\n",
       "      <td>1</td>\n",
       "      <td>1</td>\n",
       "      <td>0</td>\n",
       "    </tr>\n",
       "    <tr>\n",
       "      <th>45528</th>\n",
       "      <td>45528</td>\n",
       "      <td>2.0</td>\n",
       "      <td>581</td>\n",
       "      <td>3.0</td>\n",
       "      <td>1353</td>\n",
       "      <td>4.0</td>\n",
       "      <td>1164</td>\n",
       "      <td>1.0</td>\n",
       "      <td>798</td>\n",
       "      <td>3.0</td>\n",
       "      <td>...</td>\n",
       "      <td>1</td>\n",
       "      <td>1</td>\n",
       "      <td>0</td>\n",
       "      <td>1</td>\n",
       "      <td>1</td>\n",
       "      <td>3</td>\n",
       "      <td>0</td>\n",
       "      <td>1</td>\n",
       "      <td>0</td>\n",
       "      <td>1</td>\n",
       "    </tr>\n",
       "    <tr>\n",
       "      <th>45529</th>\n",
       "      <td>45529</td>\n",
       "      <td>4.0</td>\n",
       "      <td>593</td>\n",
       "      <td>1.0</td>\n",
       "      <td>857</td>\n",
       "      <td>1.0</td>\n",
       "      <td>1047</td>\n",
       "      <td>4.0</td>\n",
       "      <td>1515</td>\n",
       "      <td>5.0</td>\n",
       "      <td>...</td>\n",
       "      <td>0</td>\n",
       "      <td>1</td>\n",
       "      <td>0</td>\n",
       "      <td>1</td>\n",
       "      <td>1</td>\n",
       "      <td>1</td>\n",
       "      <td>0</td>\n",
       "      <td>1</td>\n",
       "      <td>1</td>\n",
       "      <td>0</td>\n",
       "    </tr>\n",
       "    <tr>\n",
       "      <th>45530</th>\n",
       "      <td>45530</td>\n",
       "      <td>1.0</td>\n",
       "      <td>747</td>\n",
       "      <td>3.0</td>\n",
       "      <td>1331</td>\n",
       "      <td>4.0</td>\n",
       "      <td>892</td>\n",
       "      <td>2.0</td>\n",
       "      <td>1281</td>\n",
       "      <td>1.0</td>\n",
       "      <td>...</td>\n",
       "      <td>1</td>\n",
       "      <td>1</td>\n",
       "      <td>0</td>\n",
       "      <td>1</td>\n",
       "      <td>1</td>\n",
       "      <td>4</td>\n",
       "      <td>0</td>\n",
       "      <td>1</td>\n",
       "      <td>0</td>\n",
       "      <td>1</td>\n",
       "    </tr>\n",
       "    <tr>\n",
       "      <th>45531</th>\n",
       "      <td>45531</td>\n",
       "      <td>3.0</td>\n",
       "      <td>496</td>\n",
       "      <td>5.0</td>\n",
       "      <td>1827</td>\n",
       "      <td>5.0</td>\n",
       "      <td>754</td>\n",
       "      <td>3.0</td>\n",
       "      <td>1117</td>\n",
       "      <td>1.0</td>\n",
       "      <td>...</td>\n",
       "      <td>0</td>\n",
       "      <td>1</td>\n",
       "      <td>0</td>\n",
       "      <td>1</td>\n",
       "      <td>1</td>\n",
       "      <td>2</td>\n",
       "      <td>0</td>\n",
       "      <td>1</td>\n",
       "      <td>0</td>\n",
       "      <td>1</td>\n",
       "    </tr>\n",
       "  </tbody>\n",
       "</table>\n",
       "<p>45532 rows × 83 columns</p>\n",
       "</div>"
      ],
      "text/plain": [
       "       index  QaA   QaE  QbA   QbE  QcA   QcE  QdA   QdE  QeA  ...  wr_09  \\\n",
       "0          0  3.0   363  4.0  1370  5.0   997  1.0  1024  2.0  ...      0   \n",
       "1          1  5.0   647  5.0  1313  3.0  3387  5.0  2969  1.0  ...      0   \n",
       "2          2  4.0  1623  1.0  1480  1.0  1021  4.0  3374  5.0  ...      1   \n",
       "3          3  3.0   504  3.0  2311  4.0   992  3.0  3245  1.0  ...      0   \n",
       "4          4  1.0   927  1.0   707  5.0   556  2.0  1062  1.0  ...      0   \n",
       "...      ...  ...   ...  ...   ...  ...   ...  ...   ...  ...  ...    ...   \n",
       "45527  45527  2.0  1050  5.0   619  4.0   328  1.0   285  1.0  ...      1   \n",
       "45528  45528  2.0   581  3.0  1353  4.0  1164  1.0   798  3.0  ...      1   \n",
       "45529  45529  4.0   593  1.0   857  1.0  1047  4.0  1515  5.0  ...      0   \n",
       "45530  45530  1.0   747  3.0  1331  4.0   892  2.0  1281  1.0  ...      1   \n",
       "45531  45531  3.0   496  5.0  1827  5.0   754  3.0  1117  1.0  ...      0   \n",
       "\n",
       "       wr_10  wr_11  wr_12  wr_13  age  engnat_0  engnat_1  gender_Female  \\\n",
       "0          1      0      1      1    3         0         1              1   \n",
       "1          1      0      1      1    2         1         0              1   \n",
       "2          1      0      1      1    3         0         1              0   \n",
       "3          1      0      1      1    2         1         0              1   \n",
       "4          1      1      1      1    2         0         1              0   \n",
       "...      ...    ...    ...    ...  ...       ...       ...            ...   \n",
       "45527      1      0      1      1    1         0         1              1   \n",
       "45528      1      0      1      1    3         0         1              0   \n",
       "45529      1      0      1      1    1         0         1              1   \n",
       "45530      1      0      1      1    4         0         1              0   \n",
       "45531      1      0      1      1    2         0         1              0   \n",
       "\n",
       "       gender_Male  \n",
       "0                0  \n",
       "1                0  \n",
       "2                1  \n",
       "3                0  \n",
       "4                1  \n",
       "...            ...  \n",
       "45527            0  \n",
       "45528            1  \n",
       "45529            0  \n",
       "45530            1  \n",
       "45531            1  \n",
       "\n",
       "[45532 rows x 83 columns]"
      ]
     },
     "execution_count": 2002,
     "metadata": {},
     "output_type": "execute_result"
    }
   ],
   "source": [
    "train_df"
   ]
  },
  {
   "cell_type": "markdown",
   "metadata": {},
   "source": [
    "# race"
   ]
  },
  {
   "cell_type": "code",
   "execution_count": 2003,
   "metadata": {},
   "outputs": [
    {
     "data": {
      "text/plain": [
       "2    24898\n",
       "1    20634\n",
       "Name: voted, dtype: int64"
      ]
     },
     "execution_count": 2003,
     "metadata": {},
     "output_type": "execute_result"
    }
   ],
   "source": [
    "train_df['voted'].value_counts()"
   ]
  },
  {
   "cell_type": "code",
   "execution_count": 2004,
   "metadata": {},
   "outputs": [
    {
     "data": {
      "text/plain": [
       "Arab                       351\n",
       "Asian                     6834\n",
       "Black                     2168\n",
       "Indigenous Australian       53\n",
       "Native American            548\n",
       "Other                     4330\n",
       "White                    31248\n",
       "Name: race, dtype: int64"
      ]
     },
     "execution_count": 2004,
     "metadata": {},
     "output_type": "execute_result"
    }
   ],
   "source": [
    "train_df['race'].value_counts().sort_index()"
   ]
  },
  {
   "cell_type": "code",
   "execution_count": 2005,
   "metadata": {},
   "outputs": [
    {
     "data": {
      "text/plain": [
       "Arab                     0.290598\n",
       "Asian                    0.295435\n",
       "Other                    0.377598\n",
       "Black                    0.402214\n",
       "Native American          0.412409\n",
       "Indigenous Australian    0.452830\n",
       "White                    0.504224\n",
       "Name: race, dtype: float64"
      ]
     },
     "execution_count": 2005,
     "metadata": {},
     "output_type": "execute_result"
    }
   ],
   "source": [
    "(train_df[train_df['voted'] == 1]['race'].value_counts() / train_df['race'].value_counts()).sort_values()"
   ]
  },
  {
   "cell_type": "code",
   "execution_count": 2006,
   "metadata": {},
   "outputs": [
    {
     "data": {
      "text/plain": [
       "Arab                     0.709402\n",
       "Asian                    0.704565\n",
       "Black                    0.597786\n",
       "Indigenous Australian    0.547170\n",
       "Native American          0.587591\n",
       "Other                    0.622402\n",
       "White                    0.495776\n",
       "Name: race, dtype: float64"
      ]
     },
     "execution_count": 2006,
     "metadata": {},
     "output_type": "execute_result"
    }
   ],
   "source": [
    "(train_df[train_df['voted'] == 2]['race'].value_counts() / train_df['race'].value_counts()).sort_index()"
   ]
  },
  {
   "cell_type": "code",
   "execution_count": 2007,
   "metadata": {},
   "outputs": [],
   "source": [
    "race_dict = {'Arab':0, 'Asian':0, 'Black':1, 'Indigenous Australian':1, 'Native American':1, 'Other':2, 'White':3}"
   ]
  },
  {
   "cell_type": "code",
   "execution_count": 2008,
   "metadata": {},
   "outputs": [],
   "source": [
    "train_df['race'] = train_df['race'].map(race_dict)\n",
    "test_df['race'] = test_df['race'].map(race_dict)"
   ]
  },
  {
   "cell_type": "code",
   "execution_count": 2009,
   "metadata": {},
   "outputs": [],
   "source": [
    "train_df = pd.concat([train_df, pd.get_dummies(train_df['race'], prefix='race')], axis=1, sort=False)\n",
    "test_df = pd.concat([test_df, pd.get_dummies(test_df['race'], prefix='race')], axis=1, sort=False)"
   ]
  },
  {
   "cell_type": "code",
   "execution_count": 2010,
   "metadata": {},
   "outputs": [
    {
     "data": {
      "text/plain": [
       "3    31248\n",
       "0     7185\n",
       "2     4330\n",
       "1     2769\n",
       "Name: race, dtype: int64"
      ]
     },
     "execution_count": 2010,
     "metadata": {},
     "output_type": "execute_result"
    }
   ],
   "source": [
    "train_df['race'].value_counts()"
   ]
  },
  {
   "cell_type": "code",
   "execution_count": null,
   "metadata": {},
   "outputs": [],
   "source": []
  },
  {
   "cell_type": "code",
   "execution_count": null,
   "metadata": {},
   "outputs": [],
   "source": []
  },
  {
   "cell_type": "code",
   "execution_count": null,
   "metadata": {},
   "outputs": [],
   "source": []
  },
  {
   "cell_type": "markdown",
   "metadata": {},
   "source": [
    "# religion"
   ]
  },
  {
   "cell_type": "code",
   "execution_count": 2011,
   "metadata": {},
   "outputs": [
    {
     "data": {
      "text/plain": [
       "2    24898\n",
       "1    20634\n",
       "Name: voted, dtype: int64"
      ]
     },
     "execution_count": 2011,
     "metadata": {},
     "output_type": "execute_result"
    }
   ],
   "source": [
    "train_df['voted'].value_counts()"
   ]
  },
  {
   "cell_type": "code",
   "execution_count": 2012,
   "metadata": {},
   "outputs": [
    {
     "data": {
      "text/plain": [
       "Atheist                 10192\n",
       "Agnostic                 9624\n",
       "Christian_Catholic       6431\n",
       "Christian_Other          5137\n",
       "Christian_Protestant     4875\n",
       "Other                    4770\n",
       "Hindu                    1429\n",
       "Muslim                   1192\n",
       "Buddhist                  850\n",
       "Jewish                    487\n",
       "Christian_Mormon          428\n",
       "Sikh                      117\n",
       "Name: religion, dtype: int64"
      ]
     },
     "execution_count": 2012,
     "metadata": {},
     "output_type": "execute_result"
    }
   ],
   "source": [
    "train_df['religion'].value_counts()"
   ]
  },
  {
   "cell_type": "code",
   "execution_count": 2013,
   "metadata": {},
   "outputs": [
    {
     "data": {
      "text/plain": [
       "['Sikh',\n",
       " 'Buddhist',\n",
       " 'Agnostic',\n",
       " 'Christian_Catholic',\n",
       " 'Muslim',\n",
       " 'Christian_Other',\n",
       " 'Atheist',\n",
       " 'Christian_Protestant',\n",
       " 'Jewish',\n",
       " 'Christian_Mormon',\n",
       " 'Hindu',\n",
       " 'Other']"
      ]
     },
     "execution_count": 2013,
     "metadata": {},
     "output_type": "execute_result"
    }
   ],
   "source": [
    "list(set(train_df['religion']))"
   ]
  },
  {
   "cell_type": "code",
   "execution_count": 2014,
   "metadata": {},
   "outputs": [
    {
     "data": {
      "text/plain": [
       "Muslim                  0.312919\n",
       "Sikh                    0.358974\n",
       "Buddhist                0.378824\n",
       "Christian_Mormon        0.380841\n",
       "Hindu                   0.386984\n",
       "Other                   0.417191\n",
       "Atheist                 0.427296\n",
       "Agnostic                0.457398\n",
       "Christian_Other         0.460385\n",
       "Christian_Catholic      0.473488\n",
       "Jewish                  0.550308\n",
       "Christian_Protestant    0.565333\n",
       "Name: religion, dtype: float64"
      ]
     },
     "execution_count": 2014,
     "metadata": {},
     "output_type": "execute_result"
    }
   ],
   "source": [
    "(train_df[train_df['voted'] == 1]['religion'].value_counts() / train_df['religion'].value_counts()).sort_values()"
   ]
  },
  {
   "cell_type": "code",
   "execution_count": 2015,
   "metadata": {},
   "outputs": [
    {
     "data": {
      "text/plain": [
       "Agnostic                0.542602\n",
       "Atheist                 0.572704\n",
       "Buddhist                0.621176\n",
       "Christian_Catholic      0.526512\n",
       "Christian_Mormon        0.619159\n",
       "Christian_Other         0.539615\n",
       "Christian_Protestant    0.434667\n",
       "Hindu                   0.613016\n",
       "Jewish                  0.449692\n",
       "Muslim                  0.687081\n",
       "Other                   0.582809\n",
       "Sikh                    0.641026\n",
       "Name: religion, dtype: float64"
      ]
     },
     "execution_count": 2015,
     "metadata": {},
     "output_type": "execute_result"
    }
   ],
   "source": [
    "(train_df[train_df['voted'] == 2]['religion'].value_counts() / train_df['religion'].value_counts()).sort_index()"
   ]
  },
  {
   "cell_type": "code",
   "execution_count": null,
   "metadata": {},
   "outputs": [],
   "source": []
  },
  {
   "cell_type": "code",
   "execution_count": 2016,
   "metadata": {},
   "outputs": [],
   "source": [
    "religion_dict = {\n",
    " 'Muslim':0,\n",
    " 'Sikh':0,\n",
    " 'Buddhist':0,\n",
    " 'Christian_Mormon':0,\n",
    " 'Hindu':0,\n",
    " 'Other':1,\n",
    " 'Atheist':1,\n",
    " 'Agnostic':2,\n",
    " 'Christian_Other':3,\n",
    " 'Christian_Catholic':3,\n",
    " 'Christian_Protestant':4,\n",
    " 'Jewish':4,\n",
    "}"
   ]
  },
  {
   "cell_type": "code",
   "execution_count": 2017,
   "metadata": {},
   "outputs": [],
   "source": [
    "train_df['religion'] = train_df['religion'].map(religion_dict)\n",
    "test_df['religion'] = test_df['religion'].map(religion_dict)"
   ]
  },
  {
   "cell_type": "code",
   "execution_count": 2018,
   "metadata": {},
   "outputs": [],
   "source": [
    "train_df = pd.concat([train_df, pd.get_dummies(train_df['religion'], prefix='religion')], axis=1, sort=False)\n",
    "test_df = pd.concat([test_df, pd.get_dummies(test_df['religion'], prefix='religion')], axis=1, sort=False)"
   ]
  },
  {
   "cell_type": "code",
   "execution_count": 2019,
   "metadata": {},
   "outputs": [
    {
     "data": {
      "text/plain": [
       "1    14962\n",
       "3    11568\n",
       "2     9624\n",
       "4     5362\n",
       "0     4016\n",
       "Name: religion, dtype: int64"
      ]
     },
     "execution_count": 2019,
     "metadata": {},
     "output_type": "execute_result"
    }
   ],
   "source": [
    "train_df['religion'].value_counts()"
   ]
  },
  {
   "cell_type": "code",
   "execution_count": null,
   "metadata": {},
   "outputs": [],
   "source": []
  },
  {
   "cell_type": "code",
   "execution_count": null,
   "metadata": {},
   "outputs": [],
   "source": []
  },
  {
   "cell_type": "code",
   "execution_count": null,
   "metadata": {},
   "outputs": [],
   "source": []
  },
  {
   "cell_type": "markdown",
   "metadata": {},
   "source": [
    "# tp"
   ]
  },
  {
   "cell_type": "code",
   "execution_count": 2020,
   "metadata": {},
   "outputs": [
    {
     "data": {
      "text/plain": [
       "2    24898\n",
       "1    20634\n",
       "Name: voted, dtype: int64"
      ]
     },
     "execution_count": 2020,
     "metadata": {},
     "output_type": "execute_result"
    }
   ],
   "source": [
    "train_df['voted'].value_counts()"
   ]
  },
  {
   "cell_type": "code",
   "execution_count": 2021,
   "metadata": {},
   "outputs": [
    {
     "name": "stdout",
     "output_type": "stream",
     "text": [
      "0    4783\n",
      "1    9014\n",
      "2    7877\n",
      "3    3692\n",
      "4    5900\n",
      "5    7942\n",
      "6    6041\n",
      "7     283\n",
      "Name: tp01, dtype: int64\n",
      "0     5438\n",
      "1     9208\n",
      "2    12498\n",
      "3     3921\n",
      "4     4198\n",
      "5     5340\n",
      "6     4614\n",
      "7      315\n",
      "Name: tp02, dtype: int64\n",
      "0    11567\n",
      "1    13488\n",
      "2     8777\n",
      "3     3483\n",
      "4     4053\n",
      "5     2515\n",
      "6     1288\n",
      "7      361\n",
      "Name: tp03, dtype: int64\n",
      "0     5437\n",
      "1     6752\n",
      "2    10189\n",
      "3     3710\n",
      "4     4754\n",
      "5     7277\n",
      "6     7078\n",
      "7      335\n",
      "Name: tp04, dtype: int64\n",
      "0    15772\n",
      "1    13681\n",
      "2     8775\n",
      "3     2750\n",
      "4     2513\n",
      "5     1243\n",
      "6      507\n",
      "7      291\n",
      "Name: tp05, dtype: int64\n",
      "0    8912\n",
      "1    8640\n",
      "2    9445\n",
      "3    4126\n",
      "4    4714\n",
      "5    4664\n",
      "6    4736\n",
      "7     295\n",
      "Name: tp06, dtype: int64\n",
      "0     9811\n",
      "1    11689\n",
      "2     9914\n",
      "3     4339\n",
      "4     3968\n",
      "5     3129\n",
      "6     2345\n",
      "7      337\n",
      "Name: tp07, dtype: int64\n",
      "0    3184\n",
      "1    4861\n",
      "2    9800\n",
      "3    3965\n",
      "4    5730\n",
      "5    7939\n",
      "6    9651\n",
      "7     402\n",
      "Name: tp08, dtype: int64\n",
      "0     8799\n",
      "1    10759\n",
      "2     7869\n",
      "3     5044\n",
      "4     6328\n",
      "5     3926\n",
      "6     2521\n",
      "7      286\n",
      "Name: tp09, dtype: int64\n",
      "0     1446\n",
      "1     2404\n",
      "2     4527\n",
      "3     4469\n",
      "4     7019\n",
      "5    10702\n",
      "6    14599\n",
      "7      366\n",
      "Name: tp10, dtype: int64\n"
     ]
    }
   ],
   "source": [
    "for i in range(1, 11):\n",
    "    print(train_df['tp{:02d}'.format(i)].value_counts().sort_index())"
   ]
  },
  {
   "cell_type": "code",
   "execution_count": 2022,
   "metadata": {},
   "outputs": [
    {
     "name": "stdout",
     "output_type": "stream",
     "text": [
      "0    0.486306\n",
      "1    0.472598\n",
      "2    0.443189\n",
      "3    0.430661\n",
      "4    0.453390\n",
      "5    0.455805\n",
      "6    0.421122\n",
      "7    0.452297\n",
      "Name: tp01, dtype: float64\n",
      "0    0.423501\n",
      "1    0.434622\n",
      "2    0.445671\n",
      "3    0.402193\n",
      "4    0.469033\n",
      "5    0.498127\n",
      "6    0.524707\n",
      "7    0.419048\n",
      "Name: tp02, dtype: float64\n",
      "0    0.506873\n",
      "1    0.474867\n",
      "2    0.423037\n",
      "3    0.407120\n",
      "4    0.405132\n",
      "5    0.396819\n",
      "6    0.352484\n",
      "7    0.390582\n",
      "Name: tp03, dtype: float64\n",
      "0    0.372632\n",
      "1    0.425800\n",
      "2    0.457552\n",
      "3    0.445283\n",
      "4    0.473917\n",
      "5    0.483304\n",
      "6    0.497457\n",
      "7    0.382090\n",
      "Name: tp04, dtype: float64\n",
      "0    0.468552\n",
      "1    0.469410\n",
      "2    0.430997\n",
      "3    0.393091\n",
      "4    0.438918\n",
      "5    0.432824\n",
      "6    0.378698\n",
      "7    0.432990\n",
      "Name: tp05, dtype: float64\n",
      "0    0.412478\n",
      "1    0.433449\n",
      "2    0.452832\n",
      "3    0.447891\n",
      "4    0.475605\n",
      "5    0.485635\n",
      "6    0.519426\n",
      "7    0.410169\n",
      "Name: tp06, dtype: float64\n",
      "0    0.507899\n",
      "1    0.477543\n",
      "2    0.448154\n",
      "3    0.424983\n",
      "4    0.414819\n",
      "5    0.390221\n",
      "6    0.330490\n",
      "7    0.415430\n",
      "Name: tp07, dtype: float64\n",
      "0    0.353329\n",
      "1    0.390455\n",
      "2    0.429082\n",
      "3    0.424716\n",
      "4    0.449215\n",
      "5    0.491246\n",
      "6    0.526681\n",
      "7    0.410448\n",
      "Name: tp08, dtype: float64\n",
      "0    0.485964\n",
      "1    0.493540\n",
      "2    0.458889\n",
      "3    0.432791\n",
      "4    0.434893\n",
      "5    0.393785\n",
      "6    0.329234\n",
      "7    0.440559\n",
      "Name: tp09, dtype: float64\n",
      "0    0.418396\n",
      "1    0.443428\n",
      "2    0.457477\n",
      "3    0.416872\n",
      "4    0.451061\n",
      "5    0.461222\n",
      "6    0.464415\n",
      "7    0.401639\n",
      "Name: tp10, dtype: float64\n"
     ]
    }
   ],
   "source": [
    "for i in range(1, 11):\n",
    "    print((train_df[train_df['voted'] == 1]['tp{:02d}'.format(i)].value_counts() / train_df['tp{:02d}'.format(i)].value_counts()).sort_index())"
   ]
  },
  {
   "cell_type": "code",
   "execution_count": 2023,
   "metadata": {},
   "outputs": [],
   "source": [
    "for i in range(1, 11):\n",
    "    train_df.loc[train_df['tp{:02d}'.format(i)] < 4, 'tp{:02d}'.format(i)] = 0\n",
    "    test_df.loc[test_df['tp{:02d}'.format(i)] < 4, 'tp{:02d}'.format(i)] = 0\n",
    "    \n",
    "    train_df.loc[train_df['tp{:02d}'.format(i)] >= 4, 'tp{:02d}'.format(i)] = 1\n",
    "    test_df.loc[test_df['tp{:02d}'.format(i)] >= 4, 'tp{:02d}'.format(i)] = 1"
   ]
  },
  {
   "cell_type": "markdown",
   "metadata": {},
   "source": [
    "for i in range(1, 11):\n",
    "    train_df['tp{:02d}'.format(i)] = train_df['tp{:02d}'.format(i)] / 7\n",
    "    test_df['tp{:02d}'.format(i)] = test_df['tp{:02d}'.format(i)] / 7"
   ]
  },
  {
   "cell_type": "code",
   "execution_count": null,
   "metadata": {},
   "outputs": [],
   "source": []
  },
  {
   "cell_type": "code",
   "execution_count": null,
   "metadata": {},
   "outputs": [],
   "source": []
  },
  {
   "cell_type": "code",
   "execution_count": null,
   "metadata": {},
   "outputs": [],
   "source": []
  },
  {
   "cell_type": "markdown",
   "metadata": {},
   "source": [
    "# familysize"
   ]
  },
  {
   "cell_type": "code",
   "execution_count": 2024,
   "metadata": {},
   "outputs": [
    {
     "data": {
      "text/plain": [
       "0              1217\n",
       "1              6535\n",
       "2             17918\n",
       "3             11256\n",
       "4              4907\n",
       "5              1962\n",
       "6               838\n",
       "7               387\n",
       "8               221\n",
       "9               126\n",
       "10               59\n",
       "11               39\n",
       "12               21\n",
       "13               11\n",
       "14                9\n",
       "15                8\n",
       "16                2\n",
       "17                3\n",
       "18                1\n",
       "20                2\n",
       "21                2\n",
       "30                1\n",
       "34                1\n",
       "44                3\n",
       "100               1\n",
       "999               1\n",
       "2147483647        1\n",
       "Name: familysize, dtype: int64"
      ]
     },
     "execution_count": 2024,
     "metadata": {},
     "output_type": "execute_result"
    }
   ],
   "source": [
    "train_df['familysize'].value_counts().sort_index()"
   ]
  },
  {
   "cell_type": "code",
   "execution_count": 2025,
   "metadata": {},
   "outputs": [
    {
     "data": {
      "text/plain": [
       "0             0.413311\n",
       "1             0.424331\n",
       "2             0.450106\n",
       "3             0.456912\n",
       "4             0.483391\n",
       "5             0.481651\n",
       "6             0.464200\n",
       "7             0.519380\n",
       "8             0.438914\n",
       "9             0.476190\n",
       "10            0.474576\n",
       "11            0.564103\n",
       "12            0.523810\n",
       "13            0.636364\n",
       "14            0.555556\n",
       "15            0.625000\n",
       "16                 NaN\n",
       "17            1.000000\n",
       "18                 NaN\n",
       "20                 NaN\n",
       "21            0.500000\n",
       "30            1.000000\n",
       "34                 NaN\n",
       "44            0.333333\n",
       "100           1.000000\n",
       "999           1.000000\n",
       "2147483647         NaN\n",
       "Name: familysize, dtype: float64"
      ]
     },
     "execution_count": 2025,
     "metadata": {},
     "output_type": "execute_result"
    }
   ],
   "source": [
    "(train_df[train_df['voted'] == 1]['familysize'].value_counts() / train_df['familysize'].value_counts()).sort_index()"
   ]
  },
  {
   "cell_type": "code",
   "execution_count": 2026,
   "metadata": {},
   "outputs": [
    {
     "data": {
      "text/plain": [
       "0             0.586689\n",
       "1             0.575669\n",
       "2             0.549894\n",
       "3             0.543088\n",
       "4             0.516609\n",
       "5             0.518349\n",
       "6             0.535800\n",
       "7             0.480620\n",
       "8             0.561086\n",
       "9             0.523810\n",
       "10            0.525424\n",
       "11            0.435897\n",
       "12            0.476190\n",
       "13            0.363636\n",
       "14            0.444444\n",
       "15            0.375000\n",
       "16            1.000000\n",
       "17                 NaN\n",
       "18            1.000000\n",
       "20            1.000000\n",
       "21            0.500000\n",
       "30                 NaN\n",
       "34            1.000000\n",
       "44            0.666667\n",
       "100                NaN\n",
       "999                NaN\n",
       "2147483647    1.000000\n",
       "Name: familysize, dtype: float64"
      ]
     },
     "execution_count": 2026,
     "metadata": {},
     "output_type": "execute_result"
    }
   ],
   "source": [
    "(train_df[train_df['voted'] == 2]['familysize'].value_counts() / train_df['familysize'].value_counts()).sort_index()"
   ]
  },
  {
   "cell_type": "code",
   "execution_count": 2027,
   "metadata": {},
   "outputs": [],
   "source": [
    "train_df.loc[train_df['familysize'] > 4, 'familysize'] = 4\n",
    "test_df.loc[test_df['familysize'] > 4, 'familysize'] = 4"
   ]
  },
  {
   "cell_type": "code",
   "execution_count": 2028,
   "metadata": {},
   "outputs": [
    {
     "data": {
      "text/plain": [
       "0     1217\n",
       "1     6535\n",
       "2    17918\n",
       "3    11256\n",
       "4     8606\n",
       "Name: familysize, dtype: int64"
      ]
     },
     "execution_count": 2028,
     "metadata": {},
     "output_type": "execute_result"
    }
   ],
   "source": [
    "train_df['familysize'].value_counts().sort_index()"
   ]
  },
  {
   "cell_type": "code",
   "execution_count": 2029,
   "metadata": {},
   "outputs": [
    {
     "data": {
      "text/plain": [
       "0    0.413311\n",
       "1    0.424331\n",
       "2    0.450106\n",
       "3    0.456912\n",
       "4    0.482222\n",
       "Name: familysize, dtype: float64"
      ]
     },
     "execution_count": 2029,
     "metadata": {},
     "output_type": "execute_result"
    }
   ],
   "source": [
    "(train_df[train_df['voted'] == 1]['familysize'].value_counts() / train_df['familysize'].value_counts()).sort_index()"
   ]
  },
  {
   "cell_type": "code",
   "execution_count": 2030,
   "metadata": {},
   "outputs": [
    {
     "data": {
      "text/plain": [
       "0    0.586689\n",
       "1    0.575669\n",
       "2    0.549894\n",
       "3    0.543088\n",
       "4    0.517778\n",
       "Name: familysize, dtype: float64"
      ]
     },
     "execution_count": 2030,
     "metadata": {},
     "output_type": "execute_result"
    }
   ],
   "source": [
    "(train_df[train_df['voted'] == 2]['familysize'].value_counts() / train_df['familysize'].value_counts()).sort_index()"
   ]
  },
  {
   "cell_type": "code",
   "execution_count": 2031,
   "metadata": {},
   "outputs": [],
   "source": [
    "train_df['familysize'] = train_df['familysize'] / 6\n",
    "test_df['familysize'] = test_df['familysize'] / 6"
   ]
  },
  {
   "cell_type": "markdown",
   "metadata": {},
   "source": [
    "# married"
   ]
  },
  {
   "cell_type": "code",
   "execution_count": 2032,
   "metadata": {},
   "outputs": [
    {
     "data": {
      "text/plain": [
       "2    24898\n",
       "1    20634\n",
       "Name: voted, dtype: int64"
      ]
     },
     "execution_count": 2032,
     "metadata": {},
     "output_type": "execute_result"
    }
   ],
   "source": [
    "train_df['voted'].value_counts()"
   ]
  },
  {
   "cell_type": "code",
   "execution_count": 2033,
   "metadata": {},
   "outputs": [
    {
     "data": {
      "text/plain": [
       "0       93\n",
       "1    31550\n",
       "2    10059\n",
       "3     3830\n",
       "Name: married, dtype: int64"
      ]
     },
     "execution_count": 2033,
     "metadata": {},
     "output_type": "execute_result"
    }
   ],
   "source": [
    "train_df['married'].value_counts().sort_index()"
   ]
  },
  {
   "cell_type": "code",
   "execution_count": 2034,
   "metadata": {},
   "outputs": [
    {
     "data": {
      "text/plain": [
       "0    0.322581\n",
       "1    0.370428\n",
       "2    0.666567\n",
       "3    0.577546\n",
       "Name: married, dtype: float64"
      ]
     },
     "execution_count": 2034,
     "metadata": {},
     "output_type": "execute_result"
    }
   ],
   "source": [
    "(train_df[train_df['voted'] == 1]['married'].value_counts() / train_df['married'].value_counts()).sort_index()"
   ]
  },
  {
   "cell_type": "code",
   "execution_count": 2035,
   "metadata": {},
   "outputs": [
    {
     "data": {
      "text/plain": [
       "0    0.677419\n",
       "1    0.629572\n",
       "2    0.333433\n",
       "3    0.422454\n",
       "Name: married, dtype: float64"
      ]
     },
     "execution_count": 2035,
     "metadata": {},
     "output_type": "execute_result"
    }
   ],
   "source": [
    "(train_df[train_df['voted'] == 2]['married'].value_counts() / train_df['married'].value_counts()).sort_index()"
   ]
  },
  {
   "cell_type": "code",
   "execution_count": 2036,
   "metadata": {},
   "outputs": [],
   "source": [
    "train_df.loc[train_df['married'] == 0,'married'] = 1\n",
    "test_df.loc[test_df['married'] == 0,'married'] = 1"
   ]
  },
  {
   "cell_type": "code",
   "execution_count": 2037,
   "metadata": {},
   "outputs": [],
   "source": [
    "train_df.loc[train_df['married'] == 3,'married'] = 2\n",
    "test_df.loc[test_df['married'] == 3,'married'] = 2"
   ]
  },
  {
   "cell_type": "code",
   "execution_count": 2038,
   "metadata": {},
   "outputs": [],
   "source": [
    "train_df['married'] = train_df['married'] - 1\n",
    "test_df['married'] = test_df['married'] - 1"
   ]
  },
  {
   "cell_type": "code",
   "execution_count": 2039,
   "metadata": {},
   "outputs": [
    {
     "data": {
      "text/plain": [
       "0    31643\n",
       "1    13889\n",
       "Name: married, dtype: int64"
      ]
     },
     "execution_count": 2039,
     "metadata": {},
     "output_type": "execute_result"
    }
   ],
   "source": [
    "train_df['married'].value_counts()"
   ]
  },
  {
   "cell_type": "code",
   "execution_count": 2040,
   "metadata": {},
   "outputs": [],
   "source": [
    "train_df = pd.concat([train_df, pd.get_dummies(train_df['married'], prefix='married')], axis=1, sort=False)\n",
    "test_df = pd.concat([test_df, pd.get_dummies(test_df['married'], prefix='married')], axis=1, sort=False)"
   ]
  },
  {
   "cell_type": "code",
   "execution_count": 2041,
   "metadata": {},
   "outputs": [
    {
     "data": {
      "text/html": [
       "<div>\n",
       "<style scoped>\n",
       "    .dataframe tbody tr th:only-of-type {\n",
       "        vertical-align: middle;\n",
       "    }\n",
       "\n",
       "    .dataframe tbody tr th {\n",
       "        vertical-align: top;\n",
       "    }\n",
       "\n",
       "    .dataframe thead th {\n",
       "        text-align: right;\n",
       "    }\n",
       "</style>\n",
       "<table border=\"1\" class=\"dataframe\">\n",
       "  <thead>\n",
       "    <tr style=\"text-align: right;\">\n",
       "      <th></th>\n",
       "      <th>index</th>\n",
       "      <th>QaA</th>\n",
       "      <th>QaE</th>\n",
       "      <th>QbA</th>\n",
       "      <th>QbE</th>\n",
       "      <th>QcA</th>\n",
       "      <th>QcE</th>\n",
       "      <th>QdA</th>\n",
       "      <th>QdE</th>\n",
       "      <th>QeA</th>\n",
       "      <th>...</th>\n",
       "      <th>race_1</th>\n",
       "      <th>race_2</th>\n",
       "      <th>race_3</th>\n",
       "      <th>religion_0</th>\n",
       "      <th>religion_1</th>\n",
       "      <th>religion_2</th>\n",
       "      <th>religion_3</th>\n",
       "      <th>religion_4</th>\n",
       "      <th>married_0</th>\n",
       "      <th>married_1</th>\n",
       "    </tr>\n",
       "  </thead>\n",
       "  <tbody>\n",
       "    <tr>\n",
       "      <th>0</th>\n",
       "      <td>0</td>\n",
       "      <td>3.0</td>\n",
       "      <td>363</td>\n",
       "      <td>4.0</td>\n",
       "      <td>1370</td>\n",
       "      <td>5.0</td>\n",
       "      <td>997</td>\n",
       "      <td>1.0</td>\n",
       "      <td>1024</td>\n",
       "      <td>2.0</td>\n",
       "      <td>...</td>\n",
       "      <td>0</td>\n",
       "      <td>0</td>\n",
       "      <td>1</td>\n",
       "      <td>0</td>\n",
       "      <td>1</td>\n",
       "      <td>0</td>\n",
       "      <td>0</td>\n",
       "      <td>0</td>\n",
       "      <td>0</td>\n",
       "      <td>1</td>\n",
       "    </tr>\n",
       "    <tr>\n",
       "      <th>1</th>\n",
       "      <td>1</td>\n",
       "      <td>5.0</td>\n",
       "      <td>647</td>\n",
       "      <td>5.0</td>\n",
       "      <td>1313</td>\n",
       "      <td>3.0</td>\n",
       "      <td>3387</td>\n",
       "      <td>5.0</td>\n",
       "      <td>2969</td>\n",
       "      <td>1.0</td>\n",
       "      <td>...</td>\n",
       "      <td>0</td>\n",
       "      <td>0</td>\n",
       "      <td>0</td>\n",
       "      <td>1</td>\n",
       "      <td>0</td>\n",
       "      <td>0</td>\n",
       "      <td>0</td>\n",
       "      <td>0</td>\n",
       "      <td>1</td>\n",
       "      <td>0</td>\n",
       "    </tr>\n",
       "    <tr>\n",
       "      <th>2</th>\n",
       "      <td>2</td>\n",
       "      <td>4.0</td>\n",
       "      <td>1623</td>\n",
       "      <td>1.0</td>\n",
       "      <td>1480</td>\n",
       "      <td>1.0</td>\n",
       "      <td>1021</td>\n",
       "      <td>4.0</td>\n",
       "      <td>3374</td>\n",
       "      <td>5.0</td>\n",
       "      <td>...</td>\n",
       "      <td>0</td>\n",
       "      <td>0</td>\n",
       "      <td>1</td>\n",
       "      <td>0</td>\n",
       "      <td>1</td>\n",
       "      <td>0</td>\n",
       "      <td>0</td>\n",
       "      <td>0</td>\n",
       "      <td>0</td>\n",
       "      <td>1</td>\n",
       "    </tr>\n",
       "    <tr>\n",
       "      <th>3</th>\n",
       "      <td>3</td>\n",
       "      <td>3.0</td>\n",
       "      <td>504</td>\n",
       "      <td>3.0</td>\n",
       "      <td>2311</td>\n",
       "      <td>4.0</td>\n",
       "      <td>992</td>\n",
       "      <td>3.0</td>\n",
       "      <td>3245</td>\n",
       "      <td>1.0</td>\n",
       "      <td>...</td>\n",
       "      <td>0</td>\n",
       "      <td>0</td>\n",
       "      <td>0</td>\n",
       "      <td>1</td>\n",
       "      <td>0</td>\n",
       "      <td>0</td>\n",
       "      <td>0</td>\n",
       "      <td>0</td>\n",
       "      <td>1</td>\n",
       "      <td>0</td>\n",
       "    </tr>\n",
       "    <tr>\n",
       "      <th>4</th>\n",
       "      <td>4</td>\n",
       "      <td>1.0</td>\n",
       "      <td>927</td>\n",
       "      <td>1.0</td>\n",
       "      <td>707</td>\n",
       "      <td>5.0</td>\n",
       "      <td>556</td>\n",
       "      <td>2.0</td>\n",
       "      <td>1062</td>\n",
       "      <td>1.0</td>\n",
       "      <td>...</td>\n",
       "      <td>0</td>\n",
       "      <td>0</td>\n",
       "      <td>1</td>\n",
       "      <td>0</td>\n",
       "      <td>0</td>\n",
       "      <td>1</td>\n",
       "      <td>0</td>\n",
       "      <td>0</td>\n",
       "      <td>0</td>\n",
       "      <td>1</td>\n",
       "    </tr>\n",
       "    <tr>\n",
       "      <th>...</th>\n",
       "      <td>...</td>\n",
       "      <td>...</td>\n",
       "      <td>...</td>\n",
       "      <td>...</td>\n",
       "      <td>...</td>\n",
       "      <td>...</td>\n",
       "      <td>...</td>\n",
       "      <td>...</td>\n",
       "      <td>...</td>\n",
       "      <td>...</td>\n",
       "      <td>...</td>\n",
       "      <td>...</td>\n",
       "      <td>...</td>\n",
       "      <td>...</td>\n",
       "      <td>...</td>\n",
       "      <td>...</td>\n",
       "      <td>...</td>\n",
       "      <td>...</td>\n",
       "      <td>...</td>\n",
       "      <td>...</td>\n",
       "      <td>...</td>\n",
       "    </tr>\n",
       "    <tr>\n",
       "      <th>45527</th>\n",
       "      <td>45527</td>\n",
       "      <td>2.0</td>\n",
       "      <td>1050</td>\n",
       "      <td>5.0</td>\n",
       "      <td>619</td>\n",
       "      <td>4.0</td>\n",
       "      <td>328</td>\n",
       "      <td>1.0</td>\n",
       "      <td>285</td>\n",
       "      <td>1.0</td>\n",
       "      <td>...</td>\n",
       "      <td>0</td>\n",
       "      <td>0</td>\n",
       "      <td>1</td>\n",
       "      <td>0</td>\n",
       "      <td>0</td>\n",
       "      <td>0</td>\n",
       "      <td>0</td>\n",
       "      <td>1</td>\n",
       "      <td>1</td>\n",
       "      <td>0</td>\n",
       "    </tr>\n",
       "    <tr>\n",
       "      <th>45528</th>\n",
       "      <td>45528</td>\n",
       "      <td>2.0</td>\n",
       "      <td>581</td>\n",
       "      <td>3.0</td>\n",
       "      <td>1353</td>\n",
       "      <td>4.0</td>\n",
       "      <td>1164</td>\n",
       "      <td>1.0</td>\n",
       "      <td>798</td>\n",
       "      <td>3.0</td>\n",
       "      <td>...</td>\n",
       "      <td>0</td>\n",
       "      <td>0</td>\n",
       "      <td>1</td>\n",
       "      <td>0</td>\n",
       "      <td>1</td>\n",
       "      <td>0</td>\n",
       "      <td>0</td>\n",
       "      <td>0</td>\n",
       "      <td>1</td>\n",
       "      <td>0</td>\n",
       "    </tr>\n",
       "    <tr>\n",
       "      <th>45529</th>\n",
       "      <td>45529</td>\n",
       "      <td>4.0</td>\n",
       "      <td>593</td>\n",
       "      <td>1.0</td>\n",
       "      <td>857</td>\n",
       "      <td>1.0</td>\n",
       "      <td>1047</td>\n",
       "      <td>4.0</td>\n",
       "      <td>1515</td>\n",
       "      <td>5.0</td>\n",
       "      <td>...</td>\n",
       "      <td>0</td>\n",
       "      <td>0</td>\n",
       "      <td>1</td>\n",
       "      <td>0</td>\n",
       "      <td>0</td>\n",
       "      <td>0</td>\n",
       "      <td>1</td>\n",
       "      <td>0</td>\n",
       "      <td>1</td>\n",
       "      <td>0</td>\n",
       "    </tr>\n",
       "    <tr>\n",
       "      <th>45530</th>\n",
       "      <td>45530</td>\n",
       "      <td>1.0</td>\n",
       "      <td>747</td>\n",
       "      <td>3.0</td>\n",
       "      <td>1331</td>\n",
       "      <td>4.0</td>\n",
       "      <td>892</td>\n",
       "      <td>2.0</td>\n",
       "      <td>1281</td>\n",
       "      <td>1.0</td>\n",
       "      <td>...</td>\n",
       "      <td>0</td>\n",
       "      <td>0</td>\n",
       "      <td>1</td>\n",
       "      <td>0</td>\n",
       "      <td>1</td>\n",
       "      <td>0</td>\n",
       "      <td>0</td>\n",
       "      <td>0</td>\n",
       "      <td>1</td>\n",
       "      <td>0</td>\n",
       "    </tr>\n",
       "    <tr>\n",
       "      <th>45531</th>\n",
       "      <td>45531</td>\n",
       "      <td>3.0</td>\n",
       "      <td>496</td>\n",
       "      <td>5.0</td>\n",
       "      <td>1827</td>\n",
       "      <td>5.0</td>\n",
       "      <td>754</td>\n",
       "      <td>3.0</td>\n",
       "      <td>1117</td>\n",
       "      <td>1.0</td>\n",
       "      <td>...</td>\n",
       "      <td>0</td>\n",
       "      <td>0</td>\n",
       "      <td>1</td>\n",
       "      <td>0</td>\n",
       "      <td>0</td>\n",
       "      <td>1</td>\n",
       "      <td>0</td>\n",
       "      <td>0</td>\n",
       "      <td>1</td>\n",
       "      <td>0</td>\n",
       "    </tr>\n",
       "  </tbody>\n",
       "</table>\n",
       "<p>45532 rows × 94 columns</p>\n",
       "</div>"
      ],
      "text/plain": [
       "       index  QaA   QaE  QbA   QbE  QcA   QcE  QdA   QdE  QeA  ...  race_1  \\\n",
       "0          0  3.0   363  4.0  1370  5.0   997  1.0  1024  2.0  ...       0   \n",
       "1          1  5.0   647  5.0  1313  3.0  3387  5.0  2969  1.0  ...       0   \n",
       "2          2  4.0  1623  1.0  1480  1.0  1021  4.0  3374  5.0  ...       0   \n",
       "3          3  3.0   504  3.0  2311  4.0   992  3.0  3245  1.0  ...       0   \n",
       "4          4  1.0   927  1.0   707  5.0   556  2.0  1062  1.0  ...       0   \n",
       "...      ...  ...   ...  ...   ...  ...   ...  ...   ...  ...  ...     ...   \n",
       "45527  45527  2.0  1050  5.0   619  4.0   328  1.0   285  1.0  ...       0   \n",
       "45528  45528  2.0   581  3.0  1353  4.0  1164  1.0   798  3.0  ...       0   \n",
       "45529  45529  4.0   593  1.0   857  1.0  1047  4.0  1515  5.0  ...       0   \n",
       "45530  45530  1.0   747  3.0  1331  4.0   892  2.0  1281  1.0  ...       0   \n",
       "45531  45531  3.0   496  5.0  1827  5.0   754  3.0  1117  1.0  ...       0   \n",
       "\n",
       "       race_2  race_3  religion_0  religion_1  religion_2  religion_3  \\\n",
       "0           0       1           0           1           0           0   \n",
       "1           0       0           1           0           0           0   \n",
       "2           0       1           0           1           0           0   \n",
       "3           0       0           1           0           0           0   \n",
       "4           0       1           0           0           1           0   \n",
       "...       ...     ...         ...         ...         ...         ...   \n",
       "45527       0       1           0           0           0           0   \n",
       "45528       0       1           0           1           0           0   \n",
       "45529       0       1           0           0           0           1   \n",
       "45530       0       1           0           1           0           0   \n",
       "45531       0       1           0           0           1           0   \n",
       "\n",
       "       religion_4  married_0  married_1  \n",
       "0               0          0          1  \n",
       "1               0          1          0  \n",
       "2               0          0          1  \n",
       "3               0          1          0  \n",
       "4               0          0          1  \n",
       "...           ...        ...        ...  \n",
       "45527           1          1          0  \n",
       "45528           0          1          0  \n",
       "45529           0          1          0  \n",
       "45530           0          1          0  \n",
       "45531           0          1          0  \n",
       "\n",
       "[45532 rows x 94 columns]"
      ]
     },
     "execution_count": 2041,
     "metadata": {},
     "output_type": "execute_result"
    }
   ],
   "source": [
    "train_df"
   ]
  },
  {
   "cell_type": "code",
   "execution_count": null,
   "metadata": {},
   "outputs": [],
   "source": []
  },
  {
   "cell_type": "markdown",
   "metadata": {},
   "source": [
    "# hand"
   ]
  },
  {
   "cell_type": "code",
   "execution_count": 2042,
   "metadata": {},
   "outputs": [
    {
     "data": {
      "text/plain": [
       "2    24898\n",
       "1    20634\n",
       "Name: voted, dtype: int64"
      ]
     },
     "execution_count": 2042,
     "metadata": {},
     "output_type": "execute_result"
    }
   ],
   "source": [
    "train_df['voted'].value_counts()"
   ]
  },
  {
   "cell_type": "code",
   "execution_count": 2043,
   "metadata": {},
   "outputs": [
    {
     "data": {
      "text/plain": [
       "0      161\n",
       "1    39058\n",
       "2     4692\n",
       "3     1621\n",
       "Name: hand, dtype: int64"
      ]
     },
     "execution_count": 2043,
     "metadata": {},
     "output_type": "execute_result"
    }
   ],
   "source": [
    "train_df['hand'].value_counts().sort_index()"
   ]
  },
  {
   "cell_type": "code",
   "execution_count": 2044,
   "metadata": {},
   "outputs": [
    {
     "data": {
      "text/plain": [
       "0    0.366460\n",
       "1    0.454683\n",
       "2    0.459506\n",
       "3    0.407156\n",
       "Name: hand, dtype: float64"
      ]
     },
     "execution_count": 2044,
     "metadata": {},
     "output_type": "execute_result"
    }
   ],
   "source": [
    "(train_df[train_df['voted'] == 1]['hand'].value_counts() / train_df['hand'].value_counts()).sort_index()"
   ]
  },
  {
   "cell_type": "code",
   "execution_count": 2045,
   "metadata": {},
   "outputs": [
    {
     "data": {
      "text/plain": [
       "0    0.633540\n",
       "1    0.545317\n",
       "2    0.540494\n",
       "3    0.592844\n",
       "Name: hand, dtype: float64"
      ]
     },
     "execution_count": 2045,
     "metadata": {},
     "output_type": "execute_result"
    }
   ],
   "source": [
    "(train_df[train_df['voted'] == 2]['hand'].value_counts() / train_df['hand'].value_counts()).sort_index()"
   ]
  },
  {
   "cell_type": "code",
   "execution_count": 2046,
   "metadata": {},
   "outputs": [],
   "source": [
    "train_df.loc[train_df['hand'] == 3, 'hand'] = 0\n",
    "test_df.loc[test_df['hand'] == 3, 'hand'] = 0"
   ]
  },
  {
   "cell_type": "code",
   "execution_count": 2047,
   "metadata": {},
   "outputs": [],
   "source": [
    "train_df = pd.concat([train_df, pd.get_dummies(train_df['hand'], prefix='hand')], axis=1, sort=False)\n",
    "test_df = pd.concat([test_df, pd.get_dummies(test_df['hand'], prefix='hand')], axis=1, sort=False)"
   ]
  },
  {
   "cell_type": "code",
   "execution_count": null,
   "metadata": {},
   "outputs": [],
   "source": []
  },
  {
   "cell_type": "markdown",
   "metadata": {},
   "source": [
    "# education"
   ]
  },
  {
   "cell_type": "code",
   "execution_count": 2048,
   "metadata": {},
   "outputs": [
    {
     "data": {
      "text/plain": [
       "2    24898\n",
       "1    20634\n",
       "Name: voted, dtype: int64"
      ]
     },
     "execution_count": 2048,
     "metadata": {},
     "output_type": "execute_result"
    }
   ],
   "source": [
    "train_df['voted'].value_counts()"
   ]
  },
  {
   "cell_type": "code",
   "execution_count": 2049,
   "metadata": {},
   "outputs": [
    {
     "data": {
      "text/plain": [
       "2    16835\n",
       "3    15227\n",
       "4     7854\n",
       "1     5088\n",
       "0      528\n",
       "Name: education, dtype: int64"
      ]
     },
     "execution_count": 2049,
     "metadata": {},
     "output_type": "execute_result"
    }
   ],
   "source": [
    "train_df['education'].value_counts()"
   ]
  },
  {
   "cell_type": "code",
   "execution_count": 2050,
   "metadata": {},
   "outputs": [
    {
     "data": {
      "text/plain": [
       "0    0.477273\n",
       "1    0.049725\n",
       "2    0.367033\n",
       "3    0.596506\n",
       "4    0.619684\n",
       "Name: education, dtype: float64"
      ]
     },
     "execution_count": 2050,
     "metadata": {},
     "output_type": "execute_result"
    }
   ],
   "source": [
    "(train_df[train_df['voted'] == 1]['education'].value_counts() / train_df['education'].value_counts()).sort_index()"
   ]
  },
  {
   "cell_type": "code",
   "execution_count": 2051,
   "metadata": {},
   "outputs": [
    {
     "data": {
      "text/plain": [
       "0    0.522727\n",
       "1    0.950275\n",
       "2    0.632967\n",
       "3    0.403494\n",
       "4    0.380316\n",
       "Name: education, dtype: float64"
      ]
     },
     "execution_count": 2051,
     "metadata": {},
     "output_type": "execute_result"
    }
   ],
   "source": [
    "(train_df[train_df['voted'] == 2]['education'].value_counts() / train_df['education'].value_counts()).sort_index()"
   ]
  },
  {
   "cell_type": "code",
   "execution_count": 2052,
   "metadata": {},
   "outputs": [],
   "source": [
    "train_df.loc[train_df['education']==0, 'education'] = 3\n",
    "test_df.loc[test_df['education']==0, 'education'] = 3"
   ]
  },
  {
   "cell_type": "code",
   "execution_count": 2053,
   "metadata": {},
   "outputs": [],
   "source": [
    "train_df = pd.concat([train_df, pd.get_dummies(train_df['education'], prefix='education')], axis=1, sort=False)\n",
    "test_df = pd.concat([test_df, pd.get_dummies(test_df['education'], prefix='education')], axis=1, sort=False)"
   ]
  },
  {
   "cell_type": "code",
   "execution_count": null,
   "metadata": {},
   "outputs": [],
   "source": []
  },
  {
   "cell_type": "code",
   "execution_count": 2054,
   "metadata": {},
   "outputs": [],
   "source": [
    "# train_df['education'] = (train_df['education'] - 1) / 3\n",
    "# test_df['education'] = (test_df['education'] - 1) / 3"
   ]
  },
  {
   "cell_type": "code",
   "execution_count": null,
   "metadata": {},
   "outputs": [],
   "source": []
  },
  {
   "cell_type": "markdown",
   "metadata": {},
   "source": [
    "# urban"
   ]
  },
  {
   "cell_type": "code",
   "execution_count": 2055,
   "metadata": {},
   "outputs": [
    {
     "data": {
      "text/plain": [
       "0      322\n",
       "1     8909\n",
       "2    18534\n",
       "3    17767\n",
       "Name: urban, dtype: int64"
      ]
     },
     "execution_count": 2055,
     "metadata": {},
     "output_type": "execute_result"
    }
   ],
   "source": [
    "train_df['urban'].value_counts().sort_index()"
   ]
  },
  {
   "cell_type": "code",
   "execution_count": 2056,
   "metadata": {},
   "outputs": [
    {
     "data": {
      "text/plain": [
       "0    0.509317\n",
       "1    0.507128\n",
       "2    0.458455\n",
       "3    0.419598\n",
       "Name: urban, dtype: float64"
      ]
     },
     "execution_count": 2056,
     "metadata": {},
     "output_type": "execute_result"
    }
   ],
   "source": [
    "(train_df[train_df['voted'] == 1]['urban'].value_counts() / train_df['urban'].value_counts()).sort_index()"
   ]
  },
  {
   "cell_type": "code",
   "execution_count": 2057,
   "metadata": {},
   "outputs": [
    {
     "data": {
      "text/plain": [
       "0    0.490683\n",
       "1    0.492872\n",
       "2    0.541545\n",
       "3    0.580402\n",
       "Name: urban, dtype: float64"
      ]
     },
     "execution_count": 2057,
     "metadata": {},
     "output_type": "execute_result"
    }
   ],
   "source": [
    "(train_df[train_df['voted'] == 2]['urban'].value_counts() / train_df['urban'].value_counts()).sort_index()"
   ]
  },
  {
   "cell_type": "code",
   "execution_count": 2058,
   "metadata": {},
   "outputs": [],
   "source": [
    "train_df[train_df['urban'] == 0] = 1\n",
    "test_df[test_df['urban'] == 0] = 1"
   ]
  },
  {
   "cell_type": "code",
   "execution_count": 2059,
   "metadata": {},
   "outputs": [],
   "source": [
    "train_df = pd.concat([train_df, pd.get_dummies(train_df['urban'], prefix='urban')], axis=1, sort=False)\n",
    "test_df = pd.concat([test_df, pd.get_dummies(test_df['urban'], prefix='urban')], axis=1, sort=False)"
   ]
  },
  {
   "cell_type": "code",
   "execution_count": null,
   "metadata": {},
   "outputs": [],
   "source": []
  },
  {
   "cell_type": "markdown",
   "metadata": {},
   "source": [
    "# split_data"
   ]
  },
  {
   "cell_type": "code",
   "execution_count": 2060,
   "metadata": {},
   "outputs": [
    {
     "data": {
      "text/plain": [
       "2    24740\n",
       "1    20792\n",
       "Name: voted, dtype: int64"
      ]
     },
     "execution_count": 2060,
     "metadata": {},
     "output_type": "execute_result"
    }
   ],
   "source": [
    "train_df['voted'].value_counts()"
   ]
  },
  {
   "cell_type": "code",
   "execution_count": 2061,
   "metadata": {},
   "outputs": [
    {
     "data": {
      "text/html": [
       "<div>\n",
       "<style scoped>\n",
       "    .dataframe tbody tr th:only-of-type {\n",
       "        vertical-align: middle;\n",
       "    }\n",
       "\n",
       "    .dataframe tbody tr th {\n",
       "        vertical-align: top;\n",
       "    }\n",
       "\n",
       "    .dataframe thead th {\n",
       "        text-align: right;\n",
       "    }\n",
       "</style>\n",
       "<table border=\"1\" class=\"dataframe\">\n",
       "  <thead>\n",
       "    <tr style=\"text-align: right;\">\n",
       "      <th></th>\n",
       "      <th>index</th>\n",
       "      <th>QaA</th>\n",
       "      <th>QaE</th>\n",
       "      <th>QbA</th>\n",
       "      <th>QbE</th>\n",
       "      <th>QcA</th>\n",
       "      <th>QcE</th>\n",
       "      <th>QdA</th>\n",
       "      <th>QdE</th>\n",
       "      <th>QeA</th>\n",
       "      <th>...</th>\n",
       "      <th>hand_0</th>\n",
       "      <th>hand_1</th>\n",
       "      <th>hand_2</th>\n",
       "      <th>education_1</th>\n",
       "      <th>education_2</th>\n",
       "      <th>education_3</th>\n",
       "      <th>education_4</th>\n",
       "      <th>urban_1</th>\n",
       "      <th>urban_2</th>\n",
       "      <th>urban_3</th>\n",
       "    </tr>\n",
       "  </thead>\n",
       "  <tbody>\n",
       "    <tr>\n",
       "      <th>0</th>\n",
       "      <td>0</td>\n",
       "      <td>3.0</td>\n",
       "      <td>363</td>\n",
       "      <td>4.0</td>\n",
       "      <td>1370</td>\n",
       "      <td>5.0</td>\n",
       "      <td>997</td>\n",
       "      <td>1.0</td>\n",
       "      <td>1024</td>\n",
       "      <td>2.0</td>\n",
       "      <td>...</td>\n",
       "      <td>0</td>\n",
       "      <td>1</td>\n",
       "      <td>0</td>\n",
       "      <td>0</td>\n",
       "      <td>1</td>\n",
       "      <td>0</td>\n",
       "      <td>0</td>\n",
       "      <td>1</td>\n",
       "      <td>0</td>\n",
       "      <td>0</td>\n",
       "    </tr>\n",
       "    <tr>\n",
       "      <th>1</th>\n",
       "      <td>1</td>\n",
       "      <td>5.0</td>\n",
       "      <td>647</td>\n",
       "      <td>5.0</td>\n",
       "      <td>1313</td>\n",
       "      <td>3.0</td>\n",
       "      <td>3387</td>\n",
       "      <td>5.0</td>\n",
       "      <td>2969</td>\n",
       "      <td>1.0</td>\n",
       "      <td>...</td>\n",
       "      <td>0</td>\n",
       "      <td>1</td>\n",
       "      <td>0</td>\n",
       "      <td>0</td>\n",
       "      <td>0</td>\n",
       "      <td>0</td>\n",
       "      <td>1</td>\n",
       "      <td>0</td>\n",
       "      <td>0</td>\n",
       "      <td>1</td>\n",
       "    </tr>\n",
       "    <tr>\n",
       "      <th>2</th>\n",
       "      <td>2</td>\n",
       "      <td>4.0</td>\n",
       "      <td>1623</td>\n",
       "      <td>1.0</td>\n",
       "      <td>1480</td>\n",
       "      <td>1.0</td>\n",
       "      <td>1021</td>\n",
       "      <td>4.0</td>\n",
       "      <td>3374</td>\n",
       "      <td>5.0</td>\n",
       "      <td>...</td>\n",
       "      <td>0</td>\n",
       "      <td>1</td>\n",
       "      <td>0</td>\n",
       "      <td>0</td>\n",
       "      <td>0</td>\n",
       "      <td>1</td>\n",
       "      <td>0</td>\n",
       "      <td>0</td>\n",
       "      <td>1</td>\n",
       "      <td>0</td>\n",
       "    </tr>\n",
       "    <tr>\n",
       "      <th>3</th>\n",
       "      <td>3</td>\n",
       "      <td>3.0</td>\n",
       "      <td>504</td>\n",
       "      <td>3.0</td>\n",
       "      <td>2311</td>\n",
       "      <td>4.0</td>\n",
       "      <td>992</td>\n",
       "      <td>3.0</td>\n",
       "      <td>3245</td>\n",
       "      <td>1.0</td>\n",
       "      <td>...</td>\n",
       "      <td>0</td>\n",
       "      <td>1</td>\n",
       "      <td>0</td>\n",
       "      <td>0</td>\n",
       "      <td>0</td>\n",
       "      <td>0</td>\n",
       "      <td>1</td>\n",
       "      <td>0</td>\n",
       "      <td>0</td>\n",
       "      <td>1</td>\n",
       "    </tr>\n",
       "    <tr>\n",
       "      <th>4</th>\n",
       "      <td>4</td>\n",
       "      <td>1.0</td>\n",
       "      <td>927</td>\n",
       "      <td>1.0</td>\n",
       "      <td>707</td>\n",
       "      <td>5.0</td>\n",
       "      <td>556</td>\n",
       "      <td>2.0</td>\n",
       "      <td>1062</td>\n",
       "      <td>1.0</td>\n",
       "      <td>...</td>\n",
       "      <td>0</td>\n",
       "      <td>1</td>\n",
       "      <td>0</td>\n",
       "      <td>0</td>\n",
       "      <td>0</td>\n",
       "      <td>1</td>\n",
       "      <td>0</td>\n",
       "      <td>1</td>\n",
       "      <td>0</td>\n",
       "      <td>0</td>\n",
       "    </tr>\n",
       "    <tr>\n",
       "      <th>...</th>\n",
       "      <td>...</td>\n",
       "      <td>...</td>\n",
       "      <td>...</td>\n",
       "      <td>...</td>\n",
       "      <td>...</td>\n",
       "      <td>...</td>\n",
       "      <td>...</td>\n",
       "      <td>...</td>\n",
       "      <td>...</td>\n",
       "      <td>...</td>\n",
       "      <td>...</td>\n",
       "      <td>...</td>\n",
       "      <td>...</td>\n",
       "      <td>...</td>\n",
       "      <td>...</td>\n",
       "      <td>...</td>\n",
       "      <td>...</td>\n",
       "      <td>...</td>\n",
       "      <td>...</td>\n",
       "      <td>...</td>\n",
       "      <td>...</td>\n",
       "    </tr>\n",
       "    <tr>\n",
       "      <th>45527</th>\n",
       "      <td>45527</td>\n",
       "      <td>2.0</td>\n",
       "      <td>1050</td>\n",
       "      <td>5.0</td>\n",
       "      <td>619</td>\n",
       "      <td>4.0</td>\n",
       "      <td>328</td>\n",
       "      <td>1.0</td>\n",
       "      <td>285</td>\n",
       "      <td>1.0</td>\n",
       "      <td>...</td>\n",
       "      <td>1</td>\n",
       "      <td>0</td>\n",
       "      <td>0</td>\n",
       "      <td>0</td>\n",
       "      <td>1</td>\n",
       "      <td>0</td>\n",
       "      <td>0</td>\n",
       "      <td>0</td>\n",
       "      <td>0</td>\n",
       "      <td>1</td>\n",
       "    </tr>\n",
       "    <tr>\n",
       "      <th>45528</th>\n",
       "      <td>45528</td>\n",
       "      <td>2.0</td>\n",
       "      <td>581</td>\n",
       "      <td>3.0</td>\n",
       "      <td>1353</td>\n",
       "      <td>4.0</td>\n",
       "      <td>1164</td>\n",
       "      <td>1.0</td>\n",
       "      <td>798</td>\n",
       "      <td>3.0</td>\n",
       "      <td>...</td>\n",
       "      <td>0</td>\n",
       "      <td>1</td>\n",
       "      <td>0</td>\n",
       "      <td>0</td>\n",
       "      <td>1</td>\n",
       "      <td>0</td>\n",
       "      <td>0</td>\n",
       "      <td>1</td>\n",
       "      <td>0</td>\n",
       "      <td>0</td>\n",
       "    </tr>\n",
       "    <tr>\n",
       "      <th>45529</th>\n",
       "      <td>45529</td>\n",
       "      <td>4.0</td>\n",
       "      <td>593</td>\n",
       "      <td>1.0</td>\n",
       "      <td>857</td>\n",
       "      <td>1.0</td>\n",
       "      <td>1047</td>\n",
       "      <td>4.0</td>\n",
       "      <td>1515</td>\n",
       "      <td>5.0</td>\n",
       "      <td>...</td>\n",
       "      <td>0</td>\n",
       "      <td>1</td>\n",
       "      <td>0</td>\n",
       "      <td>0</td>\n",
       "      <td>1</td>\n",
       "      <td>0</td>\n",
       "      <td>0</td>\n",
       "      <td>0</td>\n",
       "      <td>1</td>\n",
       "      <td>0</td>\n",
       "    </tr>\n",
       "    <tr>\n",
       "      <th>45530</th>\n",
       "      <td>1</td>\n",
       "      <td>1.0</td>\n",
       "      <td>1</td>\n",
       "      <td>1.0</td>\n",
       "      <td>1</td>\n",
       "      <td>1.0</td>\n",
       "      <td>1</td>\n",
       "      <td>1.0</td>\n",
       "      <td>1</td>\n",
       "      <td>1.0</td>\n",
       "      <td>...</td>\n",
       "      <td>1</td>\n",
       "      <td>1</td>\n",
       "      <td>1</td>\n",
       "      <td>1</td>\n",
       "      <td>1</td>\n",
       "      <td>1</td>\n",
       "      <td>1</td>\n",
       "      <td>1</td>\n",
       "      <td>0</td>\n",
       "      <td>0</td>\n",
       "    </tr>\n",
       "    <tr>\n",
       "      <th>45531</th>\n",
       "      <td>45531</td>\n",
       "      <td>3.0</td>\n",
       "      <td>496</td>\n",
       "      <td>5.0</td>\n",
       "      <td>1827</td>\n",
       "      <td>5.0</td>\n",
       "      <td>754</td>\n",
       "      <td>3.0</td>\n",
       "      <td>1117</td>\n",
       "      <td>1.0</td>\n",
       "      <td>...</td>\n",
       "      <td>0</td>\n",
       "      <td>1</td>\n",
       "      <td>0</td>\n",
       "      <td>0</td>\n",
       "      <td>1</td>\n",
       "      <td>0</td>\n",
       "      <td>0</td>\n",
       "      <td>0</td>\n",
       "      <td>1</td>\n",
       "      <td>0</td>\n",
       "    </tr>\n",
       "  </tbody>\n",
       "</table>\n",
       "<p>45532 rows × 104 columns</p>\n",
       "</div>"
      ],
      "text/plain": [
       "       index  QaA   QaE  QbA   QbE  QcA   QcE  QdA   QdE  QeA  ...  hand_0  \\\n",
       "0          0  3.0   363  4.0  1370  5.0   997  1.0  1024  2.0  ...       0   \n",
       "1          1  5.0   647  5.0  1313  3.0  3387  5.0  2969  1.0  ...       0   \n",
       "2          2  4.0  1623  1.0  1480  1.0  1021  4.0  3374  5.0  ...       0   \n",
       "3          3  3.0   504  3.0  2311  4.0   992  3.0  3245  1.0  ...       0   \n",
       "4          4  1.0   927  1.0   707  5.0   556  2.0  1062  1.0  ...       0   \n",
       "...      ...  ...   ...  ...   ...  ...   ...  ...   ...  ...  ...     ...   \n",
       "45527  45527  2.0  1050  5.0   619  4.0   328  1.0   285  1.0  ...       1   \n",
       "45528  45528  2.0   581  3.0  1353  4.0  1164  1.0   798  3.0  ...       0   \n",
       "45529  45529  4.0   593  1.0   857  1.0  1047  4.0  1515  5.0  ...       0   \n",
       "45530      1  1.0     1  1.0     1  1.0     1  1.0     1  1.0  ...       1   \n",
       "45531  45531  3.0   496  5.0  1827  5.0   754  3.0  1117  1.0  ...       0   \n",
       "\n",
       "       hand_1  hand_2  education_1  education_2  education_3  education_4  \\\n",
       "0           1       0            0            1            0            0   \n",
       "1           1       0            0            0            0            1   \n",
       "2           1       0            0            0            1            0   \n",
       "3           1       0            0            0            0            1   \n",
       "4           1       0            0            0            1            0   \n",
       "...       ...     ...          ...          ...          ...          ...   \n",
       "45527       0       0            0            1            0            0   \n",
       "45528       1       0            0            1            0            0   \n",
       "45529       1       0            0            1            0            0   \n",
       "45530       1       1            1            1            1            1   \n",
       "45531       1       0            0            1            0            0   \n",
       "\n",
       "       urban_1  urban_2  urban_3  \n",
       "0            1        0        0  \n",
       "1            0        0        1  \n",
       "2            0        1        0  \n",
       "3            0        0        1  \n",
       "4            1        0        0  \n",
       "...        ...      ...      ...  \n",
       "45527        0        0        1  \n",
       "45528        1        0        0  \n",
       "45529        0        1        0  \n",
       "45530        1        0        0  \n",
       "45531        0        1        0  \n",
       "\n",
       "[45532 rows x 104 columns]"
      ]
     },
     "execution_count": 2061,
     "metadata": {},
     "output_type": "execute_result"
    }
   ],
   "source": [
    "train_df"
   ]
  },
  {
   "cell_type": "code",
   "execution_count": 2062,
   "metadata": {},
   "outputs": [
    {
     "data": {
      "text/plain": [
       "array(['index', 'QaA', 'QaE', 'QbA', 'QbE', 'QcA', 'QcE', 'QdA', 'QdE',\n",
       "       'QeA', 'QeE', 'QfA', 'QfE', 'QgA', 'QgE', 'QhA', 'QhE', 'QiA',\n",
       "       'QiE', 'QjA', 'QjE', 'QkA', 'QkE', 'QlA', 'QlE', 'QmA', 'QmE',\n",
       "       'QnA', 'QnE', 'QoA', 'QoE', 'QpA', 'QpE', 'QqA', 'QqE', 'QrA',\n",
       "       'QrE', 'QsA', 'QsE', 'QtA', 'QtE', 'age_group', 'education',\n",
       "       'engnat', 'familysize', 'gender', 'hand', 'married', 'race',\n",
       "       'religion', 'tp01', 'tp02', 'tp03', 'tp04', 'tp05', 'tp06', 'tp07',\n",
       "       'tp08', 'tp09', 'tp10', 'urban', 'voted', 'wf_01', 'wf_02',\n",
       "       'wf_03', 'wr_01', 'wr_02', 'wr_03', 'wr_04', 'wr_05', 'wr_06',\n",
       "       'wr_07', 'wr_08', 'wr_09', 'wr_10', 'wr_11', 'wr_12', 'wr_13',\n",
       "       'age', 'engnat_0', 'engnat_1', 'gender_Female', 'gender_Male',\n",
       "       'race_0', 'race_1', 'race_2', 'race_3', 'religion_0', 'religion_1',\n",
       "       'religion_2', 'religion_3', 'religion_4', 'married_0', 'married_1',\n",
       "       'hand_0', 'hand_1', 'hand_2', 'education_1', 'education_2',\n",
       "       'education_3', 'education_4', 'urban_1', 'urban_2', 'urban_3'],\n",
       "      dtype=object)"
      ]
     },
     "execution_count": 2062,
     "metadata": {},
     "output_type": "execute_result"
    }
   ],
   "source": [
    "train_df.columns.to_numpy()"
   ]
  },
  {
   "cell_type": "code",
   "execution_count": 2063,
   "metadata": {},
   "outputs": [],
   "source": [
    "from sklearn.model_selection import train_test_split"
   ]
  },
  {
   "cell_type": "code",
   "execution_count": 2146,
   "metadata": {},
   "outputs": [],
   "source": [
    "train_x_df = train_df[[\n",
    "#        'QaA', 'QbA', 'QcA', 'QdA', 'QeA',\n",
    "#        'QfA', 'QgA', 'QhA', 'QiA', 'QjA',\n",
    "#        'QkA', 'QlA', 'QmA', 'QnA','QoA',\n",
    "#        'QpA', 'QqA', 'QrA', 'QsA', 'QtA',\n",
    "#        'QaE', 'QbE', 'QcE', 'QdE', 'QeE', \n",
    "#        'QfE', 'QgE', 'QhE', 'QiE', 'QjE', \n",
    "#        'QkE', 'QlE', 'QmE', 'QnE', 'QoE', \n",
    "#        'QpE', 'QqE', 'QrE', 'QsE', 'QtE', \n",
    "       'age', #'education', \n",
    "       'engnat_0', 'engnat_1', 'familysize', 'gender_Male', 'gender_Female', \n",
    "#        'hand_0', 'hand_1', 'hand_2', \n",
    "       'married_0', 'married_1', #'married_2', \n",
    "       'race_0', 'race_1', 'race_2', 'race_3', #'race_4', \n",
    "       'religion_0', 'religion_1', 'religion_2', 'religion_3', 'religion_4', \n",
    "       'tp01', 'tp02', 'tp03', 'tp04',\n",
    "       'tp05', 'tp06', 'tp07', 'tp08', 'tp09', 'tp10', \n",
    "       'urban_1', 'urban_2', 'urban_3', \n",
    "       'education_1', 'education_2', 'education_3', 'education_4',\n",
    "       'wf_01', 'wf_02', 'wf_03', 'wr_01', 'wr_02', 'wr_03', 'wr_04', 'wr_05',\n",
    "       'wr_06', 'wr_07', 'wr_08', 'wr_09', 'wr_10', 'wr_11', 'wr_12', 'wr_13',\n",
    "                      ]]"
   ]
  },
  {
   "cell_type": "code",
   "execution_count": 2147,
   "metadata": {},
   "outputs": [],
   "source": [
    "submission_x_df = test_df[[\n",
    "#        'QaA', 'QbA', 'QcA', 'QdA', 'QeA',\n",
    "#        'QfA', 'QgA', 'QhA', 'QiA', 'QjA',\n",
    "#        'QkA', 'QlA', 'QmA', 'QnA','QoA',\n",
    "#        'QpA', 'QqA', 'QrA', 'QsA', 'QtA',\n",
    "#        'QaE', 'QbE', 'QcE', 'QdE', 'QeE', \n",
    "#        'QfE', 'QgE', 'QhE', 'QiE', 'QjE', \n",
    "#        'QkE', 'QlE', 'QmE', 'QnE', 'QoE', \n",
    "#        'QpE', 'QqE', 'QrE', 'QsE', 'QtE', \n",
    "       'age', #'education', \n",
    "       'engnat_0', 'engnat_1', 'familysize', 'gender_Male', 'gender_Female', \n",
    "#        'hand_0', 'hand_1', 'hand_2', \n",
    "       'married_0', 'married_1', #'married_2', \n",
    "       'race_0', 'race_1', 'race_2', 'race_3', #'race_4', \n",
    "       'religion_0', 'religion_1', 'religion_2', 'religion_3', 'religion_4', \n",
    "       'tp01', 'tp02', 'tp03', 'tp04',\n",
    "       'tp05', 'tp06', 'tp07', 'tp08', 'tp09', 'tp10', \n",
    "       'urban_1', 'urban_2', 'urban_3', \n",
    "       'education_1', 'education_2', 'education_3', 'education_4',\n",
    "       'wf_01', 'wf_02', 'wf_03', 'wr_01', 'wr_02', 'wr_03', 'wr_04', 'wr_05',\n",
    "       'wr_06', 'wr_07', 'wr_08', 'wr_09', 'wr_10', 'wr_11', 'wr_12', 'wr_13',\n",
    "                      ]]"
   ]
  },
  {
   "cell_type": "code",
   "execution_count": 2148,
   "metadata": {},
   "outputs": [],
   "source": [
    "train_y_df = train_df[['voted']] - 1"
   ]
  },
  {
   "cell_type": "code",
   "execution_count": null,
   "metadata": {},
   "outputs": [],
   "source": []
  },
  {
   "cell_type": "code",
   "execution_count": 2149,
   "metadata": {},
   "outputs": [
    {
     "data": {
      "text/plain": [
       "1    24740\n",
       "0    20792\n",
       "Name: voted, dtype: int64"
      ]
     },
     "execution_count": 2149,
     "metadata": {},
     "output_type": "execute_result"
    }
   ],
   "source": [
    "train_y_df['voted'].value_counts()"
   ]
  },
  {
   "cell_type": "code",
   "execution_count": 2150,
   "metadata": {},
   "outputs": [],
   "source": [
    "train_x, test_x, train_y, test_y = train_test_split(train_x_df, train_y_df, test_size=0.2, random_state=42)"
   ]
  },
  {
   "cell_type": "code",
   "execution_count": 2151,
   "metadata": {},
   "outputs": [],
   "source": [
    "train_ds = lgb.Dataset(train_x, label = train_y) \n",
    "test_ds = lgb.Dataset(test_x, label = test_y) "
   ]
  },
  {
   "cell_type": "code",
   "execution_count": null,
   "metadata": {},
   "outputs": [],
   "source": []
  },
  {
   "cell_type": "code",
   "execution_count": null,
   "metadata": {},
   "outputs": [],
   "source": []
  },
  {
   "cell_type": "markdown",
   "metadata": {},
   "source": [
    "# train model"
   ]
  },
  {
   "cell_type": "markdown",
   "metadata": {},
   "source": [
    "## random forest"
   ]
  },
  {
   "cell_type": "code",
   "execution_count": null,
   "metadata": {},
   "outputs": [],
   "source": []
  },
  {
   "cell_type": "code",
   "execution_count": 2228,
   "metadata": {},
   "outputs": [],
   "source": [
    "params = {'learning_rate': 0.01, \n",
    "          'max_depth': -1, \n",
    "          'boosting': 'rf', \n",
    "          'objective': 'binary', \n",
    "          'metric': 'binary_logloss', \n",
    "          'is_training_metric': True, \n",
    "          'num_leaves': 212, \n",
    "          'feature_fraction': 0.8,\n",
    "          'bagging_fraction': 0.8, \n",
    "          'bagging_freq': 3, \n",
    "          'seed':2020}"
   ]
  },
  {
   "cell_type": "code",
   "execution_count": 2229,
   "metadata": {},
   "outputs": [
    {
     "name": "stdout",
     "output_type": "stream",
     "text": [
      "[LightGBM] [Info] Number of positive: 19825, number of negative: 16600\n",
      "[LightGBM] [Warning] Auto-choosing row-wise multi-threading, the overhead of testing was 0.011072 seconds.\n",
      "You can set `force_row_wise=true` to remove the overhead.\n",
      "And if memory is not enough, you can set `force_col_wise=true`.\n",
      "[LightGBM] [Info] Total Bins 109\n",
      "[LightGBM] [Info] Number of data points in the train set: 36425, number of used features: 50\n",
      "[LightGBM] [Info] [binary:BoostFromScore]: pavg=0.544269 -> initscore=0.177541\n",
      "[LightGBM] [Info] Start training from score 0.177541\n",
      "Training until validation scores don't improve for 100 rounds\n",
      "[100]\tvalid_0's binary_logloss: 0.563951\n",
      "[200]\tvalid_0's binary_logloss: 0.563601\n",
      "Early stopping, best iteration is:\n",
      "[178]\tvalid_0's binary_logloss: 0.563471\n"
     ]
    }
   ],
   "source": [
    "rf_model = lgb.train(params, train_ds, 1000, test_ds, verbose_eval=100, early_stopping_rounds=100)"
   ]
  },
  {
   "cell_type": "code",
   "execution_count": 2230,
   "metadata": {},
   "outputs": [],
   "source": [
    "predict_test_rf = rf_model.predict(test_x)"
   ]
  },
  {
   "cell_type": "code",
   "execution_count": 2231,
   "metadata": {},
   "outputs": [
    {
     "data": {
      "text/plain": [
       "0.7742007495748332"
      ]
     },
     "execution_count": 2231,
     "metadata": {},
     "output_type": "execute_result"
    }
   ],
   "source": [
    "roc_auc_score(test_y['voted'], predict_test_rf)"
   ]
  },
  {
   "cell_type": "code",
   "execution_count": 2232,
   "metadata": {},
   "outputs": [
    {
     "data": {
      "text/plain": [
       "0.7742007495748332"
      ]
     },
     "execution_count": 2232,
     "metadata": {},
     "output_type": "execute_result"
    }
   ],
   "source": [
    "roc_auc_score(test_y['voted'], predict_test_rf)"
   ]
  },
  {
   "cell_type": "code",
   "execution_count": 976,
   "metadata": {},
   "outputs": [
    {
     "data": {
      "text/plain": [
       "0.773791720702321"
      ]
     },
     "execution_count": 976,
     "metadata": {},
     "output_type": "execute_result"
    }
   ],
   "source": [
    "roc_auc_score(test_y['voted'], predict_test_rf)"
   ]
  },
  {
   "cell_type": "code",
   "execution_count": null,
   "metadata": {},
   "outputs": [],
   "source": []
  },
  {
   "cell_type": "code",
   "execution_count": null,
   "metadata": {},
   "outputs": [],
   "source": []
  },
  {
   "cell_type": "markdown",
   "metadata": {},
   "source": [
    "## gbdt"
   ]
  },
  {
   "cell_type": "code",
   "execution_count": 2309,
   "metadata": {},
   "outputs": [],
   "source": [
    "params = {'learning_rate': 0.01, \n",
    "          'max_depth': -1, \n",
    "          'boosting': 'gbdt', \n",
    "          'objective': 'binary', \n",
    "          'metric': 'binary_logloss', \n",
    "          'is_training_metric': True, \n",
    "          'num_leaves': 56, \n",
    "          'feature_fraction': 0.8, \n",
    "          'bagging_fraction': 0.8, \n",
    "          'bagging_freq': 15, \n",
    "          'seed':2020}"
   ]
  },
  {
   "cell_type": "code",
   "execution_count": 2310,
   "metadata": {},
   "outputs": [
    {
     "name": "stdout",
     "output_type": "stream",
     "text": [
      "[LightGBM] [Info] Number of positive: 19825, number of negative: 16600\n",
      "[LightGBM] [Warning] Auto-choosing row-wise multi-threading, the overhead of testing was 0.012312 seconds.\n",
      "You can set `force_row_wise=true` to remove the overhead.\n",
      "And if memory is not enough, you can set `force_col_wise=true`.\n",
      "[LightGBM] [Info] Total Bins 109\n",
      "[LightGBM] [Info] Number of data points in the train set: 36425, number of used features: 50\n",
      "[LightGBM] [Info] [binary:BoostFromScore]: pavg=0.544269 -> initscore=0.177541\n",
      "[LightGBM] [Info] Start training from score 0.177541\n",
      "Training until validation scores don't improve for 100 rounds\n",
      "[100]\tvalid_0's binary_logloss: 0.58381\n",
      "[200]\tvalid_0's binary_logloss: 0.559604\n",
      "[300]\tvalid_0's binary_logloss: 0.553068\n",
      "[400]\tvalid_0's binary_logloss: 0.551138\n",
      "[500]\tvalid_0's binary_logloss: 0.550569\n",
      "[600]\tvalid_0's binary_logloss: 0.550139\n",
      "[700]\tvalid_0's binary_logloss: 0.549991\n",
      "Early stopping, best iteration is:\n",
      "[674]\tvalid_0's binary_logloss: 0.549926\n"
     ]
    }
   ],
   "source": [
    "gbdt_model = lgb.train(params, train_ds, 2000, test_ds, verbose_eval=100, early_stopping_rounds=100)"
   ]
  },
  {
   "cell_type": "code",
   "execution_count": 2311,
   "metadata": {},
   "outputs": [],
   "source": [
    "predict_test_gbdt = gbdt_model.predict(test_x)"
   ]
  },
  {
   "cell_type": "code",
   "execution_count": 2312,
   "metadata": {},
   "outputs": [
    {
     "data": {
      "text/plain": [
       "0.7765879930187229"
      ]
     },
     "execution_count": 2312,
     "metadata": {},
     "output_type": "execute_result"
    }
   ],
   "source": [
    "roc_auc_score(test_y['voted'], predict_test_gbdt)"
   ]
  },
  {
   "cell_type": "code",
   "execution_count": 2296,
   "metadata": {},
   "outputs": [
    {
     "data": {
      "text/plain": [
       "0.7765879930187229"
      ]
     },
     "execution_count": 2296,
     "metadata": {},
     "output_type": "execute_result"
    }
   ],
   "source": [
    "roc_auc_score(test_y['voted'], predict_test_gbdt)"
   ]
  },
  {
   "cell_type": "code",
   "execution_count": null,
   "metadata": {},
   "outputs": [],
   "source": []
  },
  {
   "cell_type": "code",
   "execution_count": null,
   "metadata": {},
   "outputs": [],
   "source": []
  },
  {
   "cell_type": "markdown",
   "metadata": {},
   "source": [
    "## goss"
   ]
  },
  {
   "cell_type": "code",
   "execution_count": 2341,
   "metadata": {},
   "outputs": [],
   "source": [
    "params = {'learning_rate': 0.01, \n",
    "          'max_depth': -1, \n",
    "          'boosting': 'goss', \n",
    "          'objective': 'binary', \n",
    "          'metric': 'binary_logloss', \n",
    "          'is_training_metric': True, \n",
    "          'num_leaves': 36, \n",
    "          'feature_fraction': 0.7, \n",
    "#           'bagging_fraction': 0.6, \n",
    "#           'bagging_freq': 5, \n",
    "          'seed':2020}"
   ]
  },
  {
   "cell_type": "code",
   "execution_count": 2342,
   "metadata": {},
   "outputs": [
    {
     "name": "stdout",
     "output_type": "stream",
     "text": [
      "[LightGBM] [Info] Number of positive: 19825, number of negative: 16600\n",
      "[LightGBM] [Warning] Auto-choosing row-wise multi-threading, the overhead of testing was 0.008632 seconds.\n",
      "You can set `force_row_wise=true` to remove the overhead.\n",
      "And if memory is not enough, you can set `force_col_wise=true`.\n",
      "[LightGBM] [Info] Total Bins 109\n",
      "[LightGBM] [Info] Number of data points in the train set: 36425, number of used features: 50\n",
      "[LightGBM] [Info] Using GOSS\n",
      "[LightGBM] [Info] [binary:BoostFromScore]: pavg=0.544269 -> initscore=0.177541\n",
      "[LightGBM] [Info] Start training from score 0.177541\n",
      "Training until validation scores don't improve for 100 rounds\n",
      "[100]\tvalid_0's binary_logloss: 0.586234\n",
      "[200]\tvalid_0's binary_logloss: 0.562144\n",
      "[300]\tvalid_0's binary_logloss: 0.55513\n",
      "[400]\tvalid_0's binary_logloss: 0.552682\n",
      "[500]\tvalid_0's binary_logloss: 0.551523\n",
      "[600]\tvalid_0's binary_logloss: 0.551103\n",
      "[700]\tvalid_0's binary_logloss: 0.551101\n",
      "Early stopping, best iteration is:\n",
      "[645]\tvalid_0's binary_logloss: 0.55097\n"
     ]
    }
   ],
   "source": [
    "goss_model = lgb.train(params, train_ds, 2000, test_ds, verbose_eval=100, early_stopping_rounds=100)"
   ]
  },
  {
   "cell_type": "code",
   "execution_count": 2343,
   "metadata": {},
   "outputs": [],
   "source": [
    "predict_test_goss = goss_model.predict(test_x)"
   ]
  },
  {
   "cell_type": "code",
   "execution_count": 2344,
   "metadata": {},
   "outputs": [
    {
     "data": {
      "text/plain": [
       "0.7754436343410498"
      ]
     },
     "execution_count": 2344,
     "metadata": {},
     "output_type": "execute_result"
    }
   ],
   "source": [
    "roc_auc_score(test_y['voted'], predict_test_goss)"
   ]
  },
  {
   "cell_type": "code",
   "execution_count": 2324,
   "metadata": {},
   "outputs": [
    {
     "data": {
      "text/plain": [
       "0.7754436343410498"
      ]
     },
     "execution_count": 2324,
     "metadata": {},
     "output_type": "execute_result"
    }
   ],
   "source": [
    "roc_auc_score(test_y['voted'], predict_test_goss)"
   ]
  },
  {
   "cell_type": "code",
   "execution_count": 656,
   "metadata": {},
   "outputs": [
    {
     "data": {
      "text/plain": [
       "0.7742410093730829"
      ]
     },
     "execution_count": 656,
     "metadata": {},
     "output_type": "execute_result"
    }
   ],
   "source": [
    "roc_auc_score(test_y['voted'], predict_test_goss)"
   ]
  },
  {
   "cell_type": "code",
   "execution_count": null,
   "metadata": {},
   "outputs": [],
   "source": []
  },
  {
   "cell_type": "code",
   "execution_count": null,
   "metadata": {},
   "outputs": [],
   "source": []
  },
  {
   "cell_type": "markdown",
   "metadata": {},
   "source": [
    "## dart"
   ]
  },
  {
   "cell_type": "code",
   "execution_count": 2382,
   "metadata": {},
   "outputs": [],
   "source": [
    "params = {'learning_rate': 0.01, \n",
    "          'max_depth': -1, \n",
    "          'boosting': 'dart', \n",
    "          'objective': 'binary', \n",
    "          'metric': 'mse', \n",
    "          'is_training_metric': True, \n",
    "          'num_leaves': 72, \n",
    "          'feature_fraction': 0.8,\n",
    "          'bagging_fraction': 0.7, \n",
    "          'bagging_freq': 5, \n",
    "          'seed':2020}"
   ]
  },
  {
   "cell_type": "code",
   "execution_count": 2383,
   "metadata": {},
   "outputs": [
    {
     "name": "stdout",
     "output_type": "stream",
     "text": [
      "[LightGBM] [Info] Number of positive: 19825, number of negative: 16600\n",
      "[LightGBM] [Warning] Auto-choosing row-wise multi-threading, the overhead of testing was 0.014155 seconds.\n",
      "You can set `force_row_wise=true` to remove the overhead.\n",
      "And if memory is not enough, you can set `force_col_wise=true`.\n",
      "[LightGBM] [Info] Total Bins 109\n",
      "[LightGBM] [Info] Number of data points in the train set: 36425, number of used features: 50\n",
      "[LightGBM] [Info] [binary:BoostFromScore]: pavg=0.544269 -> initscore=0.177541\n",
      "[LightGBM] [Info] Start training from score 0.177541\n"
     ]
    },
    {
     "name": "stderr",
     "output_type": "stream",
     "text": [
      "/Users/jeongsuchan/opt/anaconda3/envs/my_env/lib/python3.6/site-packages/lightgbm/callback.py:186: UserWarning: Early stopping is not available in dart mode\n",
      "  warnings.warn('Early stopping is not available in dart mode')\n"
     ]
    },
    {
     "name": "stdout",
     "output_type": "stream",
     "text": [
      "[100]\tvalid_0's l2: 0.215409\n",
      "[200]\tvalid_0's l2: 0.209926\n",
      "[300]\tvalid_0's l2: 0.203417\n",
      "[400]\tvalid_0's l2: 0.199239\n",
      "[500]\tvalid_0's l2: 0.196202\n",
      "[600]\tvalid_0's l2: 0.193614\n",
      "[700]\tvalid_0's l2: 0.19275\n",
      "[800]\tvalid_0's l2: 0.191807\n",
      "[900]\tvalid_0's l2: 0.191206\n",
      "[1000]\tvalid_0's l2: 0.190678\n"
     ]
    }
   ],
   "source": [
    "dart_model = lgb.train(params, train_ds, 1000, test_ds, verbose_eval=100, early_stopping_rounds=100)"
   ]
  },
  {
   "cell_type": "code",
   "execution_count": 2384,
   "metadata": {},
   "outputs": [],
   "source": [
    "predict_test_dart = dart_model.predict(test_x)"
   ]
  },
  {
   "cell_type": "code",
   "execution_count": 2385,
   "metadata": {},
   "outputs": [
    {
     "data": {
      "text/plain": [
       "0.775261288274716"
      ]
     },
     "execution_count": 2385,
     "metadata": {},
     "output_type": "execute_result"
    }
   ],
   "source": [
    "roc_auc_score(test_y['voted'], predict_test_dart)"
   ]
  },
  {
   "cell_type": "code",
   "execution_count": 2381,
   "metadata": {},
   "outputs": [
    {
     "data": {
      "text/plain": [
       "0.7748479155180046"
      ]
     },
     "execution_count": 2381,
     "metadata": {},
     "output_type": "execute_result"
    }
   ],
   "source": [
    "roc_auc_score(test_y['voted'], predict_test_dart)"
   ]
  },
  {
   "cell_type": "code",
   "execution_count": 1470,
   "metadata": {},
   "outputs": [
    {
     "data": {
      "text/plain": [
       "0.7756716518602502"
      ]
     },
     "execution_count": 1470,
     "metadata": {},
     "output_type": "execute_result"
    }
   ],
   "source": [
    "roc_auc_score(test_y['voted'], predict_test_dart)"
   ]
  },
  {
   "cell_type": "code",
   "execution_count": 1462,
   "metadata": {},
   "outputs": [
    {
     "data": {
      "text/plain": [
       "0.7758938937121912"
      ]
     },
     "execution_count": 1462,
     "metadata": {},
     "output_type": "execute_result"
    }
   ],
   "source": [
    "roc_auc_score(test_y['voted'], predict_test_dart)"
   ]
  },
  {
   "cell_type": "code",
   "execution_count": null,
   "metadata": {},
   "outputs": [],
   "source": []
  },
  {
   "cell_type": "code",
   "execution_count": null,
   "metadata": {},
   "outputs": [],
   "source": []
  },
  {
   "cell_type": "code",
   "execution_count": null,
   "metadata": {},
   "outputs": [],
   "source": []
  },
  {
   "cell_type": "markdown",
   "metadata": {},
   "source": [
    "# dense model"
   ]
  },
  {
   "cell_type": "code",
   "execution_count": 2386,
   "metadata": {},
   "outputs": [],
   "source": [
    "import os\n",
    "os.environ[\"KERAS_BACKEND\"] = \"plaidml.keras.backend\"\n",
    "os.environ[\"RUNFILES_DIR\"] = \"/Library/Frameworks/Python.framework/Versions/3.6/share/plaidml\"\n",
    "os.environ[\"PLAIDML_NATIVE_PATH\"] = \"/Library/Frameworks/Python.framework/Versions/3.6/lib/libplaidml.dylib\""
   ]
  },
  {
   "cell_type": "code",
   "execution_count": 2387,
   "metadata": {},
   "outputs": [],
   "source": [
    "import tensorflow as tf\n",
    "from tensorflow.keras.layers import Input, Dense, Activation, Conv1D, Conv2D, Flatten, MaxPooling1D, LSTM, BatchNormalization, Dropout, GlobalAveragePooling1D\n",
    "from tensorflow.keras.models import Model\n",
    "from tensorflow.keras.metrics import binary_crossentropy"
   ]
  },
  {
   "cell_type": "code",
   "execution_count": 2388,
   "metadata": {},
   "outputs": [
    {
     "data": {
      "text/plain": [
       "'2.3.0-tf'"
      ]
     },
     "execution_count": 2388,
     "metadata": {},
     "output_type": "execute_result"
    }
   ],
   "source": [
    "tensorflow.keras.__version__"
   ]
  },
  {
   "cell_type": "code",
   "execution_count": null,
   "metadata": {},
   "outputs": [],
   "source": []
  },
  {
   "cell_type": "code",
   "execution_count": 2389,
   "metadata": {},
   "outputs": [
    {
     "data": {
      "text/plain": [
       "50"
      ]
     },
     "execution_count": 2389,
     "metadata": {},
     "output_type": "execute_result"
    }
   ],
   "source": [
    "len(train_x.columns)"
   ]
  },
  {
   "cell_type": "code",
   "execution_count": 2390,
   "metadata": {},
   "outputs": [],
   "source": [
    "model = tf.keras.Sequential([\n",
    "#     Conv1D(32, 1, activation='relu', input_shape=(1, 74)),\n",
    "#     Conv1D(64, 1, activation='relu'),\n",
    "#     Conv1D(128, 1, activation='relu'),\n",
    "    Conv1D(256, 1, activation='relu', input_shape=(1, 50)),\n",
    "    Conv1D(512, 1, activation='relu'),\n",
    "    Conv1D(1024, 1, activation='relu'),\n",
    "#     Conv1D(2048, 1, activation='relu'),\n",
    "#     Conv1D(4096, 1, activation='relu', data_format='channels_first'),\n",
    "\n",
    "#     Conv1D(256, 1, activation='relu', input_shape=(82, 1)),\n",
    "#     Conv1D(512, 1, activation='relu'),\n",
    "#     Conv1D(1024, 1, activation='relu'),\n",
    "#     Conv1D(2048, 1, activation='relu'),\n",
    "\n",
    "    \n",
    "    Flatten(),\n",
    "    \n",
    "    Dense(128, activation='relu'),\n",
    "    Dropout(0.5),\n",
    "    Dense(1, activation='sigmoid')\n",
    "])"
   ]
  },
  {
   "cell_type": "code",
   "execution_count": 2391,
   "metadata": {},
   "outputs": [],
   "source": [
    "opt = tf.keras.optimizers.Adam(lr=0.00005)\n",
    "model.compile(loss='binary_crossentropy', optimizer=opt, metrics=[tf.keras.metrics.AUC(name='AUC')])"
   ]
  },
  {
   "cell_type": "code",
   "execution_count": 2392,
   "metadata": {},
   "outputs": [
    {
     "name": "stdout",
     "output_type": "stream",
     "text": [
      "Model: \"sequential_15\"\n",
      "_________________________________________________________________\n",
      "Layer (type)                 Output Shape              Param #   \n",
      "=================================================================\n",
      "conv1d_51 (Conv1D)           (None, 1, 256)            13056     \n",
      "_________________________________________________________________\n",
      "conv1d_52 (Conv1D)           (None, 1, 512)            131584    \n",
      "_________________________________________________________________\n",
      "conv1d_53 (Conv1D)           (None, 1, 1024)           525312    \n",
      "_________________________________________________________________\n",
      "flatten_15 (Flatten)         (None, 1024)              0         \n",
      "_________________________________________________________________\n",
      "dense_23 (Dense)             (None, 128)               131200    \n",
      "_________________________________________________________________\n",
      "dropout_3 (Dropout)          (None, 128)               0         \n",
      "_________________________________________________________________\n",
      "dense_24 (Dense)             (None, 1)                 129       \n",
      "=================================================================\n",
      "Total params: 801,281\n",
      "Trainable params: 801,281\n",
      "Non-trainable params: 0\n",
      "_________________________________________________________________\n"
     ]
    }
   ],
   "source": [
    "model.summary()"
   ]
  },
  {
   "cell_type": "code",
   "execution_count": 2393,
   "metadata": {},
   "outputs": [],
   "source": [
    "import keras\n",
    "import sklearn\n",
    "\n",
    "class DataGenerator(tf.keras.utils.Sequence):\n",
    "    'Generates data for Keras'\n",
    "    def __init__(self, train_x, train_y, batch_size):\n",
    "        \n",
    "        self.train_x = np.array_split(train_x.to_numpy()[:,np.newaxis], len(train_x) // batch_size)\n",
    "        self.train_y = np.array_split(train_y.to_numpy(), len(train_y) // batch_size)\n",
    "        \n",
    "    def __len__(self):\n",
    "        'Denotes the number of batches per epoch'\n",
    "        return len(self.train_x)\n",
    "\n",
    "    def __getitem__(self, index):\n",
    "        return self.train_x[index], self.train_y[index]"
   ]
  },
  {
   "cell_type": "code",
   "execution_count": 2397,
   "metadata": {},
   "outputs": [],
   "source": [
    "BATCH_SIZE = 128\n",
    "train_generator = DataGenerator(train_x, train_y, BATCH_SIZE)\n",
    "test_generator = DataGenerator(test_x, test_y, BATCH_SIZE)"
   ]
  },
  {
   "cell_type": "code",
   "execution_count": 2398,
   "metadata": {},
   "outputs": [
    {
     "name": "stdout",
     "output_type": "stream",
     "text": [
      "WARNING:tensorflow:`period` argument is deprecated. Please use `save_freq` to specify the frequency in number of batches seen.\n"
     ]
    }
   ],
   "source": [
    "from tensorflow.keras.callbacks import EarlyStopping, ModelCheckpoint\n",
    "\n",
    "early_stop = EarlyStopping(monitor='val_AUC', patience=10, mode='max', verbose=1)\n",
    "checkpoint = ModelCheckpoint('model_best_weights_32.h5', monitor='val_AUC', verbose=1, save_best_only=True, mode='max', period=1)"
   ]
  },
  {
   "cell_type": "code",
   "execution_count": 2399,
   "metadata": {},
   "outputs": [
    {
     "name": "stdout",
     "output_type": "stream",
     "text": [
      "Epoch 1/100\n",
      "284/284 [==============================] - ETA: 0s - loss: 0.5823 - AUC: 0.7481\n",
      "Epoch 00001: val_AUC improved from -inf to 0.75831, saving model to model_best_weights_32.h5\n",
      "284/284 [==============================] - 26s 91ms/step - loss: 0.5823 - AUC: 0.7481 - val_loss: 0.5699 - val_AUC: 0.7583\n",
      "Epoch 2/100\n",
      "284/284 [==============================] - ETA: 0s - loss: 0.5694 - AUC: 0.7561\n",
      "Epoch 00002: val_AUC improved from 0.75831 to 0.76312, saving model to model_best_weights_32.h5\n",
      "284/284 [==============================] - 26s 92ms/step - loss: 0.5694 - AUC: 0.7561 - val_loss: 0.5633 - val_AUC: 0.7631\n",
      "Epoch 3/100\n",
      "284/284 [==============================] - ETA: 0s - loss: 0.5630 - AUC: 0.7622\n",
      "Epoch 00003: val_AUC improved from 0.76312 to 0.76558, saving model to model_best_weights_32.h5\n",
      "284/284 [==============================] - 27s 94ms/step - loss: 0.5630 - AUC: 0.7622 - val_loss: 0.5597 - val_AUC: 0.7656\n",
      "Epoch 4/100\n",
      "284/284 [==============================] - ETA: 0s - loss: 0.5596 - AUC: 0.7636\n",
      "Epoch 00004: val_AUC improved from 0.76558 to 0.76832, saving model to model_best_weights_32.h5\n",
      "284/284 [==============================] - 27s 94ms/step - loss: 0.5596 - AUC: 0.7636 - val_loss: 0.5572 - val_AUC: 0.7683\n",
      "Epoch 5/100\n",
      "284/284 [==============================] - ETA: 0s - loss: 0.5572 - AUC: 0.7668\n",
      "Epoch 00005: val_AUC improved from 0.76832 to 0.77021, saving model to model_best_weights_32.h5\n",
      "284/284 [==============================] - 27s 94ms/step - loss: 0.5572 - AUC: 0.7668 - val_loss: 0.5567 - val_AUC: 0.7702\n",
      "Epoch 6/100\n",
      "284/284 [==============================] - ETA: 0s - loss: 0.5553 - AUC: 0.7686\n",
      "Epoch 00006: val_AUC improved from 0.77021 to 0.77071, saving model to model_best_weights_32.h5\n",
      "284/284 [==============================] - 26s 93ms/step - loss: 0.5553 - AUC: 0.7686 - val_loss: 0.5549 - val_AUC: 0.7707\n",
      "Epoch 7/100\n",
      "284/284 [==============================] - ETA: 0s - loss: 0.5524 - AUC: 0.7709\n",
      "Epoch 00007: val_AUC improved from 0.77071 to 0.77111, saving model to model_best_weights_32.h5\n",
      "284/284 [==============================] - 26s 93ms/step - loss: 0.5524 - AUC: 0.7709 - val_loss: 0.5541 - val_AUC: 0.7711\n",
      "Epoch 8/100\n",
      "284/284 [==============================] - ETA: 0s - loss: 0.5504 - AUC: 0.7740\n",
      "Epoch 00008: val_AUC improved from 0.77111 to 0.77254, saving model to model_best_weights_32.h5\n",
      "284/284 [==============================] - 27s 94ms/step - loss: 0.5504 - AUC: 0.7740 - val_loss: 0.5539 - val_AUC: 0.7725\n",
      "Epoch 9/100\n",
      "284/284 [==============================] - ETA: 0s - loss: 0.5484 - AUC: 0.7756\n",
      "Epoch 00009: val_AUC improved from 0.77254 to 0.77258, saving model to model_best_weights_32.h5\n",
      "284/284 [==============================] - 27s 94ms/step - loss: 0.5484 - AUC: 0.7756 - val_loss: 0.5531 - val_AUC: 0.7726\n",
      "Epoch 10/100\n",
      "284/284 [==============================] - ETA: 0s - loss: 0.5461 - AUC: 0.7778\n",
      "Epoch 00010: val_AUC did not improve from 0.77258\n",
      "284/284 [==============================] - 26s 92ms/step - loss: 0.5461 - AUC: 0.7778 - val_loss: 0.5542 - val_AUC: 0.7724\n",
      "Epoch 11/100\n",
      "284/284 [==============================] - ETA: 0s - loss: 0.5439 - AUC: 0.7800\n",
      "Epoch 00011: val_AUC improved from 0.77258 to 0.77264, saving model to model_best_weights_32.h5\n",
      "284/284 [==============================] - 26s 93ms/step - loss: 0.5439 - AUC: 0.7800 - val_loss: 0.5534 - val_AUC: 0.7726\n",
      "Epoch 12/100\n",
      "284/284 [==============================] - ETA: 0s - loss: 0.5433 - AUC: 0.7804\n",
      "Epoch 00012: val_AUC did not improve from 0.77264\n",
      "284/284 [==============================] - 26s 93ms/step - loss: 0.5433 - AUC: 0.7804 - val_loss: 0.5545 - val_AUC: 0.7725\n",
      "Epoch 13/100\n",
      "284/284 [==============================] - ETA: 0s - loss: 0.5399 - AUC: 0.7836\n",
      "Epoch 00013: val_AUC did not improve from 0.77264\n",
      "284/284 [==============================] - 26s 93ms/step - loss: 0.5399 - AUC: 0.7836 - val_loss: 0.5535 - val_AUC: 0.7724\n",
      "Epoch 14/100\n",
      "284/284 [==============================] - ETA: 0s - loss: 0.5372 - AUC: 0.7863\n",
      "Epoch 00014: val_AUC did not improve from 0.77264\n",
      "284/284 [==============================] - 26s 93ms/step - loss: 0.5372 - AUC: 0.7863 - val_loss: 0.5579 - val_AUC: 0.7706\n",
      "Epoch 15/100\n",
      "284/284 [==============================] - ETA: 0s - loss: 0.5347 - AUC: 0.7890\n",
      "Epoch 00015: val_AUC did not improve from 0.77264\n",
      "284/284 [==============================] - 26s 93ms/step - loss: 0.5347 - AUC: 0.7890 - val_loss: 0.5560 - val_AUC: 0.7707\n",
      "Epoch 16/100\n",
      "284/284 [==============================] - ETA: 0s - loss: 0.5319 - AUC: 0.7921\n",
      "Epoch 00016: val_AUC did not improve from 0.77264\n",
      "284/284 [==============================] - 26s 93ms/step - loss: 0.5319 - AUC: 0.7921 - val_loss: 0.5569 - val_AUC: 0.7704\n",
      "Epoch 17/100\n",
      "284/284 [==============================] - ETA: 0s - loss: 0.5290 - AUC: 0.7945\n",
      "Epoch 00017: val_AUC did not improve from 0.77264\n",
      "284/284 [==============================] - 26s 93ms/step - loss: 0.5290 - AUC: 0.7945 - val_loss: 0.5578 - val_AUC: 0.7680\n",
      "Epoch 18/100\n",
      "284/284 [==============================] - ETA: 0s - loss: 0.5272 - AUC: 0.7967\n",
      "Epoch 00018: val_AUC did not improve from 0.77264\n",
      "284/284 [==============================] - 27s 93ms/step - loss: 0.5272 - AUC: 0.7967 - val_loss: 0.5577 - val_AUC: 0.7685\n",
      "Epoch 19/100\n",
      "284/284 [==============================] - ETA: 0s - loss: 0.5232 - AUC: 0.8001\n",
      "Epoch 00019: val_AUC did not improve from 0.77264\n",
      "284/284 [==============================] - 26s 93ms/step - loss: 0.5232 - AUC: 0.8001 - val_loss: 0.5642 - val_AUC: 0.7673\n",
      "Epoch 20/100\n",
      "284/284 [==============================] - ETA: 0s - loss: 0.5200 - AUC: 0.8029\n",
      "Epoch 00020: val_AUC did not improve from 0.77264\n",
      "284/284 [==============================] - 26s 93ms/step - loss: 0.5200 - AUC: 0.8029 - val_loss: 0.5624 - val_AUC: 0.7645\n",
      "Epoch 21/100\n",
      "284/284 [==============================] - ETA: 0s - loss: 0.5163 - AUC: 0.8070\n",
      "Epoch 00021: val_AUC did not improve from 0.77264\n",
      "284/284 [==============================] - 26s 93ms/step - loss: 0.5163 - AUC: 0.8070 - val_loss: 0.5659 - val_AUC: 0.7640\n",
      "Epoch 00021: early stopping\n"
     ]
    },
    {
     "data": {
      "text/plain": [
       "<tensorflow.python.keras.callbacks.History at 0x2c8b49828>"
      ]
     },
     "execution_count": 2399,
     "metadata": {},
     "output_type": "execute_result"
    }
   ],
   "source": [
    "model.fit_generator(generator=train_generator, validation_data=test_generator, epochs=100, shuffle=True, callbacks=[early_stop, checkpoint])"
   ]
  },
  {
   "cell_type": "code",
   "execution_count": 2400,
   "metadata": {},
   "outputs": [],
   "source": [
    "model.load_weights('model_best_weights_32.h5')"
   ]
  },
  {
   "cell_type": "code",
   "execution_count": 2401,
   "metadata": {},
   "outputs": [],
   "source": [
    "predict_keras = model.predict(test_x.to_numpy()[:,np.newaxis])"
   ]
  },
  {
   "cell_type": "code",
   "execution_count": 2402,
   "metadata": {},
   "outputs": [
    {
     "data": {
      "text/plain": [
       "0.7726036805075598"
      ]
     },
     "execution_count": 2402,
     "metadata": {},
     "output_type": "execute_result"
    }
   ],
   "source": [
    "roc_auc_score(test_y.to_numpy(), predict_keras)"
   ]
  },
  {
   "cell_type": "code",
   "execution_count": 2403,
   "metadata": {},
   "outputs": [
    {
     "data": {
      "text/plain": [
       "(9107, 1)"
      ]
     },
     "execution_count": 2403,
     "metadata": {},
     "output_type": "execute_result"
    }
   ],
   "source": [
    "predict_keras.shape"
   ]
  },
  {
   "cell_type": "markdown",
   "metadata": {},
   "source": [
    "# ensemble"
   ]
  },
  {
   "cell_type": "code",
   "execution_count": 332,
   "metadata": {},
   "outputs": [],
   "source": [
    "predict_test = predict_test_rf * 0.2 + predict_test_gbdt * 0.2 + predict_test_goss * 0.3 + predict_test_dart * 0.3"
   ]
  },
  {
   "cell_type": "code",
   "execution_count": 2408,
   "metadata": {},
   "outputs": [],
   "source": [
    "predict_test = (predict_test_rf + predict_test_gbdt + predict_test_goss + predict_test_dart + predict_keras[:,0]) / 5"
   ]
  },
  {
   "cell_type": "code",
   "execution_count": 2410,
   "metadata": {},
   "outputs": [],
   "source": [
    "predict_test = (predict_test_rf + predict_test_gbdt + predict_test_goss + predict_test_dart) / 4"
   ]
  },
  {
   "cell_type": "code",
   "execution_count": 309,
   "metadata": {},
   "outputs": [],
   "source": [
    "predict_test = (predict_test_gbdt + predict_test_dart) / 2"
   ]
  },
  {
   "cell_type": "code",
   "execution_count": 2409,
   "metadata": {},
   "outputs": [
    {
     "data": {
      "text/plain": [
       "0.7766228896973746"
      ]
     },
     "execution_count": 2409,
     "metadata": {},
     "output_type": "execute_result"
    }
   ],
   "source": [
    "roc_auc_score(test_y['voted'], predict_test)"
   ]
  },
  {
   "cell_type": "code",
   "execution_count": 2411,
   "metadata": {},
   "outputs": [
    {
     "data": {
      "text/plain": [
       "0.7763370669705607"
      ]
     },
     "execution_count": 2411,
     "metadata": {},
     "output_type": "execute_result"
    }
   ],
   "source": [
    "roc_auc_score(test_y['voted'], predict_test)"
   ]
  },
  {
   "cell_type": "code",
   "execution_count": 312,
   "metadata": {},
   "outputs": [
    {
     "data": {
      "text/plain": [
       "0.7736621322016262"
      ]
     },
     "execution_count": 312,
     "metadata": {},
     "output_type": "execute_result"
    }
   ],
   "source": [
    "roc_auc_score(test_y['voted'], predict_test)"
   ]
  },
  {
   "cell_type": "code",
   "execution_count": null,
   "metadata": {},
   "outputs": [],
   "source": []
  },
  {
   "cell_type": "markdown",
   "metadata": {},
   "source": [
    "# submission"
   ]
  },
  {
   "cell_type": "code",
   "execution_count": 1515,
   "metadata": {},
   "outputs": [],
   "source": [
    "submission_rf = rf_model.predict(submission_x_df)"
   ]
  },
  {
   "cell_type": "code",
   "execution_count": 1516,
   "metadata": {},
   "outputs": [],
   "source": [
    "submission_gbdt = gbdt_model.predict(submission_x_df)"
   ]
  },
  {
   "cell_type": "code",
   "execution_count": 1517,
   "metadata": {},
   "outputs": [],
   "source": [
    "submission_goss = goss_model.predict(submission_x_df)"
   ]
  },
  {
   "cell_type": "code",
   "execution_count": 1518,
   "metadata": {},
   "outputs": [],
   "source": [
    "submission_dart = dart_model.predict(submission_x_df)"
   ]
  },
  {
   "cell_type": "code",
   "execution_count": 1519,
   "metadata": {},
   "outputs": [],
   "source": [
    "submission_keras = model.predict(submission_x_df.to_numpy()[:,np.newaxis])"
   ]
  },
  {
   "cell_type": "code",
   "execution_count": null,
   "metadata": {},
   "outputs": [],
   "source": []
  },
  {
   "cell_type": "code",
   "execution_count": 1520,
   "metadata": {},
   "outputs": [],
   "source": [
    "submission_result = (submission_rf + submission_gbdt + submission_goss + submission_dart + submission_keras)/5 + 1"
   ]
  },
  {
   "cell_type": "code",
   "execution_count": 1513,
   "metadata": {},
   "outputs": [],
   "source": [
    "submission_result = (submission_rf + submission_gbdt + submission_goss + submission_dart)/4 + 1"
   ]
  },
  {
   "cell_type": "code",
   "execution_count": 1521,
   "metadata": {},
   "outputs": [
    {
     "data": {
      "text/plain": [
       "array([[1.69863076, 1.86745092, 1.48017851, ..., 1.42419902, 1.51889121,\n",
       "        1.66354647],\n",
       "       [1.69527632, 1.86409647, 1.47682407, ..., 1.42084458, 1.51553677,\n",
       "        1.66019203],\n",
       "       [1.60246584, 1.771286  , 1.38401359, ..., 1.32803411, 1.42272629,\n",
       "        1.56738156],\n",
       "       ...,\n",
       "       [1.58633383, 1.75515398, 1.36788158, ..., 1.31190209, 1.40659428,\n",
       "        1.55124954],\n",
       "       [1.60732409, 1.77614424, 1.38887184, ..., 1.33289235, 1.42758454,\n",
       "        1.5722398 ],\n",
       "       [1.67564963, 1.84446979, 1.45719738, ..., 1.40121789, 1.49591008,\n",
       "        1.64056534]])"
      ]
     },
     "execution_count": 1521,
     "metadata": {},
     "output_type": "execute_result"
    }
   ],
   "source": [
    "submission_result"
   ]
  },
  {
   "cell_type": "code",
   "execution_count": null,
   "metadata": {},
   "outputs": [],
   "source": []
  },
  {
   "cell_type": "code",
   "execution_count": 1522,
   "metadata": {},
   "outputs": [],
   "source": [
    "sample_submission_df = pd.read_csv('data/sample_submission.csv')"
   ]
  },
  {
   "cell_type": "code",
   "execution_count": 1523,
   "metadata": {},
   "outputs": [
    {
     "data": {
      "text/html": [
       "<div>\n",
       "<style scoped>\n",
       "    .dataframe tbody tr th:only-of-type {\n",
       "        vertical-align: middle;\n",
       "    }\n",
       "\n",
       "    .dataframe tbody tr th {\n",
       "        vertical-align: top;\n",
       "    }\n",
       "\n",
       "    .dataframe thead th {\n",
       "        text-align: right;\n",
       "    }\n",
       "</style>\n",
       "<table border=\"1\" class=\"dataframe\">\n",
       "  <thead>\n",
       "    <tr style=\"text-align: right;\">\n",
       "      <th></th>\n",
       "      <th>index</th>\n",
       "      <th>voted</th>\n",
       "    </tr>\n",
       "  </thead>\n",
       "  <tbody>\n",
       "    <tr>\n",
       "      <th>0</th>\n",
       "      <td>0</td>\n",
       "      <td>0</td>\n",
       "    </tr>\n",
       "    <tr>\n",
       "      <th>1</th>\n",
       "      <td>1</td>\n",
       "      <td>0</td>\n",
       "    </tr>\n",
       "    <tr>\n",
       "      <th>2</th>\n",
       "      <td>2</td>\n",
       "      <td>0</td>\n",
       "    </tr>\n",
       "    <tr>\n",
       "      <th>3</th>\n",
       "      <td>3</td>\n",
       "      <td>0</td>\n",
       "    </tr>\n",
       "    <tr>\n",
       "      <th>4</th>\n",
       "      <td>4</td>\n",
       "      <td>0</td>\n",
       "    </tr>\n",
       "    <tr>\n",
       "      <th>...</th>\n",
       "      <td>...</td>\n",
       "      <td>...</td>\n",
       "    </tr>\n",
       "    <tr>\n",
       "      <th>11378</th>\n",
       "      <td>11378</td>\n",
       "      <td>0</td>\n",
       "    </tr>\n",
       "    <tr>\n",
       "      <th>11379</th>\n",
       "      <td>11379</td>\n",
       "      <td>0</td>\n",
       "    </tr>\n",
       "    <tr>\n",
       "      <th>11380</th>\n",
       "      <td>11380</td>\n",
       "      <td>0</td>\n",
       "    </tr>\n",
       "    <tr>\n",
       "      <th>11381</th>\n",
       "      <td>11381</td>\n",
       "      <td>0</td>\n",
       "    </tr>\n",
       "    <tr>\n",
       "      <th>11382</th>\n",
       "      <td>11382</td>\n",
       "      <td>0</td>\n",
       "    </tr>\n",
       "  </tbody>\n",
       "</table>\n",
       "<p>11383 rows × 2 columns</p>\n",
       "</div>"
      ],
      "text/plain": [
       "       index  voted\n",
       "0          0      0\n",
       "1          1      0\n",
       "2          2      0\n",
       "3          3      0\n",
       "4          4      0\n",
       "...      ...    ...\n",
       "11378  11378      0\n",
       "11379  11379      0\n",
       "11380  11380      0\n",
       "11381  11381      0\n",
       "11382  11382      0\n",
       "\n",
       "[11383 rows x 2 columns]"
      ]
     },
     "execution_count": 1523,
     "metadata": {},
     "output_type": "execute_result"
    }
   ],
   "source": [
    "sample_submission_df"
   ]
  },
  {
   "cell_type": "code",
   "execution_count": 1524,
   "metadata": {},
   "outputs": [],
   "source": [
    "sample_submission_df['voted'] = submission_result"
   ]
  },
  {
   "cell_type": "code",
   "execution_count": 1525,
   "metadata": {},
   "outputs": [
    {
     "data": {
      "text/html": [
       "<div>\n",
       "<style scoped>\n",
       "    .dataframe tbody tr th:only-of-type {\n",
       "        vertical-align: middle;\n",
       "    }\n",
       "\n",
       "    .dataframe tbody tr th {\n",
       "        vertical-align: top;\n",
       "    }\n",
       "\n",
       "    .dataframe thead th {\n",
       "        text-align: right;\n",
       "    }\n",
       "</style>\n",
       "<table border=\"1\" class=\"dataframe\">\n",
       "  <thead>\n",
       "    <tr style=\"text-align: right;\">\n",
       "      <th></th>\n",
       "      <th>index</th>\n",
       "      <th>voted</th>\n",
       "    </tr>\n",
       "  </thead>\n",
       "  <tbody>\n",
       "    <tr>\n",
       "      <th>0</th>\n",
       "      <td>0</td>\n",
       "      <td>1.698631</td>\n",
       "    </tr>\n",
       "    <tr>\n",
       "      <th>1</th>\n",
       "      <td>1</td>\n",
       "      <td>1.695276</td>\n",
       "    </tr>\n",
       "    <tr>\n",
       "      <th>2</th>\n",
       "      <td>2</td>\n",
       "      <td>1.602466</td>\n",
       "    </tr>\n",
       "    <tr>\n",
       "      <th>3</th>\n",
       "      <td>3</td>\n",
       "      <td>1.574288</td>\n",
       "    </tr>\n",
       "    <tr>\n",
       "      <th>4</th>\n",
       "      <td>4</td>\n",
       "      <td>1.695666</td>\n",
       "    </tr>\n",
       "    <tr>\n",
       "      <th>...</th>\n",
       "      <td>...</td>\n",
       "      <td>...</td>\n",
       "    </tr>\n",
       "    <tr>\n",
       "      <th>11378</th>\n",
       "      <td>11378</td>\n",
       "      <td>1.528715</td>\n",
       "    </tr>\n",
       "    <tr>\n",
       "      <th>11379</th>\n",
       "      <td>11379</td>\n",
       "      <td>1.719351</td>\n",
       "    </tr>\n",
       "    <tr>\n",
       "      <th>11380</th>\n",
       "      <td>11380</td>\n",
       "      <td>1.586334</td>\n",
       "    </tr>\n",
       "    <tr>\n",
       "      <th>11381</th>\n",
       "      <td>11381</td>\n",
       "      <td>1.607324</td>\n",
       "    </tr>\n",
       "    <tr>\n",
       "      <th>11382</th>\n",
       "      <td>11382</td>\n",
       "      <td>1.675650</td>\n",
       "    </tr>\n",
       "  </tbody>\n",
       "</table>\n",
       "<p>11383 rows × 2 columns</p>\n",
       "</div>"
      ],
      "text/plain": [
       "       index     voted\n",
       "0          0  1.698631\n",
       "1          1  1.695276\n",
       "2          2  1.602466\n",
       "3          3  1.574288\n",
       "4          4  1.695666\n",
       "...      ...       ...\n",
       "11378  11378  1.528715\n",
       "11379  11379  1.719351\n",
       "11380  11380  1.586334\n",
       "11381  11381  1.607324\n",
       "11382  11382  1.675650\n",
       "\n",
       "[11383 rows x 2 columns]"
      ]
     },
     "execution_count": 1525,
     "metadata": {},
     "output_type": "execute_result"
    }
   ],
   "source": [
    "sample_submission_df"
   ]
  },
  {
   "cell_type": "code",
   "execution_count": 1526,
   "metadata": {},
   "outputs": [],
   "source": [
    "sample_submission_df.to_csv('data/submission.csv', index=False)"
   ]
  },
  {
   "cell_type": "code",
   "execution_count": null,
   "metadata": {},
   "outputs": [],
   "source": []
  },
  {
   "cell_type": "code",
   "execution_count": null,
   "metadata": {},
   "outputs": [],
   "source": []
  }
 ],
 "metadata": {
  "kernelspec": {
   "display_name": "my_env",
   "language": "python",
   "name": "my_env"
  },
  "language_info": {
   "codemirror_mode": {
    "name": "ipython",
    "version": 3
   },
   "file_extension": ".py",
   "mimetype": "text/x-python",
   "name": "python",
   "nbconvert_exporter": "python",
   "pygments_lexer": "ipython3",
   "version": "3.6.10"
  }
 },
 "nbformat": 4,
 "nbformat_minor": 4
}
